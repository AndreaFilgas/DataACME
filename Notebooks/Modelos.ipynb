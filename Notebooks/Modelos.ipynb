{
 "cells": [
  {
   "cell_type": "markdown",
   "metadata": {},
   "source": [
    "## Revisando as possiveis Tabelas"
   ]
  },
  {
   "cell_type": "code",
   "execution_count": 1,
   "metadata": {
    "ExecuteTime": {
     "end_time": "2020-07-10T12:17:44.483783Z",
     "start_time": "2020-07-10T12:17:40.881765Z"
    }
   },
   "outputs": [],
   "source": [
    "# abrir bibliotecas\n",
    "import pandas as pd\n",
    "import numpy as np\n",
    "import seaborn as sns\n",
    "import statsmodels.formula.api as smf\n",
    "import matplotlib.pyplot as plt\n",
    "from tqdm.auto import tqdm\n",
    "%matplotlib inline"
   ]
  },
  {
   "cell_type": "markdown",
   "metadata": {},
   "source": [
    "## Base Final"
   ]
  },
  {
   "cell_type": "code",
   "execution_count": 2,
   "metadata": {
    "ExecuteTime": {
     "end_time": "2020-07-10T12:17:44.593904Z",
     "start_time": "2020-07-10T12:17:44.486767Z"
    }
   },
   "outputs": [],
   "source": [
    "final = pd.read_csv('C:/Users/afilg/OneDrive/DATA SCIENCE/Aulas - Originais/Projeto_Integrador/final.csv')"
   ]
  },
  {
   "cell_type": "code",
   "execution_count": 3,
   "metadata": {
    "ExecuteTime": {
     "end_time": "2020-07-10T12:17:44.608749Z",
     "start_time": "2020-07-10T12:17:44.598781Z"
    }
   },
   "outputs": [],
   "source": [
    "final = final.drop(['Unnamed: 0'], axis = 1)"
   ]
  },
  {
   "cell_type": "code",
   "execution_count": 4,
   "metadata": {
    "ExecuteTime": {
     "end_time": "2020-07-10T12:17:44.648634Z",
     "start_time": "2020-07-10T12:17:44.612738Z"
    }
   },
   "outputs": [
    {
     "data": {
      "text/html": [
       "<div>\n",
       "<style scoped>\n",
       "    .dataframe tbody tr th:only-of-type {\n",
       "        vertical-align: middle;\n",
       "    }\n",
       "\n",
       "    .dataframe tbody tr th {\n",
       "        vertical-align: top;\n",
       "    }\n",
       "\n",
       "    .dataframe thead th {\n",
       "        text-align: right;\n",
       "    }\n",
       "</style>\n",
       "<table border=\"1\" class=\"dataframe\">\n",
       "  <thead>\n",
       "    <tr style=\"text-align: right;\">\n",
       "      <th></th>\n",
       "      <th>0</th>\n",
       "      <th>1</th>\n",
       "    </tr>\n",
       "  </thead>\n",
       "  <tbody>\n",
       "    <tr>\n",
       "      <th>tconst</th>\n",
       "      <td>tt0118589</td>\n",
       "      <td>tt0120681</td>\n",
       "    </tr>\n",
       "    <tr>\n",
       "      <th>primaryTitle</th>\n",
       "      <td>Glitter</td>\n",
       "      <td>From Hell</td>\n",
       "    </tr>\n",
       "    <tr>\n",
       "      <th>startYear</th>\n",
       "      <td>2001</td>\n",
       "      <td>2001</td>\n",
       "    </tr>\n",
       "    <tr>\n",
       "      <th>runtimeMinutes</th>\n",
       "      <td>104</td>\n",
       "      <td>122</td>\n",
       "    </tr>\n",
       "    <tr>\n",
       "      <th>genre_1</th>\n",
       "      <td>Drama</td>\n",
       "      <td>Horror</td>\n",
       "    </tr>\n",
       "    <tr>\n",
       "      <th>...</th>\n",
       "      <td>...</td>\n",
       "      <td>...</td>\n",
       "    </tr>\n",
       "    <tr>\n",
       "      <th>writer_1_ratingAverage</th>\n",
       "      <td>NaN</td>\n",
       "      <td>NaN</td>\n",
       "    </tr>\n",
       "    <tr>\n",
       "      <th>writer_2_ratingAverage</th>\n",
       "      <td>6.9</td>\n",
       "      <td>NaN</td>\n",
       "    </tr>\n",
       "    <tr>\n",
       "      <th>AvgRating</th>\n",
       "      <td>5.8</td>\n",
       "      <td>6.25821</td>\n",
       "    </tr>\n",
       "    <tr>\n",
       "      <th>numFilmes</th>\n",
       "      <td>0.25</td>\n",
       "      <td>1</td>\n",
       "    </tr>\n",
       "    <tr>\n",
       "      <th>num_crew</th>\n",
       "      <td>10</td>\n",
       "      <td>10</td>\n",
       "    </tr>\n",
       "  </tbody>\n",
       "</table>\n",
       "<p>66 rows × 2 columns</p>\n",
       "</div>"
      ],
      "text/plain": [
       "                                0          1\n",
       "tconst                  tt0118589  tt0120681\n",
       "primaryTitle              Glitter  From Hell\n",
       "startYear                    2001       2001\n",
       "runtimeMinutes                104        122\n",
       "genre_1                     Drama     Horror\n",
       "...                           ...        ...\n",
       "writer_1_ratingAverage        NaN        NaN\n",
       "writer_2_ratingAverage        6.9        NaN\n",
       "AvgRating                     5.8    6.25821\n",
       "numFilmes                    0.25          1\n",
       "num_crew                       10         10\n",
       "\n",
       "[66 rows x 2 columns]"
      ]
     },
     "execution_count": 4,
     "metadata": {},
     "output_type": "execute_result"
    }
   ],
   "source": [
    "final.head(2).T"
   ]
  },
  {
   "cell_type": "code",
   "execution_count": 5,
   "metadata": {
    "ExecuteTime": {
     "end_time": "2020-07-10T12:17:44.697667Z",
     "start_time": "2020-07-10T12:17:44.650836Z"
    }
   },
   "outputs": [
    {
     "name": "stdout",
     "output_type": "stream",
     "text": [
      "<class 'pandas.core.frame.DataFrame'>\n",
      "RangeIndex: 1490 entries, 0 to 1489\n",
      "Data columns (total 66 columns):\n",
      " #   Column                                Non-Null Count  Dtype  \n",
      "---  ------                                --------------  -----  \n",
      " 0   tconst                                1490 non-null   object \n",
      " 1   primaryTitle                          1490 non-null   object \n",
      " 2   startYear                             1490 non-null   int64  \n",
      " 3   runtimeMinutes                        1490 non-null   int64  \n",
      " 4   genre_1                               1490 non-null   object \n",
      " 5   genre_2                               1373 non-null   object \n",
      " 6   genre_3                               997 non-null    object \n",
      " 7   Item                                  1490 non-null   int64  \n",
      " 8   Mês                                   1490 non-null   object \n",
      " 9   month                                 1490 non-null   float64\n",
      " 10  day                                   1490 non-null   float64\n",
      " 11  year                                  1490 non-null   int64  \n",
      " 12  Data Portugues                        1490 non-null   object \n",
      " 13  FW                                    1490 non-null   int64  \n",
      " 14  Worldwide_Gross                       1490 non-null   float64\n",
      " 15  Production_Budget                     1490 non-null   float64\n",
      " 16  rentability                           1490 non-null   float64\n",
      " 17  log_rentability                       1490 non-null   float64\n",
      " 18  rating                                1490 non-null   object \n",
      " 19  movie_info                            1490 non-null   object \n",
      " 20  on_streaming_date                     1482 non-null   object \n",
      " 21  studio_name                           1485 non-null   object \n",
      " 22  tomatometer_status                    1490 non-null   object \n",
      " 23  tomatometer_rating                    1490 non-null   float64\n",
      " 24  tomatometer_count                     1490 non-null   int64  \n",
      " 25  audience_status                       1490 non-null   object \n",
      " 26  audience_want_to_see_count            1490 non-null   int64  \n",
      " 27  audience_rating                       1490 non-null   float64\n",
      " 28  audience_count                        1490 non-null   float64\n",
      " 29  audience_top_critics_count            1490 non-null   int64  \n",
      " 30  audience_fresh_critics_count          1490 non-null   int64  \n",
      " 31  audience_rotten_critics_count         1490 non-null   int64  \n",
      " 32  audience_fresh_top_critics_count      1490 non-null   int64  \n",
      " 33  audience_rotten_rotten_critics_count  1490 non-null   int64  \n",
      " 34  tomatometer_avg_rating                1490 non-null   float64\n",
      " 35  audience_top_critics_avg_rating       1490 non-null   float64\n",
      " 36  score_sentiment                       1490 non-null   object \n",
      " 37  audience_avg_rating                   1490 non-null   float64\n",
      " 38  Negative                              1490 non-null   int64  \n",
      " 39  Positive                              1490 non-null   int64  \n",
      " 40  All                                   1490 non-null   int64  \n",
      " 41  negative_perc                         1490 non-null   float64\n",
      " 42  positive_perc                         1490 non-null   float64\n",
      " 43  NPremium_Indicado                     1490 non-null   int64  \n",
      " 44  NPremium_Win                          1490 non-null   int64  \n",
      " 45  Premium_Indicado                      1490 non-null   int64  \n",
      " 46  Premium_Win                           1490 non-null   int64  \n",
      " 47  movieyear                             1490 non-null   object \n",
      " 48  averageRating                         1490 non-null   float64\n",
      " 49  numVotes                              1490 non-null   int64  \n",
      " 50  directors_1                           1490 non-null   object \n",
      " 51  directors_2                           128 non-null    object \n",
      " 52  writers_1                             1490 non-null   object \n",
      " 53  writers_2                             1074 non-null   object \n",
      " 54  rating_num                            1490 non-null   float64\n",
      " 55  directors_1_films                     1490 non-null   int64  \n",
      " 56  directors_2_films                     1490 non-null   int64  \n",
      " 57  directors_1_ratingAverage             1234 non-null   float64\n",
      " 58  directors_2_ratingAverage             78 non-null     float64\n",
      " 59  writer_1_films                        1490 non-null   int64  \n",
      " 60  writer_2_films                        1490 non-null   int64  \n",
      " 61  writer_1_ratingAverage                1024 non-null   float64\n",
      " 62  writer_2_ratingAverage                660 non-null    float64\n",
      " 63  AvgRating                             1362 non-null   float64\n",
      " 64  numFilmes                             1490 non-null   float64\n",
      " 65  num_crew                              1490 non-null   int64  \n",
      "dtypes: float64(22), int64(25), object(19)\n",
      "memory usage: 768.4+ KB\n"
     ]
    }
   ],
   "source": [
    "final.info()"
   ]
  },
  {
   "cell_type": "code",
   "execution_count": 6,
   "metadata": {
    "ExecuteTime": {
     "end_time": "2020-07-10T12:17:44.714762Z",
     "start_time": "2020-07-10T12:17:44.700651Z"
    }
   },
   "outputs": [],
   "source": [
    "final = final.drop(['rating','primaryTitle','Mês','Item','Data Portugues','on_streaming_date','Negative','Positive','All','movieyear','directors_1','directors_2','writers_1','writers_2','rating_num','tomatometer_rating','tomatometer_count','audience_want_to_see_count','audience_rating','audience_count','audience_top_critics_count','audience_fresh_critics_count','audience_rotten_critics_count','audience_fresh_top_critics_count','audience_rotten_rotten_critics_count','tomatometer_avg_rating','audience_top_critics_avg_rating','score_sentiment','startYear'], axis = 1)                           "
   ]
  },
  {
   "cell_type": "code",
   "execution_count": 7,
   "metadata": {
    "ExecuteTime": {
     "end_time": "2020-07-10T12:17:44.777776Z",
     "start_time": "2020-07-10T12:17:44.717752Z"
    }
   },
   "outputs": [
    {
     "name": "stdout",
     "output_type": "stream",
     "text": [
      "<class 'pandas.core.frame.DataFrame'>\n",
      "RangeIndex: 1490 entries, 0 to 1489\n",
      "Data columns (total 37 columns):\n",
      " #   Column                     Non-Null Count  Dtype  \n",
      "---  ------                     --------------  -----  \n",
      " 0   tconst                     1490 non-null   object \n",
      " 1   runtimeMinutes             1490 non-null   int64  \n",
      " 2   genre_1                    1490 non-null   object \n",
      " 3   genre_2                    1373 non-null   object \n",
      " 4   genre_3                    997 non-null    object \n",
      " 5   month                      1490 non-null   float64\n",
      " 6   day                        1490 non-null   float64\n",
      " 7   year                       1490 non-null   int64  \n",
      " 8   FW                         1490 non-null   int64  \n",
      " 9   Worldwide_Gross            1490 non-null   float64\n",
      " 10  Production_Budget          1490 non-null   float64\n",
      " 11  rentability                1490 non-null   float64\n",
      " 12  log_rentability            1490 non-null   float64\n",
      " 13  movie_info                 1490 non-null   object \n",
      " 14  studio_name                1485 non-null   object \n",
      " 15  tomatometer_status         1490 non-null   object \n",
      " 16  audience_status            1490 non-null   object \n",
      " 17  audience_avg_rating        1490 non-null   float64\n",
      " 18  negative_perc              1490 non-null   float64\n",
      " 19  positive_perc              1490 non-null   float64\n",
      " 20  NPremium_Indicado          1490 non-null   int64  \n",
      " 21  NPremium_Win               1490 non-null   int64  \n",
      " 22  Premium_Indicado           1490 non-null   int64  \n",
      " 23  Premium_Win                1490 non-null   int64  \n",
      " 24  averageRating              1490 non-null   float64\n",
      " 25  numVotes                   1490 non-null   int64  \n",
      " 26  directors_1_films          1490 non-null   int64  \n",
      " 27  directors_2_films          1490 non-null   int64  \n",
      " 28  directors_1_ratingAverage  1234 non-null   float64\n",
      " 29  directors_2_ratingAverage  78 non-null     float64\n",
      " 30  writer_1_films             1490 non-null   int64  \n",
      " 31  writer_2_films             1490 non-null   int64  \n",
      " 32  writer_1_ratingAverage     1024 non-null   float64\n",
      " 33  writer_2_ratingAverage     660 non-null    float64\n",
      " 34  AvgRating                  1362 non-null   float64\n",
      " 35  numFilmes                  1490 non-null   float64\n",
      " 36  num_crew                   1490 non-null   int64  \n",
      "dtypes: float64(16), int64(13), object(8)\n",
      "memory usage: 430.8+ KB\n"
     ]
    }
   ],
   "source": [
    "final.info()"
   ]
  },
  {
   "cell_type": "markdown",
   "metadata": {},
   "source": [
    "## Analise da Target"
   ]
  },
  {
   "cell_type": "code",
   "execution_count": 8,
   "metadata": {
    "ExecuteTime": {
     "end_time": "2020-07-10T12:17:45.681215Z",
     "start_time": "2020-07-10T12:17:44.786737Z"
    }
   },
   "outputs": [
    {
     "data": {
      "text/plain": [
       "<matplotlib.axes._subplots.AxesSubplot at 0x2462ef64f48>"
      ]
     },
     "execution_count": 8,
     "metadata": {},
     "output_type": "execute_result"
    },
    {
     "data": {
      "image/png": "[encoded data removed]",
      "text/plain": [
       "<Figure size 432x288 with 1 Axes>"
      ]
     },
     "metadata": {
      "needs_background": "light"
     },
     "output_type": "display_data"
    }
   ],
   "source": [
    "final['rentability'].hist(bins = 100)"
   ]
  },
  {
   "cell_type": "code",
   "execution_count": 9,
   "metadata": {
    "ExecuteTime": {
     "end_time": "2020-07-10T12:17:45.984670Z",
     "start_time": "2020-07-10T12:17:45.685772Z"
    }
   },
   "outputs": [
    {
     "data": {
      "image/png": "[encoded data removed]",
      "text/plain": [
       "<Figure size 432x288 with 1 Axes>"
      ]
     },
     "metadata": {},
     "output_type": "display_data"
    }
   ],
   "source": [
    "sns.set(style=\"whitegrid\")\n",
    "tips = final\n",
    "ax = sns.boxplot(y='log_rentability',data = tips)"
   ]
  },
  {
   "cell_type": "code",
   "execution_count": 10,
   "metadata": {
    "ExecuteTime": {
     "end_time": "2020-07-10T12:17:45.999756Z",
     "start_time": "2020-07-10T12:17:45.986630Z"
    }
   },
   "outputs": [],
   "source": [
    "final = final[(final.log_rentability > -4)&(final.log_rentability < 4)]"
   ]
  },
  {
   "cell_type": "code",
   "execution_count": 11,
   "metadata": {
    "ExecuteTime": {
     "end_time": "2020-07-10T12:17:47.260722Z",
     "start_time": "2020-07-10T12:17:46.001964Z"
    }
   },
   "outputs": [
    {
     "data": {
      "text/plain": [
       "<matplotlib.axes._subplots.AxesSubplot at 0x2462f943f88>"
      ]
     },
     "execution_count": 11,
     "metadata": {},
     "output_type": "execute_result"
    },
    {
     "data": {
      "image/png": "[encoded data removed]",
      "text/plain": [
       "<Figure size 432x288 with 1 Axes>"
      ]
     },
     "metadata": {},
     "output_type": "display_data"
    }
   ],
   "source": [
    "final['log_rentability'].hist(bins = 100)"
   ]
  },
  {
   "cell_type": "markdown",
   "metadata": {},
   "source": [
    "## Dummização"
   ]
  },
  {
   "cell_type": "markdown",
   "metadata": {},
   "source": [
    "### Geneross"
   ]
  },
  {
   "cell_type": "code",
   "execution_count": 12,
   "metadata": {
    "ExecuteTime": {
     "end_time": "2020-07-10T12:17:47.276587Z",
     "start_time": "2020-07-10T12:17:47.264699Z"
    }
   },
   "outputs": [],
   "source": [
    "Genero1 = pd.get_dummies(final['genre_1'])"
   ]
  },
  {
   "cell_type": "code",
   "execution_count": 13,
   "metadata": {
    "ExecuteTime": {
     "end_time": "2020-07-10T12:17:47.322816Z",
     "start_time": "2020-07-10T12:17:47.280706Z"
    },
    "scrolled": true
   },
   "outputs": [
    {
     "data": {
      "text/html": [
       "<div>\n",
       "<style scoped>\n",
       "    .dataframe tbody tr th:only-of-type {\n",
       "        vertical-align: middle;\n",
       "    }\n",
       "\n",
       "    .dataframe tbody tr th {\n",
       "        vertical-align: top;\n",
       "    }\n",
       "\n",
       "    .dataframe thead th {\n",
       "        text-align: right;\n",
       "    }\n",
       "</style>\n",
       "<table border=\"1\" class=\"dataframe\">\n",
       "  <thead>\n",
       "    <tr style=\"text-align: right;\">\n",
       "      <th></th>\n",
       "      <th>Action</th>\n",
       "      <th>Adventure</th>\n",
       "      <th>Animation</th>\n",
       "      <th>Biography</th>\n",
       "      <th>Comedy</th>\n",
       "      <th>Crime</th>\n",
       "      <th>Documentary</th>\n",
       "      <th>Drama</th>\n",
       "      <th>Fantasy</th>\n",
       "      <th>Horror</th>\n",
       "      <th>Musical</th>\n",
       "      <th>Mystery</th>\n",
       "      <th>Sci-Fi</th>\n",
       "      <th>Thriller</th>\n",
       "    </tr>\n",
       "  </thead>\n",
       "  <tbody>\n",
       "    <tr>\n",
       "      <th>0</th>\n",
       "      <td>0</td>\n",
       "      <td>0</td>\n",
       "      <td>0</td>\n",
       "      <td>0</td>\n",
       "      <td>0</td>\n",
       "      <td>0</td>\n",
       "      <td>0</td>\n",
       "      <td>1</td>\n",
       "      <td>0</td>\n",
       "      <td>0</td>\n",
       "      <td>0</td>\n",
       "      <td>0</td>\n",
       "      <td>0</td>\n",
       "      <td>0</td>\n",
       "    </tr>\n",
       "    <tr>\n",
       "      <th>1</th>\n",
       "      <td>0</td>\n",
       "      <td>0</td>\n",
       "      <td>0</td>\n",
       "      <td>0</td>\n",
       "      <td>0</td>\n",
       "      <td>0</td>\n",
       "      <td>0</td>\n",
       "      <td>0</td>\n",
       "      <td>0</td>\n",
       "      <td>1</td>\n",
       "      <td>0</td>\n",
       "      <td>0</td>\n",
       "      <td>0</td>\n",
       "      <td>0</td>\n",
       "    </tr>\n",
       "    <tr>\n",
       "      <th>2</th>\n",
       "      <td>1</td>\n",
       "      <td>0</td>\n",
       "      <td>0</td>\n",
       "      <td>0</td>\n",
       "      <td>0</td>\n",
       "      <td>0</td>\n",
       "      <td>0</td>\n",
       "      <td>0</td>\n",
       "      <td>0</td>\n",
       "      <td>0</td>\n",
       "      <td>0</td>\n",
       "      <td>0</td>\n",
       "      <td>0</td>\n",
       "      <td>0</td>\n",
       "    </tr>\n",
       "    <tr>\n",
       "      <th>3</th>\n",
       "      <td>1</td>\n",
       "      <td>0</td>\n",
       "      <td>0</td>\n",
       "      <td>0</td>\n",
       "      <td>0</td>\n",
       "      <td>0</td>\n",
       "      <td>0</td>\n",
       "      <td>0</td>\n",
       "      <td>0</td>\n",
       "      <td>0</td>\n",
       "      <td>0</td>\n",
       "      <td>0</td>\n",
       "      <td>0</td>\n",
       "      <td>0</td>\n",
       "    </tr>\n",
       "    <tr>\n",
       "      <th>4</th>\n",
       "      <td>0</td>\n",
       "      <td>0</td>\n",
       "      <td>0</td>\n",
       "      <td>0</td>\n",
       "      <td>1</td>\n",
       "      <td>0</td>\n",
       "      <td>0</td>\n",
       "      <td>0</td>\n",
       "      <td>0</td>\n",
       "      <td>0</td>\n",
       "      <td>0</td>\n",
       "      <td>0</td>\n",
       "      <td>0</td>\n",
       "      <td>0</td>\n",
       "    </tr>\n",
       "  </tbody>\n",
       "</table>\n",
       "</div>"
      ],
      "text/plain": [
       "   Action  Adventure  Animation  Biography  Comedy  Crime  Documentary  Drama  \\\n",
       "0       0          0          0          0       0      0            0      1   \n",
       "1       0          0          0          0       0      0            0      0   \n",
       "2       1          0          0          0       0      0            0      0   \n",
       "3       1          0          0          0       0      0            0      0   \n",
       "4       0          0          0          0       1      0            0      0   \n",
       "\n",
       "   Fantasy  Horror  Musical  Mystery  Sci-Fi  Thriller  \n",
       "0        0       0        0        0       0         0  \n",
       "1        0       1        0        0       0         0  \n",
       "2        0       0        0        0       0         0  \n",
       "3        0       0        0        0       0         0  \n",
       "4        0       0        0        0       0         0  "
      ]
     },
     "execution_count": 13,
     "metadata": {},
     "output_type": "execute_result"
    }
   ],
   "source": [
    "Genero1.head()"
   ]
  },
  {
   "cell_type": "code",
   "execution_count": 14,
   "metadata": {
    "ExecuteTime": {
     "end_time": "2020-07-10T12:17:47.337775Z",
     "start_time": "2020-07-10T12:17:47.327803Z"
    }
   },
   "outputs": [],
   "source": [
    "Genero2 = pd.get_dummies(final['genre_2'])"
   ]
  },
  {
   "cell_type": "code",
   "execution_count": 15,
   "metadata": {
    "ExecuteTime": {
     "end_time": "2020-07-10T12:17:47.383759Z",
     "start_time": "2020-07-10T12:17:47.341765Z"
    }
   },
   "outputs": [
    {
     "data": {
      "text/html": [
       "<div>\n",
       "<style scoped>\n",
       "    .dataframe tbody tr th:only-of-type {\n",
       "        vertical-align: middle;\n",
       "    }\n",
       "\n",
       "    .dataframe tbody tr th {\n",
       "        vertical-align: top;\n",
       "    }\n",
       "\n",
       "    .dataframe thead th {\n",
       "        text-align: right;\n",
       "    }\n",
       "</style>\n",
       "<table border=\"1\" class=\"dataframe\">\n",
       "  <thead>\n",
       "    <tr style=\"text-align: right;\">\n",
       "      <th></th>\n",
       "      <th>Adventure</th>\n",
       "      <th>Animation</th>\n",
       "      <th>Biography</th>\n",
       "      <th>Comedy</th>\n",
       "      <th>Crime</th>\n",
       "      <th>Documentary</th>\n",
       "      <th>Drama</th>\n",
       "      <th>Family</th>\n",
       "      <th>Fantasy</th>\n",
       "      <th>History</th>\n",
       "      <th>Horror</th>\n",
       "      <th>Music</th>\n",
       "      <th>Musical</th>\n",
       "      <th>Mystery</th>\n",
       "      <th>Romance</th>\n",
       "      <th>Sci-Fi</th>\n",
       "      <th>Sport</th>\n",
       "      <th>Thriller</th>\n",
       "      <th>War</th>\n",
       "      <th>Western</th>\n",
       "    </tr>\n",
       "  </thead>\n",
       "  <tbody>\n",
       "    <tr>\n",
       "      <th>0</th>\n",
       "      <td>0</td>\n",
       "      <td>0</td>\n",
       "      <td>0</td>\n",
       "      <td>0</td>\n",
       "      <td>0</td>\n",
       "      <td>0</td>\n",
       "      <td>0</td>\n",
       "      <td>0</td>\n",
       "      <td>0</td>\n",
       "      <td>0</td>\n",
       "      <td>0</td>\n",
       "      <td>1</td>\n",
       "      <td>0</td>\n",
       "      <td>0</td>\n",
       "      <td>0</td>\n",
       "      <td>0</td>\n",
       "      <td>0</td>\n",
       "      <td>0</td>\n",
       "      <td>0</td>\n",
       "      <td>0</td>\n",
       "    </tr>\n",
       "    <tr>\n",
       "      <th>1</th>\n",
       "      <td>0</td>\n",
       "      <td>0</td>\n",
       "      <td>0</td>\n",
       "      <td>0</td>\n",
       "      <td>0</td>\n",
       "      <td>0</td>\n",
       "      <td>0</td>\n",
       "      <td>0</td>\n",
       "      <td>0</td>\n",
       "      <td>0</td>\n",
       "      <td>0</td>\n",
       "      <td>0</td>\n",
       "      <td>0</td>\n",
       "      <td>1</td>\n",
       "      <td>0</td>\n",
       "      <td>0</td>\n",
       "      <td>0</td>\n",
       "      <td>0</td>\n",
       "      <td>0</td>\n",
       "      <td>0</td>\n",
       "    </tr>\n",
       "    <tr>\n",
       "      <th>2</th>\n",
       "      <td>1</td>\n",
       "      <td>0</td>\n",
       "      <td>0</td>\n",
       "      <td>0</td>\n",
       "      <td>0</td>\n",
       "      <td>0</td>\n",
       "      <td>0</td>\n",
       "      <td>0</td>\n",
       "      <td>0</td>\n",
       "      <td>0</td>\n",
       "      <td>0</td>\n",
       "      <td>0</td>\n",
       "      <td>0</td>\n",
       "      <td>0</td>\n",
       "      <td>0</td>\n",
       "      <td>0</td>\n",
       "      <td>0</td>\n",
       "      <td>0</td>\n",
       "      <td>0</td>\n",
       "      <td>0</td>\n",
       "    </tr>\n",
       "    <tr>\n",
       "      <th>3</th>\n",
       "      <td>1</td>\n",
       "      <td>0</td>\n",
       "      <td>0</td>\n",
       "      <td>0</td>\n",
       "      <td>0</td>\n",
       "      <td>0</td>\n",
       "      <td>0</td>\n",
       "      <td>0</td>\n",
       "      <td>0</td>\n",
       "      <td>0</td>\n",
       "      <td>0</td>\n",
       "      <td>0</td>\n",
       "      <td>0</td>\n",
       "      <td>0</td>\n",
       "      <td>0</td>\n",
       "      <td>0</td>\n",
       "      <td>0</td>\n",
       "      <td>0</td>\n",
       "      <td>0</td>\n",
       "      <td>0</td>\n",
       "    </tr>\n",
       "    <tr>\n",
       "      <th>4</th>\n",
       "      <td>0</td>\n",
       "      <td>0</td>\n",
       "      <td>0</td>\n",
       "      <td>0</td>\n",
       "      <td>0</td>\n",
       "      <td>0</td>\n",
       "      <td>1</td>\n",
       "      <td>0</td>\n",
       "      <td>0</td>\n",
       "      <td>0</td>\n",
       "      <td>0</td>\n",
       "      <td>0</td>\n",
       "      <td>0</td>\n",
       "      <td>0</td>\n",
       "      <td>0</td>\n",
       "      <td>0</td>\n",
       "      <td>0</td>\n",
       "      <td>0</td>\n",
       "      <td>0</td>\n",
       "      <td>0</td>\n",
       "    </tr>\n",
       "  </tbody>\n",
       "</table>\n",
       "</div>"
      ],
      "text/plain": [
       "   Adventure  Animation  Biography  Comedy  Crime  Documentary  Drama  Family  \\\n",
       "0          0          0          0       0      0            0      0       0   \n",
       "1          0          0          0       0      0            0      0       0   \n",
       "2          1          0          0       0      0            0      0       0   \n",
       "3          1          0          0       0      0            0      0       0   \n",
       "4          0          0          0       0      0            0      1       0   \n",
       "\n",
       "   Fantasy  History  Horror  Music  Musical  Mystery  Romance  Sci-Fi  Sport  \\\n",
       "0        0        0       0      1        0        0        0       0      0   \n",
       "1        0        0       0      0        0        1        0       0      0   \n",
       "2        0        0       0      0        0        0        0       0      0   \n",
       "3        0        0       0      0        0        0        0       0      0   \n",
       "4        0        0       0      0        0        0        0       0      0   \n",
       "\n",
       "   Thriller  War  Western  \n",
       "0         0    0        0  \n",
       "1         0    0        0  \n",
       "2         0    0        0  \n",
       "3         0    0        0  \n",
       "4         0    0        0  "
      ]
     },
     "execution_count": 15,
     "metadata": {},
     "output_type": "execute_result"
    }
   ],
   "source": [
    "Genero2.head()"
   ]
  },
  {
   "cell_type": "code",
   "execution_count": 16,
   "metadata": {
    "ExecuteTime": {
     "end_time": "2020-07-10T12:17:47.400680Z",
     "start_time": "2020-07-10T12:17:47.386752Z"
    }
   },
   "outputs": [],
   "source": [
    "Genero3 = pd.get_dummies(final['genre_3'])"
   ]
  },
  {
   "cell_type": "code",
   "execution_count": 17,
   "metadata": {
    "ExecuteTime": {
     "end_time": "2020-07-10T12:17:47.443594Z",
     "start_time": "2020-07-10T12:17:47.404188Z"
    }
   },
   "outputs": [
    {
     "data": {
      "text/html": [
       "<div>\n",
       "<style scoped>\n",
       "    .dataframe tbody tr th:only-of-type {\n",
       "        vertical-align: middle;\n",
       "    }\n",
       "\n",
       "    .dataframe tbody tr th {\n",
       "        vertical-align: top;\n",
       "    }\n",
       "\n",
       "    .dataframe thead th {\n",
       "        text-align: right;\n",
       "    }\n",
       "</style>\n",
       "<table border=\"1\" class=\"dataframe\">\n",
       "  <thead>\n",
       "    <tr style=\"text-align: right;\">\n",
       "      <th></th>\n",
       "      <th>Animation</th>\n",
       "      <th>Biography</th>\n",
       "      <th>Comedy</th>\n",
       "      <th>Crime</th>\n",
       "      <th>Drama</th>\n",
       "      <th>Family</th>\n",
       "      <th>Fantasy</th>\n",
       "      <th>History</th>\n",
       "      <th>Horror</th>\n",
       "      <th>Music</th>\n",
       "      <th>Musical</th>\n",
       "      <th>Mystery</th>\n",
       "      <th>Romance</th>\n",
       "      <th>Sci-Fi</th>\n",
       "      <th>Sport</th>\n",
       "      <th>Thriller</th>\n",
       "      <th>War</th>\n",
       "      <th>Western</th>\n",
       "    </tr>\n",
       "  </thead>\n",
       "  <tbody>\n",
       "    <tr>\n",
       "      <th>0</th>\n",
       "      <td>0</td>\n",
       "      <td>0</td>\n",
       "      <td>0</td>\n",
       "      <td>0</td>\n",
       "      <td>0</td>\n",
       "      <td>0</td>\n",
       "      <td>0</td>\n",
       "      <td>0</td>\n",
       "      <td>0</td>\n",
       "      <td>0</td>\n",
       "      <td>0</td>\n",
       "      <td>0</td>\n",
       "      <td>1</td>\n",
       "      <td>0</td>\n",
       "      <td>0</td>\n",
       "      <td>0</td>\n",
       "      <td>0</td>\n",
       "      <td>0</td>\n",
       "    </tr>\n",
       "    <tr>\n",
       "      <th>1</th>\n",
       "      <td>0</td>\n",
       "      <td>0</td>\n",
       "      <td>0</td>\n",
       "      <td>0</td>\n",
       "      <td>0</td>\n",
       "      <td>0</td>\n",
       "      <td>0</td>\n",
       "      <td>0</td>\n",
       "      <td>0</td>\n",
       "      <td>0</td>\n",
       "      <td>0</td>\n",
       "      <td>0</td>\n",
       "      <td>0</td>\n",
       "      <td>0</td>\n",
       "      <td>0</td>\n",
       "      <td>1</td>\n",
       "      <td>0</td>\n",
       "      <td>0</td>\n",
       "    </tr>\n",
       "    <tr>\n",
       "      <th>2</th>\n",
       "      <td>0</td>\n",
       "      <td>0</td>\n",
       "      <td>0</td>\n",
       "      <td>0</td>\n",
       "      <td>1</td>\n",
       "      <td>0</td>\n",
       "      <td>0</td>\n",
       "      <td>0</td>\n",
       "      <td>0</td>\n",
       "      <td>0</td>\n",
       "      <td>0</td>\n",
       "      <td>0</td>\n",
       "      <td>0</td>\n",
       "      <td>0</td>\n",
       "      <td>0</td>\n",
       "      <td>0</td>\n",
       "      <td>0</td>\n",
       "      <td>0</td>\n",
       "    </tr>\n",
       "    <tr>\n",
       "      <th>3</th>\n",
       "      <td>0</td>\n",
       "      <td>0</td>\n",
       "      <td>0</td>\n",
       "      <td>0</td>\n",
       "      <td>0</td>\n",
       "      <td>0</td>\n",
       "      <td>0</td>\n",
       "      <td>0</td>\n",
       "      <td>0</td>\n",
       "      <td>0</td>\n",
       "      <td>0</td>\n",
       "      <td>0</td>\n",
       "      <td>0</td>\n",
       "      <td>0</td>\n",
       "      <td>0</td>\n",
       "      <td>1</td>\n",
       "      <td>0</td>\n",
       "      <td>0</td>\n",
       "    </tr>\n",
       "    <tr>\n",
       "      <th>4</th>\n",
       "      <td>0</td>\n",
       "      <td>0</td>\n",
       "      <td>0</td>\n",
       "      <td>0</td>\n",
       "      <td>0</td>\n",
       "      <td>0</td>\n",
       "      <td>0</td>\n",
       "      <td>0</td>\n",
       "      <td>0</td>\n",
       "      <td>0</td>\n",
       "      <td>0</td>\n",
       "      <td>0</td>\n",
       "      <td>1</td>\n",
       "      <td>0</td>\n",
       "      <td>0</td>\n",
       "      <td>0</td>\n",
       "      <td>0</td>\n",
       "      <td>0</td>\n",
       "    </tr>\n",
       "  </tbody>\n",
       "</table>\n",
       "</div>"
      ],
      "text/plain": [
       "   Animation  Biography  Comedy  Crime  Drama  Family  Fantasy  History  \\\n",
       "0          0          0       0      0      0       0        0        0   \n",
       "1          0          0       0      0      0       0        0        0   \n",
       "2          0          0       0      0      1       0        0        0   \n",
       "3          0          0       0      0      0       0        0        0   \n",
       "4          0          0       0      0      0       0        0        0   \n",
       "\n",
       "   Horror  Music  Musical  Mystery  Romance  Sci-Fi  Sport  Thriller  War  \\\n",
       "0       0      0        0        0        1       0      0         0    0   \n",
       "1       0      0        0        0        0       0      0         1    0   \n",
       "2       0      0        0        0        0       0      0         0    0   \n",
       "3       0      0        0        0        0       0      0         1    0   \n",
       "4       0      0        0        0        1       0      0         0    0   \n",
       "\n",
       "   Western  \n",
       "0        0  \n",
       "1        0  \n",
       "2        0  \n",
       "3        0  \n",
       "4        0  "
      ]
     },
     "execution_count": 17,
     "metadata": {},
     "output_type": "execute_result"
    }
   ],
   "source": [
    "Genero3.head()"
   ]
  },
  {
   "cell_type": "code",
   "execution_count": 18,
   "metadata": {
    "ExecuteTime": {
     "end_time": "2020-07-10T12:17:47.527241Z",
     "start_time": "2020-07-10T12:17:47.447589Z"
    }
   },
   "outputs": [],
   "source": [
    "Generos = Genero1.join(Genero2, rsuffix = \"_2\")\n",
    "Generos = Generos.join(Genero3, rsuffix = \"_3\")"
   ]
  },
  {
   "cell_type": "code",
   "execution_count": 19,
   "metadata": {
    "ExecuteTime": {
     "end_time": "2020-07-10T12:17:47.649781Z",
     "start_time": "2020-07-10T12:17:47.530130Z"
    }
   },
   "outputs": [],
   "source": [
    "Generos['Adventure_Geral']=Generos['Adventure']+Generos['Adventure_2']\n",
    "Generos['Animation_Geral']=Generos['Animation']+Generos['Animation_2']+Generos['Animation_3']\n",
    "Generos['Biography_Geral']=Generos['Biography']+Generos['Biography_2']+Generos['Biography_3']\n",
    "Generos['Comedy_Geral']=Generos['Comedy']+Generos['Comedy_2']+Generos['Comedy_3']\n",
    "Generos['Crime_Geral']=Generos['Crime']+Generos['Crime_2']+Generos['Crime_3']\n",
    "Generos['Documentary_Geral']=Generos['Documentary']+Generos['Documentary_2']\n",
    "Generos['Drama_Geral']=Generos['Drama']+Generos['Drama_2']+Generos['Drama_3']\n",
    "Generos['Family_Geral']=Generos['Family']+Generos['Family_3']\n",
    "Generos['Fantasy_Geral']=Generos['Fantasy']+Generos['Fantasy_2']+Generos['Fantasy_3']\n",
    "Generos['History_Geral']=Generos['History']+Generos['History_3']\n",
    "Generos['Horror_Geral']=Generos['Horror']+Generos['Horror_2']+Generos['Horror_3']\n",
    "Generos['Music_Geral']=Generos['Music']+Generos['Music_3']\n",
    "Generos['Musical_Geral']=Generos['Musical']+Generos['Musical_2']+Generos['Musical_3']\n",
    "Generos['Mystery_Geral']=Generos['Mystery']+Generos['Mystery_2']+Generos['Mystery_3']\n",
    "Generos['Romance_Geral']=Generos['Romance']+Generos['Romance_3']\n",
    "Generos['Sci-Fi_Geral']=Generos['Sci-Fi']+Generos['Sci-Fi_2']+Generos['Sci-Fi_3']\n",
    "Generos['Sport_Geral']=Generos['Sport']+Generos['Sport_3']\n",
    "Generos['Thriller_Geral']=Generos['Thriller']+Generos['Thriller_2']+Generos['Thriller_3']\n",
    "Generos['War_Geral']=Generos['War']+Generos['War_3']\n",
    "Generos['Western_Geral']=Generos['Western']+Generos['Western_3']"
   ]
  },
  {
   "cell_type": "code",
   "execution_count": 20,
   "metadata": {
    "ExecuteTime": {
     "end_time": "2020-07-10T12:17:47.670798Z",
     "start_time": "2020-07-10T12:17:47.653738Z"
    }
   },
   "outputs": [],
   "source": [
    "Generos = Generos.drop(['Action','Adventure','Adventure_2','Animation','Animation_2','Animation_3','Biography','Biography_2','Biography_3','Comedy','Comedy_2','Comedy_3','Crime','Crime_2','Crime_3','Documentary','Documentary_2','Drama','Drama_2','Drama_3','Family','Family_3','Fantasy','Fantasy_2','Fantasy_3','History','History_3','Horror','Horror_2','Horror_3','Music','Music_3','Musical','Musical_2','Musical_3','Mystery','Mystery_2','Mystery_3','Romance','Romance_3','Sci-Fi','Sci-Fi_2','Sci-Fi_3','Sport','Sport_3','Thriller','Thriller_2','Thriller_3','War','War_3','Western','Western_3'],axis = 1)"
   ]
  },
  {
   "cell_type": "code",
   "execution_count": 21,
   "metadata": {
    "ExecuteTime": {
     "end_time": "2020-07-10T12:17:47.732521Z",
     "start_time": "2020-07-10T12:17:47.676076Z"
    }
   },
   "outputs": [
    {
     "data": {
      "text/html": [
       "<div>\n",
       "<style scoped>\n",
       "    .dataframe tbody tr th:only-of-type {\n",
       "        vertical-align: middle;\n",
       "    }\n",
       "\n",
       "    .dataframe tbody tr th {\n",
       "        vertical-align: top;\n",
       "    }\n",
       "\n",
       "    .dataframe thead th {\n",
       "        text-align: right;\n",
       "    }\n",
       "</style>\n",
       "<table border=\"1\" class=\"dataframe\">\n",
       "  <thead>\n",
       "    <tr style=\"text-align: right;\">\n",
       "      <th></th>\n",
       "      <th>Adventure_Geral</th>\n",
       "      <th>Animation_Geral</th>\n",
       "      <th>Biography_Geral</th>\n",
       "      <th>Comedy_Geral</th>\n",
       "      <th>Crime_Geral</th>\n",
       "      <th>Documentary_Geral</th>\n",
       "      <th>Drama_Geral</th>\n",
       "      <th>Family_Geral</th>\n",
       "      <th>Fantasy_Geral</th>\n",
       "      <th>History_Geral</th>\n",
       "      <th>Horror_Geral</th>\n",
       "      <th>Music_Geral</th>\n",
       "      <th>Musical_Geral</th>\n",
       "      <th>Mystery_Geral</th>\n",
       "      <th>Romance_Geral</th>\n",
       "      <th>Sci-Fi_Geral</th>\n",
       "      <th>Sport_Geral</th>\n",
       "      <th>Thriller_Geral</th>\n",
       "      <th>War_Geral</th>\n",
       "      <th>Western_Geral</th>\n",
       "    </tr>\n",
       "  </thead>\n",
       "  <tbody>\n",
       "    <tr>\n",
       "      <th>0</th>\n",
       "      <td>0</td>\n",
       "      <td>0</td>\n",
       "      <td>0</td>\n",
       "      <td>0</td>\n",
       "      <td>0</td>\n",
       "      <td>0</td>\n",
       "      <td>1</td>\n",
       "      <td>0</td>\n",
       "      <td>0</td>\n",
       "      <td>0</td>\n",
       "      <td>0</td>\n",
       "      <td>1</td>\n",
       "      <td>0</td>\n",
       "      <td>0</td>\n",
       "      <td>1</td>\n",
       "      <td>0</td>\n",
       "      <td>0</td>\n",
       "      <td>0</td>\n",
       "      <td>0</td>\n",
       "      <td>0</td>\n",
       "    </tr>\n",
       "    <tr>\n",
       "      <th>1</th>\n",
       "      <td>0</td>\n",
       "      <td>0</td>\n",
       "      <td>0</td>\n",
       "      <td>0</td>\n",
       "      <td>0</td>\n",
       "      <td>0</td>\n",
       "      <td>0</td>\n",
       "      <td>0</td>\n",
       "      <td>0</td>\n",
       "      <td>0</td>\n",
       "      <td>1</td>\n",
       "      <td>0</td>\n",
       "      <td>0</td>\n",
       "      <td>1</td>\n",
       "      <td>0</td>\n",
       "      <td>0</td>\n",
       "      <td>0</td>\n",
       "      <td>1</td>\n",
       "      <td>0</td>\n",
       "      <td>0</td>\n",
       "    </tr>\n",
       "    <tr>\n",
       "      <th>2</th>\n",
       "      <td>1</td>\n",
       "      <td>0</td>\n",
       "      <td>0</td>\n",
       "      <td>0</td>\n",
       "      <td>0</td>\n",
       "      <td>0</td>\n",
       "      <td>1</td>\n",
       "      <td>0</td>\n",
       "      <td>0</td>\n",
       "      <td>0</td>\n",
       "      <td>0</td>\n",
       "      <td>0</td>\n",
       "      <td>0</td>\n",
       "      <td>0</td>\n",
       "      <td>0</td>\n",
       "      <td>0</td>\n",
       "      <td>0</td>\n",
       "      <td>0</td>\n",
       "      <td>0</td>\n",
       "      <td>0</td>\n",
       "    </tr>\n",
       "    <tr>\n",
       "      <th>3</th>\n",
       "      <td>1</td>\n",
       "      <td>0</td>\n",
       "      <td>0</td>\n",
       "      <td>0</td>\n",
       "      <td>0</td>\n",
       "      <td>0</td>\n",
       "      <td>0</td>\n",
       "      <td>0</td>\n",
       "      <td>0</td>\n",
       "      <td>0</td>\n",
       "      <td>0</td>\n",
       "      <td>0</td>\n",
       "      <td>0</td>\n",
       "      <td>0</td>\n",
       "      <td>0</td>\n",
       "      <td>0</td>\n",
       "      <td>0</td>\n",
       "      <td>1</td>\n",
       "      <td>0</td>\n",
       "      <td>0</td>\n",
       "    </tr>\n",
       "    <tr>\n",
       "      <th>4</th>\n",
       "      <td>0</td>\n",
       "      <td>0</td>\n",
       "      <td>0</td>\n",
       "      <td>1</td>\n",
       "      <td>0</td>\n",
       "      <td>0</td>\n",
       "      <td>1</td>\n",
       "      <td>0</td>\n",
       "      <td>0</td>\n",
       "      <td>0</td>\n",
       "      <td>0</td>\n",
       "      <td>0</td>\n",
       "      <td>0</td>\n",
       "      <td>0</td>\n",
       "      <td>1</td>\n",
       "      <td>0</td>\n",
       "      <td>0</td>\n",
       "      <td>0</td>\n",
       "      <td>0</td>\n",
       "      <td>0</td>\n",
       "    </tr>\n",
       "    <tr>\n",
       "      <th>...</th>\n",
       "      <td>...</td>\n",
       "      <td>...</td>\n",
       "      <td>...</td>\n",
       "      <td>...</td>\n",
       "      <td>...</td>\n",
       "      <td>...</td>\n",
       "      <td>...</td>\n",
       "      <td>...</td>\n",
       "      <td>...</td>\n",
       "      <td>...</td>\n",
       "      <td>...</td>\n",
       "      <td>...</td>\n",
       "      <td>...</td>\n",
       "      <td>...</td>\n",
       "      <td>...</td>\n",
       "      <td>...</td>\n",
       "      <td>...</td>\n",
       "      <td>...</td>\n",
       "      <td>...</td>\n",
       "      <td>...</td>\n",
       "    </tr>\n",
       "    <tr>\n",
       "      <th>1485</th>\n",
       "      <td>1</td>\n",
       "      <td>0</td>\n",
       "      <td>1</td>\n",
       "      <td>0</td>\n",
       "      <td>0</td>\n",
       "      <td>0</td>\n",
       "      <td>1</td>\n",
       "      <td>0</td>\n",
       "      <td>0</td>\n",
       "      <td>0</td>\n",
       "      <td>0</td>\n",
       "      <td>0</td>\n",
       "      <td>0</td>\n",
       "      <td>0</td>\n",
       "      <td>0</td>\n",
       "      <td>0</td>\n",
       "      <td>0</td>\n",
       "      <td>0</td>\n",
       "      <td>0</td>\n",
       "      <td>0</td>\n",
       "    </tr>\n",
       "    <tr>\n",
       "      <th>1486</th>\n",
       "      <td>0</td>\n",
       "      <td>0</td>\n",
       "      <td>0</td>\n",
       "      <td>1</td>\n",
       "      <td>0</td>\n",
       "      <td>0</td>\n",
       "      <td>1</td>\n",
       "      <td>0</td>\n",
       "      <td>0</td>\n",
       "      <td>0</td>\n",
       "      <td>0</td>\n",
       "      <td>0</td>\n",
       "      <td>0</td>\n",
       "      <td>0</td>\n",
       "      <td>0</td>\n",
       "      <td>0</td>\n",
       "      <td>0</td>\n",
       "      <td>0</td>\n",
       "      <td>0</td>\n",
       "      <td>0</td>\n",
       "    </tr>\n",
       "    <tr>\n",
       "      <th>1487</th>\n",
       "      <td>0</td>\n",
       "      <td>0</td>\n",
       "      <td>0</td>\n",
       "      <td>0</td>\n",
       "      <td>0</td>\n",
       "      <td>0</td>\n",
       "      <td>1</td>\n",
       "      <td>0</td>\n",
       "      <td>0</td>\n",
       "      <td>0</td>\n",
       "      <td>0</td>\n",
       "      <td>0</td>\n",
       "      <td>0</td>\n",
       "      <td>0</td>\n",
       "      <td>0</td>\n",
       "      <td>0</td>\n",
       "      <td>0</td>\n",
       "      <td>0</td>\n",
       "      <td>0</td>\n",
       "      <td>0</td>\n",
       "    </tr>\n",
       "    <tr>\n",
       "      <th>1488</th>\n",
       "      <td>0</td>\n",
       "      <td>0</td>\n",
       "      <td>0</td>\n",
       "      <td>0</td>\n",
       "      <td>0</td>\n",
       "      <td>0</td>\n",
       "      <td>1</td>\n",
       "      <td>0</td>\n",
       "      <td>0</td>\n",
       "      <td>0</td>\n",
       "      <td>1</td>\n",
       "      <td>0</td>\n",
       "      <td>0</td>\n",
       "      <td>1</td>\n",
       "      <td>0</td>\n",
       "      <td>0</td>\n",
       "      <td>0</td>\n",
       "      <td>0</td>\n",
       "      <td>0</td>\n",
       "      <td>0</td>\n",
       "    </tr>\n",
       "    <tr>\n",
       "      <th>1489</th>\n",
       "      <td>1</td>\n",
       "      <td>0</td>\n",
       "      <td>0</td>\n",
       "      <td>1</td>\n",
       "      <td>0</td>\n",
       "      <td>0</td>\n",
       "      <td>0</td>\n",
       "      <td>0</td>\n",
       "      <td>0</td>\n",
       "      <td>0</td>\n",
       "      <td>0</td>\n",
       "      <td>0</td>\n",
       "      <td>0</td>\n",
       "      <td>0</td>\n",
       "      <td>0</td>\n",
       "      <td>0</td>\n",
       "      <td>0</td>\n",
       "      <td>0</td>\n",
       "      <td>0</td>\n",
       "      <td>0</td>\n",
       "    </tr>\n",
       "  </tbody>\n",
       "</table>\n",
       "<p>1472 rows × 20 columns</p>\n",
       "</div>"
      ],
      "text/plain": [
       "      Adventure_Geral  Animation_Geral  Biography_Geral  Comedy_Geral  \\\n",
       "0                   0                0                0             0   \n",
       "1                   0                0                0             0   \n",
       "2                   1                0                0             0   \n",
       "3                   1                0                0             0   \n",
       "4                   0                0                0             1   \n",
       "...               ...              ...              ...           ...   \n",
       "1485                1                0                1             0   \n",
       "1486                0                0                0             1   \n",
       "1487                0                0                0             0   \n",
       "1488                0                0                0             0   \n",
       "1489                1                0                0             1   \n",
       "\n",
       "      Crime_Geral  Documentary_Geral  Drama_Geral  Family_Geral  \\\n",
       "0               0                  0            1             0   \n",
       "1               0                  0            0             0   \n",
       "2               0                  0            1             0   \n",
       "3               0                  0            0             0   \n",
       "4               0                  0            1             0   \n",
       "...           ...                ...          ...           ...   \n",
       "1485            0                  0            1             0   \n",
       "1486            0                  0            1             0   \n",
       "1487            0                  0            1             0   \n",
       "1488            0                  0            1             0   \n",
       "1489            0                  0            0             0   \n",
       "\n",
       "      Fantasy_Geral  History_Geral  Horror_Geral  Music_Geral  Musical_Geral  \\\n",
       "0                 0              0             0            1              0   \n",
       "1                 0              0             1            0              0   \n",
       "2                 0              0             0            0              0   \n",
       "3                 0              0             0            0              0   \n",
       "4                 0              0             0            0              0   \n",
       "...             ...            ...           ...          ...            ...   \n",
       "1485              0              0             0            0              0   \n",
       "1486              0              0             0            0              0   \n",
       "1487              0              0             0            0              0   \n",
       "1488              0              0             1            0              0   \n",
       "1489              0              0             0            0              0   \n",
       "\n",
       "      Mystery_Geral  Romance_Geral  Sci-Fi_Geral  Sport_Geral  Thriller_Geral  \\\n",
       "0                 0              1             0            0               0   \n",
       "1                 1              0             0            0               1   \n",
       "2                 0              0             0            0               0   \n",
       "3                 0              0             0            0               1   \n",
       "4                 0              1             0            0               0   \n",
       "...             ...            ...           ...          ...             ...   \n",
       "1485              0              0             0            0               0   \n",
       "1486              0              0             0            0               0   \n",
       "1487              0              0             0            0               0   \n",
       "1488              1              0             0            0               0   \n",
       "1489              0              0             0            0               0   \n",
       "\n",
       "      War_Geral  Western_Geral  \n",
       "0             0              0  \n",
       "1             0              0  \n",
       "2             0              0  \n",
       "3             0              0  \n",
       "4             0              0  \n",
       "...         ...            ...  \n",
       "1485          0              0  \n",
       "1486          0              0  \n",
       "1487          0              0  \n",
       "1488          0              0  \n",
       "1489          0              0  \n",
       "\n",
       "[1472 rows x 20 columns]"
      ]
     },
     "execution_count": 21,
     "metadata": {},
     "output_type": "execute_result"
    }
   ],
   "source": [
    "Generos"
   ]
  },
  {
   "cell_type": "code",
   "execution_count": 22,
   "metadata": {
    "ExecuteTime": {
     "end_time": "2020-07-10T12:17:47.762812Z",
     "start_time": "2020-07-10T12:17:47.737429Z"
    }
   },
   "outputs": [],
   "source": [
    "final_generos = final.join(Generos)"
   ]
  },
  {
   "cell_type": "code",
   "execution_count": 23,
   "metadata": {
    "ExecuteTime": {
     "end_time": "2020-07-10T12:17:47.794919Z",
     "start_time": "2020-07-10T12:17:47.778811Z"
    }
   },
   "outputs": [],
   "source": [
    "final_generos = final_generos.drop(['genre_1','genre_2','genre_3'], axis = 1)"
   ]
  },
  {
   "cell_type": "markdown",
   "metadata": {},
   "source": [
    "### Estudios"
   ]
  },
  {
   "cell_type": "code",
   "execution_count": 24,
   "metadata": {
    "ExecuteTime": {
     "end_time": "2020-07-10T12:17:47.847760Z",
     "start_time": "2020-07-10T12:17:47.803212Z"
    }
   },
   "outputs": [
    {
     "data": {
      "text/html": [
       "<div>\n",
       "<style scoped>\n",
       "    .dataframe tbody tr th:only-of-type {\n",
       "        vertical-align: middle;\n",
       "    }\n",
       "\n",
       "    .dataframe tbody tr th {\n",
       "        vertical-align: top;\n",
       "    }\n",
       "\n",
       "    .dataframe thead th {\n",
       "        text-align: right;\n",
       "    }\n",
       "</style>\n",
       "<table border=\"1\" class=\"dataframe\">\n",
       "  <thead>\n",
       "    <tr style=\"text-align: right;\">\n",
       "      <th></th>\n",
       "      <th>tconst</th>\n",
       "    </tr>\n",
       "    <tr>\n",
       "      <th>studio_name</th>\n",
       "      <th></th>\n",
       "    </tr>\n",
       "  </thead>\n",
       "  <tbody>\n",
       "    <tr>\n",
       "      <th>20th Century Fox</th>\n",
       "      <td>122</td>\n",
       "    </tr>\n",
       "    <tr>\n",
       "      <th>20th Century Fox Distribution</th>\n",
       "      <td>1</td>\n",
       "    </tr>\n",
       "    <tr>\n",
       "      <th>20th Century Fox/Regency Films</th>\n",
       "      <td>1</td>\n",
       "    </tr>\n",
       "    <tr>\n",
       "      <th>A24</th>\n",
       "      <td>5</td>\n",
       "    </tr>\n",
       "    <tr>\n",
       "      <th>A24 Films</th>\n",
       "      <td>2</td>\n",
       "    </tr>\n",
       "    <tr>\n",
       "      <th>...</th>\n",
       "      <td>...</td>\n",
       "    </tr>\n",
       "    <tr>\n",
       "      <th>Working Title Films</th>\n",
       "      <td>1</td>\n",
       "    </tr>\n",
       "    <tr>\n",
       "      <th>Yari Film Group</th>\n",
       "      <td>1</td>\n",
       "    </tr>\n",
       "    <tr>\n",
       "      <th>Yari Film Group Releasing</th>\n",
       "      <td>1</td>\n",
       "    </tr>\n",
       "    <tr>\n",
       "      <th>Zion Films</th>\n",
       "      <td>1</td>\n",
       "    </tr>\n",
       "    <tr>\n",
       "      <th>s</th>\n",
       "      <td>1</td>\n",
       "    </tr>\n",
       "  </tbody>\n",
       "</table>\n",
       "<p>236 rows × 1 columns</p>\n",
       "</div>"
      ],
      "text/plain": [
       "                                tconst\n",
       "studio_name                           \n",
       "20th Century Fox                   122\n",
       "20th Century Fox Distribution        1\n",
       "20th Century Fox/Regency Films       1\n",
       "A24                                  5\n",
       "A24 Films                            2\n",
       "...                                ...\n",
       "Working Title Films                  1\n",
       "Yari Film Group                      1\n",
       "Yari Film Group Releasing            1\n",
       "Zion Films                           1\n",
       "s                                    1\n",
       "\n",
       "[236 rows x 1 columns]"
      ]
     },
     "execution_count": 24,
     "metadata": {},
     "output_type": "execute_result"
    }
   ],
   "source": [
    "temp = pd.pivot_table(final_generos, values='tconst', index='studio_name', aggfunc='count')\n",
    "temp"
   ]
  },
  {
   "cell_type": "code",
   "execution_count": 25,
   "metadata": {
    "ExecuteTime": {
     "end_time": "2020-07-10T12:17:47.866867Z",
     "start_time": "2020-07-10T12:17:47.852741Z"
    }
   },
   "outputs": [],
   "source": [
    "studios = pd.read_csv('C:/Users/afilg/OneDrive/DATA SCIENCE/Aulas - Originais/Projeto_Integrador/test_2.csv')"
   ]
  },
  {
   "cell_type": "code",
   "execution_count": 26,
   "metadata": {
    "ExecuteTime": {
     "end_time": "2020-07-10T12:17:47.896052Z",
     "start_time": "2020-07-10T12:17:47.869871Z"
    }
   },
   "outputs": [
    {
     "data": {
      "text/html": [
       "<div>\n",
       "<style scoped>\n",
       "    .dataframe tbody tr th:only-of-type {\n",
       "        vertical-align: middle;\n",
       "    }\n",
       "\n",
       "    .dataframe tbody tr th {\n",
       "        vertical-align: top;\n",
       "    }\n",
       "\n",
       "    .dataframe thead th {\n",
       "        text-align: right;\n",
       "    }\n",
       "</style>\n",
       "<table border=\"1\" class=\"dataframe\">\n",
       "  <thead>\n",
       "    <tr style=\"text-align: right;\">\n",
       "      <th></th>\n",
       "      <th>studio_name</th>\n",
       "      <th>new_studio</th>\n",
       "    </tr>\n",
       "  </thead>\n",
       "  <tbody>\n",
       "    <tr>\n",
       "      <th>0</th>\n",
       "      <td>20th Century Fox</td>\n",
       "      <td>Big_Studio</td>\n",
       "    </tr>\n",
       "    <tr>\n",
       "      <th>1</th>\n",
       "      <td>20th Century Fox Distribution</td>\n",
       "      <td>Big_Studio</td>\n",
       "    </tr>\n",
       "    <tr>\n",
       "      <th>2</th>\n",
       "      <td>20th Century Fox/Regency Films</td>\n",
       "      <td>Big_Studio</td>\n",
       "    </tr>\n",
       "    <tr>\n",
       "      <th>3</th>\n",
       "      <td>Blue Sky Studio/20th Century Fox</td>\n",
       "      <td>Big_Studio</td>\n",
       "    </tr>\n",
       "    <tr>\n",
       "      <th>4</th>\n",
       "      <td>Fox Atomic</td>\n",
       "      <td>Big_Studio</td>\n",
       "    </tr>\n",
       "  </tbody>\n",
       "</table>\n",
       "</div>"
      ],
      "text/plain": [
       "                        studio_name  new_studio\n",
       "0                  20th Century Fox  Big_Studio\n",
       "1     20th Century Fox Distribution  Big_Studio\n",
       "2    20th Century Fox/Regency Films  Big_Studio\n",
       "3  Blue Sky Studio/20th Century Fox  Big_Studio\n",
       "4                        Fox Atomic  Big_Studio"
      ]
     },
     "execution_count": 26,
     "metadata": {},
     "output_type": "execute_result"
    }
   ],
   "source": [
    "studios.head()"
   ]
  },
  {
   "cell_type": "code",
   "execution_count": 27,
   "metadata": {
    "ExecuteTime": {
     "end_time": "2020-07-10T12:17:47.922119Z",
     "start_time": "2020-07-10T12:17:47.899097Z"
    }
   },
   "outputs": [],
   "source": [
    "final_generos = final_generos.join(studios.set_index('studio_name'), on = 'studio_name')"
   ]
  },
  {
   "cell_type": "code",
   "execution_count": 28,
   "metadata": {
    "ExecuteTime": {
     "end_time": "2020-07-10T12:17:47.943663Z",
     "start_time": "2020-07-10T12:17:47.926161Z"
    }
   },
   "outputs": [],
   "source": [
    "final_generos = final_generos.drop(['studio_name'], axis = 1)"
   ]
  },
  {
   "cell_type": "code",
   "execution_count": 29,
   "metadata": {
    "ExecuteTime": {
     "end_time": "2020-07-10T12:17:47.965824Z",
     "start_time": "2020-07-10T12:17:47.947586Z"
    }
   },
   "outputs": [],
   "source": [
    "studios = pd.get_dummies(final_generos['new_studio'])"
   ]
  },
  {
   "cell_type": "code",
   "execution_count": 30,
   "metadata": {
    "ExecuteTime": {
     "end_time": "2020-07-10T12:17:47.999961Z",
     "start_time": "2020-07-10T12:17:47.970813Z"
    }
   },
   "outputs": [],
   "source": [
    "final_generos_studios = final_generos.join(studios)"
   ]
  },
  {
   "cell_type": "code",
   "execution_count": 31,
   "metadata": {
    "ExecuteTime": {
     "end_time": "2020-07-10T12:17:48.022902Z",
     "start_time": "2020-07-10T12:17:48.003892Z"
    }
   },
   "outputs": [],
   "source": [
    "final_generos_studios = final_generos_studios.drop(['new_studio'], axis = 1)"
   ]
  },
  {
   "cell_type": "code",
   "execution_count": 32,
   "metadata": {
    "ExecuteTime": {
     "end_time": "2020-07-10T12:17:48.083072Z",
     "start_time": "2020-07-10T12:17:48.027895Z"
    }
   },
   "outputs": [
    {
     "name": "stdout",
     "output_type": "stream",
     "text": [
      "<class 'pandas.core.frame.DataFrame'>\n",
      "Int64Index: 1472 entries, 0 to 1489\n",
      "Data columns (total 56 columns):\n",
      " #   Column                     Non-Null Count  Dtype  \n",
      "---  ------                     --------------  -----  \n",
      " 0   tconst                     1472 non-null   object \n",
      " 1   runtimeMinutes             1472 non-null   int64  \n",
      " 2   month                      1472 non-null   float64\n",
      " 3   day                        1472 non-null   float64\n",
      " 4   year                       1472 non-null   int64  \n",
      " 5   FW                         1472 non-null   int64  \n",
      " 6   Worldwide_Gross            1472 non-null   float64\n",
      " 7   Production_Budget          1472 non-null   float64\n",
      " 8   rentability                1472 non-null   float64\n",
      " 9   log_rentability            1472 non-null   float64\n",
      " 10  movie_info                 1472 non-null   object \n",
      " 11  tomatometer_status         1472 non-null   object \n",
      " 12  audience_status            1472 non-null   object \n",
      " 13  audience_avg_rating        1472 non-null   float64\n",
      " 14  negative_perc              1472 non-null   float64\n",
      " 15  positive_perc              1472 non-null   float64\n",
      " 16  NPremium_Indicado          1472 non-null   int64  \n",
      " 17  NPremium_Win               1472 non-null   int64  \n",
      " 18  Premium_Indicado           1472 non-null   int64  \n",
      " 19  Premium_Win                1472 non-null   int64  \n",
      " 20  averageRating              1472 non-null   float64\n",
      " 21  numVotes                   1472 non-null   int64  \n",
      " 22  directors_1_films          1472 non-null   int64  \n",
      " 23  directors_2_films          1472 non-null   int64  \n",
      " 24  directors_1_ratingAverage  1219 non-null   float64\n",
      " 25  directors_2_ratingAverage  77 non-null     float64\n",
      " 26  writer_1_films             1472 non-null   int64  \n",
      " 27  writer_2_films             1472 non-null   int64  \n",
      " 28  writer_1_ratingAverage     1013 non-null   float64\n",
      " 29  writer_2_ratingAverage     651 non-null    float64\n",
      " 30  AvgRating                  1348 non-null   float64\n",
      " 31  numFilmes                  1472 non-null   float64\n",
      " 32  num_crew                   1472 non-null   int64  \n",
      " 33  Adventure_Geral            1472 non-null   uint8  \n",
      " 34  Animation_Geral            1472 non-null   uint8  \n",
      " 35  Biography_Geral            1472 non-null   uint8  \n",
      " 36  Comedy_Geral               1472 non-null   uint8  \n",
      " 37  Crime_Geral                1472 non-null   uint8  \n",
      " 38  Documentary_Geral          1472 non-null   uint8  \n",
      " 39  Drama_Geral                1472 non-null   uint8  \n",
      " 40  Family_Geral               1472 non-null   uint8  \n",
      " 41  Fantasy_Geral              1472 non-null   uint8  \n",
      " 42  History_Geral              1472 non-null   uint8  \n",
      " 43  Horror_Geral               1472 non-null   uint8  \n",
      " 44  Music_Geral                1472 non-null   uint8  \n",
      " 45  Musical_Geral              1472 non-null   uint8  \n",
      " 46  Mystery_Geral              1472 non-null   uint8  \n",
      " 47  Romance_Geral              1472 non-null   uint8  \n",
      " 48  Sci-Fi_Geral               1472 non-null   uint8  \n",
      " 49  Sport_Geral                1472 non-null   uint8  \n",
      " 50  Thriller_Geral             1472 non-null   uint8  \n",
      " 51  War_Geral                  1472 non-null   uint8  \n",
      " 52  Western_Geral              1472 non-null   uint8  \n",
      " 53  Big_Studio                 1472 non-null   uint8  \n",
      " 54  Known_Studio               1472 non-null   uint8  \n",
      " 55  independent                1472 non-null   uint8  \n",
      "dtypes: float64(16), int64(13), object(4), uint8(23)\n",
      "memory usage: 464.1+ KB\n"
     ]
    }
   ],
   "source": [
    "final_generos_studios.info()"
   ]
  },
  {
   "cell_type": "markdown",
   "metadata": {},
   "source": [
    "### Tomatometros"
   ]
  },
  {
   "cell_type": "code",
   "execution_count": 33,
   "metadata": {
    "ExecuteTime": {
     "end_time": "2020-07-10T12:17:48.096658Z",
     "start_time": "2020-07-10T12:17:48.086066Z"
    }
   },
   "outputs": [],
   "source": [
    "tomatometro = pd.get_dummies(final_generos_studios['tomatometer_status'])"
   ]
  },
  {
   "cell_type": "code",
   "execution_count": 34,
   "metadata": {
    "ExecuteTime": {
     "end_time": "2020-07-10T12:17:48.114742Z",
     "start_time": "2020-07-10T12:17:48.100648Z"
    }
   },
   "outputs": [],
   "source": [
    "audiencia_rt = pd.get_dummies(final_generos_studios['audience_status'])"
   ]
  },
  {
   "cell_type": "code",
   "execution_count": 35,
   "metadata": {
    "ExecuteTime": {
     "end_time": "2020-07-10T12:17:48.130625Z",
     "start_time": "2020-07-10T12:17:48.118657Z"
    }
   },
   "outputs": [],
   "source": [
    "rt_dummies = tomatometro.join(audiencia_rt)"
   ]
  },
  {
   "cell_type": "code",
   "execution_count": 36,
   "metadata": {
    "ExecuteTime": {
     "end_time": "2020-07-10T12:17:48.164750Z",
     "start_time": "2020-07-10T12:17:48.134678Z"
    }
   },
   "outputs": [
    {
     "data": {
      "text/html": [
       "<div>\n",
       "<style scoped>\n",
       "    .dataframe tbody tr th:only-of-type {\n",
       "        vertical-align: middle;\n",
       "    }\n",
       "\n",
       "    .dataframe tbody tr th {\n",
       "        vertical-align: top;\n",
       "    }\n",
       "\n",
       "    .dataframe thead th {\n",
       "        text-align: right;\n",
       "    }\n",
       "</style>\n",
       "<table border=\"1\" class=\"dataframe\">\n",
       "  <thead>\n",
       "    <tr style=\"text-align: right;\">\n",
       "      <th></th>\n",
       "      <th>certified_fresh</th>\n",
       "      <th>fresh</th>\n",
       "      <th>rotten</th>\n",
       "      <th>spilled</th>\n",
       "      <th>upright</th>\n",
       "    </tr>\n",
       "  </thead>\n",
       "  <tbody>\n",
       "    <tr>\n",
       "      <th>0</th>\n",
       "      <td>0</td>\n",
       "      <td>0</td>\n",
       "      <td>1</td>\n",
       "      <td>1</td>\n",
       "      <td>0</td>\n",
       "    </tr>\n",
       "    <tr>\n",
       "      <th>1</th>\n",
       "      <td>0</td>\n",
       "      <td>0</td>\n",
       "      <td>1</td>\n",
       "      <td>0</td>\n",
       "      <td>1</td>\n",
       "    </tr>\n",
       "    <tr>\n",
       "      <th>2</th>\n",
       "      <td>1</td>\n",
       "      <td>0</td>\n",
       "      <td>0</td>\n",
       "      <td>0</td>\n",
       "      <td>1</td>\n",
       "    </tr>\n",
       "    <tr>\n",
       "      <th>3</th>\n",
       "      <td>0</td>\n",
       "      <td>0</td>\n",
       "      <td>1</td>\n",
       "      <td>1</td>\n",
       "      <td>0</td>\n",
       "    </tr>\n",
       "    <tr>\n",
       "      <th>4</th>\n",
       "      <td>0</td>\n",
       "      <td>1</td>\n",
       "      <td>0</td>\n",
       "      <td>0</td>\n",
       "      <td>1</td>\n",
       "    </tr>\n",
       "  </tbody>\n",
       "</table>\n",
       "</div>"
      ],
      "text/plain": [
       "   certified_fresh  fresh  rotten  spilled  upright\n",
       "0                0      0       1        1        0\n",
       "1                0      0       1        0        1\n",
       "2                1      0       0        0        1\n",
       "3                0      0       1        1        0\n",
       "4                0      1       0        0        1"
      ]
     },
     "execution_count": 36,
     "metadata": {},
     "output_type": "execute_result"
    }
   ],
   "source": [
    "rt_dummies.head()"
   ]
  },
  {
   "cell_type": "code",
   "execution_count": 37,
   "metadata": {
    "ExecuteTime": {
     "end_time": "2020-07-10T12:17:48.194155Z",
     "start_time": "2020-07-10T12:17:48.169786Z"
    }
   },
   "outputs": [],
   "source": [
    "final_generos_studios_rt = final_generos_studios.join(rt_dummies)"
   ]
  },
  {
   "cell_type": "code",
   "execution_count": 38,
   "metadata": {
    "ExecuteTime": {
     "end_time": "2020-07-10T12:17:48.210075Z",
     "start_time": "2020-07-10T12:17:48.198144Z"
    }
   },
   "outputs": [],
   "source": [
    "#final_generos_studios_rt = final_generos_studios"
   ]
  },
  {
   "cell_type": "code",
   "execution_count": 39,
   "metadata": {
    "ExecuteTime": {
     "end_time": "2020-07-10T12:17:48.239663Z",
     "start_time": "2020-07-10T12:17:48.215122Z"
    }
   },
   "outputs": [],
   "source": [
    "final_generos_studios_rt = final_generos_studios_rt.drop(['tomatometer_status','audience_status'], axis = 1)"
   ]
  },
  {
   "cell_type": "markdown",
   "metadata": {},
   "source": [
    "### Visualização Final"
   ]
  },
  {
   "cell_type": "code",
   "execution_count": 40,
   "metadata": {
    "ExecuteTime": {
     "end_time": "2020-07-10T12:17:48.311065Z",
     "start_time": "2020-07-10T12:17:48.244649Z"
    }
   },
   "outputs": [
    {
     "name": "stdout",
     "output_type": "stream",
     "text": [
      "<class 'pandas.core.frame.DataFrame'>\n",
      "Int64Index: 1472 entries, 0 to 1489\n",
      "Data columns (total 59 columns):\n",
      " #   Column                     Non-Null Count  Dtype  \n",
      "---  ------                     --------------  -----  \n",
      " 0   tconst                     1472 non-null   object \n",
      " 1   runtimeMinutes             1472 non-null   int64  \n",
      " 2   month                      1472 non-null   float64\n",
      " 3   day                        1472 non-null   float64\n",
      " 4   year                       1472 non-null   int64  \n",
      " 5   FW                         1472 non-null   int64  \n",
      " 6   Worldwide_Gross            1472 non-null   float64\n",
      " 7   Production_Budget          1472 non-null   float64\n",
      " 8   rentability                1472 non-null   float64\n",
      " 9   log_rentability            1472 non-null   float64\n",
      " 10  movie_info                 1472 non-null   object \n",
      " 11  audience_avg_rating        1472 non-null   float64\n",
      " 12  negative_perc              1472 non-null   float64\n",
      " 13  positive_perc              1472 non-null   float64\n",
      " 14  NPremium_Indicado          1472 non-null   int64  \n",
      " 15  NPremium_Win               1472 non-null   int64  \n",
      " 16  Premium_Indicado           1472 non-null   int64  \n",
      " 17  Premium_Win                1472 non-null   int64  \n",
      " 18  averageRating              1472 non-null   float64\n",
      " 19  numVotes                   1472 non-null   int64  \n",
      " 20  directors_1_films          1472 non-null   int64  \n",
      " 21  directors_2_films          1472 non-null   int64  \n",
      " 22  directors_1_ratingAverage  1219 non-null   float64\n",
      " 23  directors_2_ratingAverage  77 non-null     float64\n",
      " 24  writer_1_films             1472 non-null   int64  \n",
      " 25  writer_2_films             1472 non-null   int64  \n",
      " 26  writer_1_ratingAverage     1013 non-null   float64\n",
      " 27  writer_2_ratingAverage     651 non-null    float64\n",
      " 28  AvgRating                  1348 non-null   float64\n",
      " 29  numFilmes                  1472 non-null   float64\n",
      " 30  num_crew                   1472 non-null   int64  \n",
      " 31  Adventure_Geral            1472 non-null   uint8  \n",
      " 32  Animation_Geral            1472 non-null   uint8  \n",
      " 33  Biography_Geral            1472 non-null   uint8  \n",
      " 34  Comedy_Geral               1472 non-null   uint8  \n",
      " 35  Crime_Geral                1472 non-null   uint8  \n",
      " 36  Documentary_Geral          1472 non-null   uint8  \n",
      " 37  Drama_Geral                1472 non-null   uint8  \n",
      " 38  Family_Geral               1472 non-null   uint8  \n",
      " 39  Fantasy_Geral              1472 non-null   uint8  \n",
      " 40  History_Geral              1472 non-null   uint8  \n",
      " 41  Horror_Geral               1472 non-null   uint8  \n",
      " 42  Music_Geral                1472 non-null   uint8  \n",
      " 43  Musical_Geral              1472 non-null   uint8  \n",
      " 44  Mystery_Geral              1472 non-null   uint8  \n",
      " 45  Romance_Geral              1472 non-null   uint8  \n",
      " 46  Sci-Fi_Geral               1472 non-null   uint8  \n",
      " 47  Sport_Geral                1472 non-null   uint8  \n",
      " 48  Thriller_Geral             1472 non-null   uint8  \n",
      " 49  War_Geral                  1472 non-null   uint8  \n",
      " 50  Western_Geral              1472 non-null   uint8  \n",
      " 51  Big_Studio                 1472 non-null   uint8  \n",
      " 52  Known_Studio               1472 non-null   uint8  \n",
      " 53  independent                1472 non-null   uint8  \n",
      " 54  certified_fresh            1472 non-null   uint8  \n",
      " 55  fresh                      1472 non-null   uint8  \n",
      " 56  rotten                     1472 non-null   uint8  \n",
      " 57  spilled                    1472 non-null   uint8  \n",
      " 58  upright                    1472 non-null   uint8  \n",
      "dtypes: float64(16), int64(13), object(2), uint8(28)\n",
      "memory usage: 448.2+ KB\n"
     ]
    }
   ],
   "source": [
    "final_generos_studios_rt.info()"
   ]
  },
  {
   "cell_type": "code",
   "execution_count": 41,
   "metadata": {
    "ExecuteTime": {
     "end_time": "2020-07-10T12:17:48.381651Z",
     "start_time": "2020-07-10T12:17:48.315288Z"
    }
   },
   "outputs": [
    {
     "data": {
      "text/html": [
       "<div>\n",
       "<style scoped>\n",
       "    .dataframe tbody tr th:only-of-type {\n",
       "        vertical-align: middle;\n",
       "    }\n",
       "\n",
       "    .dataframe tbody tr th {\n",
       "        vertical-align: top;\n",
       "    }\n",
       "\n",
       "    .dataframe thead th {\n",
       "        text-align: right;\n",
       "    }\n",
       "</style>\n",
       "<table border=\"1\" class=\"dataframe\">\n",
       "  <thead>\n",
       "    <tr style=\"text-align: right;\">\n",
       "      <th></th>\n",
       "      <th>0</th>\n",
       "      <th>1</th>\n",
       "      <th>2</th>\n",
       "      <th>3</th>\n",
       "      <th>4</th>\n",
       "    </tr>\n",
       "  </thead>\n",
       "  <tbody>\n",
       "    <tr>\n",
       "      <th>tconst</th>\n",
       "      <td>tt0118589</td>\n",
       "      <td>tt0120681</td>\n",
       "      <td>tt0120737</td>\n",
       "      <td>tt0120755</td>\n",
       "      <td>tt0122459</td>\n",
       "    </tr>\n",
       "    <tr>\n",
       "      <th>runtimeMinutes</th>\n",
       "      <td>104</td>\n",
       "      <td>122</td>\n",
       "      <td>178</td>\n",
       "      <td>123</td>\n",
       "      <td>115</td>\n",
       "    </tr>\n",
       "    <tr>\n",
       "      <th>month</th>\n",
       "      <td>9</td>\n",
       "      <td>10</td>\n",
       "      <td>12</td>\n",
       "      <td>5</td>\n",
       "      <td>4</td>\n",
       "    </tr>\n",
       "    <tr>\n",
       "      <th>day</th>\n",
       "      <td>21</td>\n",
       "      <td>19</td>\n",
       "      <td>19</td>\n",
       "      <td>24</td>\n",
       "      <td>7</td>\n",
       "    </tr>\n",
       "    <tr>\n",
       "      <th>year</th>\n",
       "      <td>2001</td>\n",
       "      <td>2001</td>\n",
       "      <td>2001</td>\n",
       "      <td>2000</td>\n",
       "      <td>2000</td>\n",
       "    </tr>\n",
       "    <tr>\n",
       "      <th>FW</th>\n",
       "      <td>38</td>\n",
       "      <td>42</td>\n",
       "      <td>51</td>\n",
       "      <td>21</td>\n",
       "      <td>14</td>\n",
       "    </tr>\n",
       "    <tr>\n",
       "      <th>Worldwide_Gross</th>\n",
       "      <td>4.27337e+06</td>\n",
       "      <td>6.87124e+07</td>\n",
       "      <td>8.87211e+08</td>\n",
       "      <td>5.49589e+08</td>\n",
       "      <td>3.26623e+07</td>\n",
       "    </tr>\n",
       "    <tr>\n",
       "      <th>Production_Budget</th>\n",
       "      <td>8.5e+06</td>\n",
       "      <td>3.5e+07</td>\n",
       "      <td>1.09e+08</td>\n",
       "      <td>1.2e+08</td>\n",
       "      <td>2.4e+07</td>\n",
       "    </tr>\n",
       "    <tr>\n",
       "      <th>rentability</th>\n",
       "      <td>0.50275</td>\n",
       "      <td>1.96321</td>\n",
       "      <td>8.13955</td>\n",
       "      <td>4.5799</td>\n",
       "      <td>1.36093</td>\n",
       "    </tr>\n",
       "    <tr>\n",
       "      <th>log_rentability</th>\n",
       "      <td>-0.687663</td>\n",
       "      <td>0.674581</td>\n",
       "      <td>2.09673</td>\n",
       "      <td>1.52168</td>\n",
       "      <td>0.308168</td>\n",
       "    </tr>\n",
       "    <tr>\n",
       "      <th>movie_info</th>\n",
       "      <td>The story of a gifted young singer, Billie Fra...</td>\n",
       "      <td>The true-life horror story of Jack the Ripper ...</td>\n",
       "      <td>Assisted by a Fellowship of heroes, Frodo Bagg...</td>\n",
       "      <td>Director John Woo brings Hong Kong-style marti...</td>\n",
       "      <td>Return To Me is an endearing romantic comedy i...</td>\n",
       "    </tr>\n",
       "    <tr>\n",
       "      <th>audience_avg_rating</th>\n",
       "      <td>2.94</td>\n",
       "      <td>3.58</td>\n",
       "      <td>4.12</td>\n",
       "      <td>3.06</td>\n",
       "      <td>4.04</td>\n",
       "    </tr>\n",
       "    <tr>\n",
       "      <th>negative_perc</th>\n",
       "      <td>53.5714</td>\n",
       "      <td>33.3333</td>\n",
       "      <td>18.3406</td>\n",
       "      <td>43.75</td>\n",
       "      <td>22.0779</td>\n",
       "    </tr>\n",
       "    <tr>\n",
       "      <th>positive_perc</th>\n",
       "      <td>46.4286</td>\n",
       "      <td>66.6667</td>\n",
       "      <td>81.6594</td>\n",
       "      <td>56.25</td>\n",
       "      <td>77.9221</td>\n",
       "    </tr>\n",
       "    <tr>\n",
       "      <th>NPremium_Indicado</th>\n",
       "      <td>0</td>\n",
       "      <td>0</td>\n",
       "      <td>6</td>\n",
       "      <td>0</td>\n",
       "      <td>0</td>\n",
       "    </tr>\n",
       "    <tr>\n",
       "      <th>NPremium_Win</th>\n",
       "      <td>0</td>\n",
       "      <td>0</td>\n",
       "      <td>4</td>\n",
       "      <td>0</td>\n",
       "      <td>0</td>\n",
       "    </tr>\n",
       "    <tr>\n",
       "      <th>Premium_Indicado</th>\n",
       "      <td>0</td>\n",
       "      <td>0</td>\n",
       "      <td>3</td>\n",
       "      <td>0</td>\n",
       "      <td>0</td>\n",
       "    </tr>\n",
       "    <tr>\n",
       "      <th>Premium_Win</th>\n",
       "      <td>0</td>\n",
       "      <td>0</td>\n",
       "      <td>0</td>\n",
       "      <td>0</td>\n",
       "      <td>0</td>\n",
       "    </tr>\n",
       "    <tr>\n",
       "      <th>averageRating</th>\n",
       "      <td>2.2</td>\n",
       "      <td>6.8</td>\n",
       "      <td>8.8</td>\n",
       "      <td>6.1</td>\n",
       "      <td>6.9</td>\n",
       "    </tr>\n",
       "    <tr>\n",
       "      <th>numVotes</th>\n",
       "      <td>21167</td>\n",
       "      <td>143578</td>\n",
       "      <td>1598647</td>\n",
       "      <td>304492</td>\n",
       "      <td>19168</td>\n",
       "    </tr>\n",
       "    <tr>\n",
       "      <th>directors_1_films</th>\n",
       "      <td>1</td>\n",
       "      <td>3</td>\n",
       "      <td>5</td>\n",
       "      <td>24</td>\n",
       "      <td>0</td>\n",
       "    </tr>\n",
       "    <tr>\n",
       "      <th>directors_2_films</th>\n",
       "      <td>0</td>\n",
       "      <td>3</td>\n",
       "      <td>0</td>\n",
       "      <td>0</td>\n",
       "      <td>0</td>\n",
       "    </tr>\n",
       "    <tr>\n",
       "      <th>directors_1_ratingAverage</th>\n",
       "      <td>6.9</td>\n",
       "      <td>7.31</td>\n",
       "      <td>7.16</td>\n",
       "      <td>7.11</td>\n",
       "      <td>NaN</td>\n",
       "    </tr>\n",
       "    <tr>\n",
       "      <th>directors_2_ratingAverage</th>\n",
       "      <td>NaN</td>\n",
       "      <td>7.31</td>\n",
       "      <td>NaN</td>\n",
       "      <td>NaN</td>\n",
       "      <td>NaN</td>\n",
       "    </tr>\n",
       "    <tr>\n",
       "      <th>writer_1_films</th>\n",
       "      <td>0</td>\n",
       "      <td>0</td>\n",
       "      <td>0</td>\n",
       "      <td>3</td>\n",
       "      <td>0</td>\n",
       "    </tr>\n",
       "    <tr>\n",
       "      <th>writer_2_films</th>\n",
       "      <td>1</td>\n",
       "      <td>0</td>\n",
       "      <td>4</td>\n",
       "      <td>0</td>\n",
       "      <td>0</td>\n",
       "    </tr>\n",
       "    <tr>\n",
       "      <th>writer_1_ratingAverage</th>\n",
       "      <td>NaN</td>\n",
       "      <td>NaN</td>\n",
       "      <td>NaN</td>\n",
       "      <td>7.09957</td>\n",
       "      <td>NaN</td>\n",
       "    </tr>\n",
       "    <tr>\n",
       "      <th>writer_2_ratingAverage</th>\n",
       "      <td>6.9</td>\n",
       "      <td>NaN</td>\n",
       "      <td>7.26298</td>\n",
       "      <td>NaN</td>\n",
       "      <td>NaN</td>\n",
       "    </tr>\n",
       "    <tr>\n",
       "      <th>AvgRating</th>\n",
       "      <td>5.8</td>\n",
       "      <td>6.25821</td>\n",
       "      <td>6.53333</td>\n",
       "      <td>NaN</td>\n",
       "      <td>NaN</td>\n",
       "    </tr>\n",
       "    <tr>\n",
       "      <th>numFilmes</th>\n",
       "      <td>0.25</td>\n",
       "      <td>1</td>\n",
       "      <td>0.75</td>\n",
       "      <td>0</td>\n",
       "      <td>0</td>\n",
       "    </tr>\n",
       "    <tr>\n",
       "      <th>num_crew</th>\n",
       "      <td>10</td>\n",
       "      <td>10</td>\n",
       "      <td>10</td>\n",
       "      <td>10</td>\n",
       "      <td>10</td>\n",
       "    </tr>\n",
       "    <tr>\n",
       "      <th>Adventure_Geral</th>\n",
       "      <td>0</td>\n",
       "      <td>0</td>\n",
       "      <td>1</td>\n",
       "      <td>1</td>\n",
       "      <td>0</td>\n",
       "    </tr>\n",
       "    <tr>\n",
       "      <th>Animation_Geral</th>\n",
       "      <td>0</td>\n",
       "      <td>0</td>\n",
       "      <td>0</td>\n",
       "      <td>0</td>\n",
       "      <td>0</td>\n",
       "    </tr>\n",
       "    <tr>\n",
       "      <th>Biography_Geral</th>\n",
       "      <td>0</td>\n",
       "      <td>0</td>\n",
       "      <td>0</td>\n",
       "      <td>0</td>\n",
       "      <td>0</td>\n",
       "    </tr>\n",
       "    <tr>\n",
       "      <th>Comedy_Geral</th>\n",
       "      <td>0</td>\n",
       "      <td>0</td>\n",
       "      <td>0</td>\n",
       "      <td>0</td>\n",
       "      <td>1</td>\n",
       "    </tr>\n",
       "    <tr>\n",
       "      <th>Crime_Geral</th>\n",
       "      <td>0</td>\n",
       "      <td>0</td>\n",
       "      <td>0</td>\n",
       "      <td>0</td>\n",
       "      <td>0</td>\n",
       "    </tr>\n",
       "    <tr>\n",
       "      <th>Documentary_Geral</th>\n",
       "      <td>0</td>\n",
       "      <td>0</td>\n",
       "      <td>0</td>\n",
       "      <td>0</td>\n",
       "      <td>0</td>\n",
       "    </tr>\n",
       "    <tr>\n",
       "      <th>Drama_Geral</th>\n",
       "      <td>1</td>\n",
       "      <td>0</td>\n",
       "      <td>1</td>\n",
       "      <td>0</td>\n",
       "      <td>1</td>\n",
       "    </tr>\n",
       "    <tr>\n",
       "      <th>Family_Geral</th>\n",
       "      <td>0</td>\n",
       "      <td>0</td>\n",
       "      <td>0</td>\n",
       "      <td>0</td>\n",
       "      <td>0</td>\n",
       "    </tr>\n",
       "    <tr>\n",
       "      <th>Fantasy_Geral</th>\n",
       "      <td>0</td>\n",
       "      <td>0</td>\n",
       "      <td>0</td>\n",
       "      <td>0</td>\n",
       "      <td>0</td>\n",
       "    </tr>\n",
       "    <tr>\n",
       "      <th>History_Geral</th>\n",
       "      <td>0</td>\n",
       "      <td>0</td>\n",
       "      <td>0</td>\n",
       "      <td>0</td>\n",
       "      <td>0</td>\n",
       "    </tr>\n",
       "    <tr>\n",
       "      <th>Horror_Geral</th>\n",
       "      <td>0</td>\n",
       "      <td>1</td>\n",
       "      <td>0</td>\n",
       "      <td>0</td>\n",
       "      <td>0</td>\n",
       "    </tr>\n",
       "    <tr>\n",
       "      <th>Music_Geral</th>\n",
       "      <td>1</td>\n",
       "      <td>0</td>\n",
       "      <td>0</td>\n",
       "      <td>0</td>\n",
       "      <td>0</td>\n",
       "    </tr>\n",
       "    <tr>\n",
       "      <th>Musical_Geral</th>\n",
       "      <td>0</td>\n",
       "      <td>0</td>\n",
       "      <td>0</td>\n",
       "      <td>0</td>\n",
       "      <td>0</td>\n",
       "    </tr>\n",
       "    <tr>\n",
       "      <th>Mystery_Geral</th>\n",
       "      <td>0</td>\n",
       "      <td>1</td>\n",
       "      <td>0</td>\n",
       "      <td>0</td>\n",
       "      <td>0</td>\n",
       "    </tr>\n",
       "    <tr>\n",
       "      <th>Romance_Geral</th>\n",
       "      <td>1</td>\n",
       "      <td>0</td>\n",
       "      <td>0</td>\n",
       "      <td>0</td>\n",
       "      <td>1</td>\n",
       "    </tr>\n",
       "    <tr>\n",
       "      <th>Sci-Fi_Geral</th>\n",
       "      <td>0</td>\n",
       "      <td>0</td>\n",
       "      <td>0</td>\n",
       "      <td>0</td>\n",
       "      <td>0</td>\n",
       "    </tr>\n",
       "    <tr>\n",
       "      <th>Sport_Geral</th>\n",
       "      <td>0</td>\n",
       "      <td>0</td>\n",
       "      <td>0</td>\n",
       "      <td>0</td>\n",
       "      <td>0</td>\n",
       "    </tr>\n",
       "    <tr>\n",
       "      <th>Thriller_Geral</th>\n",
       "      <td>0</td>\n",
       "      <td>1</td>\n",
       "      <td>0</td>\n",
       "      <td>1</td>\n",
       "      <td>0</td>\n",
       "    </tr>\n",
       "    <tr>\n",
       "      <th>War_Geral</th>\n",
       "      <td>0</td>\n",
       "      <td>0</td>\n",
       "      <td>0</td>\n",
       "      <td>0</td>\n",
       "      <td>0</td>\n",
       "    </tr>\n",
       "    <tr>\n",
       "      <th>Western_Geral</th>\n",
       "      <td>0</td>\n",
       "      <td>0</td>\n",
       "      <td>0</td>\n",
       "      <td>0</td>\n",
       "      <td>0</td>\n",
       "    </tr>\n",
       "    <tr>\n",
       "      <th>Big_Studio</th>\n",
       "      <td>1</td>\n",
       "      <td>1</td>\n",
       "      <td>0</td>\n",
       "      <td>1</td>\n",
       "      <td>1</td>\n",
       "    </tr>\n",
       "    <tr>\n",
       "      <th>Known_Studio</th>\n",
       "      <td>0</td>\n",
       "      <td>0</td>\n",
       "      <td>1</td>\n",
       "      <td>0</td>\n",
       "      <td>0</td>\n",
       "    </tr>\n",
       "    <tr>\n",
       "      <th>independent</th>\n",
       "      <td>0</td>\n",
       "      <td>0</td>\n",
       "      <td>0</td>\n",
       "      <td>0</td>\n",
       "      <td>0</td>\n",
       "    </tr>\n",
       "    <tr>\n",
       "      <th>certified_fresh</th>\n",
       "      <td>0</td>\n",
       "      <td>0</td>\n",
       "      <td>1</td>\n",
       "      <td>0</td>\n",
       "      <td>0</td>\n",
       "    </tr>\n",
       "    <tr>\n",
       "      <th>fresh</th>\n",
       "      <td>0</td>\n",
       "      <td>0</td>\n",
       "      <td>0</td>\n",
       "      <td>0</td>\n",
       "      <td>1</td>\n",
       "    </tr>\n",
       "    <tr>\n",
       "      <th>rotten</th>\n",
       "      <td>1</td>\n",
       "      <td>1</td>\n",
       "      <td>0</td>\n",
       "      <td>1</td>\n",
       "      <td>0</td>\n",
       "    </tr>\n",
       "    <tr>\n",
       "      <th>spilled</th>\n",
       "      <td>1</td>\n",
       "      <td>0</td>\n",
       "      <td>0</td>\n",
       "      <td>1</td>\n",
       "      <td>0</td>\n",
       "    </tr>\n",
       "    <tr>\n",
       "      <th>upright</th>\n",
       "      <td>0</td>\n",
       "      <td>1</td>\n",
       "      <td>1</td>\n",
       "      <td>0</td>\n",
       "      <td>1</td>\n",
       "    </tr>\n",
       "  </tbody>\n",
       "</table>\n",
       "</div>"
      ],
      "text/plain": [
       "                                                                           0  \\\n",
       "tconst                                                             tt0118589   \n",
       "runtimeMinutes                                                           104   \n",
       "month                                                                      9   \n",
       "day                                                                       21   \n",
       "year                                                                    2001   \n",
       "FW                                                                        38   \n",
       "Worldwide_Gross                                                  4.27337e+06   \n",
       "Production_Budget                                                    8.5e+06   \n",
       "rentability                                                          0.50275   \n",
       "log_rentability                                                    -0.687663   \n",
       "movie_info                 The story of a gifted young singer, Billie Fra...   \n",
       "audience_avg_rating                                                     2.94   \n",
       "negative_perc                                                        53.5714   \n",
       "positive_perc                                                        46.4286   \n",
       "NPremium_Indicado                                                          0   \n",
       "NPremium_Win                                                               0   \n",
       "Premium_Indicado                                                           0   \n",
       "Premium_Win                                                                0   \n",
       "averageRating                                                            2.2   \n",
       "numVotes                                                               21167   \n",
       "directors_1_films                                                          1   \n",
       "directors_2_films                                                          0   \n",
       "directors_1_ratingAverage                                                6.9   \n",
       "directors_2_ratingAverage                                                NaN   \n",
       "writer_1_films                                                             0   \n",
       "writer_2_films                                                             1   \n",
       "writer_1_ratingAverage                                                   NaN   \n",
       "writer_2_ratingAverage                                                   6.9   \n",
       "AvgRating                                                                5.8   \n",
       "numFilmes                                                               0.25   \n",
       "num_crew                                                                  10   \n",
       "Adventure_Geral                                                            0   \n",
       "Animation_Geral                                                            0   \n",
       "Biography_Geral                                                            0   \n",
       "Comedy_Geral                                                               0   \n",
       "Crime_Geral                                                                0   \n",
       "Documentary_Geral                                                          0   \n",
       "Drama_Geral                                                                1   \n",
       "Family_Geral                                                               0   \n",
       "Fantasy_Geral                                                              0   \n",
       "History_Geral                                                              0   \n",
       "Horror_Geral                                                               0   \n",
       "Music_Geral                                                                1   \n",
       "Musical_Geral                                                              0   \n",
       "Mystery_Geral                                                              0   \n",
       "Romance_Geral                                                              1   \n",
       "Sci-Fi_Geral                                                               0   \n",
       "Sport_Geral                                                                0   \n",
       "Thriller_Geral                                                             0   \n",
       "War_Geral                                                                  0   \n",
       "Western_Geral                                                              0   \n",
       "Big_Studio                                                                 1   \n",
       "Known_Studio                                                               0   \n",
       "independent                                                                0   \n",
       "certified_fresh                                                            0   \n",
       "fresh                                                                      0   \n",
       "rotten                                                                     1   \n",
       "spilled                                                                    1   \n",
       "upright                                                                    0   \n",
       "\n",
       "                                                                           1  \\\n",
       "tconst                                                             tt0120681   \n",
       "runtimeMinutes                                                           122   \n",
       "month                                                                     10   \n",
       "day                                                                       19   \n",
       "year                                                                    2001   \n",
       "FW                                                                        42   \n",
       "Worldwide_Gross                                                  6.87124e+07   \n",
       "Production_Budget                                                    3.5e+07   \n",
       "rentability                                                          1.96321   \n",
       "log_rentability                                                     0.674581   \n",
       "movie_info                 The true-life horror story of Jack the Ripper ...   \n",
       "audience_avg_rating                                                     3.58   \n",
       "negative_perc                                                        33.3333   \n",
       "positive_perc                                                        66.6667   \n",
       "NPremium_Indicado                                                          0   \n",
       "NPremium_Win                                                               0   \n",
       "Premium_Indicado                                                           0   \n",
       "Premium_Win                                                                0   \n",
       "averageRating                                                            6.8   \n",
       "numVotes                                                              143578   \n",
       "directors_1_films                                                          3   \n",
       "directors_2_films                                                          3   \n",
       "directors_1_ratingAverage                                               7.31   \n",
       "directors_2_ratingAverage                                               7.31   \n",
       "writer_1_films                                                             0   \n",
       "writer_2_films                                                             0   \n",
       "writer_1_ratingAverage                                                   NaN   \n",
       "writer_2_ratingAverage                                                   NaN   \n",
       "AvgRating                                                            6.25821   \n",
       "numFilmes                                                                  1   \n",
       "num_crew                                                                  10   \n",
       "Adventure_Geral                                                            0   \n",
       "Animation_Geral                                                            0   \n",
       "Biography_Geral                                                            0   \n",
       "Comedy_Geral                                                               0   \n",
       "Crime_Geral                                                                0   \n",
       "Documentary_Geral                                                          0   \n",
       "Drama_Geral                                                                0   \n",
       "Family_Geral                                                               0   \n",
       "Fantasy_Geral                                                              0   \n",
       "History_Geral                                                              0   \n",
       "Horror_Geral                                                               1   \n",
       "Music_Geral                                                                0   \n",
       "Musical_Geral                                                              0   \n",
       "Mystery_Geral                                                              1   \n",
       "Romance_Geral                                                              0   \n",
       "Sci-Fi_Geral                                                               0   \n",
       "Sport_Geral                                                                0   \n",
       "Thriller_Geral                                                             1   \n",
       "War_Geral                                                                  0   \n",
       "Western_Geral                                                              0   \n",
       "Big_Studio                                                                 1   \n",
       "Known_Studio                                                               0   \n",
       "independent                                                                0   \n",
       "certified_fresh                                                            0   \n",
       "fresh                                                                      0   \n",
       "rotten                                                                     1   \n",
       "spilled                                                                    0   \n",
       "upright                                                                    1   \n",
       "\n",
       "                                                                           2  \\\n",
       "tconst                                                             tt0120737   \n",
       "runtimeMinutes                                                           178   \n",
       "month                                                                     12   \n",
       "day                                                                       19   \n",
       "year                                                                    2001   \n",
       "FW                                                                        51   \n",
       "Worldwide_Gross                                                  8.87211e+08   \n",
       "Production_Budget                                                   1.09e+08   \n",
       "rentability                                                          8.13955   \n",
       "log_rentability                                                      2.09673   \n",
       "movie_info                 Assisted by a Fellowship of heroes, Frodo Bagg...   \n",
       "audience_avg_rating                                                     4.12   \n",
       "negative_perc                                                        18.3406   \n",
       "positive_perc                                                        81.6594   \n",
       "NPremium_Indicado                                                          6   \n",
       "NPremium_Win                                                               4   \n",
       "Premium_Indicado                                                           3   \n",
       "Premium_Win                                                                0   \n",
       "averageRating                                                            8.8   \n",
       "numVotes                                                             1598647   \n",
       "directors_1_films                                                          5   \n",
       "directors_2_films                                                          0   \n",
       "directors_1_ratingAverage                                               7.16   \n",
       "directors_2_ratingAverage                                                NaN   \n",
       "writer_1_films                                                             0   \n",
       "writer_2_films                                                             4   \n",
       "writer_1_ratingAverage                                                   NaN   \n",
       "writer_2_ratingAverage                                               7.26298   \n",
       "AvgRating                                                            6.53333   \n",
       "numFilmes                                                               0.75   \n",
       "num_crew                                                                  10   \n",
       "Adventure_Geral                                                            1   \n",
       "Animation_Geral                                                            0   \n",
       "Biography_Geral                                                            0   \n",
       "Comedy_Geral                                                               0   \n",
       "Crime_Geral                                                                0   \n",
       "Documentary_Geral                                                          0   \n",
       "Drama_Geral                                                                1   \n",
       "Family_Geral                                                               0   \n",
       "Fantasy_Geral                                                              0   \n",
       "History_Geral                                                              0   \n",
       "Horror_Geral                                                               0   \n",
       "Music_Geral                                                                0   \n",
       "Musical_Geral                                                              0   \n",
       "Mystery_Geral                                                              0   \n",
       "Romance_Geral                                                              0   \n",
       "Sci-Fi_Geral                                                               0   \n",
       "Sport_Geral                                                                0   \n",
       "Thriller_Geral                                                             0   \n",
       "War_Geral                                                                  0   \n",
       "Western_Geral                                                              0   \n",
       "Big_Studio                                                                 0   \n",
       "Known_Studio                                                               1   \n",
       "independent                                                                0   \n",
       "certified_fresh                                                            1   \n",
       "fresh                                                                      0   \n",
       "rotten                                                                     0   \n",
       "spilled                                                                    0   \n",
       "upright                                                                    1   \n",
       "\n",
       "                                                                           3  \\\n",
       "tconst                                                             tt0120755   \n",
       "runtimeMinutes                                                           123   \n",
       "month                                                                      5   \n",
       "day                                                                       24   \n",
       "year                                                                    2000   \n",
       "FW                                                                        21   \n",
       "Worldwide_Gross                                                  5.49589e+08   \n",
       "Production_Budget                                                    1.2e+08   \n",
       "rentability                                                           4.5799   \n",
       "log_rentability                                                      1.52168   \n",
       "movie_info                 Director John Woo brings Hong Kong-style marti...   \n",
       "audience_avg_rating                                                     3.06   \n",
       "negative_perc                                                          43.75   \n",
       "positive_perc                                                          56.25   \n",
       "NPremium_Indicado                                                          0   \n",
       "NPremium_Win                                                               0   \n",
       "Premium_Indicado                                                           0   \n",
       "Premium_Win                                                                0   \n",
       "averageRating                                                            6.1   \n",
       "numVotes                                                              304492   \n",
       "directors_1_films                                                         24   \n",
       "directors_2_films                                                          0   \n",
       "directors_1_ratingAverage                                               7.11   \n",
       "directors_2_ratingAverage                                                NaN   \n",
       "writer_1_films                                                             3   \n",
       "writer_2_films                                                             0   \n",
       "writer_1_ratingAverage                                               7.09957   \n",
       "writer_2_ratingAverage                                                   NaN   \n",
       "AvgRating                                                                NaN   \n",
       "numFilmes                                                                  0   \n",
       "num_crew                                                                  10   \n",
       "Adventure_Geral                                                            1   \n",
       "Animation_Geral                                                            0   \n",
       "Biography_Geral                                                            0   \n",
       "Comedy_Geral                                                               0   \n",
       "Crime_Geral                                                                0   \n",
       "Documentary_Geral                                                          0   \n",
       "Drama_Geral                                                                0   \n",
       "Family_Geral                                                               0   \n",
       "Fantasy_Geral                                                              0   \n",
       "History_Geral                                                              0   \n",
       "Horror_Geral                                                               0   \n",
       "Music_Geral                                                                0   \n",
       "Musical_Geral                                                              0   \n",
       "Mystery_Geral                                                              0   \n",
       "Romance_Geral                                                              0   \n",
       "Sci-Fi_Geral                                                               0   \n",
       "Sport_Geral                                                                0   \n",
       "Thriller_Geral                                                             1   \n",
       "War_Geral                                                                  0   \n",
       "Western_Geral                                                              0   \n",
       "Big_Studio                                                                 1   \n",
       "Known_Studio                                                               0   \n",
       "independent                                                                0   \n",
       "certified_fresh                                                            0   \n",
       "fresh                                                                      0   \n",
       "rotten                                                                     1   \n",
       "spilled                                                                    1   \n",
       "upright                                                                    0   \n",
       "\n",
       "                                                                           4  \n",
       "tconst                                                             tt0122459  \n",
       "runtimeMinutes                                                           115  \n",
       "month                                                                      4  \n",
       "day                                                                        7  \n",
       "year                                                                    2000  \n",
       "FW                                                                        14  \n",
       "Worldwide_Gross                                                  3.26623e+07  \n",
       "Production_Budget                                                    2.4e+07  \n",
       "rentability                                                          1.36093  \n",
       "log_rentability                                                     0.308168  \n",
       "movie_info                 Return To Me is an endearing romantic comedy i...  \n",
       "audience_avg_rating                                                     4.04  \n",
       "negative_perc                                                        22.0779  \n",
       "positive_perc                                                        77.9221  \n",
       "NPremium_Indicado                                                          0  \n",
       "NPremium_Win                                                               0  \n",
       "Premium_Indicado                                                           0  \n",
       "Premium_Win                                                                0  \n",
       "averageRating                                                            6.9  \n",
       "numVotes                                                               19168  \n",
       "directors_1_films                                                          0  \n",
       "directors_2_films                                                          0  \n",
       "directors_1_ratingAverage                                                NaN  \n",
       "directors_2_ratingAverage                                                NaN  \n",
       "writer_1_films                                                             0  \n",
       "writer_2_films                                                             0  \n",
       "writer_1_ratingAverage                                                   NaN  \n",
       "writer_2_ratingAverage                                                   NaN  \n",
       "AvgRating                                                                NaN  \n",
       "numFilmes                                                                  0  \n",
       "num_crew                                                                  10  \n",
       "Adventure_Geral                                                            0  \n",
       "Animation_Geral                                                            0  \n",
       "Biography_Geral                                                            0  \n",
       "Comedy_Geral                                                               1  \n",
       "Crime_Geral                                                                0  \n",
       "Documentary_Geral                                                          0  \n",
       "Drama_Geral                                                                1  \n",
       "Family_Geral                                                               0  \n",
       "Fantasy_Geral                                                              0  \n",
       "History_Geral                                                              0  \n",
       "Horror_Geral                                                               0  \n",
       "Music_Geral                                                                0  \n",
       "Musical_Geral                                                              0  \n",
       "Mystery_Geral                                                              0  \n",
       "Romance_Geral                                                              1  \n",
       "Sci-Fi_Geral                                                               0  \n",
       "Sport_Geral                                                                0  \n",
       "Thriller_Geral                                                             0  \n",
       "War_Geral                                                                  0  \n",
       "Western_Geral                                                              0  \n",
       "Big_Studio                                                                 1  \n",
       "Known_Studio                                                               0  \n",
       "independent                                                                0  \n",
       "certified_fresh                                                            0  \n",
       "fresh                                                                      1  \n",
       "rotten                                                                     0  \n",
       "spilled                                                                    0  \n",
       "upright                                                                    1  "
      ]
     },
     "execution_count": 41,
     "metadata": {},
     "output_type": "execute_result"
    }
   ],
   "source": [
    "final_generos_studios_rt.head().T"
   ]
  },
  {
   "cell_type": "code",
   "execution_count": 42,
   "metadata": {
    "ExecuteTime": {
     "end_time": "2020-07-10T12:17:49.252654Z",
     "start_time": "2020-07-10T12:17:48.385744Z"
    }
   },
   "outputs": [
    {
     "data": {
      "text/plain": [
       "<matplotlib.axes._subplots.AxesSubplot at 0x24630db58c8>"
      ]
     },
     "execution_count": 42,
     "metadata": {},
     "output_type": "execute_result"
    },
    {
     "data": {
      "image/png": "[encoded data removed]",
      "text/plain": [
       "<Figure size 1800x720 with 2 Axes>"
      ]
     },
     "metadata": {},
     "output_type": "display_data"
    }
   ],
   "source": [
    "import missingno as msno\n",
    "msno.matrix(final_generos_studios_rt)"
   ]
  },
  {
   "cell_type": "code",
   "execution_count": 43,
   "metadata": {
    "ExecuteTime": {
     "end_time": "2020-07-10T12:17:49.276769Z",
     "start_time": "2020-07-10T12:17:49.257639Z"
    }
   },
   "outputs": [],
   "source": [
    "final_generos_studios_rt = final_generos_studios_rt.fillna(0)"
   ]
  },
  {
   "cell_type": "code",
   "execution_count": 44,
   "metadata": {
    "ExecuteTime": {
     "end_time": "2020-07-10T12:17:49.295729Z",
     "start_time": "2020-07-10T12:17:49.279746Z"
    }
   },
   "outputs": [],
   "source": [
    "final_generos_studios_rt = final_generos_studios_rt.drop(['directors_2_films','directors_2_ratingAverage','writer_2_films','writer_2_ratingAverage','audience_avg_rating'], axis = 1)"
   ]
  },
  {
   "cell_type": "markdown",
   "metadata": {},
   "source": [
    "## Correlação"
   ]
  },
  {
   "cell_type": "code",
   "execution_count": 45,
   "metadata": {
    "ExecuteTime": {
     "end_time": "2020-07-10T12:17:49.347962Z",
     "start_time": "2020-07-10T12:17:49.298994Z"
    }
   },
   "outputs": [
    {
     "data": {
      "text/plain": [
       "log_rentability     1.000000\n",
       "rentability         0.726308\n",
       "Worldwide_Gross     0.401620\n",
       "numVotes            0.359109\n",
       "averageRating       0.246775\n",
       "certified_fresh     0.235275\n",
       "rotten              0.219817\n",
       "upright             0.209606\n",
       "spilled             0.209606\n",
       "Premium_Indicado    0.201630\n",
       "Name: log_rentability, dtype: float64"
      ]
     },
     "execution_count": 45,
     "metadata": {},
     "output_type": "execute_result"
    }
   ],
   "source": [
    "abs(final_generos_studios_rt.corr()['log_rentability']).sort_values(ascending = False).head(10)"
   ]
  },
  {
   "cell_type": "markdown",
   "metadata": {},
   "source": [
    "## Regressoes Model"
   ]
  },
  {
   "cell_type": "code",
   "execution_count": 46,
   "metadata": {
    "ExecuteTime": {
     "end_time": "2020-07-10T12:17:49.376335Z",
     "start_time": "2020-07-10T12:17:49.350895Z"
    }
   },
   "outputs": [],
   "source": [
    "def regressoes(nome_model,X,y):\n",
    "    #ignorando os warnings\n",
    "    import warnings\n",
    "    warnings.simplefilter(action='ignore', category=FutureWarning)\n",
    "\n",
    "    # importnado as bibliotecas com os modelos classificadores\n",
    "    from sklearn.ensemble import RandomForestRegressor, GradientBoostingRegressor\n",
    "    from sklearn.linear_model import LinearRegression\n",
    "    \n",
    "    from sklearn.model_selection import train_test_split\n",
    "    \n",
    "    X_train, X_test, y_train, y_test = train_test_split(X, y, test_size=0.2, random_state=42)\n",
    "\n",
    "    # definindo uma lista com todos os classificadores\n",
    "    regressors = [\n",
    "        LinearRegression(),\n",
    "        RandomForestRegressor(),\n",
    "        GradientBoostingRegressor()]\n",
    "\n",
    "    # definindo o tamanho da figura para o gráfico\n",
    "    plt.figure(figsize=(12,8))\n",
    "\n",
    "    # rotina para instanciar, predizer e medir os rasultados de todos os modelos\n",
    "    dfs = []\n",
    "\n",
    "    for regr in regressors:\n",
    "        # instanciando o modelo\n",
    "        regr.fit(X_train, y_train)\n",
    "        y_pred = regr.predict(X_test)\n",
    "        # armazenando o nome do modelo na variável name\n",
    "        name = regr.__class__.__name__\n",
    "        #Metricas\n",
    "        from sklearn.metrics import mean_squared_error\n",
    "        from sklearn.metrics import r2_score\n",
    "\n",
    "        R2_train = regr.score(X_train, y_train)\n",
    "        MSE = mean_squared_error(y_test, y_pred)\n",
    "        rmse = np.sqrt(mean_squared_error(y_test, y_pred))\n",
    "        mape = (np.sum(np.abs((y_test - y_pred)/y_test)*100))/len(y_test)\n",
    "        R2_test = r2_score(y_test, y_pred)\n",
    "\n",
    "        d = {'Processo': [nome_model], 'Modelo': [name],'MSE': [MSE], 'RMSE': [rmse], 'MAPE': [mape], 'R2_train': [R2_train], 'R2_test': [R2_test]}\n",
    "        modelos = pd.DataFrame(data = d)\n",
    "\n",
    "        dfs.append(modelos)\n",
    "\n",
    "    Tabela = pd.concat(dfs)\n",
    "\n",
    "    return Tabela    "
   ]
  },
  {
   "cell_type": "markdown",
   "metadata": {},
   "source": [
    "## 1a Regressao"
   ]
  },
  {
   "cell_type": "code",
   "execution_count": 47,
   "metadata": {
    "ExecuteTime": {
     "end_time": "2020-07-10T12:17:49.396215Z",
     "start_time": "2020-07-10T12:17:49.379441Z"
    }
   },
   "outputs": [],
   "source": [
    "columns = final_generos_studios_rt.drop(['tconst', 'month','Worldwide_Gross','Production_Budget', 'day', 'year', 'log_rentability','rentability','movie_info','numVotes'], axis=1)\n",
    "\n",
    "X= columns.values\n",
    "y = final_generos_studios_rt['log_rentability']"
   ]
  },
  {
   "cell_type": "code",
   "execution_count": 48,
   "metadata": {
    "ExecuteTime": {
     "end_time": "2020-07-10T12:17:54.075165Z",
     "start_time": "2020-07-10T12:17:49.398274Z"
    }
   },
   "outputs": [
    {
     "data": {
      "text/plain": [
       "<Figure size 864x576 with 0 Axes>"
      ]
     },
     "metadata": {},
     "output_type": "display_data"
    }
   ],
   "source": [
    "Tabela = regressoes('inicial',X,y)"
   ]
  },
  {
   "cell_type": "markdown",
   "metadata": {},
   "source": [
    "## Com Min Max Scaler"
   ]
  },
  {
   "cell_type": "code",
   "execution_count": 49,
   "metadata": {
    "ExecuteTime": {
     "end_time": "2020-07-10T12:17:54.095618Z",
     "start_time": "2020-07-10T12:17:54.080147Z"
    }
   },
   "outputs": [],
   "source": [
    "columns = final_generos_studios_rt.drop(['tconst', 'month','Worldwide_Gross','Production_Budget', 'day', 'year', 'log_rentability','rentability','movie_info','numVotes'], axis=1)\n",
    "\n",
    "X= columns.values\n",
    "# variável target\n",
    "y = final_generos_studios_rt['log_rentability']\n",
    "# dividindo oa dados em treino e teste"
   ]
  },
  {
   "cell_type": "code",
   "execution_count": 50,
   "metadata": {
    "ExecuteTime": {
     "end_time": "2020-07-10T12:17:54.116870Z",
     "start_time": "2020-07-10T12:17:54.099559Z"
    }
   },
   "outputs": [
    {
     "data": {
      "text/plain": [
       "array([[0.31952663, 0.71153846, 0.62731334, ..., 1.        , 1.        ,\n",
       "        0.        ],\n",
       "       [0.4260355 , 0.78846154, 0.36332695, ..., 1.        , 0.        ,\n",
       "        1.        ],\n",
       "       [0.75739645, 0.96153846, 0.16776139, ..., 0.        , 0.        ,\n",
       "        1.        ],\n",
       "       ...,\n",
       "       [0.31360947, 0.92307692, 0.10244629, ..., 0.        , 0.        ,\n",
       "        1.        ],\n",
       "       [0.4556213 , 0.40384615, 0.14289854, ..., 0.        , 0.        ,\n",
       "        1.        ],\n",
       "       [0.43195266, 0.92307692, 0.34279986, ..., 0.        , 0.        ,\n",
       "        1.        ]])"
      ]
     },
     "execution_count": 50,
     "metadata": {},
     "output_type": "execute_result"
    }
   ],
   "source": [
    "from sklearn.preprocessing import MinMaxScaler\n",
    "scaler = MinMaxScaler()\n",
    "scaler.fit_transform(X)"
   ]
  },
  {
   "cell_type": "code",
   "execution_count": 51,
   "metadata": {
    "ExecuteTime": {
     "end_time": "2020-07-10T12:17:58.577713Z",
     "start_time": "2020-07-10T12:17:54.120985Z"
    },
    "scrolled": true
   },
   "outputs": [
    {
     "data": {
      "text/plain": [
       "<Figure size 864x576 with 0 Axes>"
      ]
     },
     "metadata": {},
     "output_type": "display_data"
    }
   ],
   "source": [
    "minmax = regressoes('MinMax',X,y)"
   ]
  },
  {
   "cell_type": "code",
   "execution_count": 52,
   "metadata": {
    "ExecuteTime": {
     "end_time": "2020-07-10T12:17:58.608684Z",
     "start_time": "2020-07-10T12:17:58.581713Z"
    },
    "scrolled": true
   },
   "outputs": [
    {
     "data": {
      "text/html": [
       "<div>\n",
       "<style scoped>\n",
       "    .dataframe tbody tr th:only-of-type {\n",
       "        vertical-align: middle;\n",
       "    }\n",
       "\n",
       "    .dataframe tbody tr th {\n",
       "        vertical-align: top;\n",
       "    }\n",
       "\n",
       "    .dataframe thead th {\n",
       "        text-align: right;\n",
       "    }\n",
       "</style>\n",
       "<table border=\"1\" class=\"dataframe\">\n",
       "  <thead>\n",
       "    <tr style=\"text-align: right;\">\n",
       "      <th></th>\n",
       "      <th>Processo</th>\n",
       "      <th>Modelo</th>\n",
       "      <th>MSE</th>\n",
       "      <th>RMSE</th>\n",
       "      <th>MAPE</th>\n",
       "      <th>R2_train</th>\n",
       "      <th>R2_test</th>\n",
       "    </tr>\n",
       "  </thead>\n",
       "  <tbody>\n",
       "    <tr>\n",
       "      <th>0</th>\n",
       "      <td>inicial</td>\n",
       "      <td>LinearRegression</td>\n",
       "      <td>1.091373</td>\n",
       "      <td>1.044688</td>\n",
       "      <td>205.636216</td>\n",
       "      <td>0.252806</td>\n",
       "      <td>0.173733</td>\n",
       "    </tr>\n",
       "    <tr>\n",
       "      <th>0</th>\n",
       "      <td>inicial</td>\n",
       "      <td>RandomForestRegressor</td>\n",
       "      <td>1.030251</td>\n",
       "      <td>1.015013</td>\n",
       "      <td>167.783824</td>\n",
       "      <td>0.887844</td>\n",
       "      <td>0.220008</td>\n",
       "    </tr>\n",
       "    <tr>\n",
       "      <th>0</th>\n",
       "      <td>inicial</td>\n",
       "      <td>GradientBoostingRegressor</td>\n",
       "      <td>1.101818</td>\n",
       "      <td>1.049675</td>\n",
       "      <td>190.031693</td>\n",
       "      <td>0.526310</td>\n",
       "      <td>0.165825</td>\n",
       "    </tr>\n",
       "    <tr>\n",
       "      <th>0</th>\n",
       "      <td>MinMax</td>\n",
       "      <td>LinearRegression</td>\n",
       "      <td>1.091373</td>\n",
       "      <td>1.044688</td>\n",
       "      <td>205.636216</td>\n",
       "      <td>0.252806</td>\n",
       "      <td>0.173733</td>\n",
       "    </tr>\n",
       "    <tr>\n",
       "      <th>0</th>\n",
       "      <td>MinMax</td>\n",
       "      <td>RandomForestRegressor</td>\n",
       "      <td>1.036590</td>\n",
       "      <td>1.018131</td>\n",
       "      <td>165.294940</td>\n",
       "      <td>0.885898</td>\n",
       "      <td>0.215209</td>\n",
       "    </tr>\n",
       "    <tr>\n",
       "      <th>0</th>\n",
       "      <td>MinMax</td>\n",
       "      <td>GradientBoostingRegressor</td>\n",
       "      <td>1.100234</td>\n",
       "      <td>1.048920</td>\n",
       "      <td>189.504846</td>\n",
       "      <td>0.526310</td>\n",
       "      <td>0.167025</td>\n",
       "    </tr>\n",
       "  </tbody>\n",
       "</table>\n",
       "</div>"
      ],
      "text/plain": [
       "  Processo                     Modelo       MSE      RMSE        MAPE  \\\n",
       "0  inicial           LinearRegression  1.091373  1.044688  205.636216   \n",
       "0  inicial      RandomForestRegressor  1.030251  1.015013  167.783824   \n",
       "0  inicial  GradientBoostingRegressor  1.101818  1.049675  190.031693   \n",
       "0   MinMax           LinearRegression  1.091373  1.044688  205.636216   \n",
       "0   MinMax      RandomForestRegressor  1.036590  1.018131  165.294940   \n",
       "0   MinMax  GradientBoostingRegressor  1.100234  1.048920  189.504846   \n",
       "\n",
       "   R2_train   R2_test  \n",
       "0  0.252806  0.173733  \n",
       "0  0.887844  0.220008  \n",
       "0  0.526310  0.165825  \n",
       "0  0.252806  0.173733  \n",
       "0  0.885898  0.215209  \n",
       "0  0.526310  0.167025  "
      ]
     },
     "execution_count": 52,
     "metadata": {},
     "output_type": "execute_result"
    }
   ],
   "source": [
    "Tabela = pd.concat([Tabela,minmax])\n",
    "Tabela"
   ]
  },
  {
   "cell_type": "markdown",
   "metadata": {},
   "source": [
    "## Clustering"
   ]
  },
  {
   "cell_type": "code",
   "execution_count": 53,
   "metadata": {
    "ExecuteTime": {
     "end_time": "2020-07-10T12:17:58.627734Z",
     "start_time": "2020-07-10T12:17:58.612740Z"
    }
   },
   "outputs": [],
   "source": [
    "columns = final_generos_studios_rt.drop(['tconst','month','day','year','Worldwide_Gross','rentability','log_rentability','movie_info'], axis = 1)"
   ]
  },
  {
   "cell_type": "code",
   "execution_count": 54,
   "metadata": {
    "ExecuteTime": {
     "end_time": "2020-07-10T12:17:58.644675Z",
     "start_time": "2020-07-10T12:17:58.630864Z"
    }
   },
   "outputs": [],
   "source": [
    "X_sample = columns.values \n",
    "y_sample = final.loc[:,'log_rentability'].values "
   ]
  },
  {
   "cell_type": "code",
   "execution_count": 55,
   "metadata": {
    "ExecuteTime": {
     "end_time": "2020-07-10T12:18:17.354758Z",
     "start_time": "2020-07-10T12:17:58.648665Z"
    }
   },
   "outputs": [],
   "source": [
    "# plotando o silhouette score\n",
    "# variância ideal é aquela mais perto de 1, por isso queremos o maior silhouette score\n",
    "\n",
    "from sklearn.metrics import silhouette_score   \n",
    "from sklearn.cluster import KMeans\n",
    "\n",
    "sillhoute_scores = []\n",
    "n_cluster_list = np.arange(2,31).astype(int)\n",
    "\n",
    "for n_cluster in n_cluster_list:\n",
    "    kmeans = KMeans(n_clusters=n_cluster)\n",
    "    cluster_found = kmeans.fit_predict(X_sample)\n",
    "    sillhoute_scores.append(silhouette_score(X_sample, kmeans.labels_))"
   ]
  },
  {
   "cell_type": "code",
   "execution_count": 56,
   "metadata": {
    "ExecuteTime": {
     "end_time": "2020-07-10T12:18:18.557892Z",
     "start_time": "2020-07-10T12:18:17.360806Z"
    }
   },
   "outputs": [
    {
     "data": {
      "text/plain": [
       "([<matplotlib.axis.XTick at 0x246315afa08>,\n",
       "  <matplotlib.axis.XTick at 0x246314973c8>,\n",
       "  <matplotlib.axis.XTick at 0x24634d293c8>,\n",
       "  <matplotlib.axis.XTick at 0x24634d5b288>,\n",
       "  <matplotlib.axis.XTick at 0x24634d5bac8>,\n",
       "  <matplotlib.axis.XTick at 0x24634d5f548>,\n",
       "  <matplotlib.axis.XTick at 0x24634d63148>,\n",
       "  <matplotlib.axis.XTick at 0x24634d63a48>,\n",
       "  <matplotlib.axis.XTick at 0x24634d674c8>,\n",
       "  <matplotlib.axis.XTick at 0x24634d67dc8>,\n",
       "  <matplotlib.axis.XTick at 0x24634d6b948>,\n",
       "  <matplotlib.axis.XTick at 0x24634d703c8>,\n",
       "  <matplotlib.axis.XTick at 0x24634d70bc8>,\n",
       "  <matplotlib.axis.XTick at 0x24634d63108>,\n",
       "  <matplotlib.axis.XTick at 0x24634d734c8>,\n",
       "  <matplotlib.axis.XTick at 0x24634d73b08>,\n",
       "  <matplotlib.axis.XTick at 0x24634d77608>,\n",
       "  <matplotlib.axis.XTick at 0x24634d7b148>,\n",
       "  <matplotlib.axis.XTick at 0x24634d7ba48>,\n",
       "  <matplotlib.axis.XTick at 0x24634d7e4c8>,\n",
       "  <matplotlib.axis.XTick at 0x24634d7edc8>,\n",
       "  <matplotlib.axis.XTick at 0x24634d83988>,\n",
       "  <matplotlib.axis.XTick at 0x24634d7bac8>,\n",
       "  <matplotlib.axis.XTick at 0x24634d73bc8>,\n",
       "  <matplotlib.axis.XTick at 0x24634d86888>,\n",
       "  <matplotlib.axis.XTick at 0x24634d8a248>,\n",
       "  <matplotlib.axis.XTick at 0x24634d8a7c8>,\n",
       "  <matplotlib.axis.XTick at 0x24634d8f388>,\n",
       "  <matplotlib.axis.XTick at 0x24634d8fdc8>,\n",
       "  <matplotlib.axis.XTick at 0x24634d93848>,\n",
       "  <matplotlib.axis.XTick at 0x24634d962c8>],\n",
       " <a list of 31 Text major ticklabel objects>)"
      ]
     },
     "execution_count": 56,
     "metadata": {},
     "output_type": "execute_result"
    },
    {
     "data": {
      "image/png": "[encoded data removed]",
      "text/plain": [
       "<Figure size 432x288 with 1 Axes>"
      ]
     },
     "metadata": {},
     "output_type": "display_data"
    }
   ],
   "source": [
    "plt.plot(n_cluster_list,sillhoute_scores)\n",
    "plt.xlabel('Number of Clusters')\n",
    "plt.xticks(np.arange(0, 31), fontsize=12, rotation=90)"
   ]
  },
  {
   "cell_type": "code",
   "execution_count": 57,
   "metadata": {
    "ExecuteTime": {
     "end_time": "2020-07-10T12:18:19.204263Z",
     "start_time": "2020-07-10T12:18:18.567166Z"
    }
   },
   "outputs": [
    {
     "data": {
      "text/plain": [
       "KMeans()"
      ]
     },
     "execution_count": 57,
     "metadata": {},
     "output_type": "execute_result"
    }
   ],
   "source": [
    "kmeans = KMeans(n_clusters=8)\n",
    "kmeans.fit(X)"
   ]
  },
  {
   "cell_type": "code",
   "execution_count": 58,
   "metadata": {
    "ExecuteTime": {
     "end_time": "2020-07-10T12:18:19.222911Z",
     "start_time": "2020-07-10T12:18:19.211860Z"
    }
   },
   "outputs": [],
   "source": [
    "final_generos_studios_rt['cluster'] = kmeans.labels_"
   ]
  },
  {
   "cell_type": "code",
   "execution_count": 59,
   "metadata": {
    "ExecuteTime": {
     "end_time": "2020-07-10T12:18:19.246912Z",
     "start_time": "2020-07-10T12:18:19.230889Z"
    }
   },
   "outputs": [],
   "source": [
    "def plotcolum(a,b):\n",
    "    plt.figure(figsize=(10,5))\n",
    "    sns.countplot(y = a, data = b, order = a.value_counts().index)\n",
    "    plt.show()"
   ]
  },
  {
   "cell_type": "code",
   "execution_count": 60,
   "metadata": {
    "ExecuteTime": {
     "end_time": "2020-07-10T12:18:19.891737Z",
     "start_time": "2020-07-10T12:18:19.254374Z"
    },
    "scrolled": true
   },
   "outputs": [
    {
     "data": {
      "image/png": "[encoded data removed]",
      "text/plain": [
       "<Figure size 720x360 with 1 Axes>"
      ]
     },
     "metadata": {},
     "output_type": "display_data"
    }
   ],
   "source": [
    "plotcolum(final_generos_studios_rt['cluster'],final_generos_studios_rt)"
   ]
  },
  {
   "cell_type": "code",
   "execution_count": 61,
   "metadata": {
    "ExecuteTime": {
     "end_time": "2020-07-10T12:18:19.911208Z",
     "start_time": "2020-07-10T12:18:19.895708Z"
    },
    "scrolled": true
   },
   "outputs": [
    {
     "data": {
      "text/plain": [
       "1    221\n",
       "5    218\n",
       "4    205\n",
       "7    193\n",
       "2    191\n",
       "0    183\n",
       "3    176\n",
       "6     85\n",
       "Name: cluster, dtype: int64"
      ]
     },
     "execution_count": 61,
     "metadata": {},
     "output_type": "execute_result"
    }
   ],
   "source": [
    "final_generos_studios_rt.cluster.value_counts()"
   ]
  },
  {
   "cell_type": "code",
   "execution_count": 62,
   "metadata": {
    "ExecuteTime": {
     "end_time": "2020-07-10T12:18:20.442838Z",
     "start_time": "2020-07-10T12:18:19.915149Z"
    },
    "scrolled": true
   },
   "outputs": [
    {
     "data": {
      "image/png": "[encoded data removed]",
      "text/plain": [
       "<Figure size 432x288 with 1 Axes>"
      ]
     },
     "metadata": {},
     "output_type": "display_data"
    }
   ],
   "source": [
    "sns.set(style=\"whitegrid\")\n",
    "tips = final_generos_studios_rt\n",
    "ax = sns.boxplot(x='cluster', y='log_rentability',data = tips)"
   ]
  },
  {
   "cell_type": "code",
   "execution_count": 63,
   "metadata": {
    "ExecuteTime": {
     "end_time": "2020-07-10T12:18:20.452867Z",
     "start_time": "2020-07-10T12:18:20.445803Z"
    }
   },
   "outputs": [],
   "source": [
    "Values = ['Adventure_Geral','Animation_Geral','Biography_Geral','Comedy_Geral','Crime_Geral','Documentary_Geral','Drama_Geral','Family_Geral','Fantasy_Geral','History_Geral','Horror_Geral','Music_Geral','Musical_Geral','Mystery_Geral','Romance_Geral','Sci-Fi_Geral','Sport_Geral','Thriller_Geral','War_Geral','Western_Geral']"
   ]
  },
  {
   "cell_type": "code",
   "execution_count": 64,
   "metadata": {
    "ExecuteTime": {
     "end_time": "2020-07-10T12:18:20.487019Z",
     "start_time": "2020-07-10T12:18:20.455947Z"
    }
   },
   "outputs": [],
   "source": [
    "Generos = pd.DataFrame(pd.pivot_table(final_generos_studios_rt, values=Values, index=['cluster'], aggfunc=np.sum).T)"
   ]
  },
  {
   "cell_type": "code",
   "execution_count": 65,
   "metadata": {
    "ExecuteTime": {
     "end_time": "2020-07-10T12:18:20.524797Z",
     "start_time": "2020-07-10T12:18:20.491145Z"
    }
   },
   "outputs": [
    {
     "data": {
      "text/html": [
       "<div>\n",
       "<style scoped>\n",
       "    .dataframe tbody tr th:only-of-type {\n",
       "        vertical-align: middle;\n",
       "    }\n",
       "\n",
       "    .dataframe tbody tr th {\n",
       "        vertical-align: top;\n",
       "    }\n",
       "\n",
       "    .dataframe thead th {\n",
       "        text-align: right;\n",
       "    }\n",
       "</style>\n",
       "<table border=\"1\" class=\"dataframe\">\n",
       "  <thead>\n",
       "    <tr style=\"text-align: right;\">\n",
       "      <th>cluster</th>\n",
       "      <th>0</th>\n",
       "      <th>1</th>\n",
       "      <th>2</th>\n",
       "      <th>3</th>\n",
       "      <th>4</th>\n",
       "      <th>5</th>\n",
       "      <th>6</th>\n",
       "      <th>7</th>\n",
       "    </tr>\n",
       "  </thead>\n",
       "  <tbody>\n",
       "    <tr>\n",
       "      <th>Adventure_Geral</th>\n",
       "      <td>26</td>\n",
       "      <td>38</td>\n",
       "      <td>35</td>\n",
       "      <td>52</td>\n",
       "      <td>33</td>\n",
       "      <td>53</td>\n",
       "      <td>35</td>\n",
       "      <td>48</td>\n",
       "    </tr>\n",
       "    <tr>\n",
       "      <th>Animation_Geral</th>\n",
       "      <td>25</td>\n",
       "      <td>3</td>\n",
       "      <td>8</td>\n",
       "      <td>0</td>\n",
       "      <td>8</td>\n",
       "      <td>34</td>\n",
       "      <td>0</td>\n",
       "      <td>31</td>\n",
       "    </tr>\n",
       "    <tr>\n",
       "      <th>Biography_Geral</th>\n",
       "      <td>24</td>\n",
       "      <td>48</td>\n",
       "      <td>1</td>\n",
       "      <td>12</td>\n",
       "      <td>4</td>\n",
       "      <td>5</td>\n",
       "      <td>14</td>\n",
       "      <td>16</td>\n",
       "    </tr>\n",
       "    <tr>\n",
       "      <th>Comedy_Geral</th>\n",
       "      <td>87</td>\n",
       "      <td>57</td>\n",
       "      <td>100</td>\n",
       "      <td>49</td>\n",
       "      <td>121</td>\n",
       "      <td>130</td>\n",
       "      <td>4</td>\n",
       "      <td>92</td>\n",
       "    </tr>\n",
       "    <tr>\n",
       "      <th>Crime_Geral</th>\n",
       "      <td>23</td>\n",
       "      <td>42</td>\n",
       "      <td>39</td>\n",
       "      <td>44</td>\n",
       "      <td>40</td>\n",
       "      <td>34</td>\n",
       "      <td>14</td>\n",
       "      <td>31</td>\n",
       "    </tr>\n",
       "    <tr>\n",
       "      <th>Documentary_Geral</th>\n",
       "      <td>2</td>\n",
       "      <td>0</td>\n",
       "      <td>1</td>\n",
       "      <td>0</td>\n",
       "      <td>0</td>\n",
       "      <td>2</td>\n",
       "      <td>0</td>\n",
       "      <td>1</td>\n",
       "    </tr>\n",
       "    <tr>\n",
       "      <th>Drama_Geral</th>\n",
       "      <td>139</td>\n",
       "      <td>179</td>\n",
       "      <td>32</td>\n",
       "      <td>82</td>\n",
       "      <td>46</td>\n",
       "      <td>73</td>\n",
       "      <td>60</td>\n",
       "      <td>107</td>\n",
       "    </tr>\n",
       "    <tr>\n",
       "      <th>Family_Geral</th>\n",
       "      <td>15</td>\n",
       "      <td>14</td>\n",
       "      <td>11</td>\n",
       "      <td>2</td>\n",
       "      <td>13</td>\n",
       "      <td>30</td>\n",
       "      <td>2</td>\n",
       "      <td>23</td>\n",
       "    </tr>\n",
       "    <tr>\n",
       "      <th>Fantasy_Geral</th>\n",
       "      <td>9</td>\n",
       "      <td>19</td>\n",
       "      <td>20</td>\n",
       "      <td>13</td>\n",
       "      <td>24</td>\n",
       "      <td>21</td>\n",
       "      <td>11</td>\n",
       "      <td>12</td>\n",
       "    </tr>\n",
       "    <tr>\n",
       "      <th>History_Geral</th>\n",
       "      <td>5</td>\n",
       "      <td>10</td>\n",
       "      <td>1</td>\n",
       "      <td>4</td>\n",
       "      <td>0</td>\n",
       "      <td>2</td>\n",
       "      <td>11</td>\n",
       "      <td>7</td>\n",
       "    </tr>\n",
       "    <tr>\n",
       "      <th>Horror_Geral</th>\n",
       "      <td>8</td>\n",
       "      <td>7</td>\n",
       "      <td>32</td>\n",
       "      <td>13</td>\n",
       "      <td>31</td>\n",
       "      <td>24</td>\n",
       "      <td>2</td>\n",
       "      <td>18</td>\n",
       "    </tr>\n",
       "    <tr>\n",
       "      <th>Music_Geral</th>\n",
       "      <td>9</td>\n",
       "      <td>7</td>\n",
       "      <td>7</td>\n",
       "      <td>7</td>\n",
       "      <td>5</td>\n",
       "      <td>12</td>\n",
       "      <td>3</td>\n",
       "      <td>5</td>\n",
       "    </tr>\n",
       "    <tr>\n",
       "      <th>Musical_Geral</th>\n",
       "      <td>1</td>\n",
       "      <td>2</td>\n",
       "      <td>1</td>\n",
       "      <td>1</td>\n",
       "      <td>1</td>\n",
       "      <td>0</td>\n",
       "      <td>1</td>\n",
       "      <td>0</td>\n",
       "    </tr>\n",
       "    <tr>\n",
       "      <th>Mystery_Geral</th>\n",
       "      <td>18</td>\n",
       "      <td>13</td>\n",
       "      <td>21</td>\n",
       "      <td>12</td>\n",
       "      <td>21</td>\n",
       "      <td>25</td>\n",
       "      <td>10</td>\n",
       "      <td>19</td>\n",
       "    </tr>\n",
       "    <tr>\n",
       "      <th>Romance_Geral</th>\n",
       "      <td>35</td>\n",
       "      <td>42</td>\n",
       "      <td>31</td>\n",
       "      <td>26</td>\n",
       "      <td>43</td>\n",
       "      <td>32</td>\n",
       "      <td>6</td>\n",
       "      <td>31</td>\n",
       "    </tr>\n",
       "    <tr>\n",
       "      <th>Sci-Fi_Geral</th>\n",
       "      <td>8</td>\n",
       "      <td>11</td>\n",
       "      <td>14</td>\n",
       "      <td>23</td>\n",
       "      <td>12</td>\n",
       "      <td>8</td>\n",
       "      <td>12</td>\n",
       "      <td>13</td>\n",
       "    </tr>\n",
       "    <tr>\n",
       "      <th>Sport_Geral</th>\n",
       "      <td>2</td>\n",
       "      <td>14</td>\n",
       "      <td>4</td>\n",
       "      <td>8</td>\n",
       "      <td>4</td>\n",
       "      <td>11</td>\n",
       "      <td>2</td>\n",
       "      <td>5</td>\n",
       "    </tr>\n",
       "    <tr>\n",
       "      <th>Thriller_Geral</th>\n",
       "      <td>13</td>\n",
       "      <td>28</td>\n",
       "      <td>40</td>\n",
       "      <td>32</td>\n",
       "      <td>39</td>\n",
       "      <td>33</td>\n",
       "      <td>9</td>\n",
       "      <td>25</td>\n",
       "    </tr>\n",
       "    <tr>\n",
       "      <th>War_Geral</th>\n",
       "      <td>3</td>\n",
       "      <td>3</td>\n",
       "      <td>1</td>\n",
       "      <td>4</td>\n",
       "      <td>0</td>\n",
       "      <td>1</td>\n",
       "      <td>1</td>\n",
       "      <td>0</td>\n",
       "    </tr>\n",
       "    <tr>\n",
       "      <th>Western_Geral</th>\n",
       "      <td>0</td>\n",
       "      <td>2</td>\n",
       "      <td>2</td>\n",
       "      <td>1</td>\n",
       "      <td>0</td>\n",
       "      <td>0</td>\n",
       "      <td>1</td>\n",
       "      <td>0</td>\n",
       "    </tr>\n",
       "  </tbody>\n",
       "</table>\n",
       "</div>"
      ],
      "text/plain": [
       "cluster              0    1    2   3    4    5   6    7\n",
       "Adventure_Geral     26   38   35  52   33   53  35   48\n",
       "Animation_Geral     25    3    8   0    8   34   0   31\n",
       "Biography_Geral     24   48    1  12    4    5  14   16\n",
       "Comedy_Geral        87   57  100  49  121  130   4   92\n",
       "Crime_Geral         23   42   39  44   40   34  14   31\n",
       "Documentary_Geral    2    0    1   0    0    2   0    1\n",
       "Drama_Geral        139  179   32  82   46   73  60  107\n",
       "Family_Geral        15   14   11   2   13   30   2   23\n",
       "Fantasy_Geral        9   19   20  13   24   21  11   12\n",
       "History_Geral        5   10    1   4    0    2  11    7\n",
       "Horror_Geral         8    7   32  13   31   24   2   18\n",
       "Music_Geral          9    7    7   7    5   12   3    5\n",
       "Musical_Geral        1    2    1   1    1    0   1    0\n",
       "Mystery_Geral       18   13   21  12   21   25  10   19\n",
       "Romance_Geral       35   42   31  26   43   32   6   31\n",
       "Sci-Fi_Geral         8   11   14  23   12    8  12   13\n",
       "Sport_Geral          2   14    4   8    4   11   2    5\n",
       "Thriller_Geral      13   28   40  32   39   33   9   25\n",
       "War_Geral            3    3    1   4    0    1   1    0\n",
       "Western_Geral        0    2    2   1    0    0   1    0"
      ]
     },
     "execution_count": 65,
     "metadata": {},
     "output_type": "execute_result"
    }
   ],
   "source": [
    "Generos"
   ]
  },
  {
   "cell_type": "code",
   "execution_count": 66,
   "metadata": {
    "ExecuteTime": {
     "end_time": "2020-07-10T12:18:20.534807Z",
     "start_time": "2020-07-10T12:18:20.528832Z"
    }
   },
   "outputs": [],
   "source": [
    "Values = ['Big_Studio','Known_Studio','independent']"
   ]
  },
  {
   "cell_type": "code",
   "execution_count": 67,
   "metadata": {
    "ExecuteTime": {
     "end_time": "2020-07-10T12:18:20.566093Z",
     "start_time": "2020-07-10T12:18:20.538335Z"
    }
   },
   "outputs": [],
   "source": [
    "Studios = pd.DataFrame(pd.pivot_table(final_generos_studios_rt, values=Values, index=['cluster'], aggfunc=np.sum).T)"
   ]
  },
  {
   "cell_type": "code",
   "execution_count": 68,
   "metadata": {
    "ExecuteTime": {
     "end_time": "2020-07-10T12:18:20.610763Z",
     "start_time": "2020-07-10T12:18:20.591092Z"
    }
   },
   "outputs": [
    {
     "data": {
      "text/html": [
       "<div>\n",
       "<style scoped>\n",
       "    .dataframe tbody tr th:only-of-type {\n",
       "        vertical-align: middle;\n",
       "    }\n",
       "\n",
       "    .dataframe tbody tr th {\n",
       "        vertical-align: top;\n",
       "    }\n",
       "\n",
       "    .dataframe thead th {\n",
       "        text-align: right;\n",
       "    }\n",
       "</style>\n",
       "<table border=\"1\" class=\"dataframe\">\n",
       "  <thead>\n",
       "    <tr style=\"text-align: right;\">\n",
       "      <th>cluster</th>\n",
       "      <th>0</th>\n",
       "      <th>1</th>\n",
       "      <th>2</th>\n",
       "      <th>3</th>\n",
       "      <th>4</th>\n",
       "      <th>5</th>\n",
       "      <th>6</th>\n",
       "      <th>7</th>\n",
       "    </tr>\n",
       "  </thead>\n",
       "  <tbody>\n",
       "    <tr>\n",
       "      <th>Big_Studio</th>\n",
       "      <td>95</td>\n",
       "      <td>145</td>\n",
       "      <td>127</td>\n",
       "      <td>121</td>\n",
       "      <td>134</td>\n",
       "      <td>138</td>\n",
       "      <td>61</td>\n",
       "      <td>126</td>\n",
       "    </tr>\n",
       "    <tr>\n",
       "      <th>Known_Studio</th>\n",
       "      <td>47</td>\n",
       "      <td>40</td>\n",
       "      <td>35</td>\n",
       "      <td>30</td>\n",
       "      <td>45</td>\n",
       "      <td>42</td>\n",
       "      <td>18</td>\n",
       "      <td>38</td>\n",
       "    </tr>\n",
       "    <tr>\n",
       "      <th>independent</th>\n",
       "      <td>41</td>\n",
       "      <td>36</td>\n",
       "      <td>29</td>\n",
       "      <td>25</td>\n",
       "      <td>23</td>\n",
       "      <td>37</td>\n",
       "      <td>6</td>\n",
       "      <td>28</td>\n",
       "    </tr>\n",
       "  </tbody>\n",
       "</table>\n",
       "</div>"
      ],
      "text/plain": [
       "cluster        0    1    2    3    4    5   6    7\n",
       "Big_Studio    95  145  127  121  134  138  61  126\n",
       "Known_Studio  47   40   35   30   45   42  18   38\n",
       "independent   41   36   29   25   23   37   6   28"
      ]
     },
     "execution_count": 68,
     "metadata": {},
     "output_type": "execute_result"
    }
   ],
   "source": [
    "Studios"
   ]
  },
  {
   "cell_type": "code",
   "execution_count": 69,
   "metadata": {
    "ExecuteTime": {
     "end_time": "2020-07-10T12:18:21.415221Z",
     "start_time": "2020-07-10T12:18:20.620734Z"
    }
   },
   "outputs": [
    {
     "data": {
      "image/png": "[encoded data removed]",
      "text/plain": [
       "<Figure size 432x288 with 1 Axes>"
      ]
     },
     "metadata": {},
     "output_type": "display_data"
    }
   ],
   "source": [
    "sns.set(style=\"whitegrid\")\n",
    "tips = final_generos_studios_rt\n",
    "ax = sns.boxplot(x='cluster', y='Production_Budget',data = tips)"
   ]
  },
  {
   "cell_type": "code",
   "execution_count": 70,
   "metadata": {
    "ExecuteTime": {
     "end_time": "2020-07-10T12:18:22.045675Z",
     "start_time": "2020-07-10T12:18:21.420239Z"
    }
   },
   "outputs": [
    {
     "data": {
      "image/png": "[encoded data removed]",
      "text/plain": [
       "<Figure size 432x288 with 1 Axes>"
      ]
     },
     "metadata": {},
     "output_type": "display_data"
    }
   ],
   "source": [
    "sns.set(style=\"whitegrid\")\n",
    "tips = final_generos_studios_rt\n",
    "ax = sns.boxplot(x='cluster', y='averageRating',data = tips)"
   ]
  },
  {
   "cell_type": "markdown",
   "metadata": {},
   "source": [
    "## Com Cluster"
   ]
  },
  {
   "cell_type": "code",
   "execution_count": 71,
   "metadata": {
    "ExecuteTime": {
     "end_time": "2020-07-10T12:18:22.062708Z",
     "start_time": "2020-07-10T12:18:22.048623Z"
    }
   },
   "outputs": [],
   "source": [
    "columns = final_generos_studios_rt.drop(['tconst', 'month','Worldwide_Gross','Production_Budget', 'day', 'year', 'log_rentability','rentability','movie_info','numVotes'], axis=1)\n",
    "\n",
    "X= columns.values\n",
    "# variável target\n",
    "y = final_generos_studios_rt['log_rentability']\n",
    "# dividindo oa dados em treino e teste"
   ]
  },
  {
   "cell_type": "code",
   "execution_count": 72,
   "metadata": {
    "ExecuteTime": {
     "end_time": "2020-07-10T12:18:25.844774Z",
     "start_time": "2020-07-10T12:18:22.066658Z"
    },
    "scrolled": false
   },
   "outputs": [
    {
     "data": {
      "text/plain": [
       "<Figure size 864x576 with 0 Axes>"
      ]
     },
     "metadata": {},
     "output_type": "display_data"
    }
   ],
   "source": [
    "cluster_basic = regressoes('cluster_basic',X,y)"
   ]
  },
  {
   "cell_type": "code",
   "execution_count": 73,
   "metadata": {
    "ExecuteTime": {
     "end_time": "2020-07-10T12:18:25.884880Z",
     "start_time": "2020-07-10T12:18:25.848639Z"
    },
    "scrolled": false
   },
   "outputs": [
    {
     "data": {
      "text/html": [
       "<div>\n",
       "<style scoped>\n",
       "    .dataframe tbody tr th:only-of-type {\n",
       "        vertical-align: middle;\n",
       "    }\n",
       "\n",
       "    .dataframe tbody tr th {\n",
       "        vertical-align: top;\n",
       "    }\n",
       "\n",
       "    .dataframe thead th {\n",
       "        text-align: right;\n",
       "    }\n",
       "</style>\n",
       "<table border=\"1\" class=\"dataframe\">\n",
       "  <thead>\n",
       "    <tr style=\"text-align: right;\">\n",
       "      <th></th>\n",
       "      <th>Processo</th>\n",
       "      <th>Modelo</th>\n",
       "      <th>MSE</th>\n",
       "      <th>RMSE</th>\n",
       "      <th>MAPE</th>\n",
       "      <th>R2_train</th>\n",
       "      <th>R2_test</th>\n",
       "    </tr>\n",
       "  </thead>\n",
       "  <tbody>\n",
       "    <tr>\n",
       "      <th>0</th>\n",
       "      <td>inicial</td>\n",
       "      <td>LinearRegression</td>\n",
       "      <td>1.091373</td>\n",
       "      <td>1.044688</td>\n",
       "      <td>205.636216</td>\n",
       "      <td>0.252806</td>\n",
       "      <td>0.173733</td>\n",
       "    </tr>\n",
       "    <tr>\n",
       "      <th>0</th>\n",
       "      <td>inicial</td>\n",
       "      <td>RandomForestRegressor</td>\n",
       "      <td>1.030251</td>\n",
       "      <td>1.015013</td>\n",
       "      <td>167.783824</td>\n",
       "      <td>0.887844</td>\n",
       "      <td>0.220008</td>\n",
       "    </tr>\n",
       "    <tr>\n",
       "      <th>0</th>\n",
       "      <td>inicial</td>\n",
       "      <td>GradientBoostingRegressor</td>\n",
       "      <td>1.101818</td>\n",
       "      <td>1.049675</td>\n",
       "      <td>190.031693</td>\n",
       "      <td>0.526310</td>\n",
       "      <td>0.165825</td>\n",
       "    </tr>\n",
       "    <tr>\n",
       "      <th>0</th>\n",
       "      <td>MinMax</td>\n",
       "      <td>LinearRegression</td>\n",
       "      <td>1.091373</td>\n",
       "      <td>1.044688</td>\n",
       "      <td>205.636216</td>\n",
       "      <td>0.252806</td>\n",
       "      <td>0.173733</td>\n",
       "    </tr>\n",
       "    <tr>\n",
       "      <th>0</th>\n",
       "      <td>MinMax</td>\n",
       "      <td>RandomForestRegressor</td>\n",
       "      <td>1.036590</td>\n",
       "      <td>1.018131</td>\n",
       "      <td>165.294940</td>\n",
       "      <td>0.885898</td>\n",
       "      <td>0.215209</td>\n",
       "    </tr>\n",
       "    <tr>\n",
       "      <th>0</th>\n",
       "      <td>MinMax</td>\n",
       "      <td>GradientBoostingRegressor</td>\n",
       "      <td>1.100234</td>\n",
       "      <td>1.048920</td>\n",
       "      <td>189.504846</td>\n",
       "      <td>0.526310</td>\n",
       "      <td>0.167025</td>\n",
       "    </tr>\n",
       "    <tr>\n",
       "      <th>0</th>\n",
       "      <td>cluster_basic</td>\n",
       "      <td>LinearRegression</td>\n",
       "      <td>1.091153</td>\n",
       "      <td>1.044583</td>\n",
       "      <td>205.060532</td>\n",
       "      <td>0.252865</td>\n",
       "      <td>0.173899</td>\n",
       "    </tr>\n",
       "    <tr>\n",
       "      <th>0</th>\n",
       "      <td>cluster_basic</td>\n",
       "      <td>RandomForestRegressor</td>\n",
       "      <td>1.064357</td>\n",
       "      <td>1.031677</td>\n",
       "      <td>177.360543</td>\n",
       "      <td>0.888726</td>\n",
       "      <td>0.194186</td>\n",
       "    </tr>\n",
       "    <tr>\n",
       "      <th>0</th>\n",
       "      <td>cluster_basic</td>\n",
       "      <td>GradientBoostingRegressor</td>\n",
       "      <td>1.095299</td>\n",
       "      <td>1.046565</td>\n",
       "      <td>185.339790</td>\n",
       "      <td>0.522724</td>\n",
       "      <td>0.170761</td>\n",
       "    </tr>\n",
       "  </tbody>\n",
       "</table>\n",
       "</div>"
      ],
      "text/plain": [
       "        Processo                     Modelo       MSE      RMSE        MAPE  \\\n",
       "0        inicial           LinearRegression  1.091373  1.044688  205.636216   \n",
       "0        inicial      RandomForestRegressor  1.030251  1.015013  167.783824   \n",
       "0        inicial  GradientBoostingRegressor  1.101818  1.049675  190.031693   \n",
       "0         MinMax           LinearRegression  1.091373  1.044688  205.636216   \n",
       "0         MinMax      RandomForestRegressor  1.036590  1.018131  165.294940   \n",
       "0         MinMax  GradientBoostingRegressor  1.100234  1.048920  189.504846   \n",
       "0  cluster_basic           LinearRegression  1.091153  1.044583  205.060532   \n",
       "0  cluster_basic      RandomForestRegressor  1.064357  1.031677  177.360543   \n",
       "0  cluster_basic  GradientBoostingRegressor  1.095299  1.046565  185.339790   \n",
       "\n",
       "   R2_train   R2_test  \n",
       "0  0.252806  0.173733  \n",
       "0  0.887844  0.220008  \n",
       "0  0.526310  0.165825  \n",
       "0  0.252806  0.173733  \n",
       "0  0.885898  0.215209  \n",
       "0  0.526310  0.167025  \n",
       "0  0.252865  0.173899  \n",
       "0  0.888726  0.194186  \n",
       "0  0.522724  0.170761  "
      ]
     },
     "execution_count": 73,
     "metadata": {},
     "output_type": "execute_result"
    }
   ],
   "source": [
    "Tabela = pd.concat([Tabela,cluster_basic])\n",
    "Tabela"
   ]
  },
  {
   "cell_type": "code",
   "execution_count": 74,
   "metadata": {
    "ExecuteTime": {
     "end_time": "2020-07-10T12:18:25.907037Z",
     "start_time": "2020-07-10T12:18:25.890837Z"
    },
    "scrolled": true
   },
   "outputs": [
    {
     "data": {
      "text/plain": [
       "array([[0.31952663, 0.71153846, 0.62731334, ..., 1.        , 0.        ,\n",
       "        0.28571429],\n",
       "       [0.4260355 , 0.78846154, 0.36332695, ..., 0.        , 1.        ,\n",
       "        0.14285714],\n",
       "       [0.75739645, 0.96153846, 0.16776139, ..., 0.        , 1.        ,\n",
       "        0.85714286],\n",
       "       ...,\n",
       "       [0.31360947, 0.92307692, 0.10244629, ..., 0.        , 1.        ,\n",
       "        0.        ],\n",
       "       [0.4556213 , 0.40384615, 0.14289854, ..., 0.        , 1.        ,\n",
       "        0.14285714],\n",
       "       [0.43195266, 0.92307692, 0.34279986, ..., 0.        , 1.        ,\n",
       "        0.14285714]])"
      ]
     },
     "execution_count": 74,
     "metadata": {},
     "output_type": "execute_result"
    }
   ],
   "source": [
    "scaler = MinMaxScaler()\n",
    "scaler.fit_transform(X)"
   ]
  },
  {
   "cell_type": "code",
   "execution_count": 75,
   "metadata": {
    "ExecuteTime": {
     "end_time": "2020-07-10T12:18:30.144836Z",
     "start_time": "2020-07-10T12:18:25.911319Z"
    },
    "scrolled": false
   },
   "outputs": [
    {
     "data": {
      "text/plain": [
       "<Figure size 864x576 with 0 Axes>"
      ]
     },
     "metadata": {},
     "output_type": "display_data"
    }
   ],
   "source": [
    "cluster_MinMax = regressoes('cluster_MinMax',X,y)"
   ]
  },
  {
   "cell_type": "code",
   "execution_count": 76,
   "metadata": {
    "ExecuteTime": {
     "end_time": "2020-07-10T12:18:30.182730Z",
     "start_time": "2020-07-10T12:18:30.149825Z"
    },
    "scrolled": false
   },
   "outputs": [
    {
     "data": {
      "text/html": [
       "<div>\n",
       "<style scoped>\n",
       "    .dataframe tbody tr th:only-of-type {\n",
       "        vertical-align: middle;\n",
       "    }\n",
       "\n",
       "    .dataframe tbody tr th {\n",
       "        vertical-align: top;\n",
       "    }\n",
       "\n",
       "    .dataframe thead th {\n",
       "        text-align: right;\n",
       "    }\n",
       "</style>\n",
       "<table border=\"1\" class=\"dataframe\">\n",
       "  <thead>\n",
       "    <tr style=\"text-align: right;\">\n",
       "      <th></th>\n",
       "      <th>Processo</th>\n",
       "      <th>Modelo</th>\n",
       "      <th>MSE</th>\n",
       "      <th>RMSE</th>\n",
       "      <th>MAPE</th>\n",
       "      <th>R2_train</th>\n",
       "      <th>R2_test</th>\n",
       "    </tr>\n",
       "  </thead>\n",
       "  <tbody>\n",
       "    <tr>\n",
       "      <th>0</th>\n",
       "      <td>inicial</td>\n",
       "      <td>LinearRegression</td>\n",
       "      <td>1.091373</td>\n",
       "      <td>1.044688</td>\n",
       "      <td>205.636216</td>\n",
       "      <td>0.252806</td>\n",
       "      <td>0.173733</td>\n",
       "    </tr>\n",
       "    <tr>\n",
       "      <th>0</th>\n",
       "      <td>inicial</td>\n",
       "      <td>RandomForestRegressor</td>\n",
       "      <td>1.030251</td>\n",
       "      <td>1.015013</td>\n",
       "      <td>167.783824</td>\n",
       "      <td>0.887844</td>\n",
       "      <td>0.220008</td>\n",
       "    </tr>\n",
       "    <tr>\n",
       "      <th>0</th>\n",
       "      <td>inicial</td>\n",
       "      <td>GradientBoostingRegressor</td>\n",
       "      <td>1.101818</td>\n",
       "      <td>1.049675</td>\n",
       "      <td>190.031693</td>\n",
       "      <td>0.526310</td>\n",
       "      <td>0.165825</td>\n",
       "    </tr>\n",
       "    <tr>\n",
       "      <th>0</th>\n",
       "      <td>MinMax</td>\n",
       "      <td>LinearRegression</td>\n",
       "      <td>1.091373</td>\n",
       "      <td>1.044688</td>\n",
       "      <td>205.636216</td>\n",
       "      <td>0.252806</td>\n",
       "      <td>0.173733</td>\n",
       "    </tr>\n",
       "    <tr>\n",
       "      <th>0</th>\n",
       "      <td>MinMax</td>\n",
       "      <td>RandomForestRegressor</td>\n",
       "      <td>1.036590</td>\n",
       "      <td>1.018131</td>\n",
       "      <td>165.294940</td>\n",
       "      <td>0.885898</td>\n",
       "      <td>0.215209</td>\n",
       "    </tr>\n",
       "    <tr>\n",
       "      <th>0</th>\n",
       "      <td>MinMax</td>\n",
       "      <td>GradientBoostingRegressor</td>\n",
       "      <td>1.100234</td>\n",
       "      <td>1.048920</td>\n",
       "      <td>189.504846</td>\n",
       "      <td>0.526310</td>\n",
       "      <td>0.167025</td>\n",
       "    </tr>\n",
       "    <tr>\n",
       "      <th>0</th>\n",
       "      <td>cluster_basic</td>\n",
       "      <td>LinearRegression</td>\n",
       "      <td>1.091153</td>\n",
       "      <td>1.044583</td>\n",
       "      <td>205.060532</td>\n",
       "      <td>0.252865</td>\n",
       "      <td>0.173899</td>\n",
       "    </tr>\n",
       "    <tr>\n",
       "      <th>0</th>\n",
       "      <td>cluster_basic</td>\n",
       "      <td>RandomForestRegressor</td>\n",
       "      <td>1.064357</td>\n",
       "      <td>1.031677</td>\n",
       "      <td>177.360543</td>\n",
       "      <td>0.888726</td>\n",
       "      <td>0.194186</td>\n",
       "    </tr>\n",
       "    <tr>\n",
       "      <th>0</th>\n",
       "      <td>cluster_basic</td>\n",
       "      <td>GradientBoostingRegressor</td>\n",
       "      <td>1.095299</td>\n",
       "      <td>1.046565</td>\n",
       "      <td>185.339790</td>\n",
       "      <td>0.522724</td>\n",
       "      <td>0.170761</td>\n",
       "    </tr>\n",
       "    <tr>\n",
       "      <th>0</th>\n",
       "      <td>cluster_MinMax</td>\n",
       "      <td>LinearRegression</td>\n",
       "      <td>1.091153</td>\n",
       "      <td>1.044583</td>\n",
       "      <td>205.060532</td>\n",
       "      <td>0.252865</td>\n",
       "      <td>0.173899</td>\n",
       "    </tr>\n",
       "    <tr>\n",
       "      <th>0</th>\n",
       "      <td>cluster_MinMax</td>\n",
       "      <td>RandomForestRegressor</td>\n",
       "      <td>1.054722</td>\n",
       "      <td>1.026997</td>\n",
       "      <td>178.594699</td>\n",
       "      <td>0.889353</td>\n",
       "      <td>0.201481</td>\n",
       "    </tr>\n",
       "    <tr>\n",
       "      <th>0</th>\n",
       "      <td>cluster_MinMax</td>\n",
       "      <td>GradientBoostingRegressor</td>\n",
       "      <td>1.094186</td>\n",
       "      <td>1.046034</td>\n",
       "      <td>185.065894</td>\n",
       "      <td>0.522724</td>\n",
       "      <td>0.171603</td>\n",
       "    </tr>\n",
       "  </tbody>\n",
       "</table>\n",
       "</div>"
      ],
      "text/plain": [
       "         Processo                     Modelo       MSE      RMSE        MAPE  \\\n",
       "0         inicial           LinearRegression  1.091373  1.044688  205.636216   \n",
       "0         inicial      RandomForestRegressor  1.030251  1.015013  167.783824   \n",
       "0         inicial  GradientBoostingRegressor  1.101818  1.049675  190.031693   \n",
       "0          MinMax           LinearRegression  1.091373  1.044688  205.636216   \n",
       "0          MinMax      RandomForestRegressor  1.036590  1.018131  165.294940   \n",
       "0          MinMax  GradientBoostingRegressor  1.100234  1.048920  189.504846   \n",
       "0   cluster_basic           LinearRegression  1.091153  1.044583  205.060532   \n",
       "0   cluster_basic      RandomForestRegressor  1.064357  1.031677  177.360543   \n",
       "0   cluster_basic  GradientBoostingRegressor  1.095299  1.046565  185.339790   \n",
       "0  cluster_MinMax           LinearRegression  1.091153  1.044583  205.060532   \n",
       "0  cluster_MinMax      RandomForestRegressor  1.054722  1.026997  178.594699   \n",
       "0  cluster_MinMax  GradientBoostingRegressor  1.094186  1.046034  185.065894   \n",
       "\n",
       "   R2_train   R2_test  \n",
       "0  0.252806  0.173733  \n",
       "0  0.887844  0.220008  \n",
       "0  0.526310  0.165825  \n",
       "0  0.252806  0.173733  \n",
       "0  0.885898  0.215209  \n",
       "0  0.526310  0.167025  \n",
       "0  0.252865  0.173899  \n",
       "0  0.888726  0.194186  \n",
       "0  0.522724  0.170761  \n",
       "0  0.252865  0.173899  \n",
       "0  0.889353  0.201481  \n",
       "0  0.522724  0.171603  "
      ]
     },
     "execution_count": 76,
     "metadata": {},
     "output_type": "execute_result"
    }
   ],
   "source": [
    "Tabela = pd.concat([Tabela,cluster_MinMax])\n",
    "Tabela"
   ]
  },
  {
   "cell_type": "code",
   "execution_count": 77,
   "metadata": {
    "ExecuteTime": {
     "end_time": "2020-07-10T12:18:30.224900Z",
     "start_time": "2020-07-10T12:18:30.187754Z"
    },
    "scrolled": true
   },
   "outputs": [
    {
     "data": {
      "text/html": [
       "<div>\n",
       "<style scoped>\n",
       "    .dataframe tbody tr th:only-of-type {\n",
       "        vertical-align: middle;\n",
       "    }\n",
       "\n",
       "    .dataframe tbody tr th {\n",
       "        vertical-align: top;\n",
       "    }\n",
       "\n",
       "    .dataframe thead th {\n",
       "        text-align: right;\n",
       "    }\n",
       "</style>\n",
       "<table border=\"1\" class=\"dataframe\">\n",
       "  <thead>\n",
       "    <tr style=\"text-align: right;\">\n",
       "      <th></th>\n",
       "      <th>Processo</th>\n",
       "      <th>Modelo</th>\n",
       "      <th>MSE</th>\n",
       "      <th>RMSE</th>\n",
       "      <th>MAPE</th>\n",
       "      <th>R2_train</th>\n",
       "      <th>R2_test</th>\n",
       "    </tr>\n",
       "  </thead>\n",
       "  <tbody>\n",
       "    <tr>\n",
       "      <th>0</th>\n",
       "      <td>inicial</td>\n",
       "      <td>RandomForestRegressor</td>\n",
       "      <td>1.030251</td>\n",
       "      <td>1.015013</td>\n",
       "      <td>167.783824</td>\n",
       "      <td>0.887844</td>\n",
       "      <td>0.220008</td>\n",
       "    </tr>\n",
       "    <tr>\n",
       "      <th>0</th>\n",
       "      <td>MinMax</td>\n",
       "      <td>RandomForestRegressor</td>\n",
       "      <td>1.036590</td>\n",
       "      <td>1.018131</td>\n",
       "      <td>165.294940</td>\n",
       "      <td>0.885898</td>\n",
       "      <td>0.215209</td>\n",
       "    </tr>\n",
       "    <tr>\n",
       "      <th>0</th>\n",
       "      <td>cluster_MinMax</td>\n",
       "      <td>RandomForestRegressor</td>\n",
       "      <td>1.054722</td>\n",
       "      <td>1.026997</td>\n",
       "      <td>178.594699</td>\n",
       "      <td>0.889353</td>\n",
       "      <td>0.201481</td>\n",
       "    </tr>\n",
       "    <tr>\n",
       "      <th>0</th>\n",
       "      <td>cluster_basic</td>\n",
       "      <td>RandomForestRegressor</td>\n",
       "      <td>1.064357</td>\n",
       "      <td>1.031677</td>\n",
       "      <td>177.360543</td>\n",
       "      <td>0.888726</td>\n",
       "      <td>0.194186</td>\n",
       "    </tr>\n",
       "    <tr>\n",
       "      <th>0</th>\n",
       "      <td>cluster_basic</td>\n",
       "      <td>LinearRegression</td>\n",
       "      <td>1.091153</td>\n",
       "      <td>1.044583</td>\n",
       "      <td>205.060532</td>\n",
       "      <td>0.252865</td>\n",
       "      <td>0.173899</td>\n",
       "    </tr>\n",
       "    <tr>\n",
       "      <th>0</th>\n",
       "      <td>cluster_MinMax</td>\n",
       "      <td>LinearRegression</td>\n",
       "      <td>1.091153</td>\n",
       "      <td>1.044583</td>\n",
       "      <td>205.060532</td>\n",
       "      <td>0.252865</td>\n",
       "      <td>0.173899</td>\n",
       "    </tr>\n",
       "    <tr>\n",
       "      <th>0</th>\n",
       "      <td>inicial</td>\n",
       "      <td>LinearRegression</td>\n",
       "      <td>1.091373</td>\n",
       "      <td>1.044688</td>\n",
       "      <td>205.636216</td>\n",
       "      <td>0.252806</td>\n",
       "      <td>0.173733</td>\n",
       "    </tr>\n",
       "    <tr>\n",
       "      <th>0</th>\n",
       "      <td>MinMax</td>\n",
       "      <td>LinearRegression</td>\n",
       "      <td>1.091373</td>\n",
       "      <td>1.044688</td>\n",
       "      <td>205.636216</td>\n",
       "      <td>0.252806</td>\n",
       "      <td>0.173733</td>\n",
       "    </tr>\n",
       "    <tr>\n",
       "      <th>0</th>\n",
       "      <td>cluster_MinMax</td>\n",
       "      <td>GradientBoostingRegressor</td>\n",
       "      <td>1.094186</td>\n",
       "      <td>1.046034</td>\n",
       "      <td>185.065894</td>\n",
       "      <td>0.522724</td>\n",
       "      <td>0.171603</td>\n",
       "    </tr>\n",
       "    <tr>\n",
       "      <th>0</th>\n",
       "      <td>cluster_basic</td>\n",
       "      <td>GradientBoostingRegressor</td>\n",
       "      <td>1.095299</td>\n",
       "      <td>1.046565</td>\n",
       "      <td>185.339790</td>\n",
       "      <td>0.522724</td>\n",
       "      <td>0.170761</td>\n",
       "    </tr>\n",
       "    <tr>\n",
       "      <th>0</th>\n",
       "      <td>MinMax</td>\n",
       "      <td>GradientBoostingRegressor</td>\n",
       "      <td>1.100234</td>\n",
       "      <td>1.048920</td>\n",
       "      <td>189.504846</td>\n",
       "      <td>0.526310</td>\n",
       "      <td>0.167025</td>\n",
       "    </tr>\n",
       "    <tr>\n",
       "      <th>0</th>\n",
       "      <td>inicial</td>\n",
       "      <td>GradientBoostingRegressor</td>\n",
       "      <td>1.101818</td>\n",
       "      <td>1.049675</td>\n",
       "      <td>190.031693</td>\n",
       "      <td>0.526310</td>\n",
       "      <td>0.165825</td>\n",
       "    </tr>\n",
       "  </tbody>\n",
       "</table>\n",
       "</div>"
      ],
      "text/plain": [
       "         Processo                     Modelo       MSE      RMSE        MAPE  \\\n",
       "0         inicial      RandomForestRegressor  1.030251  1.015013  167.783824   \n",
       "0          MinMax      RandomForestRegressor  1.036590  1.018131  165.294940   \n",
       "0  cluster_MinMax      RandomForestRegressor  1.054722  1.026997  178.594699   \n",
       "0   cluster_basic      RandomForestRegressor  1.064357  1.031677  177.360543   \n",
       "0   cluster_basic           LinearRegression  1.091153  1.044583  205.060532   \n",
       "0  cluster_MinMax           LinearRegression  1.091153  1.044583  205.060532   \n",
       "0         inicial           LinearRegression  1.091373  1.044688  205.636216   \n",
       "0          MinMax           LinearRegression  1.091373  1.044688  205.636216   \n",
       "0  cluster_MinMax  GradientBoostingRegressor  1.094186  1.046034  185.065894   \n",
       "0   cluster_basic  GradientBoostingRegressor  1.095299  1.046565  185.339790   \n",
       "0          MinMax  GradientBoostingRegressor  1.100234  1.048920  189.504846   \n",
       "0         inicial  GradientBoostingRegressor  1.101818  1.049675  190.031693   \n",
       "\n",
       "   R2_train   R2_test  \n",
       "0  0.887844  0.220008  \n",
       "0  0.885898  0.215209  \n",
       "0  0.889353  0.201481  \n",
       "0  0.888726  0.194186  \n",
       "0  0.252865  0.173899  \n",
       "0  0.252865  0.173899  \n",
       "0  0.252806  0.173733  \n",
       "0  0.252806  0.173733  \n",
       "0  0.522724  0.171603  \n",
       "0  0.522724  0.170761  \n",
       "0  0.526310  0.167025  \n",
       "0  0.526310  0.165825  "
      ]
     },
     "execution_count": 77,
     "metadata": {},
     "output_type": "execute_result"
    }
   ],
   "source": [
    "Tabela.sort_values(by = 'R2_test', ascending = False)"
   ]
  },
  {
   "cell_type": "markdown",
   "metadata": {},
   "source": [
    "## Hyperparameter Tunning"
   ]
  },
  {
   "cell_type": "code",
   "execution_count": null,
   "metadata": {},
   "outputs": [],
   "source": []
  },
  {
   "cell_type": "markdown",
   "metadata": {},
   "source": [
    "## Validacao"
   ]
  },
  {
   "cell_type": "code",
   "execution_count": null,
   "metadata": {
    "ExecuteTime": {
     "end_time": "2020-07-09T23:17:21.015027Z",
     "start_time": "2020-07-09T23:17:21.011067Z"
    }
   },
   "outputs": [],
   "source": [
    "from sklearn.model_selection import cross_val_score\n",
    "from sklearn.model_selection import train_test_split\n",
    "from sklearn.ensemble import RandomForestRegressor"
   ]
  },
  {
   "cell_type": "code",
   "execution_count": null,
   "metadata": {
    "ExecuteTime": {
     "end_time": "2020-07-09T23:17:27.643069Z",
     "start_time": "2020-07-09T23:17:27.634091Z"
    }
   },
   "outputs": [],
   "source": [
    "columns = final_generos_studios_rt.drop(['tconst', 'month','Worldwide_Gross','Production_Budget', 'day', 'year', 'log_rentability','rentability','movie_info','numVotes'], axis=1)\n",
    "\n",
    "X= columns.values\n",
    "# variável target\n",
    "y = final_generos_studios_rt['log_rentability']"
   ]
  },
  {
   "cell_type": "code",
   "execution_count": null,
   "metadata": {
    "ExecuteTime": {
     "end_time": "2020-07-09T23:17:34.462746Z",
     "start_time": "2020-07-09T23:17:34.456731Z"
    }
   },
   "outputs": [],
   "source": [
    "scaler = MinMaxScaler()\n",
    "scaler.fit_transform(X)"
   ]
  },
  {
   "cell_type": "code",
   "execution_count": null,
   "metadata": {
    "ExecuteTime": {
     "end_time": "2020-07-09T23:17:41.470348Z",
     "start_time": "2020-07-09T23:17:41.464365Z"
    }
   },
   "outputs": [],
   "source": [
    " X_train, X_test, y_train, y_test = train_test_split(X, y, test_size=0.2, random_state=42)"
   ]
  },
  {
   "cell_type": "code",
   "execution_count": null,
   "metadata": {
    "ExecuteTime": {
     "end_time": "2020-07-09T23:48:12.055206Z",
     "start_time": "2020-07-09T23:48:12.050220Z"
    }
   },
   "outputs": [],
   "source": [
    "def run_cv(X_train, y_train, k):\n",
    "    model = RandomForestRegressor()\n",
    "    \n",
    "    score = cross_val_score(estimator=model,\\\n",
    "                            X=X_train,\\\n",
    "                            y=y_train,\\\n",
    "                            scoring='neg_mean_squared_error',\\\n",
    "                            cv=k)\n",
    "    return score*-1"
   ]
  },
  {
   "cell_type": "code",
   "execution_count": null,
   "metadata": {
    "ExecuteTime": {
     "end_time": "2020-07-09T23:48:41.261112Z",
     "start_time": "2020-07-09T23:48:18.274609Z"
    }
   },
   "outputs": [],
   "source": [
    "score20 = run_cv(X_train, y_train, 20)\n",
    "print('mean', score20.mean())\n",
    "print('std', score20.std())"
   ]
  },
  {
   "cell_type": "code",
   "execution_count": null,
   "metadata": {
    "ExecuteTime": {
     "end_time": "2020-07-09T23:48:48.253452Z",
     "start_time": "2020-07-09T23:48:47.924298Z"
    }
   },
   "outputs": [],
   "source": [
    "fig = plt.figure(figsize=(14,6))\n",
    "plt.bar(range(len(score20)), score20)\n",
    "plt.grid()\n",
    "plt.xlabel('Número do fold')\n",
    "plt.ylabel('MAE');"
   ]
  },
  {
   "cell_type": "markdown",
   "metadata": {},
   "source": [
    "## Regressoes por Cluster"
   ]
  },
  {
   "cell_type": "code",
   "execution_count": null,
   "metadata": {
    "ExecuteTime": {
     "end_time": "2020-07-09T22:06:06.647850Z",
     "start_time": "2020-07-09T22:00:19.714Z"
    }
   },
   "outputs": [],
   "source": [
    "clusters = [0,1,2,3,4,5,6,7]\n",
    "dfs = []\n",
    "for i in clusters:\n",
    "    project = final_generos_studios_rt[final_generos_studios_rt.cluster == i ]\n",
    "    columns = project.drop(['tconst', 'month','Worldwide_Gross','Production_Budget', 'day', 'year', 'log_rentability','rentability','movie_info','numVotes'], axis=1)\n",
    "    \n",
    "    X= columns.values\n",
    "    y = project['log_rentability']\n",
    "\n",
    "    # definindo uma lista com todos os classificadores\n",
    "    regressors = [\n",
    "        LinearRegression(),\n",
    "        RandomForestRegressor(),\n",
    "        GradientBoostingRegressor()]\n",
    "\n",
    "    # definindo o tamanho da figura para o gráfico\n",
    "    plt.figure(figsize=(12,8))\n",
    "\n",
    "    for regr in regressors:\n",
    "        # instanciando o modelo\n",
    "        regr.fit(X, y)\n",
    "        y_pred = regr.predict(X)\n",
    "        # armazenando o nome do modelo na variável name\n",
    "        name = regr.__class__.__name__\n",
    "        #Metricas\n",
    "        from sklearn.metrics import mean_squared_error\n",
    "        from sklearn.metrics import r2_score\n",
    "\n",
    "        MSE = mean_squared_error(y, y_pred)\n",
    "        rmse = np.sqrt(mean_squared_error(y, y_pred))\n",
    "        mape = (np.sum(np.abs((y - y_pred)/y)*100))/len(y)\n",
    "        R2 = r2_score(y, y_pred)\n",
    "\n",
    "        d = {'Cluster': [i],'Modelo': [name],'MSE': [MSE], 'RMSE': [rmse], 'MAPE': [mape], 'R2': [R2]}\n",
    "        modelos = pd.DataFrame(data = d)\n",
    "\n",
    "        dfs.append(modelos)\n",
    "\n",
    "Tabela = pd.concat(dfs) "
   ]
  },
  {
   "cell_type": "code",
   "execution_count": null,
   "metadata": {
    "ExecuteTime": {
     "end_time": "2020-07-09T22:06:06.733134Z",
     "start_time": "2020-07-09T22:00:20.480Z"
    }
   },
   "outputs": [],
   "source": [
    "Tabela.sort_values(by = ['Cluster','R2'], ascending = False)"
   ]
  },
  {
   "cell_type": "markdown",
   "metadata": {},
   "source": [
    "## ANN"
   ]
  },
  {
   "cell_type": "code",
   "execution_count": null,
   "metadata": {
    "ExecuteTime": {
     "end_time": "2020-07-09T22:06:06.998424Z",
     "start_time": "2020-07-09T22:05:59.271Z"
    }
   },
   "outputs": [],
   "source": [
    "import itertools\n",
    "from keras.optimizers import RMSprop, Adadelta, Adam\n",
    "from sklearn.model_selection import train_test_split\n",
    "import matplotlib.pyplot as plt\n",
    "from keras.layers import Dense\n",
    "from keras.models import Sequential\n",
    "%matplotlib inline"
   ]
  },
  {
   "cell_type": "code",
   "execution_count": null,
   "metadata": {
    "ExecuteTime": {
     "end_time": "2020-07-09T22:06:07.084194Z",
     "start_time": "2020-07-09T22:06:00.820Z"
    }
   },
   "outputs": [],
   "source": [
    "model = Sequential()\n",
    "model.add(Dense(128, input_dim=X_train.shape[1], activation='sigmoid'))\n",
    "model.add(Dense(128, activation='sigmoid'))\n",
    "model.add(Dense(10, activation='softmax'))"
   ]
  },
  {
   "cell_type": "code",
   "execution_count": null,
   "metadata": {
    "ExecuteTime": {
     "end_time": "2020-07-09T22:06:07.176946Z",
     "start_time": "2020-07-09T22:06:02.023Z"
    }
   },
   "outputs": [],
   "source": [
    "model.summary()"
   ]
  },
  {
   "cell_type": "code",
   "execution_count": null,
   "metadata": {
    "ExecuteTime": {
     "end_time": "2020-07-08T20:02:36.842304Z",
     "start_time": "2020-07-08T20:01:26.437Z"
    }
   },
   "outputs": [],
   "source": [
    "model.compile(optimizer=Adadelta(), loss='categorical_crossentropy', metrics=['categorical_accuracy'])"
   ]
  },
  {
   "cell_type": "code",
   "execution_count": null,
   "metadata": {
    "ExecuteTime": {
     "end_time": "2020-07-08T20:02:36.847720Z",
     "start_time": "2020-07-08T20:01:26.470Z"
    }
   },
   "outputs": [],
   "source": [
    "model.fit(X_train, y_train, epochs=50)"
   ]
  },
  {
   "cell_type": "code",
   "execution_count": null,
   "metadata": {},
   "outputs": [],
   "source": []
  }
 ],
 "metadata": {
  "kernelspec": {
   "display_name": "Python 3",
   "language": "python",
   "name": "python3"
  },
  "language_info": {
   "codemirror_mode": {
    "name": "ipython",
    "version": 3
   },
   "file_extension": ".py",
   "mimetype": "text/x-python",
   "name": "python",
   "nbconvert_exporter": "python",
   "pygments_lexer": "ipython3",
   "version": "3.7.7"
  },
  "toc": {
   "base_numbering": 1,
   "nav_menu": {
    "height": "196px",
    "width": "581px"
   },
   "number_sections": true,
   "sideBar": true,
   "skip_h1_title": false,
   "title_cell": "Table of Contents",
   "title_sidebar": "Contents",
   "toc_cell": false,
   "toc_position": {},
   "toc_section_display": true,
   "toc_window_display": false
  },
  "varInspector": {
   "cols": {
    "lenName": 16,
    "lenType": 16,
    "lenVar": 40
   },
   "kernels_config": {
    "python": {
     "delete_cmd_postfix": "",
     "delete_cmd_prefix": "del ",
     "library": "var_list.py",
     "varRefreshCmd": "print(var_dic_list())"
    },
    "r": {
     "delete_cmd_postfix": ") ",
     "delete_cmd_prefix": "rm(",
     "library": "var_list.r",
     "varRefreshCmd": "cat(var_dic_list()) "
    }
   },
   "types_to_exclude": [
    "module",
    "function",
    "builtin_function_or_method",
    "instance",
    "_Feature"
   ],
   "window_display": false
  }
 },
 "nbformat": 4,
 "nbformat_minor": 4
}
