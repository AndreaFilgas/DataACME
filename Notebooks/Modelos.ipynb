{
 "cells": [
  {
   "cell_type": "markdown",
   "metadata": {},
   "source": [
    "## Revisando as possiveis Tabelas"
   ]
  },
  {
   "cell_type": "code",
   "execution_count": 1,
   "metadata": {
    "ExecuteTime": {
     "end_time": "2020-07-08T21:12:49.335140Z",
     "start_time": "2020-07-08T21:12:47.926756Z"
    }
   },
   "outputs": [],
   "source": [
    "# abrir bibliotecas\n",
    "import pandas as pd\n",
    "import numpy as np\n",
    "import seaborn as sns\n",
    "import statsmodels.formula.api as smf\n",
    "import matplotlib.pyplot as plt\n",
    "from tqdm.auto import tqdm\n",
    "%matplotlib inline"
   ]
  },
  {
   "cell_type": "markdown",
   "metadata": {},
   "source": [
    "## Base Final"
   ]
  },
  {
   "cell_type": "code",
   "execution_count": 2,
   "metadata": {
    "ExecuteTime": {
     "end_time": "2020-07-08T21:12:49.375499Z",
     "start_time": "2020-07-08T21:12:49.337060Z"
    }
   },
   "outputs": [],
   "source": [
    "final = pd.read_csv('C:/Users/afilg/OneDrive/DATA SCIENCE/Aulas - Originais/Projeto_Integrador/final.csv')"
   ]
  },
  {
   "cell_type": "code",
   "execution_count": 3,
   "metadata": {
    "ExecuteTime": {
     "end_time": "2020-07-08T21:12:49.383451Z",
     "start_time": "2020-07-08T21:12:49.377469Z"
    }
   },
   "outputs": [],
   "source": [
    "final = final.drop(['Unnamed: 0'], axis = 1)"
   ]
  },
  {
   "cell_type": "code",
   "execution_count": 4,
   "metadata": {
    "ExecuteTime": {
     "end_time": "2020-07-08T21:12:49.411378Z",
     "start_time": "2020-07-08T21:12:49.384449Z"
    }
   },
   "outputs": [
    {
     "data": {
      "text/html": [
       "<div>\n",
       "<style scoped>\n",
       "    .dataframe tbody tr th:only-of-type {\n",
       "        vertical-align: middle;\n",
       "    }\n",
       "\n",
       "    .dataframe tbody tr th {\n",
       "        vertical-align: top;\n",
       "    }\n",
       "\n",
       "    .dataframe thead th {\n",
       "        text-align: right;\n",
       "    }\n",
       "</style>\n",
       "<table border=\"1\" class=\"dataframe\">\n",
       "  <thead>\n",
       "    <tr style=\"text-align: right;\">\n",
       "      <th></th>\n",
       "      <th>0</th>\n",
       "      <th>1</th>\n",
       "    </tr>\n",
       "  </thead>\n",
       "  <tbody>\n",
       "    <tr>\n",
       "      <th>tconst</th>\n",
       "      <td>tt0118589</td>\n",
       "      <td>tt0120681</td>\n",
       "    </tr>\n",
       "    <tr>\n",
       "      <th>primaryTitle</th>\n",
       "      <td>Glitter</td>\n",
       "      <td>From Hell</td>\n",
       "    </tr>\n",
       "    <tr>\n",
       "      <th>startYear</th>\n",
       "      <td>2001</td>\n",
       "      <td>2001</td>\n",
       "    </tr>\n",
       "    <tr>\n",
       "      <th>runtimeMinutes</th>\n",
       "      <td>104</td>\n",
       "      <td>122</td>\n",
       "    </tr>\n",
       "    <tr>\n",
       "      <th>genre_1</th>\n",
       "      <td>Drama</td>\n",
       "      <td>Horror</td>\n",
       "    </tr>\n",
       "    <tr>\n",
       "      <th>...</th>\n",
       "      <td>...</td>\n",
       "      <td>...</td>\n",
       "    </tr>\n",
       "    <tr>\n",
       "      <th>writer_1_ratingAverage</th>\n",
       "      <td>NaN</td>\n",
       "      <td>NaN</td>\n",
       "    </tr>\n",
       "    <tr>\n",
       "      <th>writer_2_ratingAverage</th>\n",
       "      <td>6.9</td>\n",
       "      <td>NaN</td>\n",
       "    </tr>\n",
       "    <tr>\n",
       "      <th>AvgRating</th>\n",
       "      <td>5.8</td>\n",
       "      <td>6.25821</td>\n",
       "    </tr>\n",
       "    <tr>\n",
       "      <th>numFilmes</th>\n",
       "      <td>0.25</td>\n",
       "      <td>1</td>\n",
       "    </tr>\n",
       "    <tr>\n",
       "      <th>num_crew</th>\n",
       "      <td>10</td>\n",
       "      <td>10</td>\n",
       "    </tr>\n",
       "  </tbody>\n",
       "</table>\n",
       "<p>66 rows × 2 columns</p>\n",
       "</div>"
      ],
      "text/plain": [
       "                                0          1\n",
       "tconst                  tt0118589  tt0120681\n",
       "primaryTitle              Glitter  From Hell\n",
       "startYear                    2001       2001\n",
       "runtimeMinutes                104        122\n",
       "genre_1                     Drama     Horror\n",
       "...                           ...        ...\n",
       "writer_1_ratingAverage        NaN        NaN\n",
       "writer_2_ratingAverage        6.9        NaN\n",
       "AvgRating                     5.8    6.25821\n",
       "numFilmes                    0.25          1\n",
       "num_crew                       10         10\n",
       "\n",
       "[66 rows x 2 columns]"
      ]
     },
     "execution_count": 4,
     "metadata": {},
     "output_type": "execute_result"
    }
   ],
   "source": [
    "final.head(2).T"
   ]
  },
  {
   "cell_type": "code",
   "execution_count": 5,
   "metadata": {
    "ExecuteTime": {
     "end_time": "2020-07-08T21:12:49.442295Z",
     "start_time": "2020-07-08T21:12:49.413373Z"
    }
   },
   "outputs": [
    {
     "name": "stdout",
     "output_type": "stream",
     "text": [
      "<class 'pandas.core.frame.DataFrame'>\n",
      "RangeIndex: 1490 entries, 0 to 1489\n",
      "Data columns (total 66 columns):\n",
      " #   Column                                Non-Null Count  Dtype  \n",
      "---  ------                                --------------  -----  \n",
      " 0   tconst                                1490 non-null   object \n",
      " 1   primaryTitle                          1490 non-null   object \n",
      " 2   startYear                             1490 non-null   int64  \n",
      " 3   runtimeMinutes                        1490 non-null   int64  \n",
      " 4   genre_1                               1490 non-null   object \n",
      " 5   genre_2                               1373 non-null   object \n",
      " 6   genre_3                               997 non-null    object \n",
      " 7   Item                                  1490 non-null   int64  \n",
      " 8   Mês                                   1490 non-null   object \n",
      " 9   month                                 1490 non-null   float64\n",
      " 10  day                                   1490 non-null   float64\n",
      " 11  year                                  1490 non-null   int64  \n",
      " 12  Data Portugues                        1490 non-null   object \n",
      " 13  FW                                    1490 non-null   int64  \n",
      " 14  Worldwide_Gross                       1490 non-null   float64\n",
      " 15  Production_Budget                     1490 non-null   float64\n",
      " 16  rentability                           1490 non-null   float64\n",
      " 17  log_rentability                       1490 non-null   float64\n",
      " 18  rating                                1490 non-null   object \n",
      " 19  movie_info                            1490 non-null   object \n",
      " 20  on_streaming_date                     1482 non-null   object \n",
      " 21  studio_name                           1485 non-null   object \n",
      " 22  tomatometer_status                    1490 non-null   object \n",
      " 23  tomatometer_rating                    1490 non-null   float64\n",
      " 24  tomatometer_count                     1490 non-null   int64  \n",
      " 25  audience_status                       1490 non-null   object \n",
      " 26  audience_want_to_see_count            1490 non-null   int64  \n",
      " 27  audience_rating                       1490 non-null   float64\n",
      " 28  audience_count                        1490 non-null   float64\n",
      " 29  audience_top_critics_count            1490 non-null   int64  \n",
      " 30  audience_fresh_critics_count          1490 non-null   int64  \n",
      " 31  audience_rotten_critics_count         1490 non-null   int64  \n",
      " 32  audience_fresh_top_critics_count      1490 non-null   int64  \n",
      " 33  audience_rotten_rotten_critics_count  1490 non-null   int64  \n",
      " 34  tomatometer_avg_rating                1490 non-null   float64\n",
      " 35  audience_top_critics_avg_rating       1490 non-null   float64\n",
      " 36  score_sentiment                       1490 non-null   object \n",
      " 37  audience_avg_rating                   1490 non-null   float64\n",
      " 38  Negative                              1490 non-null   int64  \n",
      " 39  Positive                              1490 non-null   int64  \n",
      " 40  All                                   1490 non-null   int64  \n",
      " 41  negative_perc                         1490 non-null   float64\n",
      " 42  positive_perc                         1490 non-null   float64\n",
      " 43  NPremium_Indicado                     1490 non-null   int64  \n",
      " 44  NPremium_Win                          1490 non-null   int64  \n",
      " 45  Premium_Indicado                      1490 non-null   int64  \n",
      " 46  Premium_Win                           1490 non-null   int64  \n",
      " 47  movieyear                             1490 non-null   object \n",
      " 48  averageRating                         1490 non-null   float64\n",
      " 49  numVotes                              1490 non-null   int64  \n",
      " 50  directors_1                           1490 non-null   object \n",
      " 51  directors_2                           128 non-null    object \n",
      " 52  writers_1                             1490 non-null   object \n",
      " 53  writers_2                             1074 non-null   object \n",
      " 54  rating_num                            1490 non-null   float64\n",
      " 55  directors_1_films                     1490 non-null   int64  \n",
      " 56  directors_2_films                     1490 non-null   int64  \n",
      " 57  directors_1_ratingAverage             1234 non-null   float64\n",
      " 58  directors_2_ratingAverage             78 non-null     float64\n",
      " 59  writer_1_films                        1490 non-null   int64  \n",
      " 60  writer_2_films                        1490 non-null   int64  \n",
      " 61  writer_1_ratingAverage                1024 non-null   float64\n",
      " 62  writer_2_ratingAverage                660 non-null    float64\n",
      " 63  AvgRating                             1362 non-null   float64\n",
      " 64  numFilmes                             1490 non-null   float64\n",
      " 65  num_crew                              1490 non-null   int64  \n",
      "dtypes: float64(22), int64(25), object(19)\n",
      "memory usage: 768.4+ KB\n"
     ]
    }
   ],
   "source": [
    "final.info()"
   ]
  },
  {
   "cell_type": "code",
   "execution_count": 6,
   "metadata": {
    "ExecuteTime": {
     "end_time": "2020-07-08T21:12:49.453264Z",
     "start_time": "2020-07-08T21:12:49.443291Z"
    }
   },
   "outputs": [],
   "source": [
    "final = final.drop(['rating','primaryTitle','Mês','Item','Data Portugues','on_streaming_date','Negative','Positive','All','movieyear','directors_1','directors_2','writers_1','writers_2','rating_num','tomatometer_rating','tomatometer_count','audience_want_to_see_count','audience_rating','audience_count','audience_top_critics_count','audience_fresh_critics_count','audience_rotten_critics_count','audience_fresh_top_critics_count','audience_rotten_rotten_critics_count','tomatometer_avg_rating','audience_top_critics_avg_rating','score_sentiment','startYear'], axis = 1)                           "
   ]
  },
  {
   "cell_type": "code",
   "execution_count": 7,
   "metadata": {
    "ExecuteTime": {
     "end_time": "2020-07-08T21:12:49.479230Z",
     "start_time": "2020-07-08T21:12:49.455261Z"
    }
   },
   "outputs": [
    {
     "name": "stdout",
     "output_type": "stream",
     "text": [
      "<class 'pandas.core.frame.DataFrame'>\n",
      "RangeIndex: 1490 entries, 0 to 1489\n",
      "Data columns (total 37 columns):\n",
      " #   Column                     Non-Null Count  Dtype  \n",
      "---  ------                     --------------  -----  \n",
      " 0   tconst                     1490 non-null   object \n",
      " 1   runtimeMinutes             1490 non-null   int64  \n",
      " 2   genre_1                    1490 non-null   object \n",
      " 3   genre_2                    1373 non-null   object \n",
      " 4   genre_3                    997 non-null    object \n",
      " 5   month                      1490 non-null   float64\n",
      " 6   day                        1490 non-null   float64\n",
      " 7   year                       1490 non-null   int64  \n",
      " 8   FW                         1490 non-null   int64  \n",
      " 9   Worldwide_Gross            1490 non-null   float64\n",
      " 10  Production_Budget          1490 non-null   float64\n",
      " 11  rentability                1490 non-null   float64\n",
      " 12  log_rentability            1490 non-null   float64\n",
      " 13  movie_info                 1490 non-null   object \n",
      " 14  studio_name                1485 non-null   object \n",
      " 15  tomatometer_status         1490 non-null   object \n",
      " 16  audience_status            1490 non-null   object \n",
      " 17  audience_avg_rating        1490 non-null   float64\n",
      " 18  negative_perc              1490 non-null   float64\n",
      " 19  positive_perc              1490 non-null   float64\n",
      " 20  NPremium_Indicado          1490 non-null   int64  \n",
      " 21  NPremium_Win               1490 non-null   int64  \n",
      " 22  Premium_Indicado           1490 non-null   int64  \n",
      " 23  Premium_Win                1490 non-null   int64  \n",
      " 24  averageRating              1490 non-null   float64\n",
      " 25  numVotes                   1490 non-null   int64  \n",
      " 26  directors_1_films          1490 non-null   int64  \n",
      " 27  directors_2_films          1490 non-null   int64  \n",
      " 28  directors_1_ratingAverage  1234 non-null   float64\n",
      " 29  directors_2_ratingAverage  78 non-null     float64\n",
      " 30  writer_1_films             1490 non-null   int64  \n",
      " 31  writer_2_films             1490 non-null   int64  \n",
      " 32  writer_1_ratingAverage     1024 non-null   float64\n",
      " 33  writer_2_ratingAverage     660 non-null    float64\n",
      " 34  AvgRating                  1362 non-null   float64\n",
      " 35  numFilmes                  1490 non-null   float64\n",
      " 36  num_crew                   1490 non-null   int64  \n",
      "dtypes: float64(16), int64(13), object(8)\n",
      "memory usage: 430.8+ KB\n"
     ]
    }
   ],
   "source": [
    "final.info()"
   ]
  },
  {
   "cell_type": "markdown",
   "metadata": {},
   "source": [
    "## Analise da Target"
   ]
  },
  {
   "cell_type": "code",
   "execution_count": 8,
   "metadata": {
    "ExecuteTime": {
     "end_time": "2020-07-08T21:12:49.779428Z",
     "start_time": "2020-07-08T21:12:49.481191Z"
    }
   },
   "outputs": [
    {
     "data": {
      "text/plain": [
       "<matplotlib.axes._subplots.AxesSubplot at 0x1b06b834108>"
      ]
     },
     "execution_count": 8,
     "metadata": {},
     "output_type": "execute_result"
    },
    {
     "data": {
      "image/png": "[encoded data removed]",
      "text/plain": [
       "<Figure size 432x288 with 1 Axes>"
      ]
     },
     "metadata": {
      "needs_background": "light"
     },
     "output_type": "display_data"
    }
   ],
   "source": [
    "final['rentability'].hist(bins = 100)"
   ]
  },
  {
   "cell_type": "code",
   "execution_count": 9,
   "metadata": {
    "ExecuteTime": {
     "end_time": "2020-07-08T21:12:49.917950Z",
     "start_time": "2020-07-08T21:12:49.781387Z"
    }
   },
   "outputs": [
    {
     "data": {
      "image/png": "[encoded data removed]",
      "text/plain": [
       "<Figure size 432x288 with 1 Axes>"
      ]
     },
     "metadata": {},
     "output_type": "display_data"
    }
   ],
   "source": [
    "sns.set(style=\"whitegrid\")\n",
    "tips = final\n",
    "ax = sns.boxplot(y='log_rentability',data = tips)"
   ]
  },
  {
   "cell_type": "code",
   "execution_count": 10,
   "metadata": {
    "ExecuteTime": {
     "end_time": "2020-07-08T21:12:49.927891Z",
     "start_time": "2020-07-08T21:12:49.919914Z"
    }
   },
   "outputs": [],
   "source": [
    "final = final[(final.log_rentability > -4)&(final.log_rentability < 4)]"
   ]
  },
  {
   "cell_type": "code",
   "execution_count": 11,
   "metadata": {
    "ExecuteTime": {
     "end_time": "2020-07-08T21:12:50.438525Z",
     "start_time": "2020-07-08T21:12:49.929888Z"
    }
   },
   "outputs": [
    {
     "data": {
      "text/plain": [
       "<matplotlib.axes._subplots.AxesSubplot at 0x1b06c1eba48>"
      ]
     },
     "execution_count": 11,
     "metadata": {},
     "output_type": "execute_result"
    },
    {
     "data": {
      "image/png": "[encoded data removed]",
      "text/plain": [
       "<Figure size 432x288 with 1 Axes>"
      ]
     },
     "metadata": {},
     "output_type": "display_data"
    }
   ],
   "source": [
    "final['log_rentability'].hist(bins = 100)"
   ]
  },
  {
   "cell_type": "markdown",
   "metadata": {},
   "source": [
    "## Dummização"
   ]
  },
  {
   "cell_type": "markdown",
   "metadata": {},
   "source": [
    "### Geneross"
   ]
  },
  {
   "cell_type": "code",
   "execution_count": 12,
   "metadata": {
    "ExecuteTime": {
     "end_time": "2020-07-08T21:12:50.447534Z",
     "start_time": "2020-07-08T21:12:50.440520Z"
    }
   },
   "outputs": [],
   "source": [
    "Genero1 = pd.get_dummies(final['genre_1'])"
   ]
  },
  {
   "cell_type": "code",
   "execution_count": 13,
   "metadata": {
    "ExecuteTime": {
     "end_time": "2020-07-08T21:12:50.480839Z",
     "start_time": "2020-07-08T21:12:50.448910Z"
    },
    "scrolled": true
   },
   "outputs": [
    {
     "data": {
      "text/html": [
       "<div>\n",
       "<style scoped>\n",
       "    .dataframe tbody tr th:only-of-type {\n",
       "        vertical-align: middle;\n",
       "    }\n",
       "\n",
       "    .dataframe tbody tr th {\n",
       "        vertical-align: top;\n",
       "    }\n",
       "\n",
       "    .dataframe thead th {\n",
       "        text-align: right;\n",
       "    }\n",
       "</style>\n",
       "<table border=\"1\" class=\"dataframe\">\n",
       "  <thead>\n",
       "    <tr style=\"text-align: right;\">\n",
       "      <th></th>\n",
       "      <th>Action</th>\n",
       "      <th>Adventure</th>\n",
       "      <th>Animation</th>\n",
       "      <th>Biography</th>\n",
       "      <th>Comedy</th>\n",
       "      <th>Crime</th>\n",
       "      <th>Documentary</th>\n",
       "      <th>Drama</th>\n",
       "      <th>Fantasy</th>\n",
       "      <th>Horror</th>\n",
       "      <th>Musical</th>\n",
       "      <th>Mystery</th>\n",
       "      <th>Sci-Fi</th>\n",
       "      <th>Thriller</th>\n",
       "    </tr>\n",
       "  </thead>\n",
       "  <tbody>\n",
       "    <tr>\n",
       "      <th>0</th>\n",
       "      <td>0</td>\n",
       "      <td>0</td>\n",
       "      <td>0</td>\n",
       "      <td>0</td>\n",
       "      <td>0</td>\n",
       "      <td>0</td>\n",
       "      <td>0</td>\n",
       "      <td>1</td>\n",
       "      <td>0</td>\n",
       "      <td>0</td>\n",
       "      <td>0</td>\n",
       "      <td>0</td>\n",
       "      <td>0</td>\n",
       "      <td>0</td>\n",
       "    </tr>\n",
       "    <tr>\n",
       "      <th>1</th>\n",
       "      <td>0</td>\n",
       "      <td>0</td>\n",
       "      <td>0</td>\n",
       "      <td>0</td>\n",
       "      <td>0</td>\n",
       "      <td>0</td>\n",
       "      <td>0</td>\n",
       "      <td>0</td>\n",
       "      <td>0</td>\n",
       "      <td>1</td>\n",
       "      <td>0</td>\n",
       "      <td>0</td>\n",
       "      <td>0</td>\n",
       "      <td>0</td>\n",
       "    </tr>\n",
       "    <tr>\n",
       "      <th>2</th>\n",
       "      <td>1</td>\n",
       "      <td>0</td>\n",
       "      <td>0</td>\n",
       "      <td>0</td>\n",
       "      <td>0</td>\n",
       "      <td>0</td>\n",
       "      <td>0</td>\n",
       "      <td>0</td>\n",
       "      <td>0</td>\n",
       "      <td>0</td>\n",
       "      <td>0</td>\n",
       "      <td>0</td>\n",
       "      <td>0</td>\n",
       "      <td>0</td>\n",
       "    </tr>\n",
       "    <tr>\n",
       "      <th>3</th>\n",
       "      <td>1</td>\n",
       "      <td>0</td>\n",
       "      <td>0</td>\n",
       "      <td>0</td>\n",
       "      <td>0</td>\n",
       "      <td>0</td>\n",
       "      <td>0</td>\n",
       "      <td>0</td>\n",
       "      <td>0</td>\n",
       "      <td>0</td>\n",
       "      <td>0</td>\n",
       "      <td>0</td>\n",
       "      <td>0</td>\n",
       "      <td>0</td>\n",
       "    </tr>\n",
       "    <tr>\n",
       "      <th>4</th>\n",
       "      <td>0</td>\n",
       "      <td>0</td>\n",
       "      <td>0</td>\n",
       "      <td>0</td>\n",
       "      <td>1</td>\n",
       "      <td>0</td>\n",
       "      <td>0</td>\n",
       "      <td>0</td>\n",
       "      <td>0</td>\n",
       "      <td>0</td>\n",
       "      <td>0</td>\n",
       "      <td>0</td>\n",
       "      <td>0</td>\n",
       "      <td>0</td>\n",
       "    </tr>\n",
       "  </tbody>\n",
       "</table>\n",
       "</div>"
      ],
      "text/plain": [
       "   Action  Adventure  Animation  Biography  Comedy  Crime  Documentary  Drama  \\\n",
       "0       0          0          0          0       0      0            0      1   \n",
       "1       0          0          0          0       0      0            0      0   \n",
       "2       1          0          0          0       0      0            0      0   \n",
       "3       1          0          0          0       0      0            0      0   \n",
       "4       0          0          0          0       1      0            0      0   \n",
       "\n",
       "   Fantasy  Horror  Musical  Mystery  Sci-Fi  Thriller  \n",
       "0        0       0        0        0       0         0  \n",
       "1        0       1        0        0       0         0  \n",
       "2        0       0        0        0       0         0  \n",
       "3        0       0        0        0       0         0  \n",
       "4        0       0        0        0       0         0  "
      ]
     },
     "execution_count": 13,
     "metadata": {},
     "output_type": "execute_result"
    }
   ],
   "source": [
    "Genero1.head()"
   ]
  },
  {
   "cell_type": "code",
   "execution_count": 14,
   "metadata": {
    "ExecuteTime": {
     "end_time": "2020-07-08T21:12:50.496766Z",
     "start_time": "2020-07-08T21:12:50.483799Z"
    }
   },
   "outputs": [],
   "source": [
    "Genero2 = pd.get_dummies(final['genre_2'])"
   ]
  },
  {
   "cell_type": "code",
   "execution_count": 15,
   "metadata": {
    "ExecuteTime": {
     "end_time": "2020-07-08T21:12:50.523711Z",
     "start_time": "2020-07-08T21:12:50.498761Z"
    }
   },
   "outputs": [
    {
     "data": {
      "text/html": [
       "<div>\n",
       "<style scoped>\n",
       "    .dataframe tbody tr th:only-of-type {\n",
       "        vertical-align: middle;\n",
       "    }\n",
       "\n",
       "    .dataframe tbody tr th {\n",
       "        vertical-align: top;\n",
       "    }\n",
       "\n",
       "    .dataframe thead th {\n",
       "        text-align: right;\n",
       "    }\n",
       "</style>\n",
       "<table border=\"1\" class=\"dataframe\">\n",
       "  <thead>\n",
       "    <tr style=\"text-align: right;\">\n",
       "      <th></th>\n",
       "      <th>Adventure</th>\n",
       "      <th>Animation</th>\n",
       "      <th>Biography</th>\n",
       "      <th>Comedy</th>\n",
       "      <th>Crime</th>\n",
       "      <th>Documentary</th>\n",
       "      <th>Drama</th>\n",
       "      <th>Family</th>\n",
       "      <th>Fantasy</th>\n",
       "      <th>History</th>\n",
       "      <th>Horror</th>\n",
       "      <th>Music</th>\n",
       "      <th>Musical</th>\n",
       "      <th>Mystery</th>\n",
       "      <th>Romance</th>\n",
       "      <th>Sci-Fi</th>\n",
       "      <th>Sport</th>\n",
       "      <th>Thriller</th>\n",
       "      <th>War</th>\n",
       "      <th>Western</th>\n",
       "    </tr>\n",
       "  </thead>\n",
       "  <tbody>\n",
       "    <tr>\n",
       "      <th>0</th>\n",
       "      <td>0</td>\n",
       "      <td>0</td>\n",
       "      <td>0</td>\n",
       "      <td>0</td>\n",
       "      <td>0</td>\n",
       "      <td>0</td>\n",
       "      <td>0</td>\n",
       "      <td>0</td>\n",
       "      <td>0</td>\n",
       "      <td>0</td>\n",
       "      <td>0</td>\n",
       "      <td>1</td>\n",
       "      <td>0</td>\n",
       "      <td>0</td>\n",
       "      <td>0</td>\n",
       "      <td>0</td>\n",
       "      <td>0</td>\n",
       "      <td>0</td>\n",
       "      <td>0</td>\n",
       "      <td>0</td>\n",
       "    </tr>\n",
       "    <tr>\n",
       "      <th>1</th>\n",
       "      <td>0</td>\n",
       "      <td>0</td>\n",
       "      <td>0</td>\n",
       "      <td>0</td>\n",
       "      <td>0</td>\n",
       "      <td>0</td>\n",
       "      <td>0</td>\n",
       "      <td>0</td>\n",
       "      <td>0</td>\n",
       "      <td>0</td>\n",
       "      <td>0</td>\n",
       "      <td>0</td>\n",
       "      <td>0</td>\n",
       "      <td>1</td>\n",
       "      <td>0</td>\n",
       "      <td>0</td>\n",
       "      <td>0</td>\n",
       "      <td>0</td>\n",
       "      <td>0</td>\n",
       "      <td>0</td>\n",
       "    </tr>\n",
       "    <tr>\n",
       "      <th>2</th>\n",
       "      <td>1</td>\n",
       "      <td>0</td>\n",
       "      <td>0</td>\n",
       "      <td>0</td>\n",
       "      <td>0</td>\n",
       "      <td>0</td>\n",
       "      <td>0</td>\n",
       "      <td>0</td>\n",
       "      <td>0</td>\n",
       "      <td>0</td>\n",
       "      <td>0</td>\n",
       "      <td>0</td>\n",
       "      <td>0</td>\n",
       "      <td>0</td>\n",
       "      <td>0</td>\n",
       "      <td>0</td>\n",
       "      <td>0</td>\n",
       "      <td>0</td>\n",
       "      <td>0</td>\n",
       "      <td>0</td>\n",
       "    </tr>\n",
       "    <tr>\n",
       "      <th>3</th>\n",
       "      <td>1</td>\n",
       "      <td>0</td>\n",
       "      <td>0</td>\n",
       "      <td>0</td>\n",
       "      <td>0</td>\n",
       "      <td>0</td>\n",
       "      <td>0</td>\n",
       "      <td>0</td>\n",
       "      <td>0</td>\n",
       "      <td>0</td>\n",
       "      <td>0</td>\n",
       "      <td>0</td>\n",
       "      <td>0</td>\n",
       "      <td>0</td>\n",
       "      <td>0</td>\n",
       "      <td>0</td>\n",
       "      <td>0</td>\n",
       "      <td>0</td>\n",
       "      <td>0</td>\n",
       "      <td>0</td>\n",
       "    </tr>\n",
       "    <tr>\n",
       "      <th>4</th>\n",
       "      <td>0</td>\n",
       "      <td>0</td>\n",
       "      <td>0</td>\n",
       "      <td>0</td>\n",
       "      <td>0</td>\n",
       "      <td>0</td>\n",
       "      <td>1</td>\n",
       "      <td>0</td>\n",
       "      <td>0</td>\n",
       "      <td>0</td>\n",
       "      <td>0</td>\n",
       "      <td>0</td>\n",
       "      <td>0</td>\n",
       "      <td>0</td>\n",
       "      <td>0</td>\n",
       "      <td>0</td>\n",
       "      <td>0</td>\n",
       "      <td>0</td>\n",
       "      <td>0</td>\n",
       "      <td>0</td>\n",
       "    </tr>\n",
       "  </tbody>\n",
       "</table>\n",
       "</div>"
      ],
      "text/plain": [
       "   Adventure  Animation  Biography  Comedy  Crime  Documentary  Drama  Family  \\\n",
       "0          0          0          0       0      0            0      0       0   \n",
       "1          0          0          0       0      0            0      0       0   \n",
       "2          1          0          0       0      0            0      0       0   \n",
       "3          1          0          0       0      0            0      0       0   \n",
       "4          0          0          0       0      0            0      1       0   \n",
       "\n",
       "   Fantasy  History  Horror  Music  Musical  Mystery  Romance  Sci-Fi  Sport  \\\n",
       "0        0        0       0      1        0        0        0       0      0   \n",
       "1        0        0       0      0        0        1        0       0      0   \n",
       "2        0        0       0      0        0        0        0       0      0   \n",
       "3        0        0       0      0        0        0        0       0      0   \n",
       "4        0        0       0      0        0        0        0       0      0   \n",
       "\n",
       "   Thriller  War  Western  \n",
       "0         0    0        0  \n",
       "1         0    0        0  \n",
       "2         0    0        0  \n",
       "3         0    0        0  \n",
       "4         0    0        0  "
      ]
     },
     "execution_count": 15,
     "metadata": {},
     "output_type": "execute_result"
    }
   ],
   "source": [
    "Genero2.head()"
   ]
  },
  {
   "cell_type": "code",
   "execution_count": 16,
   "metadata": {
    "ExecuteTime": {
     "end_time": "2020-07-08T21:12:50.538651Z",
     "start_time": "2020-07-08T21:12:50.526684Z"
    }
   },
   "outputs": [],
   "source": [
    "Genero3 = pd.get_dummies(final['genre_3'])"
   ]
  },
  {
   "cell_type": "code",
   "execution_count": 17,
   "metadata": {
    "ExecuteTime": {
     "end_time": "2020-07-08T21:12:50.572596Z",
     "start_time": "2020-07-08T21:12:50.540646Z"
    }
   },
   "outputs": [
    {
     "data": {
      "text/html": [
       "<div>\n",
       "<style scoped>\n",
       "    .dataframe tbody tr th:only-of-type {\n",
       "        vertical-align: middle;\n",
       "    }\n",
       "\n",
       "    .dataframe tbody tr th {\n",
       "        vertical-align: top;\n",
       "    }\n",
       "\n",
       "    .dataframe thead th {\n",
       "        text-align: right;\n",
       "    }\n",
       "</style>\n",
       "<table border=\"1\" class=\"dataframe\">\n",
       "  <thead>\n",
       "    <tr style=\"text-align: right;\">\n",
       "      <th></th>\n",
       "      <th>Animation</th>\n",
       "      <th>Biography</th>\n",
       "      <th>Comedy</th>\n",
       "      <th>Crime</th>\n",
       "      <th>Drama</th>\n",
       "      <th>Family</th>\n",
       "      <th>Fantasy</th>\n",
       "      <th>History</th>\n",
       "      <th>Horror</th>\n",
       "      <th>Music</th>\n",
       "      <th>Musical</th>\n",
       "      <th>Mystery</th>\n",
       "      <th>Romance</th>\n",
       "      <th>Sci-Fi</th>\n",
       "      <th>Sport</th>\n",
       "      <th>Thriller</th>\n",
       "      <th>War</th>\n",
       "      <th>Western</th>\n",
       "    </tr>\n",
       "  </thead>\n",
       "  <tbody>\n",
       "    <tr>\n",
       "      <th>0</th>\n",
       "      <td>0</td>\n",
       "      <td>0</td>\n",
       "      <td>0</td>\n",
       "      <td>0</td>\n",
       "      <td>0</td>\n",
       "      <td>0</td>\n",
       "      <td>0</td>\n",
       "      <td>0</td>\n",
       "      <td>0</td>\n",
       "      <td>0</td>\n",
       "      <td>0</td>\n",
       "      <td>0</td>\n",
       "      <td>1</td>\n",
       "      <td>0</td>\n",
       "      <td>0</td>\n",
       "      <td>0</td>\n",
       "      <td>0</td>\n",
       "      <td>0</td>\n",
       "    </tr>\n",
       "    <tr>\n",
       "      <th>1</th>\n",
       "      <td>0</td>\n",
       "      <td>0</td>\n",
       "      <td>0</td>\n",
       "      <td>0</td>\n",
       "      <td>0</td>\n",
       "      <td>0</td>\n",
       "      <td>0</td>\n",
       "      <td>0</td>\n",
       "      <td>0</td>\n",
       "      <td>0</td>\n",
       "      <td>0</td>\n",
       "      <td>0</td>\n",
       "      <td>0</td>\n",
       "      <td>0</td>\n",
       "      <td>0</td>\n",
       "      <td>1</td>\n",
       "      <td>0</td>\n",
       "      <td>0</td>\n",
       "    </tr>\n",
       "    <tr>\n",
       "      <th>2</th>\n",
       "      <td>0</td>\n",
       "      <td>0</td>\n",
       "      <td>0</td>\n",
       "      <td>0</td>\n",
       "      <td>1</td>\n",
       "      <td>0</td>\n",
       "      <td>0</td>\n",
       "      <td>0</td>\n",
       "      <td>0</td>\n",
       "      <td>0</td>\n",
       "      <td>0</td>\n",
       "      <td>0</td>\n",
       "      <td>0</td>\n",
       "      <td>0</td>\n",
       "      <td>0</td>\n",
       "      <td>0</td>\n",
       "      <td>0</td>\n",
       "      <td>0</td>\n",
       "    </tr>\n",
       "    <tr>\n",
       "      <th>3</th>\n",
       "      <td>0</td>\n",
       "      <td>0</td>\n",
       "      <td>0</td>\n",
       "      <td>0</td>\n",
       "      <td>0</td>\n",
       "      <td>0</td>\n",
       "      <td>0</td>\n",
       "      <td>0</td>\n",
       "      <td>0</td>\n",
       "      <td>0</td>\n",
       "      <td>0</td>\n",
       "      <td>0</td>\n",
       "      <td>0</td>\n",
       "      <td>0</td>\n",
       "      <td>0</td>\n",
       "      <td>1</td>\n",
       "      <td>0</td>\n",
       "      <td>0</td>\n",
       "    </tr>\n",
       "    <tr>\n",
       "      <th>4</th>\n",
       "      <td>0</td>\n",
       "      <td>0</td>\n",
       "      <td>0</td>\n",
       "      <td>0</td>\n",
       "      <td>0</td>\n",
       "      <td>0</td>\n",
       "      <td>0</td>\n",
       "      <td>0</td>\n",
       "      <td>0</td>\n",
       "      <td>0</td>\n",
       "      <td>0</td>\n",
       "      <td>0</td>\n",
       "      <td>1</td>\n",
       "      <td>0</td>\n",
       "      <td>0</td>\n",
       "      <td>0</td>\n",
       "      <td>0</td>\n",
       "      <td>0</td>\n",
       "    </tr>\n",
       "  </tbody>\n",
       "</table>\n",
       "</div>"
      ],
      "text/plain": [
       "   Animation  Biography  Comedy  Crime  Drama  Family  Fantasy  History  \\\n",
       "0          0          0       0      0      0       0        0        0   \n",
       "1          0          0       0      0      0       0        0        0   \n",
       "2          0          0       0      0      1       0        0        0   \n",
       "3          0          0       0      0      0       0        0        0   \n",
       "4          0          0       0      0      0       0        0        0   \n",
       "\n",
       "   Horror  Music  Musical  Mystery  Romance  Sci-Fi  Sport  Thriller  War  \\\n",
       "0       0      0        0        0        1       0      0         0    0   \n",
       "1       0      0        0        0        0       0      0         1    0   \n",
       "2       0      0        0        0        0       0      0         0    0   \n",
       "3       0      0        0        0        0       0      0         1    0   \n",
       "4       0      0        0        0        1       0      0         0    0   \n",
       "\n",
       "   Western  \n",
       "0        0  \n",
       "1        0  \n",
       "2        0  \n",
       "3        0  \n",
       "4        0  "
      ]
     },
     "execution_count": 17,
     "metadata": {},
     "output_type": "execute_result"
    }
   ],
   "source": [
    "Genero3.head()"
   ]
  },
  {
   "cell_type": "code",
   "execution_count": 18,
   "metadata": {
    "ExecuteTime": {
     "end_time": "2020-07-08T21:12:50.641377Z",
     "start_time": "2020-07-08T21:12:50.574555Z"
    }
   },
   "outputs": [],
   "source": [
    "Generos = Genero1.join(Genero2, rsuffix = \"_2\")\n",
    "Generos = Generos.join(Genero3, rsuffix = \"_3\")"
   ]
  },
  {
   "cell_type": "code",
   "execution_count": 19,
   "metadata": {
    "ExecuteTime": {
     "end_time": "2020-07-08T21:12:50.696231Z",
     "start_time": "2020-07-08T21:12:50.643374Z"
    }
   },
   "outputs": [],
   "source": [
    "Generos['Adventure_Geral']=Generos['Adventure']+Generos['Adventure_2']\n",
    "Generos['Animation_Geral']=Generos['Animation']+Generos['Animation_2']+Generos['Animation_3']\n",
    "Generos['Biography_Geral']=Generos['Biography']+Generos['Biography_2']+Generos['Biography_3']\n",
    "Generos['Comedy_Geral']=Generos['Comedy']+Generos['Comedy_2']+Generos['Comedy_3']\n",
    "Generos['Crime_Geral']=Generos['Crime']+Generos['Crime_2']+Generos['Crime_3']\n",
    "Generos['Documentary_Geral']=Generos['Documentary']+Generos['Documentary_2']\n",
    "Generos['Drama_Geral']=Generos['Drama']+Generos['Drama_2']+Generos['Drama_3']\n",
    "Generos['Family_Geral']=Generos['Family']+Generos['Family_3']\n",
    "Generos['Fantasy_Geral']=Generos['Fantasy']+Generos['Fantasy_2']+Generos['Fantasy_3']\n",
    "Generos['History_Geral']=Generos['History']+Generos['History_3']\n",
    "Generos['Horror_Geral']=Generos['Horror']+Generos['Horror_2']+Generos['Horror_3']\n",
    "Generos['Music_Geral']=Generos['Music']+Generos['Music_3']\n",
    "Generos['Musical_Geral']=Generos['Musical']+Generos['Musical_2']+Generos['Musical_3']\n",
    "Generos['Mystery_Geral']=Generos['Mystery']+Generos['Mystery_2']+Generos['Mystery_3']\n",
    "Generos['Romance_Geral']=Generos['Romance']+Generos['Romance_3']\n",
    "Generos['Sci-Fi_Geral']=Generos['Sci-Fi']+Generos['Sci-Fi_2']+Generos['Sci-Fi_3']\n",
    "Generos['Sport_Geral']=Generos['Sport']+Generos['Sport_3']\n",
    "Generos['Thriller_Geral']=Generos['Thriller']+Generos['Thriller_2']+Generos['Thriller_3']\n",
    "Generos['War_Geral']=Generos['War']+Generos['War_3']\n",
    "Generos['Western_Geral']=Generos['Western']+Generos['Western_3']"
   ]
  },
  {
   "cell_type": "code",
   "execution_count": 20,
   "metadata": {
    "ExecuteTime": {
     "end_time": "2020-07-08T21:12:50.710194Z",
     "start_time": "2020-07-08T21:12:50.698226Z"
    }
   },
   "outputs": [],
   "source": [
    "Generos = Generos.drop(['Action','Adventure','Adventure_2','Animation','Animation_2','Animation_3','Biography','Biography_2','Biography_3','Comedy','Comedy_2','Comedy_3','Crime','Crime_2','Crime_3','Documentary','Documentary_2','Drama','Drama_2','Drama_3','Family','Family_3','Fantasy','Fantasy_2','Fantasy_3','History','History_3','Horror','Horror_2','Horror_3','Music','Music_3','Musical','Musical_2','Musical_3','Mystery','Mystery_2','Mystery_3','Romance','Romance_3','Sci-Fi','Sci-Fi_2','Sci-Fi_3','Sport','Sport_3','Thriller','Thriller_2','Thriller_3','War','War_3','Western','Western_3'],axis = 1)"
   ]
  },
  {
   "cell_type": "code",
   "execution_count": 21,
   "metadata": {
    "ExecuteTime": {
     "end_time": "2020-07-08T21:12:50.742108Z",
     "start_time": "2020-07-08T21:12:50.713186Z"
    }
   },
   "outputs": [
    {
     "data": {
      "text/html": [
       "<div>\n",
       "<style scoped>\n",
       "    .dataframe tbody tr th:only-of-type {\n",
       "        vertical-align: middle;\n",
       "    }\n",
       "\n",
       "    .dataframe tbody tr th {\n",
       "        vertical-align: top;\n",
       "    }\n",
       "\n",
       "    .dataframe thead th {\n",
       "        text-align: right;\n",
       "    }\n",
       "</style>\n",
       "<table border=\"1\" class=\"dataframe\">\n",
       "  <thead>\n",
       "    <tr style=\"text-align: right;\">\n",
       "      <th></th>\n",
       "      <th>Adventure_Geral</th>\n",
       "      <th>Animation_Geral</th>\n",
       "      <th>Biography_Geral</th>\n",
       "      <th>Comedy_Geral</th>\n",
       "      <th>Crime_Geral</th>\n",
       "      <th>Documentary_Geral</th>\n",
       "      <th>Drama_Geral</th>\n",
       "      <th>Family_Geral</th>\n",
       "      <th>Fantasy_Geral</th>\n",
       "      <th>History_Geral</th>\n",
       "      <th>Horror_Geral</th>\n",
       "      <th>Music_Geral</th>\n",
       "      <th>Musical_Geral</th>\n",
       "      <th>Mystery_Geral</th>\n",
       "      <th>Romance_Geral</th>\n",
       "      <th>Sci-Fi_Geral</th>\n",
       "      <th>Sport_Geral</th>\n",
       "      <th>Thriller_Geral</th>\n",
       "      <th>War_Geral</th>\n",
       "      <th>Western_Geral</th>\n",
       "    </tr>\n",
       "  </thead>\n",
       "  <tbody>\n",
       "    <tr>\n",
       "      <th>0</th>\n",
       "      <td>0</td>\n",
       "      <td>0</td>\n",
       "      <td>0</td>\n",
       "      <td>0</td>\n",
       "      <td>0</td>\n",
       "      <td>0</td>\n",
       "      <td>1</td>\n",
       "      <td>0</td>\n",
       "      <td>0</td>\n",
       "      <td>0</td>\n",
       "      <td>0</td>\n",
       "      <td>1</td>\n",
       "      <td>0</td>\n",
       "      <td>0</td>\n",
       "      <td>1</td>\n",
       "      <td>0</td>\n",
       "      <td>0</td>\n",
       "      <td>0</td>\n",
       "      <td>0</td>\n",
       "      <td>0</td>\n",
       "    </tr>\n",
       "    <tr>\n",
       "      <th>1</th>\n",
       "      <td>0</td>\n",
       "      <td>0</td>\n",
       "      <td>0</td>\n",
       "      <td>0</td>\n",
       "      <td>0</td>\n",
       "      <td>0</td>\n",
       "      <td>0</td>\n",
       "      <td>0</td>\n",
       "      <td>0</td>\n",
       "      <td>0</td>\n",
       "      <td>1</td>\n",
       "      <td>0</td>\n",
       "      <td>0</td>\n",
       "      <td>1</td>\n",
       "      <td>0</td>\n",
       "      <td>0</td>\n",
       "      <td>0</td>\n",
       "      <td>1</td>\n",
       "      <td>0</td>\n",
       "      <td>0</td>\n",
       "    </tr>\n",
       "    <tr>\n",
       "      <th>2</th>\n",
       "      <td>1</td>\n",
       "      <td>0</td>\n",
       "      <td>0</td>\n",
       "      <td>0</td>\n",
       "      <td>0</td>\n",
       "      <td>0</td>\n",
       "      <td>1</td>\n",
       "      <td>0</td>\n",
       "      <td>0</td>\n",
       "      <td>0</td>\n",
       "      <td>0</td>\n",
       "      <td>0</td>\n",
       "      <td>0</td>\n",
       "      <td>0</td>\n",
       "      <td>0</td>\n",
       "      <td>0</td>\n",
       "      <td>0</td>\n",
       "      <td>0</td>\n",
       "      <td>0</td>\n",
       "      <td>0</td>\n",
       "    </tr>\n",
       "    <tr>\n",
       "      <th>3</th>\n",
       "      <td>1</td>\n",
       "      <td>0</td>\n",
       "      <td>0</td>\n",
       "      <td>0</td>\n",
       "      <td>0</td>\n",
       "      <td>0</td>\n",
       "      <td>0</td>\n",
       "      <td>0</td>\n",
       "      <td>0</td>\n",
       "      <td>0</td>\n",
       "      <td>0</td>\n",
       "      <td>0</td>\n",
       "      <td>0</td>\n",
       "      <td>0</td>\n",
       "      <td>0</td>\n",
       "      <td>0</td>\n",
       "      <td>0</td>\n",
       "      <td>1</td>\n",
       "      <td>0</td>\n",
       "      <td>0</td>\n",
       "    </tr>\n",
       "    <tr>\n",
       "      <th>4</th>\n",
       "      <td>0</td>\n",
       "      <td>0</td>\n",
       "      <td>0</td>\n",
       "      <td>1</td>\n",
       "      <td>0</td>\n",
       "      <td>0</td>\n",
       "      <td>1</td>\n",
       "      <td>0</td>\n",
       "      <td>0</td>\n",
       "      <td>0</td>\n",
       "      <td>0</td>\n",
       "      <td>0</td>\n",
       "      <td>0</td>\n",
       "      <td>0</td>\n",
       "      <td>1</td>\n",
       "      <td>0</td>\n",
       "      <td>0</td>\n",
       "      <td>0</td>\n",
       "      <td>0</td>\n",
       "      <td>0</td>\n",
       "    </tr>\n",
       "    <tr>\n",
       "      <th>...</th>\n",
       "      <td>...</td>\n",
       "      <td>...</td>\n",
       "      <td>...</td>\n",
       "      <td>...</td>\n",
       "      <td>...</td>\n",
       "      <td>...</td>\n",
       "      <td>...</td>\n",
       "      <td>...</td>\n",
       "      <td>...</td>\n",
       "      <td>...</td>\n",
       "      <td>...</td>\n",
       "      <td>...</td>\n",
       "      <td>...</td>\n",
       "      <td>...</td>\n",
       "      <td>...</td>\n",
       "      <td>...</td>\n",
       "      <td>...</td>\n",
       "      <td>...</td>\n",
       "      <td>...</td>\n",
       "      <td>...</td>\n",
       "    </tr>\n",
       "    <tr>\n",
       "      <th>1485</th>\n",
       "      <td>1</td>\n",
       "      <td>0</td>\n",
       "      <td>1</td>\n",
       "      <td>0</td>\n",
       "      <td>0</td>\n",
       "      <td>0</td>\n",
       "      <td>1</td>\n",
       "      <td>0</td>\n",
       "      <td>0</td>\n",
       "      <td>0</td>\n",
       "      <td>0</td>\n",
       "      <td>0</td>\n",
       "      <td>0</td>\n",
       "      <td>0</td>\n",
       "      <td>0</td>\n",
       "      <td>0</td>\n",
       "      <td>0</td>\n",
       "      <td>0</td>\n",
       "      <td>0</td>\n",
       "      <td>0</td>\n",
       "    </tr>\n",
       "    <tr>\n",
       "      <th>1486</th>\n",
       "      <td>0</td>\n",
       "      <td>0</td>\n",
       "      <td>0</td>\n",
       "      <td>1</td>\n",
       "      <td>0</td>\n",
       "      <td>0</td>\n",
       "      <td>1</td>\n",
       "      <td>0</td>\n",
       "      <td>0</td>\n",
       "      <td>0</td>\n",
       "      <td>0</td>\n",
       "      <td>0</td>\n",
       "      <td>0</td>\n",
       "      <td>0</td>\n",
       "      <td>0</td>\n",
       "      <td>0</td>\n",
       "      <td>0</td>\n",
       "      <td>0</td>\n",
       "      <td>0</td>\n",
       "      <td>0</td>\n",
       "    </tr>\n",
       "    <tr>\n",
       "      <th>1487</th>\n",
       "      <td>0</td>\n",
       "      <td>0</td>\n",
       "      <td>0</td>\n",
       "      <td>0</td>\n",
       "      <td>0</td>\n",
       "      <td>0</td>\n",
       "      <td>1</td>\n",
       "      <td>0</td>\n",
       "      <td>0</td>\n",
       "      <td>0</td>\n",
       "      <td>0</td>\n",
       "      <td>0</td>\n",
       "      <td>0</td>\n",
       "      <td>0</td>\n",
       "      <td>0</td>\n",
       "      <td>0</td>\n",
       "      <td>0</td>\n",
       "      <td>0</td>\n",
       "      <td>0</td>\n",
       "      <td>0</td>\n",
       "    </tr>\n",
       "    <tr>\n",
       "      <th>1488</th>\n",
       "      <td>0</td>\n",
       "      <td>0</td>\n",
       "      <td>0</td>\n",
       "      <td>0</td>\n",
       "      <td>0</td>\n",
       "      <td>0</td>\n",
       "      <td>1</td>\n",
       "      <td>0</td>\n",
       "      <td>0</td>\n",
       "      <td>0</td>\n",
       "      <td>1</td>\n",
       "      <td>0</td>\n",
       "      <td>0</td>\n",
       "      <td>1</td>\n",
       "      <td>0</td>\n",
       "      <td>0</td>\n",
       "      <td>0</td>\n",
       "      <td>0</td>\n",
       "      <td>0</td>\n",
       "      <td>0</td>\n",
       "    </tr>\n",
       "    <tr>\n",
       "      <th>1489</th>\n",
       "      <td>1</td>\n",
       "      <td>0</td>\n",
       "      <td>0</td>\n",
       "      <td>1</td>\n",
       "      <td>0</td>\n",
       "      <td>0</td>\n",
       "      <td>0</td>\n",
       "      <td>0</td>\n",
       "      <td>0</td>\n",
       "      <td>0</td>\n",
       "      <td>0</td>\n",
       "      <td>0</td>\n",
       "      <td>0</td>\n",
       "      <td>0</td>\n",
       "      <td>0</td>\n",
       "      <td>0</td>\n",
       "      <td>0</td>\n",
       "      <td>0</td>\n",
       "      <td>0</td>\n",
       "      <td>0</td>\n",
       "    </tr>\n",
       "  </tbody>\n",
       "</table>\n",
       "<p>1472 rows × 20 columns</p>\n",
       "</div>"
      ],
      "text/plain": [
       "      Adventure_Geral  Animation_Geral  Biography_Geral  Comedy_Geral  \\\n",
       "0                   0                0                0             0   \n",
       "1                   0                0                0             0   \n",
       "2                   1                0                0             0   \n",
       "3                   1                0                0             0   \n",
       "4                   0                0                0             1   \n",
       "...               ...              ...              ...           ...   \n",
       "1485                1                0                1             0   \n",
       "1486                0                0                0             1   \n",
       "1487                0                0                0             0   \n",
       "1488                0                0                0             0   \n",
       "1489                1                0                0             1   \n",
       "\n",
       "      Crime_Geral  Documentary_Geral  Drama_Geral  Family_Geral  \\\n",
       "0               0                  0            1             0   \n",
       "1               0                  0            0             0   \n",
       "2               0                  0            1             0   \n",
       "3               0                  0            0             0   \n",
       "4               0                  0            1             0   \n",
       "...           ...                ...          ...           ...   \n",
       "1485            0                  0            1             0   \n",
       "1486            0                  0            1             0   \n",
       "1487            0                  0            1             0   \n",
       "1488            0                  0            1             0   \n",
       "1489            0                  0            0             0   \n",
       "\n",
       "      Fantasy_Geral  History_Geral  Horror_Geral  Music_Geral  Musical_Geral  \\\n",
       "0                 0              0             0            1              0   \n",
       "1                 0              0             1            0              0   \n",
       "2                 0              0             0            0              0   \n",
       "3                 0              0             0            0              0   \n",
       "4                 0              0             0            0              0   \n",
       "...             ...            ...           ...          ...            ...   \n",
       "1485              0              0             0            0              0   \n",
       "1486              0              0             0            0              0   \n",
       "1487              0              0             0            0              0   \n",
       "1488              0              0             1            0              0   \n",
       "1489              0              0             0            0              0   \n",
       "\n",
       "      Mystery_Geral  Romance_Geral  Sci-Fi_Geral  Sport_Geral  Thriller_Geral  \\\n",
       "0                 0              1             0            0               0   \n",
       "1                 1              0             0            0               1   \n",
       "2                 0              0             0            0               0   \n",
       "3                 0              0             0            0               1   \n",
       "4                 0              1             0            0               0   \n",
       "...             ...            ...           ...          ...             ...   \n",
       "1485              0              0             0            0               0   \n",
       "1486              0              0             0            0               0   \n",
       "1487              0              0             0            0               0   \n",
       "1488              1              0             0            0               0   \n",
       "1489              0              0             0            0               0   \n",
       "\n",
       "      War_Geral  Western_Geral  \n",
       "0             0              0  \n",
       "1             0              0  \n",
       "2             0              0  \n",
       "3             0              0  \n",
       "4             0              0  \n",
       "...         ...            ...  \n",
       "1485          0              0  \n",
       "1486          0              0  \n",
       "1487          0              0  \n",
       "1488          0              0  \n",
       "1489          0              0  \n",
       "\n",
       "[1472 rows x 20 columns]"
      ]
     },
     "execution_count": 21,
     "metadata": {},
     "output_type": "execute_result"
    }
   ],
   "source": [
    "Generos"
   ]
  },
  {
   "cell_type": "code",
   "execution_count": 22,
   "metadata": {
    "ExecuteTime": {
     "end_time": "2020-07-08T21:12:50.760061Z",
     "start_time": "2020-07-08T21:12:50.745101Z"
    }
   },
   "outputs": [],
   "source": [
    "final_generos = final.join(Generos)"
   ]
  },
  {
   "cell_type": "code",
   "execution_count": 23,
   "metadata": {
    "ExecuteTime": {
     "end_time": "2020-07-08T21:12:50.780008Z",
     "start_time": "2020-07-08T21:12:50.765048Z"
    }
   },
   "outputs": [],
   "source": [
    "final_generos = final_generos.drop(['genre_1','genre_2','genre_3'], axis = 1)"
   ]
  },
  {
   "cell_type": "markdown",
   "metadata": {},
   "source": [
    "### Estudios"
   ]
  },
  {
   "cell_type": "code",
   "execution_count": 24,
   "metadata": {
    "ExecuteTime": {
     "end_time": "2020-07-08T21:12:50.807933Z",
     "start_time": "2020-07-08T21:12:50.783997Z"
    }
   },
   "outputs": [
    {
     "data": {
      "text/html": [
       "<div>\n",
       "<style scoped>\n",
       "    .dataframe tbody tr th:only-of-type {\n",
       "        vertical-align: middle;\n",
       "    }\n",
       "\n",
       "    .dataframe tbody tr th {\n",
       "        vertical-align: top;\n",
       "    }\n",
       "\n",
       "    .dataframe thead th {\n",
       "        text-align: right;\n",
       "    }\n",
       "</style>\n",
       "<table border=\"1\" class=\"dataframe\">\n",
       "  <thead>\n",
       "    <tr style=\"text-align: right;\">\n",
       "      <th></th>\n",
       "      <th>tconst</th>\n",
       "    </tr>\n",
       "    <tr>\n",
       "      <th>studio_name</th>\n",
       "      <th></th>\n",
       "    </tr>\n",
       "  </thead>\n",
       "  <tbody>\n",
       "    <tr>\n",
       "      <th>20th Century Fox</th>\n",
       "      <td>122</td>\n",
       "    </tr>\n",
       "    <tr>\n",
       "      <th>20th Century Fox Distribution</th>\n",
       "      <td>1</td>\n",
       "    </tr>\n",
       "    <tr>\n",
       "      <th>20th Century Fox/Regency Films</th>\n",
       "      <td>1</td>\n",
       "    </tr>\n",
       "    <tr>\n",
       "      <th>A24</th>\n",
       "      <td>5</td>\n",
       "    </tr>\n",
       "    <tr>\n",
       "      <th>A24 Films</th>\n",
       "      <td>2</td>\n",
       "    </tr>\n",
       "    <tr>\n",
       "      <th>...</th>\n",
       "      <td>...</td>\n",
       "    </tr>\n",
       "    <tr>\n",
       "      <th>Working Title Films</th>\n",
       "      <td>1</td>\n",
       "    </tr>\n",
       "    <tr>\n",
       "      <th>Yari Film Group</th>\n",
       "      <td>1</td>\n",
       "    </tr>\n",
       "    <tr>\n",
       "      <th>Yari Film Group Releasing</th>\n",
       "      <td>1</td>\n",
       "    </tr>\n",
       "    <tr>\n",
       "      <th>Zion Films</th>\n",
       "      <td>1</td>\n",
       "    </tr>\n",
       "    <tr>\n",
       "      <th>s</th>\n",
       "      <td>1</td>\n",
       "    </tr>\n",
       "  </tbody>\n",
       "</table>\n",
       "<p>236 rows × 1 columns</p>\n",
       "</div>"
      ],
      "text/plain": [
       "                                tconst\n",
       "studio_name                           \n",
       "20th Century Fox                   122\n",
       "20th Century Fox Distribution        1\n",
       "20th Century Fox/Regency Films       1\n",
       "A24                                  5\n",
       "A24 Films                            2\n",
       "...                                ...\n",
       "Working Title Films                  1\n",
       "Yari Film Group                      1\n",
       "Yari Film Group Releasing            1\n",
       "Zion Films                           1\n",
       "s                                    1\n",
       "\n",
       "[236 rows x 1 columns]"
      ]
     },
     "execution_count": 24,
     "metadata": {},
     "output_type": "execute_result"
    }
   ],
   "source": [
    "temp = pd.pivot_table(final_generos, values='tconst', index='studio_name', aggfunc='count')\n",
    "temp"
   ]
  },
  {
   "cell_type": "code",
   "execution_count": 25,
   "metadata": {
    "ExecuteTime": {
     "end_time": "2020-07-08T21:12:50.824887Z",
     "start_time": "2020-07-08T21:12:50.809928Z"
    }
   },
   "outputs": [],
   "source": [
    "studios = pd.read_csv('C:/Users/afilg/OneDrive/DATA SCIENCE/Aulas - Originais/Projeto_Integrador/test_2.csv')"
   ]
  },
  {
   "cell_type": "code",
   "execution_count": 26,
   "metadata": {
    "ExecuteTime": {
     "end_time": "2020-07-08T21:12:50.842838Z",
     "start_time": "2020-07-08T21:12:50.826881Z"
    }
   },
   "outputs": [
    {
     "data": {
      "text/html": [
       "<div>\n",
       "<style scoped>\n",
       "    .dataframe tbody tr th:only-of-type {\n",
       "        vertical-align: middle;\n",
       "    }\n",
       "\n",
       "    .dataframe tbody tr th {\n",
       "        vertical-align: top;\n",
       "    }\n",
       "\n",
       "    .dataframe thead th {\n",
       "        text-align: right;\n",
       "    }\n",
       "</style>\n",
       "<table border=\"1\" class=\"dataframe\">\n",
       "  <thead>\n",
       "    <tr style=\"text-align: right;\">\n",
       "      <th></th>\n",
       "      <th>studio_name</th>\n",
       "      <th>new_studio</th>\n",
       "    </tr>\n",
       "  </thead>\n",
       "  <tbody>\n",
       "    <tr>\n",
       "      <th>0</th>\n",
       "      <td>20th Century Fox</td>\n",
       "      <td>Big_Studio</td>\n",
       "    </tr>\n",
       "    <tr>\n",
       "      <th>1</th>\n",
       "      <td>20th Century Fox Distribution</td>\n",
       "      <td>Big_Studio</td>\n",
       "    </tr>\n",
       "    <tr>\n",
       "      <th>2</th>\n",
       "      <td>20th Century Fox/Regency Films</td>\n",
       "      <td>Big_Studio</td>\n",
       "    </tr>\n",
       "    <tr>\n",
       "      <th>3</th>\n",
       "      <td>Blue Sky Studio/20th Century Fox</td>\n",
       "      <td>Big_Studio</td>\n",
       "    </tr>\n",
       "    <tr>\n",
       "      <th>4</th>\n",
       "      <td>Fox Atomic</td>\n",
       "      <td>Big_Studio</td>\n",
       "    </tr>\n",
       "  </tbody>\n",
       "</table>\n",
       "</div>"
      ],
      "text/plain": [
       "                        studio_name  new_studio\n",
       "0                  20th Century Fox  Big_Studio\n",
       "1     20th Century Fox Distribution  Big_Studio\n",
       "2    20th Century Fox/Regency Films  Big_Studio\n",
       "3  Blue Sky Studio/20th Century Fox  Big_Studio\n",
       "4                        Fox Atomic  Big_Studio"
      ]
     },
     "execution_count": 26,
     "metadata": {},
     "output_type": "execute_result"
    }
   ],
   "source": [
    "studios.head()"
   ]
  },
  {
   "cell_type": "code",
   "execution_count": 27,
   "metadata": {
    "ExecuteTime": {
     "end_time": "2020-07-08T21:12:50.863783Z",
     "start_time": "2020-07-08T21:12:50.844835Z"
    }
   },
   "outputs": [],
   "source": [
    "final_generos = final_generos.join(studios.set_index('studio_name'), on = 'studio_name')"
   ]
  },
  {
   "cell_type": "code",
   "execution_count": 28,
   "metadata": {
    "ExecuteTime": {
     "end_time": "2020-07-08T21:12:50.878744Z",
     "start_time": "2020-07-08T21:12:50.865776Z"
    }
   },
   "outputs": [],
   "source": [
    "final_generos = final_generos.drop(['studio_name'], axis = 1)"
   ]
  },
  {
   "cell_type": "code",
   "execution_count": 29,
   "metadata": {
    "ExecuteTime": {
     "end_time": "2020-07-08T21:12:50.891710Z",
     "start_time": "2020-07-08T21:12:50.881735Z"
    }
   },
   "outputs": [],
   "source": [
    "studios = pd.get_dummies(final_generos['new_studio'])"
   ]
  },
  {
   "cell_type": "code",
   "execution_count": 30,
   "metadata": {
    "ExecuteTime": {
     "end_time": "2020-07-08T21:12:50.909660Z",
     "start_time": "2020-07-08T21:12:50.893703Z"
    }
   },
   "outputs": [],
   "source": [
    "final_generos_studios = final_generos.join(studios)"
   ]
  },
  {
   "cell_type": "code",
   "execution_count": 31,
   "metadata": {
    "ExecuteTime": {
     "end_time": "2020-07-08T21:12:50.929607Z",
     "start_time": "2020-07-08T21:12:50.911655Z"
    }
   },
   "outputs": [],
   "source": [
    "final_generos_studios = final_generos_studios.drop(['new_studio'], axis = 1)"
   ]
  },
  {
   "cell_type": "code",
   "execution_count": 32,
   "metadata": {
    "ExecuteTime": {
     "end_time": "2020-07-08T21:12:50.960523Z",
     "start_time": "2020-07-08T21:12:50.931604Z"
    }
   },
   "outputs": [
    {
     "name": "stdout",
     "output_type": "stream",
     "text": [
      "<class 'pandas.core.frame.DataFrame'>\n",
      "Int64Index: 1472 entries, 0 to 1489\n",
      "Data columns (total 56 columns):\n",
      " #   Column                     Non-Null Count  Dtype  \n",
      "---  ------                     --------------  -----  \n",
      " 0   tconst                     1472 non-null   object \n",
      " 1   runtimeMinutes             1472 non-null   int64  \n",
      " 2   month                      1472 non-null   float64\n",
      " 3   day                        1472 non-null   float64\n",
      " 4   year                       1472 non-null   int64  \n",
      " 5   FW                         1472 non-null   int64  \n",
      " 6   Worldwide_Gross            1472 non-null   float64\n",
      " 7   Production_Budget          1472 non-null   float64\n",
      " 8   rentability                1472 non-null   float64\n",
      " 9   log_rentability            1472 non-null   float64\n",
      " 10  movie_info                 1472 non-null   object \n",
      " 11  tomatometer_status         1472 non-null   object \n",
      " 12  audience_status            1472 non-null   object \n",
      " 13  audience_avg_rating        1472 non-null   float64\n",
      " 14  negative_perc              1472 non-null   float64\n",
      " 15  positive_perc              1472 non-null   float64\n",
      " 16  NPremium_Indicado          1472 non-null   int64  \n",
      " 17  NPremium_Win               1472 non-null   int64  \n",
      " 18  Premium_Indicado           1472 non-null   int64  \n",
      " 19  Premium_Win                1472 non-null   int64  \n",
      " 20  averageRating              1472 non-null   float64\n",
      " 21  numVotes                   1472 non-null   int64  \n",
      " 22  directors_1_films          1472 non-null   int64  \n",
      " 23  directors_2_films          1472 non-null   int64  \n",
      " 24  directors_1_ratingAverage  1219 non-null   float64\n",
      " 25  directors_2_ratingAverage  77 non-null     float64\n",
      " 26  writer_1_films             1472 non-null   int64  \n",
      " 27  writer_2_films             1472 non-null   int64  \n",
      " 28  writer_1_ratingAverage     1013 non-null   float64\n",
      " 29  writer_2_ratingAverage     651 non-null    float64\n",
      " 30  AvgRating                  1348 non-null   float64\n",
      " 31  numFilmes                  1472 non-null   float64\n",
      " 32  num_crew                   1472 non-null   int64  \n",
      " 33  Adventure_Geral            1472 non-null   uint8  \n",
      " 34  Animation_Geral            1472 non-null   uint8  \n",
      " 35  Biography_Geral            1472 non-null   uint8  \n",
      " 36  Comedy_Geral               1472 non-null   uint8  \n",
      " 37  Crime_Geral                1472 non-null   uint8  \n",
      " 38  Documentary_Geral          1472 non-null   uint8  \n",
      " 39  Drama_Geral                1472 non-null   uint8  \n",
      " 40  Family_Geral               1472 non-null   uint8  \n",
      " 41  Fantasy_Geral              1472 non-null   uint8  \n",
      " 42  History_Geral              1472 non-null   uint8  \n",
      " 43  Horror_Geral               1472 non-null   uint8  \n",
      " 44  Music_Geral                1472 non-null   uint8  \n",
      " 45  Musical_Geral              1472 non-null   uint8  \n",
      " 46  Mystery_Geral              1472 non-null   uint8  \n",
      " 47  Romance_Geral              1472 non-null   uint8  \n",
      " 48  Sci-Fi_Geral               1472 non-null   uint8  \n",
      " 49  Sport_Geral                1472 non-null   uint8  \n",
      " 50  Thriller_Geral             1472 non-null   uint8  \n",
      " 51  War_Geral                  1472 non-null   uint8  \n",
      " 52  Western_Geral              1472 non-null   uint8  \n",
      " 53  Big_Studio                 1472 non-null   uint8  \n",
      " 54  Known_Studio               1472 non-null   uint8  \n",
      " 55  independent                1472 non-null   uint8  \n",
      "dtypes: float64(16), int64(13), object(4), uint8(23)\n",
      "memory usage: 464.1+ KB\n"
     ]
    }
   ],
   "source": [
    "final_generos_studios.info()"
   ]
  },
  {
   "cell_type": "markdown",
   "metadata": {},
   "source": [
    "### Tomatometros"
   ]
  },
  {
   "cell_type": "code",
   "execution_count": 33,
   "metadata": {
    "ExecuteTime": {
     "end_time": "2020-07-08T21:12:50.968502Z",
     "start_time": "2020-07-08T21:12:50.962518Z"
    }
   },
   "outputs": [],
   "source": [
    "tomatometro = pd.get_dummies(final_generos_studios['tomatometer_status'])"
   ]
  },
  {
   "cell_type": "code",
   "execution_count": 34,
   "metadata": {
    "ExecuteTime": {
     "end_time": "2020-07-08T21:12:50.983465Z",
     "start_time": "2020-07-08T21:12:50.970498Z"
    }
   },
   "outputs": [],
   "source": [
    "audiencia_rt = pd.get_dummies(final_generos_studios['audience_status'])"
   ]
  },
  {
   "cell_type": "code",
   "execution_count": 35,
   "metadata": {
    "ExecuteTime": {
     "end_time": "2020-07-08T21:12:50.998457Z",
     "start_time": "2020-07-08T21:12:50.986463Z"
    }
   },
   "outputs": [],
   "source": [
    "rt_dummies = tomatometro.join(audiencia_rt)"
   ]
  },
  {
   "cell_type": "code",
   "execution_count": 36,
   "metadata": {
    "ExecuteTime": {
     "end_time": "2020-07-08T21:12:51.018370Z",
     "start_time": "2020-07-08T21:12:50.999420Z"
    }
   },
   "outputs": [
    {
     "data": {
      "text/html": [
       "<div>\n",
       "<style scoped>\n",
       "    .dataframe tbody tr th:only-of-type {\n",
       "        vertical-align: middle;\n",
       "    }\n",
       "\n",
       "    .dataframe tbody tr th {\n",
       "        vertical-align: top;\n",
       "    }\n",
       "\n",
       "    .dataframe thead th {\n",
       "        text-align: right;\n",
       "    }\n",
       "</style>\n",
       "<table border=\"1\" class=\"dataframe\">\n",
       "  <thead>\n",
       "    <tr style=\"text-align: right;\">\n",
       "      <th></th>\n",
       "      <th>certified_fresh</th>\n",
       "      <th>fresh</th>\n",
       "      <th>rotten</th>\n",
       "      <th>spilled</th>\n",
       "      <th>upright</th>\n",
       "    </tr>\n",
       "  </thead>\n",
       "  <tbody>\n",
       "    <tr>\n",
       "      <th>0</th>\n",
       "      <td>0</td>\n",
       "      <td>0</td>\n",
       "      <td>1</td>\n",
       "      <td>1</td>\n",
       "      <td>0</td>\n",
       "    </tr>\n",
       "    <tr>\n",
       "      <th>1</th>\n",
       "      <td>0</td>\n",
       "      <td>0</td>\n",
       "      <td>1</td>\n",
       "      <td>0</td>\n",
       "      <td>1</td>\n",
       "    </tr>\n",
       "    <tr>\n",
       "      <th>2</th>\n",
       "      <td>1</td>\n",
       "      <td>0</td>\n",
       "      <td>0</td>\n",
       "      <td>0</td>\n",
       "      <td>1</td>\n",
       "    </tr>\n",
       "    <tr>\n",
       "      <th>3</th>\n",
       "      <td>0</td>\n",
       "      <td>0</td>\n",
       "      <td>1</td>\n",
       "      <td>1</td>\n",
       "      <td>0</td>\n",
       "    </tr>\n",
       "    <tr>\n",
       "      <th>4</th>\n",
       "      <td>0</td>\n",
       "      <td>1</td>\n",
       "      <td>0</td>\n",
       "      <td>0</td>\n",
       "      <td>1</td>\n",
       "    </tr>\n",
       "  </tbody>\n",
       "</table>\n",
       "</div>"
      ],
      "text/plain": [
       "   certified_fresh  fresh  rotten  spilled  upright\n",
       "0                0      0       1        1        0\n",
       "1                0      0       1        0        1\n",
       "2                1      0       0        0        1\n",
       "3                0      0       1        1        0\n",
       "4                0      1       0        0        1"
      ]
     },
     "execution_count": 36,
     "metadata": {},
     "output_type": "execute_result"
    }
   ],
   "source": [
    "rt_dummies.head()"
   ]
  },
  {
   "cell_type": "code",
   "execution_count": 37,
   "metadata": {
    "ExecuteTime": {
     "end_time": "2020-07-08T21:12:51.034362Z",
     "start_time": "2020-07-08T21:12:51.019367Z"
    }
   },
   "outputs": [],
   "source": [
    "final_generos_studios_rt = final_generos_studios.join(rt_dummies)"
   ]
  },
  {
   "cell_type": "code",
   "execution_count": 38,
   "metadata": {
    "ExecuteTime": {
     "end_time": "2020-07-08T21:12:51.052312Z",
     "start_time": "2020-07-08T21:12:51.036324Z"
    }
   },
   "outputs": [],
   "source": [
    "final_generos_studios_rt = final_generos_studios_rt.drop(['tomatometer_status','audience_status'], axis = 1)"
   ]
  },
  {
   "cell_type": "markdown",
   "metadata": {},
   "source": [
    "### Visualização Final"
   ]
  },
  {
   "cell_type": "code",
   "execution_count": 39,
   "metadata": {
    "ExecuteTime": {
     "end_time": "2020-07-08T21:12:51.088182Z",
     "start_time": "2020-07-08T21:12:51.053278Z"
    }
   },
   "outputs": [
    {
     "name": "stdout",
     "output_type": "stream",
     "text": [
      "<class 'pandas.core.frame.DataFrame'>\n",
      "Int64Index: 1472 entries, 0 to 1489\n",
      "Data columns (total 59 columns):\n",
      " #   Column                     Non-Null Count  Dtype  \n",
      "---  ------                     --------------  -----  \n",
      " 0   tconst                     1472 non-null   object \n",
      " 1   runtimeMinutes             1472 non-null   int64  \n",
      " 2   month                      1472 non-null   float64\n",
      " 3   day                        1472 non-null   float64\n",
      " 4   year                       1472 non-null   int64  \n",
      " 5   FW                         1472 non-null   int64  \n",
      " 6   Worldwide_Gross            1472 non-null   float64\n",
      " 7   Production_Budget          1472 non-null   float64\n",
      " 8   rentability                1472 non-null   float64\n",
      " 9   log_rentability            1472 non-null   float64\n",
      " 10  movie_info                 1472 non-null   object \n",
      " 11  audience_avg_rating        1472 non-null   float64\n",
      " 12  negative_perc              1472 non-null   float64\n",
      " 13  positive_perc              1472 non-null   float64\n",
      " 14  NPremium_Indicado          1472 non-null   int64  \n",
      " 15  NPremium_Win               1472 non-null   int64  \n",
      " 16  Premium_Indicado           1472 non-null   int64  \n",
      " 17  Premium_Win                1472 non-null   int64  \n",
      " 18  averageRating              1472 non-null   float64\n",
      " 19  numVotes                   1472 non-null   int64  \n",
      " 20  directors_1_films          1472 non-null   int64  \n",
      " 21  directors_2_films          1472 non-null   int64  \n",
      " 22  directors_1_ratingAverage  1219 non-null   float64\n",
      " 23  directors_2_ratingAverage  77 non-null     float64\n",
      " 24  writer_1_films             1472 non-null   int64  \n",
      " 25  writer_2_films             1472 non-null   int64  \n",
      " 26  writer_1_ratingAverage     1013 non-null   float64\n",
      " 27  writer_2_ratingAverage     651 non-null    float64\n",
      " 28  AvgRating                  1348 non-null   float64\n",
      " 29  numFilmes                  1472 non-null   float64\n",
      " 30  num_crew                   1472 non-null   int64  \n",
      " 31  Adventure_Geral            1472 non-null   uint8  \n",
      " 32  Animation_Geral            1472 non-null   uint8  \n",
      " 33  Biography_Geral            1472 non-null   uint8  \n",
      " 34  Comedy_Geral               1472 non-null   uint8  \n",
      " 35  Crime_Geral                1472 non-null   uint8  \n",
      " 36  Documentary_Geral          1472 non-null   uint8  \n",
      " 37  Drama_Geral                1472 non-null   uint8  \n",
      " 38  Family_Geral               1472 non-null   uint8  \n",
      " 39  Fantasy_Geral              1472 non-null   uint8  \n",
      " 40  History_Geral              1472 non-null   uint8  \n",
      " 41  Horror_Geral               1472 non-null   uint8  \n",
      " 42  Music_Geral                1472 non-null   uint8  \n",
      " 43  Musical_Geral              1472 non-null   uint8  \n",
      " 44  Mystery_Geral              1472 non-null   uint8  \n",
      " 45  Romance_Geral              1472 non-null   uint8  \n",
      " 46  Sci-Fi_Geral               1472 non-null   uint8  \n",
      " 47  Sport_Geral                1472 non-null   uint8  \n",
      " 48  Thriller_Geral             1472 non-null   uint8  \n",
      " 49  War_Geral                  1472 non-null   uint8  \n",
      " 50  Western_Geral              1472 non-null   uint8  \n",
      " 51  Big_Studio                 1472 non-null   uint8  \n",
      " 52  Known_Studio               1472 non-null   uint8  \n",
      " 53  independent                1472 non-null   uint8  \n",
      " 54  certified_fresh            1472 non-null   uint8  \n",
      " 55  fresh                      1472 non-null   uint8  \n",
      " 56  rotten                     1472 non-null   uint8  \n",
      " 57  spilled                    1472 non-null   uint8  \n",
      " 58  upright                    1472 non-null   uint8  \n",
      "dtypes: float64(16), int64(13), object(2), uint8(28)\n",
      "memory usage: 448.2+ KB\n"
     ]
    }
   ],
   "source": [
    "final_generos_studios_rt.info()"
   ]
  },
  {
   "cell_type": "code",
   "execution_count": 40,
   "metadata": {
    "ExecuteTime": {
     "end_time": "2020-07-08T21:12:51.122092Z",
     "start_time": "2020-07-08T21:12:51.090177Z"
    }
   },
   "outputs": [
    {
     "data": {
      "text/html": [
       "<div>\n",
       "<style scoped>\n",
       "    .dataframe tbody tr th:only-of-type {\n",
       "        vertical-align: middle;\n",
       "    }\n",
       "\n",
       "    .dataframe tbody tr th {\n",
       "        vertical-align: top;\n",
       "    }\n",
       "\n",
       "    .dataframe thead th {\n",
       "        text-align: right;\n",
       "    }\n",
       "</style>\n",
       "<table border=\"1\" class=\"dataframe\">\n",
       "  <thead>\n",
       "    <tr style=\"text-align: right;\">\n",
       "      <th></th>\n",
       "      <th>0</th>\n",
       "      <th>1</th>\n",
       "      <th>2</th>\n",
       "      <th>3</th>\n",
       "      <th>4</th>\n",
       "    </tr>\n",
       "  </thead>\n",
       "  <tbody>\n",
       "    <tr>\n",
       "      <th>tconst</th>\n",
       "      <td>tt0118589</td>\n",
       "      <td>tt0120681</td>\n",
       "      <td>tt0120737</td>\n",
       "      <td>tt0120755</td>\n",
       "      <td>tt0122459</td>\n",
       "    </tr>\n",
       "    <tr>\n",
       "      <th>runtimeMinutes</th>\n",
       "      <td>104</td>\n",
       "      <td>122</td>\n",
       "      <td>178</td>\n",
       "      <td>123</td>\n",
       "      <td>115</td>\n",
       "    </tr>\n",
       "    <tr>\n",
       "      <th>month</th>\n",
       "      <td>9</td>\n",
       "      <td>10</td>\n",
       "      <td>12</td>\n",
       "      <td>5</td>\n",
       "      <td>4</td>\n",
       "    </tr>\n",
       "    <tr>\n",
       "      <th>day</th>\n",
       "      <td>21</td>\n",
       "      <td>19</td>\n",
       "      <td>19</td>\n",
       "      <td>24</td>\n",
       "      <td>7</td>\n",
       "    </tr>\n",
       "    <tr>\n",
       "      <th>year</th>\n",
       "      <td>2001</td>\n",
       "      <td>2001</td>\n",
       "      <td>2001</td>\n",
       "      <td>2000</td>\n",
       "      <td>2000</td>\n",
       "    </tr>\n",
       "    <tr>\n",
       "      <th>FW</th>\n",
       "      <td>38</td>\n",
       "      <td>42</td>\n",
       "      <td>51</td>\n",
       "      <td>21</td>\n",
       "      <td>14</td>\n",
       "    </tr>\n",
       "    <tr>\n",
       "      <th>Worldwide_Gross</th>\n",
       "      <td>4.27337e+06</td>\n",
       "      <td>6.87124e+07</td>\n",
       "      <td>8.87211e+08</td>\n",
       "      <td>5.49589e+08</td>\n",
       "      <td>3.26623e+07</td>\n",
       "    </tr>\n",
       "    <tr>\n",
       "      <th>Production_Budget</th>\n",
       "      <td>8.5e+06</td>\n",
       "      <td>3.5e+07</td>\n",
       "      <td>1.09e+08</td>\n",
       "      <td>1.2e+08</td>\n",
       "      <td>2.4e+07</td>\n",
       "    </tr>\n",
       "    <tr>\n",
       "      <th>rentability</th>\n",
       "      <td>0.50275</td>\n",
       "      <td>1.96321</td>\n",
       "      <td>8.13955</td>\n",
       "      <td>4.5799</td>\n",
       "      <td>1.36093</td>\n",
       "    </tr>\n",
       "    <tr>\n",
       "      <th>log_rentability</th>\n",
       "      <td>-0.687663</td>\n",
       "      <td>0.674581</td>\n",
       "      <td>2.09673</td>\n",
       "      <td>1.52168</td>\n",
       "      <td>0.308168</td>\n",
       "    </tr>\n",
       "    <tr>\n",
       "      <th>movie_info</th>\n",
       "      <td>The story of a gifted young singer, Billie Fra...</td>\n",
       "      <td>The true-life horror story of Jack the Ripper ...</td>\n",
       "      <td>Assisted by a Fellowship of heroes, Frodo Bagg...</td>\n",
       "      <td>Director John Woo brings Hong Kong-style marti...</td>\n",
       "      <td>Return To Me is an endearing romantic comedy i...</td>\n",
       "    </tr>\n",
       "    <tr>\n",
       "      <th>audience_avg_rating</th>\n",
       "      <td>2.94</td>\n",
       "      <td>3.58</td>\n",
       "      <td>4.12</td>\n",
       "      <td>3.06</td>\n",
       "      <td>4.04</td>\n",
       "    </tr>\n",
       "    <tr>\n",
       "      <th>negative_perc</th>\n",
       "      <td>53.5714</td>\n",
       "      <td>33.3333</td>\n",
       "      <td>18.3406</td>\n",
       "      <td>43.75</td>\n",
       "      <td>22.0779</td>\n",
       "    </tr>\n",
       "    <tr>\n",
       "      <th>positive_perc</th>\n",
       "      <td>46.4286</td>\n",
       "      <td>66.6667</td>\n",
       "      <td>81.6594</td>\n",
       "      <td>56.25</td>\n",
       "      <td>77.9221</td>\n",
       "    </tr>\n",
       "    <tr>\n",
       "      <th>NPremium_Indicado</th>\n",
       "      <td>0</td>\n",
       "      <td>0</td>\n",
       "      <td>6</td>\n",
       "      <td>0</td>\n",
       "      <td>0</td>\n",
       "    </tr>\n",
       "    <tr>\n",
       "      <th>NPremium_Win</th>\n",
       "      <td>0</td>\n",
       "      <td>0</td>\n",
       "      <td>4</td>\n",
       "      <td>0</td>\n",
       "      <td>0</td>\n",
       "    </tr>\n",
       "    <tr>\n",
       "      <th>Premium_Indicado</th>\n",
       "      <td>0</td>\n",
       "      <td>0</td>\n",
       "      <td>3</td>\n",
       "      <td>0</td>\n",
       "      <td>0</td>\n",
       "    </tr>\n",
       "    <tr>\n",
       "      <th>Premium_Win</th>\n",
       "      <td>0</td>\n",
       "      <td>0</td>\n",
       "      <td>0</td>\n",
       "      <td>0</td>\n",
       "      <td>0</td>\n",
       "    </tr>\n",
       "    <tr>\n",
       "      <th>averageRating</th>\n",
       "      <td>2.2</td>\n",
       "      <td>6.8</td>\n",
       "      <td>8.8</td>\n",
       "      <td>6.1</td>\n",
       "      <td>6.9</td>\n",
       "    </tr>\n",
       "    <tr>\n",
       "      <th>numVotes</th>\n",
       "      <td>21167</td>\n",
       "      <td>143578</td>\n",
       "      <td>1598647</td>\n",
       "      <td>304492</td>\n",
       "      <td>19168</td>\n",
       "    </tr>\n",
       "    <tr>\n",
       "      <th>directors_1_films</th>\n",
       "      <td>1</td>\n",
       "      <td>3</td>\n",
       "      <td>5</td>\n",
       "      <td>24</td>\n",
       "      <td>0</td>\n",
       "    </tr>\n",
       "    <tr>\n",
       "      <th>directors_2_films</th>\n",
       "      <td>0</td>\n",
       "      <td>3</td>\n",
       "      <td>0</td>\n",
       "      <td>0</td>\n",
       "      <td>0</td>\n",
       "    </tr>\n",
       "    <tr>\n",
       "      <th>directors_1_ratingAverage</th>\n",
       "      <td>6.9</td>\n",
       "      <td>7.31</td>\n",
       "      <td>7.16</td>\n",
       "      <td>7.11</td>\n",
       "      <td>NaN</td>\n",
       "    </tr>\n",
       "    <tr>\n",
       "      <th>directors_2_ratingAverage</th>\n",
       "      <td>NaN</td>\n",
       "      <td>7.31</td>\n",
       "      <td>NaN</td>\n",
       "      <td>NaN</td>\n",
       "      <td>NaN</td>\n",
       "    </tr>\n",
       "    <tr>\n",
       "      <th>writer_1_films</th>\n",
       "      <td>0</td>\n",
       "      <td>0</td>\n",
       "      <td>0</td>\n",
       "      <td>3</td>\n",
       "      <td>0</td>\n",
       "    </tr>\n",
       "    <tr>\n",
       "      <th>writer_2_films</th>\n",
       "      <td>1</td>\n",
       "      <td>0</td>\n",
       "      <td>4</td>\n",
       "      <td>0</td>\n",
       "      <td>0</td>\n",
       "    </tr>\n",
       "    <tr>\n",
       "      <th>writer_1_ratingAverage</th>\n",
       "      <td>NaN</td>\n",
       "      <td>NaN</td>\n",
       "      <td>NaN</td>\n",
       "      <td>7.09957</td>\n",
       "      <td>NaN</td>\n",
       "    </tr>\n",
       "    <tr>\n",
       "      <th>writer_2_ratingAverage</th>\n",
       "      <td>6.9</td>\n",
       "      <td>NaN</td>\n",
       "      <td>7.26298</td>\n",
       "      <td>NaN</td>\n",
       "      <td>NaN</td>\n",
       "    </tr>\n",
       "    <tr>\n",
       "      <th>AvgRating</th>\n",
       "      <td>5.8</td>\n",
       "      <td>6.25821</td>\n",
       "      <td>6.53333</td>\n",
       "      <td>NaN</td>\n",
       "      <td>NaN</td>\n",
       "    </tr>\n",
       "    <tr>\n",
       "      <th>numFilmes</th>\n",
       "      <td>0.25</td>\n",
       "      <td>1</td>\n",
       "      <td>0.75</td>\n",
       "      <td>0</td>\n",
       "      <td>0</td>\n",
       "    </tr>\n",
       "    <tr>\n",
       "      <th>num_crew</th>\n",
       "      <td>10</td>\n",
       "      <td>10</td>\n",
       "      <td>10</td>\n",
       "      <td>10</td>\n",
       "      <td>10</td>\n",
       "    </tr>\n",
       "    <tr>\n",
       "      <th>Adventure_Geral</th>\n",
       "      <td>0</td>\n",
       "      <td>0</td>\n",
       "      <td>1</td>\n",
       "      <td>1</td>\n",
       "      <td>0</td>\n",
       "    </tr>\n",
       "    <tr>\n",
       "      <th>Animation_Geral</th>\n",
       "      <td>0</td>\n",
       "      <td>0</td>\n",
       "      <td>0</td>\n",
       "      <td>0</td>\n",
       "      <td>0</td>\n",
       "    </tr>\n",
       "    <tr>\n",
       "      <th>Biography_Geral</th>\n",
       "      <td>0</td>\n",
       "      <td>0</td>\n",
       "      <td>0</td>\n",
       "      <td>0</td>\n",
       "      <td>0</td>\n",
       "    </tr>\n",
       "    <tr>\n",
       "      <th>Comedy_Geral</th>\n",
       "      <td>0</td>\n",
       "      <td>0</td>\n",
       "      <td>0</td>\n",
       "      <td>0</td>\n",
       "      <td>1</td>\n",
       "    </tr>\n",
       "    <tr>\n",
       "      <th>Crime_Geral</th>\n",
       "      <td>0</td>\n",
       "      <td>0</td>\n",
       "      <td>0</td>\n",
       "      <td>0</td>\n",
       "      <td>0</td>\n",
       "    </tr>\n",
       "    <tr>\n",
       "      <th>Documentary_Geral</th>\n",
       "      <td>0</td>\n",
       "      <td>0</td>\n",
       "      <td>0</td>\n",
       "      <td>0</td>\n",
       "      <td>0</td>\n",
       "    </tr>\n",
       "    <tr>\n",
       "      <th>Drama_Geral</th>\n",
       "      <td>1</td>\n",
       "      <td>0</td>\n",
       "      <td>1</td>\n",
       "      <td>0</td>\n",
       "      <td>1</td>\n",
       "    </tr>\n",
       "    <tr>\n",
       "      <th>Family_Geral</th>\n",
       "      <td>0</td>\n",
       "      <td>0</td>\n",
       "      <td>0</td>\n",
       "      <td>0</td>\n",
       "      <td>0</td>\n",
       "    </tr>\n",
       "    <tr>\n",
       "      <th>Fantasy_Geral</th>\n",
       "      <td>0</td>\n",
       "      <td>0</td>\n",
       "      <td>0</td>\n",
       "      <td>0</td>\n",
       "      <td>0</td>\n",
       "    </tr>\n",
       "    <tr>\n",
       "      <th>History_Geral</th>\n",
       "      <td>0</td>\n",
       "      <td>0</td>\n",
       "      <td>0</td>\n",
       "      <td>0</td>\n",
       "      <td>0</td>\n",
       "    </tr>\n",
       "    <tr>\n",
       "      <th>Horror_Geral</th>\n",
       "      <td>0</td>\n",
       "      <td>1</td>\n",
       "      <td>0</td>\n",
       "      <td>0</td>\n",
       "      <td>0</td>\n",
       "    </tr>\n",
       "    <tr>\n",
       "      <th>Music_Geral</th>\n",
       "      <td>1</td>\n",
       "      <td>0</td>\n",
       "      <td>0</td>\n",
       "      <td>0</td>\n",
       "      <td>0</td>\n",
       "    </tr>\n",
       "    <tr>\n",
       "      <th>Musical_Geral</th>\n",
       "      <td>0</td>\n",
       "      <td>0</td>\n",
       "      <td>0</td>\n",
       "      <td>0</td>\n",
       "      <td>0</td>\n",
       "    </tr>\n",
       "    <tr>\n",
       "      <th>Mystery_Geral</th>\n",
       "      <td>0</td>\n",
       "      <td>1</td>\n",
       "      <td>0</td>\n",
       "      <td>0</td>\n",
       "      <td>0</td>\n",
       "    </tr>\n",
       "    <tr>\n",
       "      <th>Romance_Geral</th>\n",
       "      <td>1</td>\n",
       "      <td>0</td>\n",
       "      <td>0</td>\n",
       "      <td>0</td>\n",
       "      <td>1</td>\n",
       "    </tr>\n",
       "    <tr>\n",
       "      <th>Sci-Fi_Geral</th>\n",
       "      <td>0</td>\n",
       "      <td>0</td>\n",
       "      <td>0</td>\n",
       "      <td>0</td>\n",
       "      <td>0</td>\n",
       "    </tr>\n",
       "    <tr>\n",
       "      <th>Sport_Geral</th>\n",
       "      <td>0</td>\n",
       "      <td>0</td>\n",
       "      <td>0</td>\n",
       "      <td>0</td>\n",
       "      <td>0</td>\n",
       "    </tr>\n",
       "    <tr>\n",
       "      <th>Thriller_Geral</th>\n",
       "      <td>0</td>\n",
       "      <td>1</td>\n",
       "      <td>0</td>\n",
       "      <td>1</td>\n",
       "      <td>0</td>\n",
       "    </tr>\n",
       "    <tr>\n",
       "      <th>War_Geral</th>\n",
       "      <td>0</td>\n",
       "      <td>0</td>\n",
       "      <td>0</td>\n",
       "      <td>0</td>\n",
       "      <td>0</td>\n",
       "    </tr>\n",
       "    <tr>\n",
       "      <th>Western_Geral</th>\n",
       "      <td>0</td>\n",
       "      <td>0</td>\n",
       "      <td>0</td>\n",
       "      <td>0</td>\n",
       "      <td>0</td>\n",
       "    </tr>\n",
       "    <tr>\n",
       "      <th>Big_Studio</th>\n",
       "      <td>1</td>\n",
       "      <td>1</td>\n",
       "      <td>0</td>\n",
       "      <td>1</td>\n",
       "      <td>1</td>\n",
       "    </tr>\n",
       "    <tr>\n",
       "      <th>Known_Studio</th>\n",
       "      <td>0</td>\n",
       "      <td>0</td>\n",
       "      <td>1</td>\n",
       "      <td>0</td>\n",
       "      <td>0</td>\n",
       "    </tr>\n",
       "    <tr>\n",
       "      <th>independent</th>\n",
       "      <td>0</td>\n",
       "      <td>0</td>\n",
       "      <td>0</td>\n",
       "      <td>0</td>\n",
       "      <td>0</td>\n",
       "    </tr>\n",
       "    <tr>\n",
       "      <th>certified_fresh</th>\n",
       "      <td>0</td>\n",
       "      <td>0</td>\n",
       "      <td>1</td>\n",
       "      <td>0</td>\n",
       "      <td>0</td>\n",
       "    </tr>\n",
       "    <tr>\n",
       "      <th>fresh</th>\n",
       "      <td>0</td>\n",
       "      <td>0</td>\n",
       "      <td>0</td>\n",
       "      <td>0</td>\n",
       "      <td>1</td>\n",
       "    </tr>\n",
       "    <tr>\n",
       "      <th>rotten</th>\n",
       "      <td>1</td>\n",
       "      <td>1</td>\n",
       "      <td>0</td>\n",
       "      <td>1</td>\n",
       "      <td>0</td>\n",
       "    </tr>\n",
       "    <tr>\n",
       "      <th>spilled</th>\n",
       "      <td>1</td>\n",
       "      <td>0</td>\n",
       "      <td>0</td>\n",
       "      <td>1</td>\n",
       "      <td>0</td>\n",
       "    </tr>\n",
       "    <tr>\n",
       "      <th>upright</th>\n",
       "      <td>0</td>\n",
       "      <td>1</td>\n",
       "      <td>1</td>\n",
       "      <td>0</td>\n",
       "      <td>1</td>\n",
       "    </tr>\n",
       "  </tbody>\n",
       "</table>\n",
       "</div>"
      ],
      "text/plain": [
       "                                                                           0  \\\n",
       "tconst                                                             tt0118589   \n",
       "runtimeMinutes                                                           104   \n",
       "month                                                                      9   \n",
       "day                                                                       21   \n",
       "year                                                                    2001   \n",
       "FW                                                                        38   \n",
       "Worldwide_Gross                                                  4.27337e+06   \n",
       "Production_Budget                                                    8.5e+06   \n",
       "rentability                                                          0.50275   \n",
       "log_rentability                                                    -0.687663   \n",
       "movie_info                 The story of a gifted young singer, Billie Fra...   \n",
       "audience_avg_rating                                                     2.94   \n",
       "negative_perc                                                        53.5714   \n",
       "positive_perc                                                        46.4286   \n",
       "NPremium_Indicado                                                          0   \n",
       "NPremium_Win                                                               0   \n",
       "Premium_Indicado                                                           0   \n",
       "Premium_Win                                                                0   \n",
       "averageRating                                                            2.2   \n",
       "numVotes                                                               21167   \n",
       "directors_1_films                                                          1   \n",
       "directors_2_films                                                          0   \n",
       "directors_1_ratingAverage                                                6.9   \n",
       "directors_2_ratingAverage                                                NaN   \n",
       "writer_1_films                                                             0   \n",
       "writer_2_films                                                             1   \n",
       "writer_1_ratingAverage                                                   NaN   \n",
       "writer_2_ratingAverage                                                   6.9   \n",
       "AvgRating                                                                5.8   \n",
       "numFilmes                                                               0.25   \n",
       "num_crew                                                                  10   \n",
       "Adventure_Geral                                                            0   \n",
       "Animation_Geral                                                            0   \n",
       "Biography_Geral                                                            0   \n",
       "Comedy_Geral                                                               0   \n",
       "Crime_Geral                                                                0   \n",
       "Documentary_Geral                                                          0   \n",
       "Drama_Geral                                                                1   \n",
       "Family_Geral                                                               0   \n",
       "Fantasy_Geral                                                              0   \n",
       "History_Geral                                                              0   \n",
       "Horror_Geral                                                               0   \n",
       "Music_Geral                                                                1   \n",
       "Musical_Geral                                                              0   \n",
       "Mystery_Geral                                                              0   \n",
       "Romance_Geral                                                              1   \n",
       "Sci-Fi_Geral                                                               0   \n",
       "Sport_Geral                                                                0   \n",
       "Thriller_Geral                                                             0   \n",
       "War_Geral                                                                  0   \n",
       "Western_Geral                                                              0   \n",
       "Big_Studio                                                                 1   \n",
       "Known_Studio                                                               0   \n",
       "independent                                                                0   \n",
       "certified_fresh                                                            0   \n",
       "fresh                                                                      0   \n",
       "rotten                                                                     1   \n",
       "spilled                                                                    1   \n",
       "upright                                                                    0   \n",
       "\n",
       "                                                                           1  \\\n",
       "tconst                                                             tt0120681   \n",
       "runtimeMinutes                                                           122   \n",
       "month                                                                     10   \n",
       "day                                                                       19   \n",
       "year                                                                    2001   \n",
       "FW                                                                        42   \n",
       "Worldwide_Gross                                                  6.87124e+07   \n",
       "Production_Budget                                                    3.5e+07   \n",
       "rentability                                                          1.96321   \n",
       "log_rentability                                                     0.674581   \n",
       "movie_info                 The true-life horror story of Jack the Ripper ...   \n",
       "audience_avg_rating                                                     3.58   \n",
       "negative_perc                                                        33.3333   \n",
       "positive_perc                                                        66.6667   \n",
       "NPremium_Indicado                                                          0   \n",
       "NPremium_Win                                                               0   \n",
       "Premium_Indicado                                                           0   \n",
       "Premium_Win                                                                0   \n",
       "averageRating                                                            6.8   \n",
       "numVotes                                                              143578   \n",
       "directors_1_films                                                          3   \n",
       "directors_2_films                                                          3   \n",
       "directors_1_ratingAverage                                               7.31   \n",
       "directors_2_ratingAverage                                               7.31   \n",
       "writer_1_films                                                             0   \n",
       "writer_2_films                                                             0   \n",
       "writer_1_ratingAverage                                                   NaN   \n",
       "writer_2_ratingAverage                                                   NaN   \n",
       "AvgRating                                                            6.25821   \n",
       "numFilmes                                                                  1   \n",
       "num_crew                                                                  10   \n",
       "Adventure_Geral                                                            0   \n",
       "Animation_Geral                                                            0   \n",
       "Biography_Geral                                                            0   \n",
       "Comedy_Geral                                                               0   \n",
       "Crime_Geral                                                                0   \n",
       "Documentary_Geral                                                          0   \n",
       "Drama_Geral                                                                0   \n",
       "Family_Geral                                                               0   \n",
       "Fantasy_Geral                                                              0   \n",
       "History_Geral                                                              0   \n",
       "Horror_Geral                                                               1   \n",
       "Music_Geral                                                                0   \n",
       "Musical_Geral                                                              0   \n",
       "Mystery_Geral                                                              1   \n",
       "Romance_Geral                                                              0   \n",
       "Sci-Fi_Geral                                                               0   \n",
       "Sport_Geral                                                                0   \n",
       "Thriller_Geral                                                             1   \n",
       "War_Geral                                                                  0   \n",
       "Western_Geral                                                              0   \n",
       "Big_Studio                                                                 1   \n",
       "Known_Studio                                                               0   \n",
       "independent                                                                0   \n",
       "certified_fresh                                                            0   \n",
       "fresh                                                                      0   \n",
       "rotten                                                                     1   \n",
       "spilled                                                                    0   \n",
       "upright                                                                    1   \n",
       "\n",
       "                                                                           2  \\\n",
       "tconst                                                             tt0120737   \n",
       "runtimeMinutes                                                           178   \n",
       "month                                                                     12   \n",
       "day                                                                       19   \n",
       "year                                                                    2001   \n",
       "FW                                                                        51   \n",
       "Worldwide_Gross                                                  8.87211e+08   \n",
       "Production_Budget                                                   1.09e+08   \n",
       "rentability                                                          8.13955   \n",
       "log_rentability                                                      2.09673   \n",
       "movie_info                 Assisted by a Fellowship of heroes, Frodo Bagg...   \n",
       "audience_avg_rating                                                     4.12   \n",
       "negative_perc                                                        18.3406   \n",
       "positive_perc                                                        81.6594   \n",
       "NPremium_Indicado                                                          6   \n",
       "NPremium_Win                                                               4   \n",
       "Premium_Indicado                                                           3   \n",
       "Premium_Win                                                                0   \n",
       "averageRating                                                            8.8   \n",
       "numVotes                                                             1598647   \n",
       "directors_1_films                                                          5   \n",
       "directors_2_films                                                          0   \n",
       "directors_1_ratingAverage                                               7.16   \n",
       "directors_2_ratingAverage                                                NaN   \n",
       "writer_1_films                                                             0   \n",
       "writer_2_films                                                             4   \n",
       "writer_1_ratingAverage                                                   NaN   \n",
       "writer_2_ratingAverage                                               7.26298   \n",
       "AvgRating                                                            6.53333   \n",
       "numFilmes                                                               0.75   \n",
       "num_crew                                                                  10   \n",
       "Adventure_Geral                                                            1   \n",
       "Animation_Geral                                                            0   \n",
       "Biography_Geral                                                            0   \n",
       "Comedy_Geral                                                               0   \n",
       "Crime_Geral                                                                0   \n",
       "Documentary_Geral                                                          0   \n",
       "Drama_Geral                                                                1   \n",
       "Family_Geral                                                               0   \n",
       "Fantasy_Geral                                                              0   \n",
       "History_Geral                                                              0   \n",
       "Horror_Geral                                                               0   \n",
       "Music_Geral                                                                0   \n",
       "Musical_Geral                                                              0   \n",
       "Mystery_Geral                                                              0   \n",
       "Romance_Geral                                                              0   \n",
       "Sci-Fi_Geral                                                               0   \n",
       "Sport_Geral                                                                0   \n",
       "Thriller_Geral                                                             0   \n",
       "War_Geral                                                                  0   \n",
       "Western_Geral                                                              0   \n",
       "Big_Studio                                                                 0   \n",
       "Known_Studio                                                               1   \n",
       "independent                                                                0   \n",
       "certified_fresh                                                            1   \n",
       "fresh                                                                      0   \n",
       "rotten                                                                     0   \n",
       "spilled                                                                    0   \n",
       "upright                                                                    1   \n",
       "\n",
       "                                                                           3  \\\n",
       "tconst                                                             tt0120755   \n",
       "runtimeMinutes                                                           123   \n",
       "month                                                                      5   \n",
       "day                                                                       24   \n",
       "year                                                                    2000   \n",
       "FW                                                                        21   \n",
       "Worldwide_Gross                                                  5.49589e+08   \n",
       "Production_Budget                                                    1.2e+08   \n",
       "rentability                                                           4.5799   \n",
       "log_rentability                                                      1.52168   \n",
       "movie_info                 Director John Woo brings Hong Kong-style marti...   \n",
       "audience_avg_rating                                                     3.06   \n",
       "negative_perc                                                          43.75   \n",
       "positive_perc                                                          56.25   \n",
       "NPremium_Indicado                                                          0   \n",
       "NPremium_Win                                                               0   \n",
       "Premium_Indicado                                                           0   \n",
       "Premium_Win                                                                0   \n",
       "averageRating                                                            6.1   \n",
       "numVotes                                                              304492   \n",
       "directors_1_films                                                         24   \n",
       "directors_2_films                                                          0   \n",
       "directors_1_ratingAverage                                               7.11   \n",
       "directors_2_ratingAverage                                                NaN   \n",
       "writer_1_films                                                             3   \n",
       "writer_2_films                                                             0   \n",
       "writer_1_ratingAverage                                               7.09957   \n",
       "writer_2_ratingAverage                                                   NaN   \n",
       "AvgRating                                                                NaN   \n",
       "numFilmes                                                                  0   \n",
       "num_crew                                                                  10   \n",
       "Adventure_Geral                                                            1   \n",
       "Animation_Geral                                                            0   \n",
       "Biography_Geral                                                            0   \n",
       "Comedy_Geral                                                               0   \n",
       "Crime_Geral                                                                0   \n",
       "Documentary_Geral                                                          0   \n",
       "Drama_Geral                                                                0   \n",
       "Family_Geral                                                               0   \n",
       "Fantasy_Geral                                                              0   \n",
       "History_Geral                                                              0   \n",
       "Horror_Geral                                                               0   \n",
       "Music_Geral                                                                0   \n",
       "Musical_Geral                                                              0   \n",
       "Mystery_Geral                                                              0   \n",
       "Romance_Geral                                                              0   \n",
       "Sci-Fi_Geral                                                               0   \n",
       "Sport_Geral                                                                0   \n",
       "Thriller_Geral                                                             1   \n",
       "War_Geral                                                                  0   \n",
       "Western_Geral                                                              0   \n",
       "Big_Studio                                                                 1   \n",
       "Known_Studio                                                               0   \n",
       "independent                                                                0   \n",
       "certified_fresh                                                            0   \n",
       "fresh                                                                      0   \n",
       "rotten                                                                     1   \n",
       "spilled                                                                    1   \n",
       "upright                                                                    0   \n",
       "\n",
       "                                                                           4  \n",
       "tconst                                                             tt0122459  \n",
       "runtimeMinutes                                                           115  \n",
       "month                                                                      4  \n",
       "day                                                                        7  \n",
       "year                                                                    2000  \n",
       "FW                                                                        14  \n",
       "Worldwide_Gross                                                  3.26623e+07  \n",
       "Production_Budget                                                    2.4e+07  \n",
       "rentability                                                          1.36093  \n",
       "log_rentability                                                     0.308168  \n",
       "movie_info                 Return To Me is an endearing romantic comedy i...  \n",
       "audience_avg_rating                                                     4.04  \n",
       "negative_perc                                                        22.0779  \n",
       "positive_perc                                                        77.9221  \n",
       "NPremium_Indicado                                                          0  \n",
       "NPremium_Win                                                               0  \n",
       "Premium_Indicado                                                           0  \n",
       "Premium_Win                                                                0  \n",
       "averageRating                                                            6.9  \n",
       "numVotes                                                               19168  \n",
       "directors_1_films                                                          0  \n",
       "directors_2_films                                                          0  \n",
       "directors_1_ratingAverage                                                NaN  \n",
       "directors_2_ratingAverage                                                NaN  \n",
       "writer_1_films                                                             0  \n",
       "writer_2_films                                                             0  \n",
       "writer_1_ratingAverage                                                   NaN  \n",
       "writer_2_ratingAverage                                                   NaN  \n",
       "AvgRating                                                                NaN  \n",
       "numFilmes                                                                  0  \n",
       "num_crew                                                                  10  \n",
       "Adventure_Geral                                                            0  \n",
       "Animation_Geral                                                            0  \n",
       "Biography_Geral                                                            0  \n",
       "Comedy_Geral                                                               1  \n",
       "Crime_Geral                                                                0  \n",
       "Documentary_Geral                                                          0  \n",
       "Drama_Geral                                                                1  \n",
       "Family_Geral                                                               0  \n",
       "Fantasy_Geral                                                              0  \n",
       "History_Geral                                                              0  \n",
       "Horror_Geral                                                               0  \n",
       "Music_Geral                                                                0  \n",
       "Musical_Geral                                                              0  \n",
       "Mystery_Geral                                                              0  \n",
       "Romance_Geral                                                              1  \n",
       "Sci-Fi_Geral                                                               0  \n",
       "Sport_Geral                                                                0  \n",
       "Thriller_Geral                                                             0  \n",
       "War_Geral                                                                  0  \n",
       "Western_Geral                                                              0  \n",
       "Big_Studio                                                                 1  \n",
       "Known_Studio                                                               0  \n",
       "independent                                                                0  \n",
       "certified_fresh                                                            0  \n",
       "fresh                                                                      1  \n",
       "rotten                                                                     0  \n",
       "spilled                                                                    0  \n",
       "upright                                                                    1  "
      ]
     },
     "execution_count": 40,
     "metadata": {},
     "output_type": "execute_result"
    }
   ],
   "source": [
    "final_generos_studios_rt.head().T"
   ]
  },
  {
   "cell_type": "code",
   "execution_count": 41,
   "metadata": {
    "ExecuteTime": {
     "end_time": "2020-07-08T21:12:51.499115Z",
     "start_time": "2020-07-08T21:12:51.124089Z"
    }
   },
   "outputs": [
    {
     "data": {
      "text/plain": [
       "<matplotlib.axes._subplots.AxesSubplot at 0x1b06c6b5448>"
      ]
     },
     "execution_count": 41,
     "metadata": {},
     "output_type": "execute_result"
    },
    {
     "data": {
      "image/png": "[encoded data removed]",
      "text/plain": [
       "<Figure size 1800x720 with 2 Axes>"
      ]
     },
     "metadata": {},
     "output_type": "display_data"
    }
   ],
   "source": [
    "import missingno as msno\n",
    "msno.matrix(final_generos_studios_rt)"
   ]
  },
  {
   "cell_type": "code",
   "execution_count": 42,
   "metadata": {
    "ExecuteTime": {
     "end_time": "2020-07-08T21:12:51.507116Z",
     "start_time": "2020-07-08T21:12:51.501114Z"
    }
   },
   "outputs": [],
   "source": [
    "final_generos_studios_rt = final_generos_studios_rt.fillna(0)"
   ]
  },
  {
   "cell_type": "markdown",
   "metadata": {},
   "source": [
    "## Correlação"
   ]
  },
  {
   "cell_type": "code",
   "execution_count": 43,
   "metadata": {
    "ExecuteTime": {
     "end_time": "2020-07-08T21:12:51.546552Z",
     "start_time": "2020-07-08T21:12:51.508100Z"
    }
   },
   "outputs": [
    {
     "data": {
      "text/plain": [
       "log_rentability        1.000000\n",
       "rentability            0.726308\n",
       "Worldwide_Gross        0.401620\n",
       "numVotes               0.359109\n",
       "audience_avg_rating    0.295503\n",
       "averageRating          0.246775\n",
       "certified_fresh        0.235275\n",
       "rotten                 0.219817\n",
       "upright                0.209606\n",
       "spilled                0.209606\n",
       "Name: log_rentability, dtype: float64"
      ]
     },
     "execution_count": 43,
     "metadata": {},
     "output_type": "execute_result"
    }
   ],
   "source": [
    "abs(final_generos_studios_rt.corr()['log_rentability']).sort_values(ascending = False).head(10)"
   ]
  },
  {
   "cell_type": "markdown",
   "metadata": {},
   "source": [
    "## 1a Regressao"
   ]
  },
  {
   "cell_type": "code",
   "execution_count": 44,
   "metadata": {
    "ExecuteTime": {
     "end_time": "2020-07-08T21:12:51.593426Z",
     "start_time": "2020-07-08T21:12:51.547551Z"
    }
   },
   "outputs": [
    {
     "data": {
      "text/plain": [
       "array([[0.31952663, 0.71153846, 0.4617737 , ..., 1.        , 1.        ,\n",
       "        0.        ],\n",
       "       [0.4260355 , 0.78846154, 0.65749235, ..., 1.        , 0.        ,\n",
       "        1.        ],\n",
       "       [0.75739645, 0.96153846, 0.82262997, ..., 0.        , 0.        ,\n",
       "        1.        ],\n",
       "       ...,\n",
       "       [0.31360947, 0.92307692, 0.65443425, ..., 0.        , 0.        ,\n",
       "        1.        ],\n",
       "       [0.4556213 , 0.40384615, 0.62996942, ..., 0.        , 0.        ,\n",
       "        1.        ],\n",
       "       [0.43195266, 0.92307692, 0.84097859, ..., 0.        , 0.        ,\n",
       "        1.        ]])"
      ]
     },
     "execution_count": 44,
     "metadata": {},
     "output_type": "execute_result"
    }
   ],
   "source": [
    "from sklearn.preprocessing import MinMaxScaler\n",
    "\n",
    "columns = final_generos_studios_rt.drop(['tconst', 'month','Worldwide_Gross','Production_Budget', 'day', 'year', 'log_rentability','rentability','movie_info','numVotes'], axis=1)\n",
    "\n",
    "X= columns.values\n",
    "\n",
    "scaler = MinMaxScaler()\n",
    "\n",
    "scaler.fit_transform(X)"
   ]
  },
  {
   "cell_type": "code",
   "execution_count": 45,
   "metadata": {
    "ExecuteTime": {
     "end_time": "2020-07-08T21:12:51.706138Z",
     "start_time": "2020-07-08T21:12:51.594423Z"
    }
   },
   "outputs": [],
   "source": [
    "from sklearn import linear_model\n",
    "from sklearn.model_selection import train_test_split"
   ]
  },
  {
   "cell_type": "code",
   "execution_count": 46,
   "metadata": {
    "ExecuteTime": {
     "end_time": "2020-07-08T21:16:11.905340Z",
     "start_time": "2020-07-08T21:16:11.900390Z"
    }
   },
   "outputs": [],
   "source": [
    "# variável target\n",
    "y = final_generos_studios_rt['log_rentability']\n",
    "# dividindo oa dados em treino e teste"
   ]
  },
  {
   "cell_type": "code",
   "execution_count": 47,
   "metadata": {
    "ExecuteTime": {
     "end_time": "2020-07-08T21:16:16.696149Z",
     "start_time": "2020-07-08T21:16:16.690166Z"
    }
   },
   "outputs": [],
   "source": [
    "x_train, x_test,y_train,y_test = train_test_split(X,y,test_size =0.2)"
   ]
  },
  {
   "cell_type": "code",
   "execution_count": 48,
   "metadata": {
    "ExecuteTime": {
     "end_time": "2020-07-08T21:16:27.161808Z",
     "start_time": "2020-07-08T21:16:27.150368Z"
    }
   },
   "outputs": [],
   "source": [
    "regr = linear_model.LinearRegression()\n",
    "regr.fit(x_train, y_train)\n",
    "y_pred = regr.predict(x_test)"
   ]
  },
  {
   "cell_type": "code",
   "execution_count": 49,
   "metadata": {
    "ExecuteTime": {
     "end_time": "2020-07-08T21:16:32.961942Z",
     "start_time": "2020-07-08T21:16:32.952938Z"
    }
   },
   "outputs": [
    {
     "data": {
      "text/plain": [
       "0.27842929493904833"
      ]
     },
     "execution_count": 49,
     "metadata": {},
     "output_type": "execute_result"
    }
   ],
   "source": [
    "regr.score(x_train,y_train)"
   ]
  },
  {
   "cell_type": "code",
   "execution_count": 50,
   "metadata": {
    "ExecuteTime": {
     "end_time": "2020-07-08T21:17:16.131536Z",
     "start_time": "2020-07-08T21:17:15.020446Z"
    }
   },
   "outputs": [
    {
     "data": {
      "image/png": "[encoded data removed]",
      "text/plain": [
       "<Figure size 432x432 with 3 Axes>"
      ]
     },
     "metadata": {},
     "output_type": "display_data"
    }
   ],
   "source": [
    "# Plotando a dispersão dos valores preditos pelos valores reais\n",
    "sns.jointplot(x = y_pred, y=y_test, kind='reg')\n",
    "plt.xlabel(' Values ($\\hat y$)')\n",
    "plt.ylabel('Salarios ($y$)');"
   ]
  },
  {
   "cell_type": "code",
   "execution_count": 51,
   "metadata": {
    "ExecuteTime": {
     "end_time": "2020-07-08T21:17:21.606950Z",
     "start_time": "2020-07-08T21:17:20.638510Z"
    }
   },
   "outputs": [
    {
     "data": {
      "image/png": "[encoded data removed]",
      "text/plain": [
       "<Figure size 432x432 with 3 Axes>"
      ]
     },
     "metadata": {},
     "output_type": "display_data"
    }
   ],
   "source": [
    "#Homocedasticidade\n",
    "sns.jointplot(x= y_pred, y=(y_test - y_pred), kind='reg')\n",
    "plt.xlabel('Predicted Values ($\\hat y$)')\n",
    "plt.ylabel('Resíduo ($y - \\hat y$)');"
   ]
  },
  {
   "cell_type": "code",
   "execution_count": 52,
   "metadata": {
    "ExecuteTime": {
     "end_time": "2020-07-08T21:17:27.489215Z",
     "start_time": "2020-07-08T21:17:26.454982Z"
    }
   },
   "outputs": [
    {
     "data": {
      "image/png": "[encoded data removed]",
      "text/plain": [
       "<Figure size 432x432 with 3 Axes>"
      ]
     },
     "metadata": {},
     "output_type": "display_data"
    }
   ],
   "source": [
    "#Endogeneidade\n",
    "sns.jointplot(x=y_test, y=(y_test - y_pred), kind='reg')\n",
    "plt.xlabel('Real Values ($\\ y$)')\n",
    "plt.ylabel('Resíduo ($y - \\hat y$)');"
   ]
  },
  {
   "cell_type": "code",
   "execution_count": 53,
   "metadata": {
    "ExecuteTime": {
     "end_time": "2020-07-08T21:17:32.753847Z",
     "start_time": "2020-07-08T21:17:32.742921Z"
    }
   },
   "outputs": [
    {
     "name": "stdout",
     "output_type": "stream",
     "text": [
      "MSE Error: 0.8861721606612404\n",
      "RMSE Error: 0.9413671763245415\n",
      "MAPE Error: 140.91917568722948\n",
      "R2: 0.2198626802012612\n"
     ]
    }
   ],
   "source": [
    "#Metricas\n",
    "from sklearn.metrics import mean_squared_error\n",
    "from sklearn.metrics import r2_score\n",
    "\n",
    "MSE = mean_squared_error(y_test, y_pred)\n",
    "rmse = np.sqrt(mean_squared_error(y_test, y_pred))\n",
    "mape = (np.sum(np.abs((y_test - y_pred)/y_test)*100))/len(y_test)\n",
    "R2 = r2_score(y_test, y_pred)\n",
    "\n",
    "print(f'MSE Error: {MSE}\\nRMSE Error: {rmse}\\nMAPE Error: {mape}\\nR2: {R2}')"
   ]
  },
  {
   "cell_type": "code",
   "execution_count": 54,
   "metadata": {
    "ExecuteTime": {
     "end_time": "2020-07-08T21:17:37.569972Z",
     "start_time": "2020-07-08T21:17:37.563988Z"
    }
   },
   "outputs": [
    {
     "data": {
      "text/plain": [
       "1152    1.454993\n",
       "1158    0.989058\n",
       "1079    0.858217\n",
       "225    -0.957485\n",
       "420     1.865385\n",
       "Name: log_rentability, dtype: float64"
      ]
     },
     "execution_count": 54,
     "metadata": {},
     "output_type": "execute_result"
    }
   ],
   "source": [
    "y_test[:5]"
   ]
  },
  {
   "cell_type": "code",
   "execution_count": 55,
   "metadata": {
    "ExecuteTime": {
     "end_time": "2020-07-08T21:17:42.723643Z",
     "start_time": "2020-07-08T21:17:42.718237Z"
    }
   },
   "outputs": [
    {
     "data": {
      "text/plain": [
       "array([0.96606445, 0.83972168, 0.3449707 , 0.39074707, 2.00036621])"
      ]
     },
     "execution_count": 55,
     "metadata": {},
     "output_type": "execute_result"
    }
   ],
   "source": [
    "y_pred[:5]"
   ]
  },
  {
   "cell_type": "markdown",
   "metadata": {},
   "source": [
    "## Clustering"
   ]
  },
  {
   "cell_type": "code",
   "execution_count": 136,
   "metadata": {
    "ExecuteTime": {
     "end_time": "2020-07-08T23:15:17.171772Z",
     "start_time": "2020-07-08T23:15:17.160069Z"
    }
   },
   "outputs": [],
   "source": [
    "columns = final_generos_studios_rt.drop(['tconst','month','day','year','Worldwide_Gross','rentability','log_rentability','movie_info'], axis = 1)"
   ]
  },
  {
   "cell_type": "code",
   "execution_count": 137,
   "metadata": {
    "ExecuteTime": {
     "end_time": "2020-07-08T23:15:25.358968Z",
     "start_time": "2020-07-08T23:15:25.349900Z"
    }
   },
   "outputs": [],
   "source": [
    "X_sample = columns.values \n",
    "y_sample = final.loc[:,'log_rentability'].values "
   ]
  },
  {
   "cell_type": "code",
   "execution_count": 138,
   "metadata": {
    "ExecuteTime": {
     "end_time": "2020-07-08T23:15:46.780807Z",
     "start_time": "2020-07-08T23:15:34.096142Z"
    }
   },
   "outputs": [],
   "source": [
    "# plotando o silhouette score\n",
    "# variância ideal é aquela mais perto de 1, por isso queremos o maior silhouette score\n",
    "\n",
    "from sklearn.metrics import silhouette_score   \n",
    "from sklearn.cluster import KMeans\n",
    "\n",
    "sillhoute_scores = []\n",
    "n_cluster_list = np.arange(2,31).astype(int)\n",
    "\n",
    "for n_cluster in n_cluster_list:\n",
    "    kmeans = KMeans(n_clusters=n_cluster)\n",
    "    cluster_found = kmeans.fit_predict(X_sample)\n",
    "    sillhoute_scores.append(silhouette_score(X_sample, kmeans.labels_))"
   ]
  },
  {
   "cell_type": "code",
   "execution_count": 139,
   "metadata": {
    "ExecuteTime": {
     "end_time": "2020-07-08T23:15:55.727606Z",
     "start_time": "2020-07-08T23:15:55.096359Z"
    }
   },
   "outputs": [
    {
     "data": {
      "text/plain": [
       "([<matplotlib.axis.XTick at 0x1b06cbeabc8>,\n",
       "  <matplotlib.axis.XTick at 0x1b06cbea588>,\n",
       "  <matplotlib.axis.XTick at 0x1b06cc82908>,\n",
       "  <matplotlib.axis.XTick at 0x1b06c1d9948>,\n",
       "  <matplotlib.axis.XTick at 0x1b06c1d9508>,\n",
       "  <matplotlib.axis.XTick at 0x1b070e6ce88>,\n",
       "  <matplotlib.axis.XTick at 0x1b070e6c648>,\n",
       "  <matplotlib.axis.XTick at 0x1b06cd5c788>,\n",
       "  <matplotlib.axis.XTick at 0x1b06d272608>,\n",
       "  <matplotlib.axis.XTick at 0x1b06d4edbc8>,\n",
       "  <matplotlib.axis.XTick at 0x1b06cdde148>,\n",
       "  <matplotlib.axis.XTick at 0x1b06d2ef6c8>,\n",
       "  <matplotlib.axis.XTick at 0x1b06cc722c8>,\n",
       "  <matplotlib.axis.XTick at 0x1b06cc72408>,\n",
       "  <matplotlib.axis.XTick at 0x1b06ce95848>,\n",
       "  <matplotlib.axis.XTick at 0x1b06d2e15c8>,\n",
       "  <matplotlib.axis.XTick at 0x1b06d2e1f08>,\n",
       "  <matplotlib.axis.XTick at 0x1b06997ae08>,\n",
       "  <matplotlib.axis.XTick at 0x1b069969f88>,\n",
       "  <matplotlib.axis.XTick at 0x1b06d2e1a08>,\n",
       "  <matplotlib.axis.XTick at 0x1b06d2ef108>,\n",
       "  <matplotlib.axis.XTick at 0x1b06ce55708>,\n",
       "  <matplotlib.axis.XTick at 0x1b06cdb4888>,\n",
       "  <matplotlib.axis.XTick at 0x1b06cdb4108>,\n",
       "  <matplotlib.axis.XTick at 0x1b06ccb3488>,\n",
       "  <matplotlib.axis.XTick at 0x1b070e63d48>,\n",
       "  <matplotlib.axis.XTick at 0x1b070e63448>,\n",
       "  <matplotlib.axis.XTick at 0x1b06ce85408>,\n",
       "  <matplotlib.axis.XTick at 0x1b06ce85848>,\n",
       "  <matplotlib.axis.XTick at 0x1b06cbe2fc8>,\n",
       "  <matplotlib.axis.XTick at 0x1b070e630c8>],\n",
       " <a list of 31 Text major ticklabel objects>)"
      ]
     },
     "execution_count": 139,
     "metadata": {},
     "output_type": "execute_result"
    },
    {
     "data": {
      "image/png": "[encoded data removed]",
      "text/plain": [
       "<Figure size 432x288 with 1 Axes>"
      ]
     },
     "metadata": {},
     "output_type": "display_data"
    }
   ],
   "source": [
    "plt.plot(n_cluster_list,sillhoute_scores)\n",
    "plt.xlabel('Number of Clusters')\n",
    "plt.xticks(np.arange(0, 31), fontsize=12, rotation=90)"
   ]
  },
  {
   "cell_type": "code",
   "execution_count": 140,
   "metadata": {
    "ExecuteTime": {
     "end_time": "2020-07-08T23:16:04.826175Z",
     "start_time": "2020-07-08T23:16:04.338408Z"
    }
   },
   "outputs": [
    {
     "data": {
      "text/plain": [
       "KMeans()"
      ]
     },
     "execution_count": 140,
     "metadata": {},
     "output_type": "execute_result"
    }
   ],
   "source": [
    "kmeans = KMeans(n_clusters=8)\n",
    "kmeans.fit(X)"
   ]
  },
  {
   "cell_type": "code",
   "execution_count": 141,
   "metadata": {
    "ExecuteTime": {
     "end_time": "2020-07-08T23:16:13.125251Z",
     "start_time": "2020-07-08T23:16:13.116450Z"
    }
   },
   "outputs": [],
   "source": [
    "final_generos_studios_rt['cluster'] = kmeans.labels_"
   ]
  },
  {
   "cell_type": "code",
   "execution_count": 143,
   "metadata": {
    "ExecuteTime": {
     "end_time": "2020-07-08T23:16:30.439834Z",
     "start_time": "2020-07-08T23:16:30.002420Z"
    },
    "scrolled": true
   },
   "outputs": [
    {
     "data": {
      "image/png": "[encoded data removed]",
      "text/plain": [
       "<Figure size 720x360 with 1 Axes>"
      ]
     },
     "metadata": {},
     "output_type": "display_data"
    }
   ],
   "source": [
    "plotcolum(final_generos_studios_rt['cluster'],final_generos_studios_rt)"
   ]
  },
  {
   "cell_type": "code",
   "execution_count": 144,
   "metadata": {
    "ExecuteTime": {
     "end_time": "2020-07-08T23:16:38.806725Z",
     "start_time": "2020-07-08T23:16:38.799990Z"
    },
    "scrolled": true
   },
   "outputs": [
    {
     "data": {
      "text/plain": [
       "2    226\n",
       "3    208\n",
       "1    206\n",
       "4    195\n",
       "6    190\n",
       "5    188\n",
       "7    177\n",
       "0     82\n",
       "Name: cluster, dtype: int64"
      ]
     },
     "execution_count": 144,
     "metadata": {},
     "output_type": "execute_result"
    }
   ],
   "source": [
    "final_generos_studios_rt.cluster.value_counts()"
   ]
  },
  {
   "cell_type": "code",
   "execution_count": 145,
   "metadata": {
    "ExecuteTime": {
     "end_time": "2020-07-08T23:16:47.493392Z",
     "start_time": "2020-07-08T23:16:47.005939Z"
    },
    "scrolled": true
   },
   "outputs": [
    {
     "data": {
      "image/png": "[encoded data removed]",
      "text/plain": [
       "<Figure size 432x288 with 1 Axes>"
      ]
     },
     "metadata": {},
     "output_type": "display_data"
    }
   ],
   "source": [
    "sns.set(style=\"whitegrid\")\n",
    "tips = final_generos_studios_rt\n",
    "ax = sns.boxplot(x='cluster', y='log_rentability',data = tips)"
   ]
  },
  {
   "cell_type": "code",
   "execution_count": 146,
   "metadata": {
    "ExecuteTime": {
     "end_time": "2020-07-08T23:16:55.944450Z",
     "start_time": "2020-07-08T23:16:55.937732Z"
    }
   },
   "outputs": [],
   "source": [
    "Values = ['Adventure_Geral','Animation_Geral','Biography_Geral','Comedy_Geral','Crime_Geral','Documentary_Geral','Drama_Geral','Family_Geral','Fantasy_Geral','History_Geral','Horror_Geral','Music_Geral','Musical_Geral','Mystery_Geral','Romance_Geral','Sci-Fi_Geral','Sport_Geral','Thriller_Geral','War_Geral','Western_Geral']"
   ]
  },
  {
   "cell_type": "code",
   "execution_count": 147,
   "metadata": {
    "ExecuteTime": {
     "end_time": "2020-07-08T23:17:04.267014Z",
     "start_time": "2020-07-08T23:17:04.242778Z"
    }
   },
   "outputs": [],
   "source": [
    "Generos = pd.DataFrame(pd.pivot_table(final_generos_studios_rt, values=Values, index=['cluster'], aggfunc=np.sum).T)"
   ]
  },
  {
   "cell_type": "code",
   "execution_count": 148,
   "metadata": {
    "ExecuteTime": {
     "end_time": "2020-07-08T23:17:13.105672Z",
     "start_time": "2020-07-08T23:17:13.077912Z"
    }
   },
   "outputs": [
    {
     "data": {
      "text/html": [
       "<div>\n",
       "<style scoped>\n",
       "    .dataframe tbody tr th:only-of-type {\n",
       "        vertical-align: middle;\n",
       "    }\n",
       "\n",
       "    .dataframe tbody tr th {\n",
       "        vertical-align: top;\n",
       "    }\n",
       "\n",
       "    .dataframe thead th {\n",
       "        text-align: right;\n",
       "    }\n",
       "</style>\n",
       "<table border=\"1\" class=\"dataframe\">\n",
       "  <thead>\n",
       "    <tr style=\"text-align: right;\">\n",
       "      <th>cluster</th>\n",
       "      <th>0</th>\n",
       "      <th>1</th>\n",
       "      <th>2</th>\n",
       "      <th>3</th>\n",
       "      <th>4</th>\n",
       "      <th>5</th>\n",
       "      <th>6</th>\n",
       "      <th>7</th>\n",
       "    </tr>\n",
       "  </thead>\n",
       "  <tbody>\n",
       "    <tr>\n",
       "      <th>Adventure_Geral</th>\n",
       "      <td>34</td>\n",
       "      <td>33</td>\n",
       "      <td>56</td>\n",
       "      <td>35</td>\n",
       "      <td>35</td>\n",
       "      <td>27</td>\n",
       "      <td>47</td>\n",
       "      <td>53</td>\n",
       "    </tr>\n",
       "    <tr>\n",
       "      <th>Animation_Geral</th>\n",
       "      <td>0</td>\n",
       "      <td>8</td>\n",
       "      <td>38</td>\n",
       "      <td>1</td>\n",
       "      <td>8</td>\n",
       "      <td>24</td>\n",
       "      <td>30</td>\n",
       "      <td>0</td>\n",
       "    </tr>\n",
       "    <tr>\n",
       "      <th>Biography_Geral</th>\n",
       "      <td>14</td>\n",
       "      <td>4</td>\n",
       "      <td>5</td>\n",
       "      <td>44</td>\n",
       "      <td>1</td>\n",
       "      <td>28</td>\n",
       "      <td>16</td>\n",
       "      <td>12</td>\n",
       "    </tr>\n",
       "    <tr>\n",
       "      <th>Comedy_Geral</th>\n",
       "      <td>4</td>\n",
       "      <td>122</td>\n",
       "      <td>138</td>\n",
       "      <td>52</td>\n",
       "      <td>99</td>\n",
       "      <td>83</td>\n",
       "      <td>92</td>\n",
       "      <td>50</td>\n",
       "    </tr>\n",
       "    <tr>\n",
       "      <th>Crime_Geral</th>\n",
       "      <td>14</td>\n",
       "      <td>40</td>\n",
       "      <td>36</td>\n",
       "      <td>41</td>\n",
       "      <td>39</td>\n",
       "      <td>23</td>\n",
       "      <td>31</td>\n",
       "      <td>43</td>\n",
       "    </tr>\n",
       "    <tr>\n",
       "      <th>Documentary_Geral</th>\n",
       "      <td>0</td>\n",
       "      <td>0</td>\n",
       "      <td>3</td>\n",
       "      <td>0</td>\n",
       "      <td>1</td>\n",
       "      <td>1</td>\n",
       "      <td>1</td>\n",
       "      <td>0</td>\n",
       "    </tr>\n",
       "    <tr>\n",
       "      <th>Drama_Geral</th>\n",
       "      <td>58</td>\n",
       "      <td>46</td>\n",
       "      <td>76</td>\n",
       "      <td>169</td>\n",
       "      <td>35</td>\n",
       "      <td>145</td>\n",
       "      <td>106</td>\n",
       "      <td>83</td>\n",
       "    </tr>\n",
       "    <tr>\n",
       "      <th>Family_Geral</th>\n",
       "      <td>2</td>\n",
       "      <td>13</td>\n",
       "      <td>31</td>\n",
       "      <td>12</td>\n",
       "      <td>11</td>\n",
       "      <td>15</td>\n",
       "      <td>23</td>\n",
       "      <td>3</td>\n",
       "    </tr>\n",
       "    <tr>\n",
       "      <th>Fantasy_Geral</th>\n",
       "      <td>10</td>\n",
       "      <td>24</td>\n",
       "      <td>22</td>\n",
       "      <td>19</td>\n",
       "      <td>20</td>\n",
       "      <td>9</td>\n",
       "      <td>12</td>\n",
       "      <td>13</td>\n",
       "    </tr>\n",
       "    <tr>\n",
       "      <th>History_Geral</th>\n",
       "      <td>10</td>\n",
       "      <td>0</td>\n",
       "      <td>1</td>\n",
       "      <td>11</td>\n",
       "      <td>2</td>\n",
       "      <td>5</td>\n",
       "      <td>7</td>\n",
       "      <td>4</td>\n",
       "    </tr>\n",
       "    <tr>\n",
       "      <th>Horror_Geral</th>\n",
       "      <td>2</td>\n",
       "      <td>31</td>\n",
       "      <td>28</td>\n",
       "      <td>7</td>\n",
       "      <td>32</td>\n",
       "      <td>6</td>\n",
       "      <td>16</td>\n",
       "      <td>13</td>\n",
       "    </tr>\n",
       "    <tr>\n",
       "      <th>Music_Geral</th>\n",
       "      <td>3</td>\n",
       "      <td>5</td>\n",
       "      <td>13</td>\n",
       "      <td>5</td>\n",
       "      <td>7</td>\n",
       "      <td>10</td>\n",
       "      <td>5</td>\n",
       "      <td>7</td>\n",
       "    </tr>\n",
       "    <tr>\n",
       "      <th>Musical_Geral</th>\n",
       "      <td>1</td>\n",
       "      <td>1</td>\n",
       "      <td>0</td>\n",
       "      <td>2</td>\n",
       "      <td>1</td>\n",
       "      <td>1</td>\n",
       "      <td>0</td>\n",
       "      <td>1</td>\n",
       "    </tr>\n",
       "    <tr>\n",
       "      <th>Mystery_Geral</th>\n",
       "      <td>10</td>\n",
       "      <td>21</td>\n",
       "      <td>24</td>\n",
       "      <td>12</td>\n",
       "      <td>22</td>\n",
       "      <td>20</td>\n",
       "      <td>18</td>\n",
       "      <td>12</td>\n",
       "    </tr>\n",
       "    <tr>\n",
       "      <th>Romance_Geral</th>\n",
       "      <td>5</td>\n",
       "      <td>43</td>\n",
       "      <td>35</td>\n",
       "      <td>39</td>\n",
       "      <td>31</td>\n",
       "      <td>34</td>\n",
       "      <td>32</td>\n",
       "      <td>27</td>\n",
       "    </tr>\n",
       "    <tr>\n",
       "      <th>Sci-Fi_Geral</th>\n",
       "      <td>12</td>\n",
       "      <td>12</td>\n",
       "      <td>8</td>\n",
       "      <td>10</td>\n",
       "      <td>15</td>\n",
       "      <td>8</td>\n",
       "      <td>13</td>\n",
       "      <td>23</td>\n",
       "    </tr>\n",
       "    <tr>\n",
       "      <th>Sport_Geral</th>\n",
       "      <td>2</td>\n",
       "      <td>4</td>\n",
       "      <td>10</td>\n",
       "      <td>14</td>\n",
       "      <td>5</td>\n",
       "      <td>3</td>\n",
       "      <td>5</td>\n",
       "      <td>7</td>\n",
       "    </tr>\n",
       "    <tr>\n",
       "      <th>Thriller_Geral</th>\n",
       "      <td>9</td>\n",
       "      <td>39</td>\n",
       "      <td>32</td>\n",
       "      <td>28</td>\n",
       "      <td>42</td>\n",
       "      <td>15</td>\n",
       "      <td>22</td>\n",
       "      <td>32</td>\n",
       "    </tr>\n",
       "    <tr>\n",
       "      <th>War_Geral</th>\n",
       "      <td>1</td>\n",
       "      <td>0</td>\n",
       "      <td>1</td>\n",
       "      <td>3</td>\n",
       "      <td>1</td>\n",
       "      <td>3</td>\n",
       "      <td>0</td>\n",
       "      <td>4</td>\n",
       "    </tr>\n",
       "    <tr>\n",
       "      <th>Western_Geral</th>\n",
       "      <td>1</td>\n",
       "      <td>0</td>\n",
       "      <td>0</td>\n",
       "      <td>2</td>\n",
       "      <td>2</td>\n",
       "      <td>0</td>\n",
       "      <td>0</td>\n",
       "      <td>1</td>\n",
       "    </tr>\n",
       "  </tbody>\n",
       "</table>\n",
       "</div>"
      ],
      "text/plain": [
       "cluster             0    1    2    3   4    5    6   7\n",
       "Adventure_Geral    34   33   56   35  35   27   47  53\n",
       "Animation_Geral     0    8   38    1   8   24   30   0\n",
       "Biography_Geral    14    4    5   44   1   28   16  12\n",
       "Comedy_Geral        4  122  138   52  99   83   92  50\n",
       "Crime_Geral        14   40   36   41  39   23   31  43\n",
       "Documentary_Geral   0    0    3    0   1    1    1   0\n",
       "Drama_Geral        58   46   76  169  35  145  106  83\n",
       "Family_Geral        2   13   31   12  11   15   23   3\n",
       "Fantasy_Geral      10   24   22   19  20    9   12  13\n",
       "History_Geral      10    0    1   11   2    5    7   4\n",
       "Horror_Geral        2   31   28    7  32    6   16  13\n",
       "Music_Geral         3    5   13    5   7   10    5   7\n",
       "Musical_Geral       1    1    0    2   1    1    0   1\n",
       "Mystery_Geral      10   21   24   12  22   20   18  12\n",
       "Romance_Geral       5   43   35   39  31   34   32  27\n",
       "Sci-Fi_Geral       12   12    8   10  15    8   13  23\n",
       "Sport_Geral         2    4   10   14   5    3    5   7\n",
       "Thriller_Geral      9   39   32   28  42   15   22  32\n",
       "War_Geral           1    0    1    3   1    3    0   4\n",
       "Western_Geral       1    0    0    2   2    0    0   1"
      ]
     },
     "execution_count": 148,
     "metadata": {},
     "output_type": "execute_result"
    }
   ],
   "source": [
    "Generos"
   ]
  },
  {
   "cell_type": "code",
   "execution_count": 122,
   "metadata": {
    "ExecuteTime": {
     "end_time": "2020-07-08T23:11:28.834075Z",
     "start_time": "2020-07-08T23:11:28.824481Z"
    }
   },
   "outputs": [],
   "source": [
    "Values = ['Big_Studio','Known_Studio','independent']"
   ]
  },
  {
   "cell_type": "code",
   "execution_count": 123,
   "metadata": {
    "ExecuteTime": {
     "end_time": "2020-07-08T23:11:37.000474Z",
     "start_time": "2020-07-08T23:11:36.979136Z"
    }
   },
   "outputs": [],
   "source": [
    "Studios = pd.DataFrame(pd.pivot_table(final_generos_studios_rt, values=Values, index=['cluster'], aggfunc=np.sum).T)"
   ]
  },
  {
   "cell_type": "code",
   "execution_count": 124,
   "metadata": {
    "ExecuteTime": {
     "end_time": "2020-07-08T23:11:45.403623Z",
     "start_time": "2020-07-08T23:11:45.385259Z"
    }
   },
   "outputs": [
    {
     "data": {
      "text/html": [
       "<div>\n",
       "<style scoped>\n",
       "    .dataframe tbody tr th:only-of-type {\n",
       "        vertical-align: middle;\n",
       "    }\n",
       "\n",
       "    .dataframe tbody tr th {\n",
       "        vertical-align: top;\n",
       "    }\n",
       "\n",
       "    .dataframe thead th {\n",
       "        text-align: right;\n",
       "    }\n",
       "</style>\n",
       "<table border=\"1\" class=\"dataframe\">\n",
       "  <thead>\n",
       "    <tr style=\"text-align: right;\">\n",
       "      <th>cluster</th>\n",
       "      <th>0</th>\n",
       "      <th>1</th>\n",
       "      <th>2</th>\n",
       "      <th>3</th>\n",
       "      <th>4</th>\n",
       "      <th>5</th>\n",
       "      <th>6</th>\n",
       "      <th>7</th>\n",
       "    </tr>\n",
       "  </thead>\n",
       "  <tbody>\n",
       "    <tr>\n",
       "      <th>Big_Studio</th>\n",
       "      <td>135</td>\n",
       "      <td>136</td>\n",
       "      <td>126</td>\n",
       "      <td>122</td>\n",
       "      <td>129</td>\n",
       "      <td>59</td>\n",
       "      <td>143</td>\n",
       "      <td>97</td>\n",
       "    </tr>\n",
       "    <tr>\n",
       "      <th>Known_Studio</th>\n",
       "      <td>45</td>\n",
       "      <td>37</td>\n",
       "      <td>37</td>\n",
       "      <td>30</td>\n",
       "      <td>35</td>\n",
       "      <td>17</td>\n",
       "      <td>45</td>\n",
       "      <td>49</td>\n",
       "    </tr>\n",
       "    <tr>\n",
       "      <th>independent</th>\n",
       "      <td>23</td>\n",
       "      <td>35</td>\n",
       "      <td>27</td>\n",
       "      <td>25</td>\n",
       "      <td>30</td>\n",
       "      <td>6</td>\n",
       "      <td>37</td>\n",
       "      <td>42</td>\n",
       "    </tr>\n",
       "  </tbody>\n",
       "</table>\n",
       "</div>"
      ],
      "text/plain": [
       "cluster         0    1    2    3    4   5    6   7\n",
       "Big_Studio    135  136  126  122  129  59  143  97\n",
       "Known_Studio   45   37   37   30   35  17   45  49\n",
       "independent    23   35   27   25   30   6   37  42"
      ]
     },
     "execution_count": 124,
     "metadata": {},
     "output_type": "execute_result"
    }
   ],
   "source": [
    "Studios"
   ]
  },
  {
   "cell_type": "code",
   "execution_count": 149,
   "metadata": {
    "ExecuteTime": {
     "end_time": "2020-07-08T23:17:25.432340Z",
     "start_time": "2020-07-08T23:17:24.974578Z"
    }
   },
   "outputs": [
    {
     "data": {
      "image/png": "[encoded data removed]",
      "text/plain": [
       "<Figure size 432x288 with 1 Axes>"
      ]
     },
     "metadata": {},
     "output_type": "display_data"
    }
   ],
   "source": [
    "sns.set(style=\"whitegrid\")\n",
    "tips = final_generos_studios_rt\n",
    "ax = sns.boxplot(x='cluster', y='Production_Budget',data = tips)"
   ]
  },
  {
   "cell_type": "code",
   "execution_count": 150,
   "metadata": {
    "ExecuteTime": {
     "end_time": "2020-07-08T23:17:34.642585Z",
     "start_time": "2020-07-08T23:17:34.157558Z"
    }
   },
   "outputs": [
    {
     "data": {
      "image/png": "[encoded data removed]",
      "text/plain": [
       "<Figure size 432x288 with 1 Axes>"
      ]
     },
     "metadata": {},
     "output_type": "display_data"
    }
   ],
   "source": [
    "sns.set(style=\"whitegrid\")\n",
    "tips = final_generos_studios_rt\n",
    "ax = sns.boxplot(x='cluster', y='averageRating',data = tips)"
   ]
  },
  {
   "cell_type": "markdown",
   "metadata": {},
   "source": [
    "## Segunda Regressao"
   ]
  },
  {
   "cell_type": "code",
   "execution_count": 127,
   "metadata": {
    "ExecuteTime": {
     "end_time": "2020-07-08T23:12:11.249820Z",
     "start_time": "2020-07-08T23:12:11.233967Z"
    }
   },
   "outputs": [],
   "source": [
    "columns = final_generos_studios_rt.drop(['tconst', 'month','Worldwide_Gross','Production_Budget', 'day', 'year', 'log_rentability','rentability','movie_info','numVotes'], axis=1)\n",
    "\n",
    "X= columns.values\n",
    "# variável target\n",
    "y = final_generos_studios_rt['log_rentability']\n",
    "# dividindo oa dados em treino e teste"
   ]
  },
  {
   "cell_type": "code",
   "execution_count": 128,
   "metadata": {
    "ExecuteTime": {
     "end_time": "2020-07-08T23:12:19.483352Z",
     "start_time": "2020-07-08T23:12:19.471795Z"
    }
   },
   "outputs": [
    {
     "data": {
      "text/plain": [
       "array([[0.31952663, 0.71153846, 0.4617737 , ..., 1.        , 0.        ,\n",
       "        0.57142857],\n",
       "       [0.4260355 , 0.78846154, 0.65749235, ..., 0.        , 1.        ,\n",
       "        0.14285714],\n",
       "       [0.75739645, 0.96153846, 0.82262997, ..., 0.        , 1.        ,\n",
       "        0.71428571],\n",
       "       ...,\n",
       "       [0.31360947, 0.92307692, 0.65443425, ..., 0.        , 1.        ,\n",
       "        1.        ],\n",
       "       [0.4556213 , 0.40384615, 0.62996942, ..., 0.        , 1.        ,\n",
       "        0.14285714],\n",
       "       [0.43195266, 0.92307692, 0.84097859, ..., 0.        , 1.        ,\n",
       "        0.14285714]])"
      ]
     },
     "execution_count": 128,
     "metadata": {},
     "output_type": "execute_result"
    }
   ],
   "source": [
    "scaler = MinMaxScaler()\n",
    "scaler.fit_transform(X)"
   ]
  },
  {
   "cell_type": "code",
   "execution_count": 129,
   "metadata": {
    "ExecuteTime": {
     "end_time": "2020-07-08T23:12:27.909401Z",
     "start_time": "2020-07-08T23:12:27.894385Z"
    }
   },
   "outputs": [],
   "source": [
    "x_train, x_test,y_train,y_test = train_test_split(X,y,test_size =0.2)"
   ]
  },
  {
   "cell_type": "code",
   "execution_count": 130,
   "metadata": {
    "ExecuteTime": {
     "end_time": "2020-07-08T23:12:36.350930Z",
     "start_time": "2020-07-08T23:12:36.346330Z"
    }
   },
   "outputs": [],
   "source": [
    "regr = linear_model.LinearRegression()"
   ]
  },
  {
   "cell_type": "code",
   "execution_count": 131,
   "metadata": {
    "ExecuteTime": {
     "end_time": "2020-07-08T23:12:44.678909Z",
     "start_time": "2020-07-08T23:12:44.654598Z"
    }
   },
   "outputs": [
    {
     "data": {
      "text/plain": [
       "LinearRegression()"
      ]
     },
     "execution_count": 131,
     "metadata": {},
     "output_type": "execute_result"
    }
   ],
   "source": [
    "regr.fit(x_train, y_train)"
   ]
  },
  {
   "cell_type": "code",
   "execution_count": 133,
   "metadata": {
    "ExecuteTime": {
     "end_time": "2020-07-08T23:12:59.926835Z",
     "start_time": "2020-07-08T23:12:59.913336Z"
    },
    "scrolled": true
   },
   "outputs": [],
   "source": [
    "y_pred = regr.predict(x_test)"
   ]
  },
  {
   "cell_type": "code",
   "execution_count": 134,
   "metadata": {
    "ExecuteTime": {
     "end_time": "2020-07-08T23:13:08.570713Z",
     "start_time": "2020-07-08T23:13:08.554388Z"
    }
   },
   "outputs": [
    {
     "data": {
      "text/plain": [
       "0.30247061485353965"
      ]
     },
     "execution_count": 134,
     "metadata": {},
     "output_type": "execute_result"
    }
   ],
   "source": [
    "regr.score(x_train,y_train)"
   ]
  },
  {
   "cell_type": "code",
   "execution_count": 135,
   "metadata": {
    "ExecuteTime": {
     "end_time": "2020-07-08T23:13:17.053437Z",
     "start_time": "2020-07-08T23:13:17.042871Z"
    }
   },
   "outputs": [
    {
     "name": "stdout",
     "output_type": "stream",
     "text": [
      "MSE Error: 1.19\n",
      "RMSE Error: 1.09\n",
      "MAPE Error: 183.52\n",
      "R2: 0.15\n"
     ]
    }
   ],
   "source": [
    "#Metricas\n",
    "from sklearn.metrics import mean_squared_error\n",
    "from sklearn.metrics import r2_score\n",
    "\n",
    "MSE = mean_squared_error(y_test, y_pred).round(2)\n",
    "rmse = np.sqrt(mean_squared_error(y_test, y_pred)).round(2)\n",
    "mape = ((np.sum(np.abs((y_test - y_pred)/y_test)*100))/len(y_test)).round(2)\n",
    "R2 = r2_score(y_test, y_pred).round(2)\n",
    "\n",
    "print(f'MSE Error: {MSE}\\nRMSE Error: {rmse}\\nMAPE Error: {mape}\\nR2: {R2}')"
   ]
  },
  {
   "cell_type": "markdown",
   "metadata": {},
   "source": [
    "## ANN"
   ]
  },
  {
   "cell_type": "code",
   "execution_count": null,
   "metadata": {
    "ExecuteTime": {
     "end_time": "2020-07-08T20:02:36.826253Z",
     "start_time": "2020-07-08T20:01:26.332Z"
    }
   },
   "outputs": [],
   "source": [
    "import itertools\n",
    "from keras.optimizers import RMSprop, Adadelta, Adam\n",
    "from sklearn.model_selection import train_test_split\n",
    "import matplotlib.pyplot as plt\n",
    "from keras.layers import Dense\n",
    "from keras.models import Sequential\n",
    "%matplotlib inline"
   ]
  },
  {
   "cell_type": "code",
   "execution_count": null,
   "metadata": {
    "ExecuteTime": {
     "end_time": "2020-07-08T20:02:36.831320Z",
     "start_time": "2020-07-08T20:01:26.372Z"
    }
   },
   "outputs": [],
   "source": [
    "model = Sequential()\n",
    "model.add(Dense(128, input_dim=X_train.shape[1], activation='sigmoid'))\n",
    "model.add(Dense(128, activation='sigmoid'))\n",
    "model.add(Dense(10, activation='softmax'))"
   ]
  },
  {
   "cell_type": "code",
   "execution_count": null,
   "metadata": {
    "ExecuteTime": {
     "end_time": "2020-07-08T20:02:36.837589Z",
     "start_time": "2020-07-08T20:01:26.393Z"
    }
   },
   "outputs": [],
   "source": [
    "model.summary()"
   ]
  },
  {
   "cell_type": "code",
   "execution_count": null,
   "metadata": {
    "ExecuteTime": {
     "end_time": "2020-07-08T20:02:36.842304Z",
     "start_time": "2020-07-08T20:01:26.437Z"
    }
   },
   "outputs": [],
   "source": [
    "model.compile(optimizer=Adadelta(), loss='categorical_crossentropy', metrics=['categorical_accuracy'])"
   ]
  },
  {
   "cell_type": "code",
   "execution_count": null,
   "metadata": {
    "ExecuteTime": {
     "end_time": "2020-07-08T20:02:36.847720Z",
     "start_time": "2020-07-08T20:01:26.470Z"
    }
   },
   "outputs": [],
   "source": [
    "model.fit(X_train, y_train, epochs=50)"
   ]
  },
  {
   "cell_type": "code",
   "execution_count": null,
   "metadata": {},
   "outputs": [],
   "source": []
  }
 ],
 "metadata": {
  "kernelspec": {
   "display_name": "Python 3",
   "language": "python",
   "name": "python3"
  },
  "language_info": {
   "codemirror_mode": {
    "name": "ipython",
    "version": 3
   },
   "file_extension": ".py",
   "mimetype": "text/x-python",
   "name": "python",
   "nbconvert_exporter": "python",
   "pygments_lexer": "ipython3",
   "version": "3.7.7"
  },
  "toc": {
   "base_numbering": 1,
   "nav_menu": {
    "height": "196px",
    "width": "581px"
   },
   "number_sections": true,
   "sideBar": true,
   "skip_h1_title": false,
   "title_cell": "Table of Contents",
   "title_sidebar": "Contents",
   "toc_cell": false,
   "toc_position": {},
   "toc_section_display": true,
   "toc_window_display": false
  },
  "varInspector": {
   "cols": {
    "lenName": 16,
    "lenType": 16,
    "lenVar": 40
   },
   "kernels_config": {
    "python": {
     "delete_cmd_postfix": "",
     "delete_cmd_prefix": "del ",
     "library": "var_list.py",
     "varRefreshCmd": "print(var_dic_list())"
    },
    "r": {
     "delete_cmd_postfix": ") ",
     "delete_cmd_prefix": "rm(",
     "library": "var_list.r",
     "varRefreshCmd": "cat(var_dic_list()) "
    }
   },
   "types_to_exclude": [
    "module",
    "function",
    "builtin_function_or_method",
    "instance",
    "_Feature"
   ],
   "window_display": false
  }
 },
 "nbformat": 4,
 "nbformat_minor": 4
}
