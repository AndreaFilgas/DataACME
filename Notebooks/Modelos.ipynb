{
 "cells": [
  {
   "cell_type": "markdown",
   "metadata": {},
   "source": [
    "## Revisando as possiveis Tabelas"
   ]
  },
  {
   "cell_type": "code",
   "execution_count": 1,
   "metadata": {
    "ExecuteTime": {
     "end_time": "2020-07-03T03:33:17.223680Z",
     "start_time": "2020-07-03T03:33:13.564736Z"
    }
   },
   "outputs": [],
   "source": [
    "# abrir bibliotecas\n",
    "import pandas as pd\n",
    "import numpy as np\n",
    "import seaborn as sns\n",
    "import statsmodels.formula.api as smf\n",
    "import matplotlib.pyplot as plt\n",
    "from tqdm.auto import tqdm\n",
    "%matplotlib inline"
   ]
  },
  {
   "cell_type": "markdown",
   "metadata": {},
   "source": [
    "## Base Final"
   ]
  },
  {
   "cell_type": "code",
   "execution_count": null,
   "metadata": {
    "ExecuteTime": {
     "end_time": "2020-07-03T04:32:33.486622Z",
     "start_time": "2020-07-03T04:13:03.928Z"
    }
   },
   "outputs": [],
   "source": [
    "final = pd.read_csv('C:/Users/afilg/OneDrive/DATA SCIENCE/Aulas - Originais/Projeto_Integrador/final.csv')"
   ]
  },
  {
   "cell_type": "code",
   "execution_count": null,
   "metadata": {
    "ExecuteTime": {
     "end_time": "2020-07-03T04:32:33.502244Z",
     "start_time": "2020-07-03T04:13:04.485Z"
    }
   },
   "outputs": [],
   "source": [
    "final.head(2).T"
   ]
  },
  {
   "cell_type": "code",
   "execution_count": null,
   "metadata": {
    "ExecuteTime": {
     "end_time": "2020-07-03T04:32:33.517863Z",
     "start_time": "2020-07-03T04:13:05.222Z"
    }
   },
   "outputs": [],
   "source": [
    "Dummizacao"
   ]
  },
  {
   "cell_type": "code",
   "execution_count": null,
   "metadata": {},
   "outputs": [],
   "source": [
    "plt.figure(figsize = (20,20))\n",
    "sns.heatmap(final.corr(), cmap='Blues',annot = True);"
   ]
  },
  {
   "cell_type": "markdown",
   "metadata": {},
   "source": [
    "## 1a Regressao"
   ]
  },
  {
   "cell_type": "code",
   "execution_count": null,
   "metadata": {},
   "outputs": [],
   "source": [
    "def regression(df,function):\n",
    "    model = smf.ols(function, df).fit()\n",
    "    print(model.summary())\n",
    "    return model"
   ]
  },
  {
   "cell_type": "code",
   "execution_count": null,
   "metadata": {},
   "outputs": [],
   "source": [
    "function = 'log_rentability ~ TP_SEXO + taxaConclusao + IN_ATIVIDADE_EXTRACURRICULAR + IN_DEFICIENCIA + NU_IDADE + IN_FINANCIAMENTO_ESTUDANTIL'"
   ]
  },
  {
   "cell_type": "code",
   "execution_count": null,
   "metadata": {},
   "outputs": [],
   "source": [
    "regression(final,function)"
   ]
  },
  {
   "cell_type": "code",
   "execution_count": null,
   "metadata": {},
   "outputs": [],
   "source": [
    "log_rentability_hat = model_full.predict()\n",
    "log_rentability_hat[:10]"
   ]
  },
  {
   "cell_type": "code",
   "execution_count": null,
   "metadata": {},
   "outputs": [],
   "source": [
    "# Plotando a dispersão dos valores preditos pelos valores reais\n",
    "sns.jointplot(x = log_rentability_hat, y=final.dropna()['log_rentability'], kind='reg')\n",
    "plt.xlabel('Predicted Values ($\\hat y$)')\n",
    "plt.ylabel('Salarios ($y$)');"
   ]
  },
  {
   "cell_type": "code",
   "execution_count": null,
   "metadata": {},
   "outputs": [],
   "source": [
    "#Homocedasticidade\n",
    "sns.jointplot(x=model_full.predict(), y=model_full.resid, kind='reg')\n",
    "plt.xlabel('Predicted Values ($\\hat y$)')\n",
    "plt.ylabel('Resíduo ($y - \\hat y$)');"
   ]
  },
  {
   "cell_type": "code",
   "execution_count": null,
   "metadata": {},
   "outputs": [],
   "source": [
    "#Endogeneidade\n",
    "sns.jointplot(x=temp.dropna().log_salario, y=model_full.resid, kind='reg')\n",
    "plt.xlabel('Real Values ($\\ y$)')\n",
    "plt.ylabel('Resíduo ($y - \\hat y$)');"
   ]
  },
  {
   "cell_type": "code",
   "execution_count": null,
   "metadata": {},
   "outputs": [],
   "source": [
    "#Metricas\n",
    "from sklearn.metrics import mean_squared_error\n",
    "\n",
    "MSE = mean_squared_error(final.log_rentability, model.predict(final))\n",
    "rmse = np.sqrt(mean_squared_error(final.log_rentability, model.predict(final)))\n",
    "mape = 100*np.mean(np.abs((final.log_rentability - model.predict(final))/final.log_rentability))"
   ]
  },
  {
   "cell_type": "markdown",
   "metadata": {},
   "source": [
    "## Clustering"
   ]
  },
  {
   "cell_type": "code",
   "execution_count": null,
   "metadata": {},
   "outputs": [],
   "source": [
    "X_sample = final.drop[('log_rentability'),axis = 1].values \n",
    "y_sample = final.loc[:,'log_rentability'].values "
   ]
  },
  {
   "cell_type": "code",
   "execution_count": null,
   "metadata": {},
   "outputs": [],
   "source": [
    "# plotando o silhouette score\n",
    "# variância ideal é aquela mais perto de 1, por isso queremos o maior silhouette score\n",
    "\n",
    "from sklearn.metrics import silhouette_score   \n",
    "from sklearn.cluster import KMeans\n",
    "\n",
    "sillhoute_scores = []\n",
    "n_cluster_list = np.arange(2,31).astype(int)\n",
    "\n",
    "for n_cluster in n_cluster_list:\n",
    "    kmeans = KMeans(n_clusters=n_cluster)\n",
    "    cluster_found = kmeans.fit_predict(X_sample)\n",
    "    sillhoute_scores.append(silhouette_score(X_sample, kmeans.labels_))"
   ]
  },
  {
   "cell_type": "code",
   "execution_count": null,
   "metadata": {},
   "outputs": [],
   "source": [
    "plt.plot(n_cluster_list,sillhoute_scores)\n",
    "plt.xlabel('Number of Clusters')\n",
    "plt.xticks(np.arange(0, 31), fontsize=24, rotation=90)"
   ]
  },
  {
   "cell_type": "code",
   "execution_count": null,
   "metadata": {},
   "outputs": [],
   "source": [
    "kmeans = KMeans(n_clusters=4)\n",
    "kmeans.fit(X)\n",
    "\n",
    "cluster_found = kmeans.predict(X)"
   ]
  },
  {
   "cell_type": "code",
   "execution_count": null,
   "metadata": {},
   "outputs": [],
   "source": [
    "cluster_found"
   ]
  },
  {
   "cell_type": "code",
   "execution_count": null,
   "metadata": {},
   "outputs": [],
   "source": [
    "cluster_found_sr_test = pd.Series(cluster_found_test, name='cluster_Kmeans')"
   ]
  },
  {
   "cell_type": "markdown",
   "metadata": {},
   "source": [
    "## Segunda Regressao"
   ]
  },
  {
   "cell_type": "code",
   "execution_count": null,
   "metadata": {},
   "outputs": [],
   "source": [
    "regression(final_cluster,function)"
   ]
  },
  {
   "cell_type": "code",
   "execution_count": null,
   "metadata": {},
   "outputs": [],
   "source": [
    "#Metricas\n",
    "from sklearn.metrics import mean_squared_error\n",
    "\n",
    "MSE = mean_squared_error(df.sales, model.predict(df))\n",
    "rmse = np.sqrt(mean_squared_error(df.sales, model.predict(df)))\n",
    "mape = 100*np.mean(np.abs((df.sales - model.predict(df))/df.sales))"
   ]
  },
  {
   "cell_type": "markdown",
   "metadata": {},
   "source": [
    "## ANN"
   ]
  },
  {
   "cell_type": "code",
   "execution_count": 2,
   "metadata": {
    "ExecuteTime": {
     "end_time": "2020-07-03T15:30:20.200423Z",
     "start_time": "2020-07-03T15:30:11.382307Z"
    }
   },
   "outputs": [],
   "source": [
    "import itertools\n",
    "from keras.optimizers import RMSprop, Adadelta, Adam\n",
    "from sklearn.model_selection import train_test_split\n",
    "import matplotlib.pyplot as plt\n",
    "from keras.layers import Dense\n",
    "from keras.models import Sequential\n",
    "%matplotlib inline"
   ]
  }
 ],
 "metadata": {
  "kernelspec": {
   "display_name": "Python 3",
   "language": "python",
   "name": "python3"
  },
  "language_info": {
   "codemirror_mode": {
    "name": "ipython",
    "version": 3
   },
   "file_extension": ".py",
   "mimetype": "text/x-python",
   "name": "python",
   "nbconvert_exporter": "python",
   "pygments_lexer": "ipython3",
   "version": "3.7.7"
  },
  "toc": {
   "base_numbering": 1,
   "nav_menu": {
    "height": "196px",
    "width": "581px"
   },
   "number_sections": true,
   "sideBar": true,
   "skip_h1_title": false,
   "title_cell": "Table of Contents",
   "title_sidebar": "Contents",
   "toc_cell": false,
   "toc_position": {},
   "toc_section_display": true,
   "toc_window_display": false
  },
  "varInspector": {
   "cols": {
    "lenName": 16,
    "lenType": 16,
    "lenVar": 40
   },
   "kernels_config": {
    "python": {
     "delete_cmd_postfix": "",
     "delete_cmd_prefix": "del ",
     "library": "var_list.py",
     "varRefreshCmd": "print(var_dic_list())"
    },
    "r": {
     "delete_cmd_postfix": ") ",
     "delete_cmd_prefix": "rm(",
     "library": "var_list.r",
     "varRefreshCmd": "cat(var_dic_list()) "
    }
   },
   "types_to_exclude": [
    "module",
    "function",
    "builtin_function_or_method",
    "instance",
    "_Feature"
   ],
   "window_display": false
  }
 },
 "nbformat": 4,
 "nbformat_minor": 4
}
