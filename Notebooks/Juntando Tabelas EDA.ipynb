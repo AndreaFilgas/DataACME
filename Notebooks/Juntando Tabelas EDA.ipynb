{
 "cells": [
  {
   "cell_type": "markdown",
   "metadata": {},
   "source": [
    "## Revisando as possiveis Tabelas"
   ]
  },
  {
   "cell_type": "code",
   "execution_count": 1,
   "metadata": {
    "ExecuteTime": {
     "end_time": "2020-07-03T03:33:17.223680Z",
     "start_time": "2020-07-03T03:33:13.564736Z"
    }
   },
   "outputs": [],
   "source": [
    "# abrir bibliotecas\n",
    "import pandas as pd\n",
    "import numpy as np\n",
    "import seaborn as sns\n",
    "import statsmodels.formula.api as smf\n",
    "import matplotlib.pyplot as plt\n",
    "from tqdm.auto import tqdm\n",
    "%matplotlib inline"
   ]
  },
  {
   "cell_type": "markdown",
   "metadata": {},
   "source": [
    "## Importando EDAs Prontos"
   ]
  },
  {
   "cell_type": "code",
   "execution_count": null,
   "metadata": {},
   "outputs": [],
   "source": [
    "basics = pd.read_csv('C:/Users/afilg/OneDrive/DATA SCIENCE/Aulas - Originais/Projeto_Integrador/basics.csv')"
   ]
  },
  {
   "cell_type": "code",
   "execution_count": null,
   "metadata": {},
   "outputs": [],
   "source": [
    "budgets = pd.read_csv('C:/Users/afilg/OneDrive/DATA SCIENCE/Aulas - Originais/Projeto_Integrador/budgets.csv')"
   ]
  },
  {
   "cell_type": "code",
   "execution_count": null,
   "metadata": {},
   "outputs": [],
   "source": [
    "rt_info_critica = pd.read_csv('C:/Users/afilg/OneDrive/DATA SCIENCE/Aulas - Originais/Projeto_Integrador/rt_info_critica.csv')"
   ]
  },
  {
   "cell_type": "code",
   "execution_count": null,
   "metadata": {},
   "outputs": [],
   "source": [
    "oscar = pd.read_csv('C:/Users/afilg/OneDrive/DATA SCIENCE/Aulas - Originais/Projeto_Integrador/oscar.csv')"
   ]
  },
  {
   "cell_type": "code",
   "execution_count": null,
   "metadata": {},
   "outputs": [],
   "source": [
    "crew = pd.read_csv('C:/Users/afilg/OneDrive/DATA SCIENCE/Aulas - Originais/Projeto_Integrador/crew.csv')"
   ]
  },
  {
   "cell_type": "code",
   "execution_count": null,
   "metadata": {},
   "outputs": [],
   "source": [
    "principals = pd.read_csv('C:/Users/afilg/OneDrive/DATA SCIENCE/Aulas - Originais/Projeto_Integrador/principals.csv')"
   ]
  },
  {
   "cell_type": "markdown",
   "metadata": {},
   "source": [
    "## Definindo EDA Functions"
   ]
  },
  {
   "cell_type": "markdown",
   "metadata": {},
   "source": [
    "### Diretores"
   ]
  },
  {
   "cell_type": "code",
   "execution_count": null,
   "metadata": {},
   "outputs": [],
   "source": [
    "def directors_ratingAverage(diretor, ano, df):\n",
    "    x = df[(df.startYear < ano) & ((df.directors_1 == diretor)|(df.directors_2 == diretor))]\n",
    "    z = x['rating_num'].sum()/x['numVotes'].sum()\n",
    "    return z.round(2)"
   ]
  },
  {
   "cell_type": "code",
   "execution_count": null,
   "metadata": {},
   "outputs": [],
   "source": [
    "def directors_numerofilmes(diretor, ano, df):\n",
    "    x = df[(df.startYear < ano) & ((df.directors_1 == diretor)|(df.directors_2 == diretor))]\n",
    "    z = x.shape\n",
    "    return z[0]"
   ]
  },
  {
   "cell_type": "markdown",
   "metadata": {},
   "source": [
    "### Roteristas"
   ]
  },
  {
   "cell_type": "code",
   "execution_count": null,
   "metadata": {},
   "outputs": [],
   "source": [
    "def writers_numerofilmes(writer, ano, df):\n",
    "    x = df[(df.startYear < ano) & ((df.writers_1 == writer)|(df.writers_2 == writer))]\n",
    "    z = len(x)\n",
    "    return z"
   ]
  },
  {
   "cell_type": "code",
   "execution_count": null,
   "metadata": {},
   "outputs": [],
   "source": [
    "def writers_ratingAverage(writer, ano, df):\n",
    "    x = df[(df.startYear < ano) & ((df.writers_1 == writer)|(df.writers_2 == writer))]\n",
    "    z = x['rating_num'].sum()/x['numVotes'].sum()\n",
    "    return z"
   ]
  },
  {
   "cell_type": "markdown",
   "metadata": {},
   "source": [
    "### Atores"
   ]
  },
  {
   "cell_type": "code",
   "execution_count": null,
   "metadata": {},
   "outputs": [],
   "source": [
    "def ator_numerofilmes(nconst, startYear):\n",
    "    x = principals_temp[(principals_temp.startYear < startYear) & (principals_temp.nconst == nconst)]\n",
    "    z = len(x)\n",
    "    return z"
   ]
  },
  {
   "cell_type": "code",
   "execution_count": null,
   "metadata": {},
   "outputs": [],
   "source": [
    "def ator_ratingAverage(ator, ano, df):\n",
    "    x = df[(df.startYear < ano) & (df.nconst == ator)]\n",
    "    z = x['rating_num'].sum()/x['numVotes'].sum()"
   ]
  },
  {
   "cell_type": "markdown",
   "metadata": {},
   "source": [
    "## Juntando as tabelas"
   ]
  },
  {
   "cell_type": "markdown",
   "metadata": {},
   "source": [
    "### Tabelas Base"
   ]
  },
  {
   "cell_type": "code",
   "execution_count": null,
   "metadata": {
    "ExecuteTime": {
     "end_time": "2020-07-03T04:32:33.027795Z",
     "start_time": "2020-07-03T04:12:53.005Z"
    }
   },
   "outputs": [],
   "source": [
    "budgets.shape"
   ]
  },
  {
   "cell_type": "code",
   "execution_count": null,
   "metadata": {
    "ExecuteTime": {
     "end_time": "2020-07-03T04:32:33.043403Z",
     "start_time": "2020-07-03T04:12:53.308Z"
    }
   },
   "outputs": [],
   "source": [
    "basics_budget = basics.join(budgets.set_index('movieyear_id'), on = 'movieyear', how = 'inner')"
   ]
  },
  {
   "cell_type": "code",
   "execution_count": null,
   "metadata": {
    "ExecuteTime": {
     "end_time": "2020-07-03T04:32:33.059024Z",
     "start_time": "2020-07-03T04:12:53.515Z"
    }
   },
   "outputs": [],
   "source": [
    "basics_budget.shape"
   ]
  },
  {
   "cell_type": "code",
   "execution_count": null,
   "metadata": {
    "ExecuteTime": {
     "end_time": "2020-07-03T04:32:33.100461Z",
     "start_time": "2020-07-03T04:12:54.087Z"
    }
   },
   "outputs": [],
   "source": [
    "basics_budget_rt = basics_budget.join(rt_info_critica.set_index('movieyear_id'), on = 'movieyear', how = 'inner')"
   ]
  },
  {
   "cell_type": "code",
   "execution_count": null,
   "metadata": {},
   "outputs": [],
   "source": [
    "basics_budget_rt.shape"
   ]
  },
  {
   "cell_type": "code",
   "execution_count": null,
   "metadata": {},
   "outputs": [],
   "source": [
    "basics_budget_rt_oscar = basics_budget_rt.join(oscar.set_index('movieyear_id'), on = 'movieyear')"
   ]
  },
  {
   "cell_type": "markdown",
   "metadata": {},
   "source": [
    "### Crew"
   ]
  },
  {
   "cell_type": "code",
   "execution_count": null,
   "metadata": {
    "ExecuteTime": {
     "end_time": "2020-07-03T04:32:33.111708Z",
     "start_time": "2020-07-03T04:12:54.366Z"
    }
   },
   "outputs": [],
   "source": [
    "basics_budget_rt_oscar_crew = basics_budget_rt_oscar.join(crew.set_index('tconst'), on = 'tconst', how = 'inner', rsuffix = \"_2\")"
   ]
  },
  {
   "cell_type": "code",
   "execution_count": null,
   "metadata": {
    "ExecuteTime": {
     "end_time": "2020-07-03T04:32:33.127333Z",
     "start_time": "2020-07-03T04:12:54.632Z"
    }
   },
   "outputs": [],
   "source": [
    "basics_budget_rt_oscar_crew.head(2).T"
   ]
  },
  {
   "cell_type": "code",
   "execution_count": null,
   "metadata": {
    "ExecuteTime": {
     "end_time": "2020-07-03T04:32:33.142953Z",
     "start_time": "2020-07-03T04:12:54.963Z"
    }
   },
   "outputs": [],
   "source": [
    "basics_budget_rt_oscar_crew = basics_budget_rt_oscar_crew.drop(['startYear_2', 'averageRating_2', 'numVotes_2'], axis = 1)"
   ]
  },
  {
   "cell_type": "code",
   "execution_count": null,
   "metadata": {
    "ExecuteTime": {
     "end_time": "2020-07-03T04:32:33.158574Z",
     "start_time": "2020-07-03T04:12:55.455Z"
    }
   },
   "outputs": [],
   "source": [
    "crew_redux = crew.loc[:,['directors_2','directors_1','startYear']]"
   ]
  },
  {
   "cell_type": "code",
   "execution_count": null,
   "metadata": {
    "ExecuteTime": {
     "end_time": "2020-07-03T04:32:33.174194Z",
     "start_time": "2020-07-03T04:12:55.700Z"
    }
   },
   "outputs": [],
   "source": [
    "tqdm.pandas()\n",
    "\n",
    "basics_budget_rt_oscar_crew['directors_1_films'] = basics_budget_rt_oscar_crew.loc[:,['directors_1','startYear']].progress_apply(lambda x: directors_numerofilmes(x['directors_1'], x['startYear'],crew_redux ),axis = 1)"
   ]
  },
  {
   "cell_type": "code",
   "execution_count": null,
   "metadata": {
    "ExecuteTime": {
     "end_time": "2020-07-03T04:32:33.189818Z",
     "start_time": "2020-07-03T04:12:55.956Z"
    }
   },
   "outputs": [],
   "source": [
    "tqdm.pandas()\n",
    "\n",
    "basics_budget_rt_oscar_crew['directors_2_films'] = basics_budget_rt_oscar_crew.loc[:,['directors_2','startYear']].progress_apply(lambda x: directors_numerofilmes(x['directors_2'], x['startYear'],crew_redux ),axis = 1)"
   ]
  },
  {
   "cell_type": "code",
   "execution_count": null,
   "metadata": {
    "ExecuteTime": {
     "end_time": "2020-07-03T04:32:33.205436Z",
     "start_time": "2020-07-03T04:12:56.261Z"
    }
   },
   "outputs": [],
   "source": [
    "crew_redux = crew.loc[:,['directors_2','directors_1','startYear', 'rating_num','numVotes']]"
   ]
  },
  {
   "cell_type": "code",
   "execution_count": null,
   "metadata": {
    "ExecuteTime": {
     "end_time": "2020-07-03T04:32:33.221060Z",
     "start_time": "2020-07-03T04:12:56.596Z"
    }
   },
   "outputs": [],
   "source": [
    "tqdm.pandas()\n",
    "\n",
    "basics_budget_rt_oscar_crew['directors_1_ratingAverage'] = basics_budget_rt_oscar_crew.loc[:,['directors_1','startYear']].progress_apply(lambda x: directors_ratingAverage(x['directors_1'], x['startYear'],crew_redux),axis = 1)"
   ]
  },
  {
   "cell_type": "code",
   "execution_count": null,
   "metadata": {
    "ExecuteTime": {
     "end_time": "2020-07-03T04:32:33.236682Z",
     "start_time": "2020-07-03T04:12:57.088Z"
    }
   },
   "outputs": [],
   "source": [
    "tqdm.pandas()\n",
    "\n",
    "basics_budget_rt_oscar_crew['directors_2_ratingAverage'] = basics_budget_rt_oscar_crew.loc[:,['directors_2','startYear']].progress_apply(lambda x: directors_ratingAverage(x['directors_2'], x['startYear'],crew_redux),axis = 1)"
   ]
  },
  {
   "cell_type": "code",
   "execution_count": null,
   "metadata": {
    "ExecuteTime": {
     "end_time": "2020-07-03T04:32:33.252300Z",
     "start_time": "2020-07-03T04:12:57.359Z"
    }
   },
   "outputs": [],
   "source": [
    "crew_redux = crew.loc[:,['writers_2','writers_1','startYear']]"
   ]
  },
  {
   "cell_type": "code",
   "execution_count": null,
   "metadata": {
    "ExecuteTime": {
     "end_time": "2020-07-03T04:32:33.267922Z",
     "start_time": "2020-07-03T04:12:57.638Z"
    }
   },
   "outputs": [],
   "source": [
    "tqdm.pandas()\n",
    "\n",
    "basics_budget_rt_oscar_crew['writer_1_films'] = basics_budget_rt_oscar_crew.loc[:,['writers_1','startYear']].progress_apply(lambda x: writers_numerofilmes(x['writers_1'], x['startYear'],crew_redux),axis = 1)"
   ]
  },
  {
   "cell_type": "code",
   "execution_count": null,
   "metadata": {
    "ExecuteTime": {
     "end_time": "2020-07-03T04:32:33.283547Z",
     "start_time": "2020-07-03T04:12:57.980Z"
    }
   },
   "outputs": [],
   "source": [
    "tqdm.pandas()\n",
    "\n",
    "basics_budget_rt_oscar_crew['writer_2_films'] = basics_budget_rt_oscar_crew.loc[:,['writers_2','startYear']].progress_apply(lambda x: writers_numerofilmes(x['writers_2'], x['startYear'],crew_redux),axis = 1)"
   ]
  },
  {
   "cell_type": "code",
   "execution_count": null,
   "metadata": {
    "ExecuteTime": {
     "end_time": "2020-07-03T04:32:33.299168Z",
     "start_time": "2020-07-03T04:12:58.397Z"
    }
   },
   "outputs": [],
   "source": [
    "crew_redux = crew.loc[:,['writers_1','writers_2','startYear', 'rating_num','numVotes']]"
   ]
  },
  {
   "cell_type": "code",
   "execution_count": null,
   "metadata": {
    "ExecuteTime": {
     "end_time": "2020-07-03T04:32:33.314788Z",
     "start_time": "2020-07-03T04:12:58.709Z"
    }
   },
   "outputs": [],
   "source": [
    "tqdm.pandas()\n",
    "\n",
    "basics_budget_rt_oscar_crew['writer_1_ratingAverage'] = basics_budget_rt_oscar_crew.loc[:,['writers_1','startYear']].progress_apply(lambda x: writers_ratingAverage(x['writers_1'], x['startYear'],crew_redux),axis = 1)"
   ]
  },
  {
   "cell_type": "code",
   "execution_count": null,
   "metadata": {
    "ExecuteTime": {
     "end_time": "2020-07-03T04:32:33.330410Z",
     "start_time": "2020-07-03T04:12:59.168Z"
    }
   },
   "outputs": [],
   "source": [
    "tqdm.pandas()\n",
    "\n",
    "basics_budget_rt_oscar_crew['writer_2_ratingAverage'] = basics_budget_rt_oscar_crew.loc[:,['writers_2','startYear']].progress_apply(lambda x: writers_ratingAverage(x['writers_2'], x['startYear'],crew_redux),axis = 1)"
   ]
  },
  {
   "cell_type": "code",
   "execution_count": null,
   "metadata": {
    "ExecuteTime": {
     "end_time": "2020-07-03T04:32:33.346031Z",
     "start_time": "2020-07-03T04:12:59.465Z"
    }
   },
   "outputs": [],
   "source": [
    "basics_budget_rt_oscar_crew.head().T"
   ]
  },
  {
   "cell_type": "markdown",
   "metadata": {},
   "source": [
    "### Principais"
   ]
  },
  {
   "cell_type": "code",
   "execution_count": null,
   "metadata": {
    "ExecuteTime": {
     "end_time": "2020-07-03T04:32:33.361653Z",
     "start_time": "2020-07-03T04:12:59.839Z"
    }
   },
   "outputs": [],
   "source": [
    "temp_princ_util = principals.join(basics_budget_rt_oscar_crew.set_index('tconst'), on = 'tconst', how = 'inner')"
   ]
  },
  {
   "cell_type": "code",
   "execution_count": null,
   "metadata": {
    "ExecuteTime": {
     "end_time": "2020-07-03T04:32:33.377274Z",
     "start_time": "2020-07-03T04:13:00.247Z"
    },
    "scrolled": true
   },
   "outputs": [],
   "source": [
    "tqdm.pandas()\n",
    "\n",
    "temp_princ_util['numFilmes'] = temp_princ_util.progress_apply(lambda x: ator_numerofilmes(x['nconst'], x['startYear']),axis = 1)"
   ]
  },
  {
   "cell_type": "code",
   "execution_count": null,
   "metadata": {
    "ExecuteTime": {
     "end_time": "2020-07-03T04:32:33.377274Z",
     "start_time": "2020-07-03T04:13:00.497Z"
    }
   },
   "outputs": [],
   "source": [
    "tqdm.pandas()\n",
    "temp_princ_util['AvgRating'] = temp_princ_util.progress_apply(lambda x: ator_ratingAverage(x['nconst'], x['startYear'],principals_temp),axis = 1)"
   ]
  },
  {
   "cell_type": "code",
   "execution_count": null,
   "metadata": {
    "ExecuteTime": {
     "end_time": "2020-07-03T04:32:33.408515Z",
     "start_time": "2020-07-03T04:13:00.870Z"
    }
   },
   "outputs": [],
   "source": [
    "final_princ = pd.DataFrame(pd.pivot_table(temp_princ_util, \n",
    "                      values=('numFilmes','AvgRating'), \n",
    "                      index='tconst', \n",
    "                      aggfunc=np.mean))"
   ]
  },
  {
   "cell_type": "code",
   "execution_count": null,
   "metadata": {
    "ExecuteTime": {
     "end_time": "2020-07-03T04:32:33.408515Z",
     "start_time": "2020-07-03T04:13:01.247Z"
    }
   },
   "outputs": [],
   "source": [
    "final_princ.head()"
   ]
  },
  {
   "cell_type": "code",
   "execution_count": null,
   "metadata": {
    "ExecuteTime": {
     "end_time": "2020-07-03T04:32:33.424137Z",
     "start_time": "2020-07-03T04:13:01.546Z"
    }
   },
   "outputs": [],
   "source": [
    "num_crew = pd.DataFrame(pd.pivot_table(principals, \n",
    "                      values=('num_crew'), \n",
    "                      index='tconst', \n",
    "                      aggfunc=np.mean))"
   ]
  },
  {
   "cell_type": "code",
   "execution_count": null,
   "metadata": {
    "ExecuteTime": {
     "end_time": "2020-07-03T04:32:33.439759Z",
     "start_time": "2020-07-03T04:13:01.947Z"
    }
   },
   "outputs": [],
   "source": [
    "final_princ = final_princ.join(num_crew)"
   ]
  },
  {
   "cell_type": "code",
   "execution_count": null,
   "metadata": {
    "ExecuteTime": {
     "end_time": "2020-07-03T04:32:33.455381Z",
     "start_time": "2020-07-03T04:13:02.741Z"
    }
   },
   "outputs": [],
   "source": [
    "final_princ"
   ]
  },
  {
   "cell_type": "code",
   "execution_count": null,
   "metadata": {
    "ExecuteTime": {
     "end_time": "2020-07-03T04:32:33.471001Z",
     "start_time": "2020-07-03T04:13:03.077Z"
    }
   },
   "outputs": [],
   "source": [
    "basics_budget_rt_crew_actors = basics_budget_rt_oscar_crew.join(final_princ.set_index('movieyear_id'), on = 'movieyear', how = 'inner')"
   ]
  },
  {
   "cell_type": "code",
   "execution_count": null,
   "metadata": {},
   "outputs": [],
   "source": [
    "basics_budget_rt_crew_actors.to_csv('final.csv')"
   ]
  }
 ],
 "metadata": {
  "kernelspec": {
   "display_name": "Python 3",
   "language": "python",
   "name": "python3"
  },
  "language_info": {
   "codemirror_mode": {
    "name": "ipython",
    "version": 3
   },
   "file_extension": ".py",
   "mimetype": "text/x-python",
   "name": "python",
   "nbconvert_exporter": "python",
   "pygments_lexer": "ipython3",
   "version": "3.7.7"
  },
  "toc": {
   "base_numbering": 1,
   "nav_menu": {
    "height": "196px",
    "width": "581px"
   },
   "number_sections": true,
   "sideBar": true,
   "skip_h1_title": false,
   "title_cell": "Table of Contents",
   "title_sidebar": "Contents",
   "toc_cell": false,
   "toc_position": {},
   "toc_section_display": true,
   "toc_window_display": false
  },
  "varInspector": {
   "cols": {
    "lenName": 16,
    "lenType": 16,
    "lenVar": 40
   },
   "kernels_config": {
    "python": {
     "delete_cmd_postfix": "",
     "delete_cmd_prefix": "del ",
     "library": "var_list.py",
     "varRefreshCmd": "print(var_dic_list())"
    },
    "r": {
     "delete_cmd_postfix": ") ",
     "delete_cmd_prefix": "rm(",
     "library": "var_list.r",
     "varRefreshCmd": "cat(var_dic_list()) "
    }
   },
   "types_to_exclude": [
    "module",
    "function",
    "builtin_function_or_method",
    "instance",
    "_Feature"
   ],
   "window_display": false
  }
 },
 "nbformat": 4,
 "nbformat_minor": 4
}
