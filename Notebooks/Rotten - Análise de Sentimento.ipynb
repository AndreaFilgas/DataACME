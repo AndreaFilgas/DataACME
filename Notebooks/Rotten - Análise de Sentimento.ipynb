{
 "cells": [
  {
   "cell_type": "markdown",
   "metadata": {},
   "source": [
    "## Rotten Tomatoes\n",
    "\n",
    "### Rotten Review"
   ]
  },
  {
   "cell_type": "code",
   "execution_count": 1,
   "metadata": {
    "ExecuteTime": {
     "end_time": "2020-07-03T12:36:08.186750Z",
     "start_time": "2020-07-03T12:36:05.847722Z"
    }
   },
   "outputs": [],
   "source": [
    "# importar bibliotecas\n",
    "import pandas as pd\n",
    "import seaborn as sns\n",
    "import matplotlib.pyplot as plt\n",
    "%matplotlib inline\n",
    "import numpy as np\n",
    "import statsmodels.formula.api as smf"
   ]
  },
  {
   "cell_type": "code",
   "execution_count": 3,
   "metadata": {
    "ExecuteTime": {
     "end_time": "2020-07-03T12:37:03.828765Z",
     "start_time": "2020-07-03T12:37:02.825904Z"
    }
   },
   "outputs": [],
   "source": [
    "# abrir df\n",
    "df_rotten = pd.read_csv('C:/Users/afilg/OneDrive/Área de Trabalho/DATA SCIENCE/Aulas - Originais/Projeto_Integrador/Dados/rt_movie_info.csv', encoding = 'latin1', engine = 'python', delimiter = ',')"
   ]
  },
  {
   "cell_type": "code",
   "execution_count": 4,
   "metadata": {
    "ExecuteTime": {
     "end_time": "2020-07-03T12:37:09.355013Z",
     "start_time": "2020-07-03T12:37:09.333834Z"
    }
   },
   "outputs": [],
   "source": [
    "# remover linhas duplicadas\n",
    "df_rotten.drop_duplicates(subset =\"movie_name\", \n",
    "                     keep = False, inplace = True)"
   ]
  },
  {
   "cell_type": "code",
   "execution_count": 5,
   "metadata": {
    "ExecuteTime": {
     "end_time": "2020-07-03T12:37:10.145645Z",
     "start_time": "2020-07-03T12:37:10.141000Z"
    },
    "scrolled": false
   },
   "outputs": [
    {
     "name": "stdout",
     "output_type": "stream",
     "text": [
      "Agora o dataset tem: 11313 filmes\n"
     ]
    }
   ],
   "source": [
    "print(\"Agora o dataset tem:\", df_rotten.shape[0], \"filmes\")"
   ]
  },
  {
   "cell_type": "code",
   "execution_count": 6,
   "metadata": {
    "ExecuteTime": {
     "end_time": "2020-07-03T12:37:11.491736Z",
     "start_time": "2020-07-03T12:37:11.481906Z"
    }
   },
   "outputs": [],
   "source": [
    "df_rotten.rename(columns = {'movie_link': 'movie_id'}, inplace = True)"
   ]
  },
  {
   "cell_type": "markdown",
   "metadata": {},
   "source": [
    "### Rotten Review"
   ]
  },
  {
   "cell_type": "code",
   "execution_count": 7,
   "metadata": {
    "ExecuteTime": {
     "end_time": "2020-07-03T12:37:22.247841Z",
     "start_time": "2020-07-03T12:37:19.931308Z"
    }
   },
   "outputs": [],
   "source": [
    "review_rt = pd.read_csv('C:/Users/afilg/OneDrive/Área de Trabalho/DATA SCIENCE/Aulas - Originais/Projeto_Integrador/Dados/rt_movie_review.csv')"
   ]
  },
  {
   "cell_type": "markdown",
   "metadata": {},
   "source": [
    "## Análise de Sentimento\n",
    "\n",
    "https://hub.packtpub.com/how-to-perform-sentiment-analysis-using-python-tutorial/"
   ]
  },
  {
   "cell_type": "code",
   "execution_count": 12,
   "metadata": {
    "ExecuteTime": {
     "end_time": "2020-07-03T12:41:24.860439Z",
     "start_time": "2020-07-03T12:41:24.856810Z"
    }
   },
   "outputs": [],
   "source": [
    "import nltk.classify.util\n",
    "from nltk.classify import NaiveBayesClassifier\n",
    "from nltk.corpus import movie_reviews"
   ]
  },
  {
   "cell_type": "code",
   "execution_count": 13,
   "metadata": {
    "ExecuteTime": {
     "end_time": "2020-07-03T12:41:28.477507Z",
     "start_time": "2020-07-03T12:41:25.644769Z"
    }
   },
   "outputs": [
    {
     "name": "stderr",
     "output_type": "stream",
     "text": [
      "[nltk_data] Downloading package movie_reviews to\n",
      "[nltk_data]     C:\\Users\\afilg\\AppData\\Roaming\\nltk_data...\n",
      "[nltk_data]   Unzipping corpora\\movie_reviews.zip.\n"
     ]
    },
    {
     "data": {
      "text/plain": [
       "True"
      ]
     },
     "execution_count": 13,
     "metadata": {},
     "output_type": "execute_result"
    }
   ],
   "source": [
    "import nltk\n",
    "nltk.download('movie_reviews')"
   ]
  },
  {
   "cell_type": "code",
   "execution_count": 14,
   "metadata": {
    "ExecuteTime": {
     "end_time": "2020-07-03T12:41:31.693896Z",
     "start_time": "2020-07-03T12:41:31.688861Z"
    }
   },
   "outputs": [],
   "source": [
    "def extract_features(word_list):\n",
    "    return dict([(word, True) for word in word_list])"
   ]
  },
  {
   "cell_type": "code",
   "execution_count": 15,
   "metadata": {
    "ExecuteTime": {
     "end_time": "2020-07-03T12:41:32.450817Z",
     "start_time": "2020-07-03T12:41:32.441407Z"
    }
   },
   "outputs": [],
   "source": [
    "if __name__=='__main__':\n",
    "   # Load positive and negative reviews  \n",
    "    positive_fileids = movie_reviews.fileids('pos')\n",
    "    negative_fileids = movie_reviews.fileids('neg')"
   ]
  },
  {
   "cell_type": "code",
   "execution_count": 16,
   "metadata": {
    "ExecuteTime": {
     "end_time": "2020-07-03T12:41:58.370463Z",
     "start_time": "2020-07-03T12:41:34.371617Z"
    }
   },
   "outputs": [],
   "source": [
    "features_positive = [(extract_features(movie_reviews.words(fileids=[f])), 'Positive') \n",
    "                     for f in positive_fileids]\n",
    "features_negative = [(extract_features(movie_reviews.words(fileids=[f])), 'Negative') \n",
    "                     for f in negative_fileids]"
   ]
  },
  {
   "cell_type": "code",
   "execution_count": 17,
   "metadata": {
    "ExecuteTime": {
     "end_time": "2020-07-03T12:41:59.078842Z",
     "start_time": "2020-07-03T12:41:59.071495Z"
    }
   },
   "outputs": [],
   "source": [
    "# Split the data into train and test (80/20)\n",
    "threshold_factor = 0.8\n",
    "threshold_positive = int(threshold_factor * len(features_positive))\n",
    "threshold_negative = int(threshold_factor * len(features_negative))"
   ]
  },
  {
   "cell_type": "code",
   "execution_count": 18,
   "metadata": {
    "ExecuteTime": {
     "end_time": "2020-07-03T12:42:00.059013Z",
     "start_time": "2020-07-03T12:42:00.049122Z"
    },
    "scrolled": true
   },
   "outputs": [],
   "source": [
    "features_train = features_positive[:threshold_positive] + features_negative[:threshold_negative]\n",
    "#features_test = features_positive[threshold_positive:] + features_negative[threshold_negative:]   "
   ]
  },
  {
   "cell_type": "code",
   "execution_count": 19,
   "metadata": {
    "ExecuteTime": {
     "end_time": "2020-07-03T12:42:02.173716Z",
     "start_time": "2020-07-03T12:42:02.126730Z"
    }
   },
   "outputs": [],
   "source": [
    "features_test = features_positive[threshold_positive:] + features_negative[threshold_negative:]"
   ]
  },
  {
   "cell_type": "code",
   "execution_count": 20,
   "metadata": {
    "ExecuteTime": {
     "end_time": "2020-07-03T12:42:10.521933Z",
     "start_time": "2020-07-03T12:42:03.901452Z"
    },
    "scrolled": true
   },
   "outputs": [
    {
     "data": {
      "text/plain": [
       "0.735"
      ]
     },
     "execution_count": 20,
     "metadata": {},
     "output_type": "execute_result"
    }
   ],
   "source": [
    "# Train a Naive Bayes classifier\n",
    "classifier = NaiveBayesClassifier.train(features_train)\n",
    "nltk.classify.util.accuracy(classifier, features_test)"
   ]
  },
  {
   "cell_type": "code",
   "execution_count": 21,
   "metadata": {
    "ExecuteTime": {
     "end_time": "2020-07-03T12:42:12.203082Z",
     "start_time": "2020-07-03T12:42:11.987040Z"
    }
   },
   "outputs": [],
   "source": [
    "df_review = review_rt.dropna(subset = ['review_content'])\n",
    "input_reviews = review_rt.review_content"
   ]
  },
  {
   "cell_type": "code",
   "execution_count": 22,
   "metadata": {
    "ExecuteTime": {
     "end_time": "2020-07-03T12:42:13.919045Z",
     "start_time": "2020-07-03T12:42:13.909163Z"
    }
   },
   "outputs": [
    {
     "data": {
      "text/plain": [
       "(431962, 8)"
      ]
     },
     "execution_count": 22,
     "metadata": {},
     "output_type": "execute_result"
    }
   ],
   "source": [
    "df_review.shape"
   ]
  },
  {
   "cell_type": "code",
   "execution_count": 23,
   "metadata": {
    "ExecuteTime": {
     "end_time": "2020-07-03T12:42:15.275236Z",
     "start_time": "2020-07-03T12:42:15.217787Z"
    },
    "scrolled": true
   },
   "outputs": [
    {
     "name": "stdout",
     "output_type": "stream",
     "text": [
      "\n",
      "Predictions:\n",
      "\n",
      "Review: Has more belly laughs than 10 studio-produced, star-vehicle comedies.\n",
      "Predicted sentiment: Negative\n",
      "Probability: 0.73\n",
      "\n",
      "Review: Calling this story about a quirky high-school student from a dysfunctional family who lives in a goofy small town a one-joke movie is exaggerating by a factor of 10.\n",
      "Predicted sentiment: Positive\n",
      "Probability: 0.94\n",
      "\n",
      "Review: There are lots of laughs for those who enjoy the sight of bottom dwellers doing stupid things that make them look even more idiotic.\n",
      "Predicted sentiment: Negative\n",
      "Probability: 0.71\n",
      "\n",
      "Review: For those who think there'e nothing funnier than yokels acting like idiots for 90 minutes straight.\n",
      "Predicted sentiment: Negative\n",
      "Probability: 0.98\n",
      "\n",
      "Review: We laugh at all the nerdy behavior in the movie, and there's a reason that's OK: Because, deep down, we know we are all nerds.\n",
      "Predicted sentiment: Negative\n",
      "Probability: 0.75\n",
      "\n",
      "Review: He makes Geekus Hollywoodium -- always played by someone such as Ben Stiller, whom we know to be fundamentally cool beneath his nerdy veneer -- look like the fraudulent genus we know it to be.\n",
      "Predicted sentiment: Negative\n",
      "Probability: 0.71\n",
      "\n",
      "Review: An independent take on a Hollywood tradition, undermined by its cliches but saved by its performances.\n",
      "Predicted sentiment: Negative\n",
      "Probability: 0.7\n",
      "\n",
      "Review: May be the most condescending comedy ever to imagine itself being too cool for the room.\n",
      "Predicted sentiment: Positive\n",
      "Probability: 0.67\n",
      "\n",
      "Review: This is basically a collection of hit-and-miss skits that are stumbling around in search of a story line.\n",
      "Predicted sentiment: Positive\n",
      "Probability: 0.75\n",
      "\n",
      "Review: Hess and Heder allow Napoleon to remain his geeky self from beginning to end, a guy who -- like his movie -- dares to be different and succeeds.\n",
      "Predicted sentiment: Positive\n",
      "Probability: 0.59\n",
      "\n",
      "Review: A giant inside joke for those who know the peculiarities of rural Idaho.\n",
      "Predicted sentiment: Positive\n",
      "Probability: 0.93\n",
      "\n",
      "Review: Imagine an out-there cartoon and watching it spring to live-action on the big screen.\n",
      "Predicted sentiment: Negative\n",
      "Probability: 0.6\n",
      "\n",
      "Review: The film runs the risk of devolving into a live-action cartoon. That it never does is a credit to the Hess' strong screenplay and to the actors.\n",
      "Predicted sentiment: Positive\n",
      "Probability: 0.9\n",
      "\n",
      "Review: Each actor perfectly compliments the Hess's original brand of humor that keep steady giggles bubbling from the audience, inspiring frequent bursts of uproarious laughter.\n",
      "Predicted sentiment: Positive\n",
      "Probability: 0.99\n",
      "\n",
      "Review: A gloriously quirky, hysterically funny ode to rural dullness that is probably the fairest, most accurate film representation that Preston, Idaho, will ever get.\n",
      "Predicted sentiment: Positive\n",
      "Probability: 1.0\n",
      "\n",
      "Review: The joke is always the same, and even the most easily amused may grow weary of that sameness.\n",
      "Predicted sentiment: Positive\n",
      "Probability: 0.91\n",
      "\n",
      "Review: You'll laugh till it hurts.\n",
      "Predicted sentiment: Negative\n",
      "Probability: 0.53\n",
      "\n",
      "Review: The most fascinating outcast since Harold and Maude. Trouble is, Harold and Maude were going someplace; their story had a direction.\n",
      "Predicted sentiment: Positive\n",
      "Probability: 0.83\n",
      "\n",
      "Review: Funny enough that I'll refrain from describing the gags that made me laugh, lest I spoil them for you.\n",
      "Predicted sentiment: Negative\n",
      "Probability: 0.83\n",
      "\n",
      "Review: nan\n"
     ]
    },
    {
     "ename": "AttributeError",
     "evalue": "'float' object has no attribute 'split'",
     "output_type": "error",
     "traceback": [
      "\u001b[1;31m---------------------------------------------------------------------------\u001b[0m",
      "\u001b[1;31mAttributeError\u001b[0m                            Traceback (most recent call last)",
      "\u001b[1;32m<ipython-input-23-35aa3041ad64>\u001b[0m in \u001b[0;36m<module>\u001b[1;34m\u001b[0m\n\u001b[0;32m      2\u001b[0m \u001b[1;32mfor\u001b[0m \u001b[0mreview\u001b[0m \u001b[1;32min\u001b[0m \u001b[0minput_reviews\u001b[0m\u001b[1;33m:\u001b[0m\u001b[1;33m\u001b[0m\u001b[1;33m\u001b[0m\u001b[0m\n\u001b[0;32m      3\u001b[0m         \u001b[0mprint\u001b[0m\u001b[1;33m(\u001b[0m\u001b[1;34m\"\\nReview:\"\u001b[0m\u001b[1;33m,\u001b[0m \u001b[0mreview\u001b[0m\u001b[1;33m)\u001b[0m\u001b[1;33m\u001b[0m\u001b[1;33m\u001b[0m\u001b[0m\n\u001b[1;32m----> 4\u001b[1;33m         \u001b[0mprobdist\u001b[0m \u001b[1;33m=\u001b[0m \u001b[0mclassifier\u001b[0m\u001b[1;33m.\u001b[0m\u001b[0mprob_classify\u001b[0m\u001b[1;33m(\u001b[0m\u001b[0mextract_features\u001b[0m\u001b[1;33m(\u001b[0m\u001b[0mreview\u001b[0m\u001b[1;33m.\u001b[0m\u001b[0msplit\u001b[0m\u001b[1;33m(\u001b[0m\u001b[1;33m)\u001b[0m\u001b[1;33m)\u001b[0m\u001b[1;33m)\u001b[0m\u001b[1;33m\u001b[0m\u001b[1;33m\u001b[0m\u001b[0m\n\u001b[0m\u001b[0;32m      5\u001b[0m         \u001b[0mpred_sentiment\u001b[0m \u001b[1;33m=\u001b[0m \u001b[0mprobdist\u001b[0m\u001b[1;33m.\u001b[0m\u001b[0mmax\u001b[0m\u001b[1;33m(\u001b[0m\u001b[1;33m)\u001b[0m\u001b[1;33m\u001b[0m\u001b[1;33m\u001b[0m\u001b[0m\n\u001b[0;32m      6\u001b[0m         \u001b[0mprint\u001b[0m\u001b[1;33m(\u001b[0m\u001b[1;34m\"Predicted sentiment:\"\u001b[0m\u001b[1;33m,\u001b[0m \u001b[0mpred_sentiment\u001b[0m\u001b[1;33m)\u001b[0m\u001b[1;33m\u001b[0m\u001b[1;33m\u001b[0m\u001b[0m\n",
      "\u001b[1;31mAttributeError\u001b[0m: 'float' object has no attribute 'split'"
     ]
    }
   ],
   "source": [
    "print(\"\\nPredictions:\")\n",
    "for review in input_reviews:\n",
    "        print(\"\\nReview:\", review)\n",
    "        probdist = classifier.prob_classify(extract_features(review.split()))\n",
    "        pred_sentiment = probdist.max()\n",
    "        print(\"Predicted sentiment:\", pred_sentiment)\n",
    "        print(\"Probability:\", round(probdist.prob(pred_sentiment), 2))"
   ]
  },
  {
   "cell_type": "code",
   "execution_count": 24,
   "metadata": {
    "ExecuteTime": {
     "end_time": "2020-07-03T12:42:22.687151Z",
     "start_time": "2020-07-03T12:42:22.678680Z"
    },
    "scrolled": true
   },
   "outputs": [
    {
     "name": "stdout",
     "output_type": "stream",
     "text": [
      "Predicted sentiment:\n",
      "Probability:\n"
     ]
    },
    {
     "data": {
      "text/plain": [
       "(None, 0.83)"
      ]
     },
     "execution_count": 24,
     "metadata": {},
     "output_type": "execute_result"
    }
   ],
   "source": [
    "print(\"Predicted sentiment:\"), pred_sentiment \n",
    "print(\"Probability:\"), round(probdist.prob(pred_sentiment), 2)"
   ]
  },
  {
   "cell_type": "code",
   "execution_count": 25,
   "metadata": {
    "ExecuteTime": {
     "end_time": "2020-07-03T12:43:42.850577Z",
     "start_time": "2020-07-03T12:42:23.647390Z"
    }
   },
   "outputs": [
    {
     "name": "stderr",
     "output_type": "stream",
     "text": [
      "C:\\Users\\afilg\\anaconda3\\lib\\site-packages\\ipykernel_launcher.py:7: SettingWithCopyWarning: \n",
      "A value is trying to be set on a copy of a slice from a DataFrame.\n",
      "Try using .loc[row_indexer,col_indexer] = value instead\n",
      "\n",
      "See the caveats in the documentation: https://pandas.pydata.org/pandas-docs/stable/user_guide/indexing.html#returning-a-view-versus-a-copy\n",
      "  import sys\n"
     ]
    }
   ],
   "source": [
    "pred_sentiment = [] \n",
    "\n",
    "for review in df_review.review_content:\n",
    "        probdist = classifier.prob_classify(extract_features(review.split()))\n",
    "        pred_sentiment.append(probdist.max())\n",
    "       \n",
    "df_review['pred_sentiment'] = pred_sentiment  "
   ]
  },
  {
   "cell_type": "code",
   "execution_count": 26,
   "metadata": {
    "ExecuteTime": {
     "end_time": "2020-07-03T12:43:44.264866Z",
     "start_time": "2020-07-03T12:43:44.198714Z"
    },
    "scrolled": true
   },
   "outputs": [
    {
     "data": {
      "text/plain": [
       "Positive    311304\n",
       "Negative    120658\n",
       "Name: pred_sentiment, dtype: int64"
      ]
     },
     "execution_count": 26,
     "metadata": {},
     "output_type": "execute_result"
    }
   ],
   "source": [
    "df_review.pred_sentiment.value_counts()"
   ]
  },
  {
   "cell_type": "code",
   "execution_count": 27,
   "metadata": {
    "ExecuteTime": {
     "end_time": "2020-07-03T12:43:45.634609Z",
     "start_time": "2020-07-03T12:43:45.604209Z"
    },
    "scrolled": false
   },
   "outputs": [
    {
     "data": {
      "text/html": [
       "<div>\n",
       "<style scoped>\n",
       "    .dataframe tbody tr th:only-of-type {\n",
       "        vertical-align: middle;\n",
       "    }\n",
       "\n",
       "    .dataframe tbody tr th {\n",
       "        vertical-align: top;\n",
       "    }\n",
       "\n",
       "    .dataframe thead th {\n",
       "        text-align: right;\n",
       "    }\n",
       "</style>\n",
       "<table border=\"1\" class=\"dataframe\">\n",
       "  <thead>\n",
       "    <tr style=\"text-align: right;\">\n",
       "      <th></th>\n",
       "      <th>movie_link</th>\n",
       "      <th>movie_id</th>\n",
       "      <th>review_date</th>\n",
       "      <th>critic_publication</th>\n",
       "      <th>critic_icon</th>\n",
       "      <th>critic_top</th>\n",
       "      <th>critic_score</th>\n",
       "      <th>review_content</th>\n",
       "      <th>pred_sentiment</th>\n",
       "    </tr>\n",
       "  </thead>\n",
       "  <tbody>\n",
       "    <tr>\n",
       "      <th>0</th>\n",
       "      <td>https://www.rottentomatoes.com/m/napoleon_dyna...</td>\n",
       "      <td>/m/10007</td>\n",
       "      <td>01/07/2004</td>\n",
       "      <td>Arizona Republic</td>\n",
       "      <td>fresh</td>\n",
       "      <td>Top Critic</td>\n",
       "      <td>4/5</td>\n",
       "      <td>Has more belly laughs than 10 studio-produced,...</td>\n",
       "      <td>Negative</td>\n",
       "    </tr>\n",
       "    <tr>\n",
       "      <th>1</th>\n",
       "      <td>https://www.rottentomatoes.com/m/napoleon_dyna...</td>\n",
       "      <td>/m/10007</td>\n",
       "      <td>01/07/2004</td>\n",
       "      <td>Minneapolis Star Tribune</td>\n",
       "      <td>rotten</td>\n",
       "      <td>Top Critic</td>\n",
       "      <td>0.5/4</td>\n",
       "      <td>Calling this story about a quirky high-school ...</td>\n",
       "      <td>Positive</td>\n",
       "    </tr>\n",
       "    <tr>\n",
       "      <th>2</th>\n",
       "      <td>https://www.rottentomatoes.com/m/napoleon_dyna...</td>\n",
       "      <td>/m/10007</td>\n",
       "      <td>02/06/2004</td>\n",
       "      <td>Variety</td>\n",
       "      <td>rotten</td>\n",
       "      <td>Top Critic</td>\n",
       "      <td>NaN</td>\n",
       "      <td>There are lots of laughs for those who enjoy t...</td>\n",
       "      <td>Negative</td>\n",
       "    </tr>\n",
       "    <tr>\n",
       "      <th>3</th>\n",
       "      <td>https://www.rottentomatoes.com/m/napoleon_dyna...</td>\n",
       "      <td>/m/10007</td>\n",
       "      <td>02/06/2004</td>\n",
       "      <td>Slant Magazine</td>\n",
       "      <td>rotten</td>\n",
       "      <td>NaN</td>\n",
       "      <td>.5/4</td>\n",
       "      <td>For those who think there'e nothing funnier th...</td>\n",
       "      <td>Negative</td>\n",
       "    </tr>\n",
       "    <tr>\n",
       "      <th>4</th>\n",
       "      <td>https://www.rottentomatoes.com/m/napoleon_dyna...</td>\n",
       "      <td>/m/10007</td>\n",
       "      <td>02/07/2004</td>\n",
       "      <td>St. Paul Pioneer Press</td>\n",
       "      <td>fresh</td>\n",
       "      <td>NaN</td>\n",
       "      <td>3.5/4</td>\n",
       "      <td>We laugh at all the nerdy behavior in the movi...</td>\n",
       "      <td>Negative</td>\n",
       "    </tr>\n",
       "  </tbody>\n",
       "</table>\n",
       "</div>"
      ],
      "text/plain": [
       "                                          movie_link  movie_id review_date  \\\n",
       "0  https://www.rottentomatoes.com/m/napoleon_dyna...  /m/10007  01/07/2004   \n",
       "1  https://www.rottentomatoes.com/m/napoleon_dyna...  /m/10007  01/07/2004   \n",
       "2  https://www.rottentomatoes.com/m/napoleon_dyna...  /m/10007  02/06/2004   \n",
       "3  https://www.rottentomatoes.com/m/napoleon_dyna...  /m/10007  02/06/2004   \n",
       "4  https://www.rottentomatoes.com/m/napoleon_dyna...  /m/10007  02/07/2004   \n",
       "\n",
       "         critic_publication critic_icon  critic_top critic_score  \\\n",
       "0          Arizona Republic       fresh  Top Critic          4/5   \n",
       "1  Minneapolis Star Tribune      rotten  Top Critic        0.5/4   \n",
       "2                   Variety      rotten  Top Critic          NaN   \n",
       "3            Slant Magazine      rotten         NaN         .5/4   \n",
       "4    St. Paul Pioneer Press       fresh         NaN        3.5/4   \n",
       "\n",
       "                                      review_content pred_sentiment  \n",
       "0  Has more belly laughs than 10 studio-produced,...       Negative  \n",
       "1  Calling this story about a quirky high-school ...       Positive  \n",
       "2  There are lots of laughs for those who enjoy t...       Negative  \n",
       "3  For those who think there'e nothing funnier th...       Negative  \n",
       "4  We laugh at all the nerdy behavior in the movi...       Negative  "
      ]
     },
     "execution_count": 27,
     "metadata": {},
     "output_type": "execute_result"
    }
   ],
   "source": [
    "df_review.head()"
   ]
  },
  {
   "cell_type": "code",
   "execution_count": 28,
   "metadata": {
    "ExecuteTime": {
     "end_time": "2020-07-03T12:43:47.798990Z",
     "start_time": "2020-07-03T12:43:46.958172Z"
    }
   },
   "outputs": [],
   "source": [
    "df_group = pd.pivot_table(df_review, \n",
    "                      values='movie_link', \n",
    "                      index='movie_id', \n",
    "                      columns='pred_sentiment',\n",
    "                      aggfunc='count',\n",
    "                      margins = 'True',\n",
    "                      fill_value = 0)"
   ]
  },
  {
   "cell_type": "code",
   "execution_count": 29,
   "metadata": {
    "ExecuteTime": {
     "end_time": "2020-07-03T12:43:49.072654Z",
     "start_time": "2020-07-03T12:43:49.056171Z"
    },
    "scrolled": true
   },
   "outputs": [
    {
     "data": {
      "text/html": [
       "<div>\n",
       "<style scoped>\n",
       "    .dataframe tbody tr th:only-of-type {\n",
       "        vertical-align: middle;\n",
       "    }\n",
       "\n",
       "    .dataframe tbody tr th {\n",
       "        vertical-align: top;\n",
       "    }\n",
       "\n",
       "    .dataframe thead th {\n",
       "        text-align: right;\n",
       "    }\n",
       "</style>\n",
       "<table border=\"1\" class=\"dataframe\">\n",
       "  <thead>\n",
       "    <tr style=\"text-align: right;\">\n",
       "      <th>pred_sentiment</th>\n",
       "      <th>Negative</th>\n",
       "      <th>Positive</th>\n",
       "      <th>All</th>\n",
       "    </tr>\n",
       "    <tr>\n",
       "      <th>movie_id</th>\n",
       "      <th></th>\n",
       "      <th></th>\n",
       "      <th></th>\n",
       "    </tr>\n",
       "  </thead>\n",
       "  <tbody>\n",
       "    <tr>\n",
       "      <th>/m/10007</th>\n",
       "      <td>55</td>\n",
       "      <td>115</td>\n",
       "      <td>170</td>\n",
       "    </tr>\n",
       "    <tr>\n",
       "      <th>/m/10010</th>\n",
       "      <td>17</td>\n",
       "      <td>24</td>\n",
       "      <td>41</td>\n",
       "    </tr>\n",
       "    <tr>\n",
       "      <th>/m/10014</th>\n",
       "      <td>49</td>\n",
       "      <td>207</td>\n",
       "      <td>256</td>\n",
       "    </tr>\n",
       "    <tr>\n",
       "      <th>/m/10015</th>\n",
       "      <td>56</td>\n",
       "      <td>120</td>\n",
       "      <td>176</td>\n",
       "    </tr>\n",
       "    <tr>\n",
       "      <th>/m/10016</th>\n",
       "      <td>74</td>\n",
       "      <td>98</td>\n",
       "      <td>172</td>\n",
       "    </tr>\n",
       "  </tbody>\n",
       "</table>\n",
       "</div>"
      ],
      "text/plain": [
       "pred_sentiment  Negative  Positive  All\n",
       "movie_id                               \n",
       "/m/10007              55       115  170\n",
       "/m/10010              17        24   41\n",
       "/m/10014              49       207  256\n",
       "/m/10015              56       120  176\n",
       "/m/10016              74        98  172"
      ]
     },
     "execution_count": 29,
     "metadata": {},
     "output_type": "execute_result"
    }
   ],
   "source": [
    "df_group.head()"
   ]
  },
  {
   "cell_type": "code",
   "execution_count": 30,
   "metadata": {
    "ExecuteTime": {
     "end_time": "2020-07-03T12:43:50.363429Z",
     "start_time": "2020-07-03T12:43:50.340829Z"
    }
   },
   "outputs": [],
   "source": [
    "#calcular sentimento %\n",
    "df_group['negative_perc'] = df_group['Negative'] / df_group['All'] * 100\n",
    "df_group['positive_perc'] = df_group['Positive'] / df_group['All'] * 100"
   ]
  },
  {
   "cell_type": "code",
   "execution_count": 31,
   "metadata": {
    "ExecuteTime": {
     "end_time": "2020-07-03T12:43:51.679759Z",
     "start_time": "2020-07-03T12:43:51.662646Z"
    },
    "scrolled": true
   },
   "outputs": [
    {
     "data": {
      "text/html": [
       "<div>\n",
       "<style scoped>\n",
       "    .dataframe tbody tr th:only-of-type {\n",
       "        vertical-align: middle;\n",
       "    }\n",
       "\n",
       "    .dataframe tbody tr th {\n",
       "        vertical-align: top;\n",
       "    }\n",
       "\n",
       "    .dataframe thead th {\n",
       "        text-align: right;\n",
       "    }\n",
       "</style>\n",
       "<table border=\"1\" class=\"dataframe\">\n",
       "  <thead>\n",
       "    <tr style=\"text-align: right;\">\n",
       "      <th>pred_sentiment</th>\n",
       "      <th>Negative</th>\n",
       "      <th>Positive</th>\n",
       "      <th>All</th>\n",
       "      <th>negative_perc</th>\n",
       "      <th>positive_perc</th>\n",
       "    </tr>\n",
       "    <tr>\n",
       "      <th>movie_id</th>\n",
       "      <th></th>\n",
       "      <th></th>\n",
       "      <th></th>\n",
       "      <th></th>\n",
       "      <th></th>\n",
       "    </tr>\n",
       "  </thead>\n",
       "  <tbody>\n",
       "    <tr>\n",
       "      <th>/m/10007</th>\n",
       "      <td>55</td>\n",
       "      <td>115</td>\n",
       "      <td>170</td>\n",
       "      <td>32.352941</td>\n",
       "      <td>67.647059</td>\n",
       "    </tr>\n",
       "    <tr>\n",
       "      <th>/m/10010</th>\n",
       "      <td>17</td>\n",
       "      <td>24</td>\n",
       "      <td>41</td>\n",
       "      <td>41.463415</td>\n",
       "      <td>58.536585</td>\n",
       "    </tr>\n",
       "    <tr>\n",
       "      <th>/m/10014</th>\n",
       "      <td>49</td>\n",
       "      <td>207</td>\n",
       "      <td>256</td>\n",
       "      <td>19.140625</td>\n",
       "      <td>80.859375</td>\n",
       "    </tr>\n",
       "    <tr>\n",
       "      <th>/m/10015</th>\n",
       "      <td>56</td>\n",
       "      <td>120</td>\n",
       "      <td>176</td>\n",
       "      <td>31.818182</td>\n",
       "      <td>68.181818</td>\n",
       "    </tr>\n",
       "    <tr>\n",
       "      <th>/m/10016</th>\n",
       "      <td>74</td>\n",
       "      <td>98</td>\n",
       "      <td>172</td>\n",
       "      <td>43.023256</td>\n",
       "      <td>56.976744</td>\n",
       "    </tr>\n",
       "  </tbody>\n",
       "</table>\n",
       "</div>"
      ],
      "text/plain": [
       "pred_sentiment  Negative  Positive  All  negative_perc  positive_perc\n",
       "movie_id                                                             \n",
       "/m/10007              55       115  170      32.352941      67.647059\n",
       "/m/10010              17        24   41      41.463415      58.536585\n",
       "/m/10014              49       207  256      19.140625      80.859375\n",
       "/m/10015              56       120  176      31.818182      68.181818\n",
       "/m/10016              74        98  172      43.023256      56.976744"
      ]
     },
     "execution_count": 31,
     "metadata": {},
     "output_type": "execute_result"
    }
   ],
   "source": [
    "df_group.head()"
   ]
  },
  {
   "cell_type": "code",
   "execution_count": 36,
   "metadata": {
    "ExecuteTime": {
     "end_time": "2020-07-03T12:46:55.067529Z",
     "start_time": "2020-07-03T12:46:55.058608Z"
    }
   },
   "outputs": [],
   "source": [
    "df_group = df_group.reset_index()"
   ]
  },
  {
   "cell_type": "code",
   "execution_count": 37,
   "metadata": {
    "ExecuteTime": {
     "end_time": "2020-07-03T12:47:04.029958Z",
     "start_time": "2020-07-03T12:47:04.011805Z"
    }
   },
   "outputs": [
    {
     "data": {
      "text/html": [
       "<div>\n",
       "<style scoped>\n",
       "    .dataframe tbody tr th:only-of-type {\n",
       "        vertical-align: middle;\n",
       "    }\n",
       "\n",
       "    .dataframe tbody tr th {\n",
       "        vertical-align: top;\n",
       "    }\n",
       "\n",
       "    .dataframe thead th {\n",
       "        text-align: right;\n",
       "    }\n",
       "</style>\n",
       "<table border=\"1\" class=\"dataframe\">\n",
       "  <thead>\n",
       "    <tr style=\"text-align: right;\">\n",
       "      <th>pred_sentiment</th>\n",
       "      <th>movie_id</th>\n",
       "      <th>Negative</th>\n",
       "      <th>Positive</th>\n",
       "      <th>All</th>\n",
       "      <th>negative_perc</th>\n",
       "      <th>positive_perc</th>\n",
       "    </tr>\n",
       "  </thead>\n",
       "  <tbody>\n",
       "    <tr>\n",
       "      <th>0</th>\n",
       "      <td>/m/10007</td>\n",
       "      <td>55</td>\n",
       "      <td>115</td>\n",
       "      <td>170</td>\n",
       "      <td>32.352941</td>\n",
       "      <td>67.647059</td>\n",
       "    </tr>\n",
       "    <tr>\n",
       "      <th>1</th>\n",
       "      <td>/m/10010</td>\n",
       "      <td>17</td>\n",
       "      <td>24</td>\n",
       "      <td>41</td>\n",
       "      <td>41.463415</td>\n",
       "      <td>58.536585</td>\n",
       "    </tr>\n",
       "    <tr>\n",
       "      <th>2</th>\n",
       "      <td>/m/10014</td>\n",
       "      <td>49</td>\n",
       "      <td>207</td>\n",
       "      <td>256</td>\n",
       "      <td>19.140625</td>\n",
       "      <td>80.859375</td>\n",
       "    </tr>\n",
       "    <tr>\n",
       "      <th>3</th>\n",
       "      <td>/m/10015</td>\n",
       "      <td>56</td>\n",
       "      <td>120</td>\n",
       "      <td>176</td>\n",
       "      <td>31.818182</td>\n",
       "      <td>68.181818</td>\n",
       "    </tr>\n",
       "    <tr>\n",
       "      <th>4</th>\n",
       "      <td>/m/10016</td>\n",
       "      <td>74</td>\n",
       "      <td>98</td>\n",
       "      <td>172</td>\n",
       "      <td>43.023256</td>\n",
       "      <td>56.976744</td>\n",
       "    </tr>\n",
       "  </tbody>\n",
       "</table>\n",
       "</div>"
      ],
      "text/plain": [
       "pred_sentiment  movie_id  Negative  Positive  All  negative_perc  \\\n",
       "0               /m/10007        55       115  170      32.352941   \n",
       "1               /m/10010        17        24   41      41.463415   \n",
       "2               /m/10014        49       207  256      19.140625   \n",
       "3               /m/10015        56       120  176      31.818182   \n",
       "4               /m/10016        74        98  172      43.023256   \n",
       "\n",
       "pred_sentiment  positive_perc  \n",
       "0                   67.647059  \n",
       "1                   58.536585  \n",
       "2                   80.859375  \n",
       "3                   68.181818  \n",
       "4                   56.976744  "
      ]
     },
     "execution_count": 37,
     "metadata": {},
     "output_type": "execute_result"
    }
   ],
   "source": [
    "df_group.head()"
   ]
  },
  {
   "cell_type": "code",
   "execution_count": 32,
   "metadata": {
    "ExecuteTime": {
     "end_time": "2020-07-03T12:43:53.132649Z",
     "start_time": "2020-07-03T12:43:53.057795Z"
    }
   },
   "outputs": [],
   "source": [
    "## right join os dois datasets do rotten tomato\n",
    "rotten_df = df_group.merge(df_rotten, on = 'movie_id', how = 'right')"
   ]
  },
  {
   "cell_type": "code",
   "execution_count": 33,
   "metadata": {
    "ExecuteTime": {
     "end_time": "2020-07-03T12:43:54.509826Z",
     "start_time": "2020-07-03T12:43:54.501413Z"
    }
   },
   "outputs": [
    {
     "data": {
      "text/plain": [
       "(11313, 36)"
      ]
     },
     "execution_count": 33,
     "metadata": {},
     "output_type": "execute_result"
    }
   ],
   "source": [
    "rotten_df.shape"
   ]
  },
  {
   "cell_type": "code",
   "execution_count": 34,
   "metadata": {
    "ExecuteTime": {
     "end_time": "2020-07-03T12:43:55.855901Z",
     "start_time": "2020-07-03T12:43:55.806651Z"
    }
   },
   "outputs": [
    {
     "data": {
      "text/html": [
       "<div>\n",
       "<style scoped>\n",
       "    .dataframe tbody tr th:only-of-type {\n",
       "        vertical-align: middle;\n",
       "    }\n",
       "\n",
       "    .dataframe tbody tr th {\n",
       "        vertical-align: top;\n",
       "    }\n",
       "\n",
       "    .dataframe thead th {\n",
       "        text-align: right;\n",
       "    }\n",
       "</style>\n",
       "<table border=\"1\" class=\"dataframe\">\n",
       "  <thead>\n",
       "    <tr style=\"text-align: right;\">\n",
       "      <th></th>\n",
       "      <th>movie_id</th>\n",
       "      <th>Negative</th>\n",
       "      <th>Positive</th>\n",
       "      <th>All</th>\n",
       "      <th>negative_perc</th>\n",
       "      <th>positive_perc</th>\n",
       "      <th>movie_name</th>\n",
       "      <th>rating</th>\n",
       "      <th>genre</th>\n",
       "      <th>directors</th>\n",
       "      <th>...</th>\n",
       "      <th>audience_count</th>\n",
       "      <th>audience_top_critics_count</th>\n",
       "      <th>audience_fresh_critics_count</th>\n",
       "      <th>audience_rotten_critics_count</th>\n",
       "      <th>audience_fresh_top_critics_count</th>\n",
       "      <th>audience_rotten_rotten_critics_count</th>\n",
       "      <th>tomatometer_avg_rating</th>\n",
       "      <th>audience_top_critics_avg_rating</th>\n",
       "      <th>score_sentiment</th>\n",
       "      <th>audience_avg_rating</th>\n",
       "    </tr>\n",
       "  </thead>\n",
       "  <tbody>\n",
       "    <tr>\n",
       "      <th>0</th>\n",
       "      <td>/m/10007</td>\n",
       "      <td>55.0</td>\n",
       "      <td>115.0</td>\n",
       "      <td>170.0</td>\n",
       "      <td>32.352941</td>\n",
       "      <td>67.647059</td>\n",
       "      <td>Napoleon Dynamite</td>\n",
       "      <td>PG</td>\n",
       "      <td>Comedy</td>\n",
       "      <td>Jared Hess</td>\n",
       "      <td>...</td>\n",
       "      <td>789763.0</td>\n",
       "      <td>41</td>\n",
       "      <td>123</td>\n",
       "      <td>50</td>\n",
       "      <td>28</td>\n",
       "      <td>13</td>\n",
       "      <td>6.31</td>\n",
       "      <td>5.92</td>\n",
       "      <td>POSITIVE</td>\n",
       "      <td>3.74</td>\n",
       "    </tr>\n",
       "    <tr>\n",
       "      <th>1</th>\n",
       "      <td>/m/10015</td>\n",
       "      <td>56.0</td>\n",
       "      <td>120.0</td>\n",
       "      <td>176.0</td>\n",
       "      <td>31.818182</td>\n",
       "      <td>68.181818</td>\n",
       "      <td>The Notebook</td>\n",
       "      <td>PG-13</td>\n",
       "      <td>Drama,Romance</td>\n",
       "      <td>Nick Cassavetes</td>\n",
       "      <td>...</td>\n",
       "      <td>31656590.0</td>\n",
       "      <td>44</td>\n",
       "      <td>94</td>\n",
       "      <td>84</td>\n",
       "      <td>19</td>\n",
       "      <td>25</td>\n",
       "      <td>5.64</td>\n",
       "      <td>5.16</td>\n",
       "      <td>POSITIVE</td>\n",
       "      <td>3.61</td>\n",
       "    </tr>\n",
       "    <tr>\n",
       "      <th>2</th>\n",
       "      <td>/m/10016</td>\n",
       "      <td>74.0</td>\n",
       "      <td>98.0</td>\n",
       "      <td>172.0</td>\n",
       "      <td>43.023256</td>\n",
       "      <td>56.976744</td>\n",
       "      <td>National Treasure</td>\n",
       "      <td>PG</td>\n",
       "      <td>Action &amp; Adventure</td>\n",
       "      <td>Jon Turteltaub</td>\n",
       "      <td>...</td>\n",
       "      <td>924064.0</td>\n",
       "      <td>43</td>\n",
       "      <td>82</td>\n",
       "      <td>97</td>\n",
       "      <td>16</td>\n",
       "      <td>27</td>\n",
       "      <td>5.30</td>\n",
       "      <td>5.04</td>\n",
       "      <td>POSITIVE</td>\n",
       "      <td>3.85</td>\n",
       "    </tr>\n",
       "    <tr>\n",
       "      <th>3</th>\n",
       "      <td>/m/10018</td>\n",
       "      <td>62.0</td>\n",
       "      <td>69.0</td>\n",
       "      <td>131.0</td>\n",
       "      <td>47.328244</td>\n",
       "      <td>52.671756</td>\n",
       "      <td>Christmas With the Kranks</td>\n",
       "      <td>PG</td>\n",
       "      <td>Comedy,Kids &amp; Family</td>\n",
       "      <td>Joe Roth</td>\n",
       "      <td>...</td>\n",
       "      <td>95709.0</td>\n",
       "      <td>35</td>\n",
       "      <td>7</td>\n",
       "      <td>125</td>\n",
       "      <td>1</td>\n",
       "      <td>34</td>\n",
       "      <td>2.81</td>\n",
       "      <td>3.35</td>\n",
       "      <td>NEGATIVE</td>\n",
       "      <td>2.80</td>\n",
       "    </tr>\n",
       "    <tr>\n",
       "      <th>4</th>\n",
       "      <td>/m/10020</td>\n",
       "      <td>46.0</td>\n",
       "      <td>163.0</td>\n",
       "      <td>209.0</td>\n",
       "      <td>22.009569</td>\n",
       "      <td>77.990431</td>\n",
       "      <td>Pirates of the Caribbean: The Curse of the Bla...</td>\n",
       "      <td>PG-13</td>\n",
       "      <td>Action &amp; Adventure,Science Fiction &amp; Fantasy</td>\n",
       "      <td>Gore Verbinski</td>\n",
       "      <td>...</td>\n",
       "      <td>33125722.0</td>\n",
       "      <td>45</td>\n",
       "      <td>173</td>\n",
       "      <td>46</td>\n",
       "      <td>31</td>\n",
       "      <td>14</td>\n",
       "      <td>7.11</td>\n",
       "      <td>6.44</td>\n",
       "      <td>POSITIVE</td>\n",
       "      <td>3.89</td>\n",
       "    </tr>\n",
       "  </tbody>\n",
       "</table>\n",
       "<p>5 rows × 36 columns</p>\n",
       "</div>"
      ],
      "text/plain": [
       "   movie_id  Negative  Positive    All  negative_perc  positive_perc  \\\n",
       "0  /m/10007      55.0     115.0  170.0      32.352941      67.647059   \n",
       "1  /m/10015      56.0     120.0  176.0      31.818182      68.181818   \n",
       "2  /m/10016      74.0      98.0  172.0      43.023256      56.976744   \n",
       "3  /m/10018      62.0      69.0  131.0      47.328244      52.671756   \n",
       "4  /m/10020      46.0     163.0  209.0      22.009569      77.990431   \n",
       "\n",
       "                                          movie_name rating  \\\n",
       "0                                  Napoleon Dynamite     PG   \n",
       "1                                       The Notebook  PG-13   \n",
       "2                                  National Treasure     PG   \n",
       "3                          Christmas With the Kranks     PG   \n",
       "4  Pirates of the Caribbean: The Curse of the Bla...  PG-13   \n",
       "\n",
       "                                          genre        directors  ...  \\\n",
       "0                                        Comedy       Jared Hess  ...   \n",
       "1                                 Drama,Romance  Nick Cassavetes  ...   \n",
       "2                            Action & Adventure   Jon Turteltaub  ...   \n",
       "3                          Comedy,Kids & Family         Joe Roth  ...   \n",
       "4  Action & Adventure,Science Fiction & Fantasy   Gore Verbinski  ...   \n",
       "\n",
       "  audience_count audience_top_critics_count audience_fresh_critics_count  \\\n",
       "0       789763.0                         41                          123   \n",
       "1     31656590.0                         44                           94   \n",
       "2       924064.0                         43                           82   \n",
       "3        95709.0                         35                            7   \n",
       "4     33125722.0                         45                          173   \n",
       "\n",
       "  audience_rotten_critics_count audience_fresh_top_critics_count  \\\n",
       "0                            50                               28   \n",
       "1                            84                               19   \n",
       "2                            97                               16   \n",
       "3                           125                                1   \n",
       "4                            46                               31   \n",
       "\n",
       "  audience_rotten_rotten_critics_count  tomatometer_avg_rating  \\\n",
       "0                                   13                    6.31   \n",
       "1                                   25                    5.64   \n",
       "2                                   27                    5.30   \n",
       "3                                   34                    2.81   \n",
       "4                                   14                    7.11   \n",
       "\n",
       "  audience_top_critics_avg_rating score_sentiment audience_avg_rating  \n",
       "0                            5.92        POSITIVE                3.74  \n",
       "1                            5.16        POSITIVE                3.61  \n",
       "2                            5.04        POSITIVE                3.85  \n",
       "3                            3.35        NEGATIVE                2.80  \n",
       "4                            6.44        POSITIVE                3.89  \n",
       "\n",
       "[5 rows x 36 columns]"
      ]
     },
     "execution_count": 34,
     "metadata": {},
     "output_type": "execute_result"
    }
   ],
   "source": [
    "rotten_df.head()"
   ]
  },
  {
   "cell_type": "code",
   "execution_count": 38,
   "metadata": {
    "ExecuteTime": {
     "end_time": "2020-07-03T12:47:12.342793Z",
     "start_time": "2020-07-03T12:47:12.290998Z"
    }
   },
   "outputs": [],
   "source": [
    "df_group.to_csv('critica.csv', index = False)"
   ]
  },
  {
   "cell_type": "code",
   "execution_count": null,
   "metadata": {},
   "outputs": [],
   "source": []
  }
 ],
 "metadata": {
  "hide_input": false,
  "kernelspec": {
   "display_name": "Python 3",
   "language": "python",
   "name": "python3"
  },
  "language_info": {
   "codemirror_mode": {
    "name": "ipython",
    "version": 3
   },
   "file_extension": ".py",
   "mimetype": "text/x-python",
   "name": "python",
   "nbconvert_exporter": "python",
   "pygments_lexer": "ipython3",
   "version": "3.7.7"
  },
  "toc": {
   "base_numbering": 1,
   "nav_menu": {},
   "number_sections": true,
   "sideBar": true,
   "skip_h1_title": false,
   "title_cell": "Table of Contents",
   "title_sidebar": "Contents",
   "toc_cell": false,
   "toc_position": {
    "height": "calc(100% - 180px)",
    "left": "10px",
    "top": "150px",
    "width": "165px"
   },
   "toc_section_display": true,
   "toc_window_display": true
  },
  "varInspector": {
   "cols": {
    "lenName": 16,
    "lenType": 16,
    "lenVar": 40
   },
   "kernels_config": {
    "python": {
     "delete_cmd_postfix": "",
     "delete_cmd_prefix": "del ",
     "library": "var_list.py",
     "varRefreshCmd": "print(var_dic_list())"
    },
    "r": {
     "delete_cmd_postfix": ") ",
     "delete_cmd_prefix": "rm(",
     "library": "var_list.r",
     "varRefreshCmd": "cat(var_dic_list()) "
    }
   },
   "types_to_exclude": [
    "module",
    "function",
    "builtin_function_or_method",
    "instance",
    "_Feature"
   ],
   "window_display": false
  }
 },
 "nbformat": 4,
 "nbformat_minor": 4
}
