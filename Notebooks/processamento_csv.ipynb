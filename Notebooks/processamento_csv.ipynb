{
 "cells": [
  {
   "cell_type": "markdown",
   "metadata": {},
   "source": [
    "## Directors"
   ]
  },
  {
   "cell_type": "code",
   "execution_count": 39,
   "metadata": {},
   "outputs": [],
   "source": [
    "#open libraries\n",
    "import pandas as pd\n",
    "import seaborn as sns\n",
    "import matplotlib.pyplot as plt\n",
    "%matplotlib inline\n",
    "import numpy as np"
   ]
  },
  {
   "cell_type": "code",
   "execution_count": 40,
   "metadata": {},
   "outputs": [],
   "source": [
    "df_crew = pd.read_csv('C:/Users/camil/Desktop/Projeto Integrador/dados/title.crew.tsv.gz', compression='gzip', header=0 , quotechar='\"', error_bad_lines=False, sep = '\\t', na_values=['\\\\N'])"
   ]
  },
  {
   "cell_type": "code",
   "execution_count": 41,
   "metadata": {},
   "outputs": [],
   "source": [
    "df_basics = pd.read_csv('C:/Users/camil/Desktop/Projeto Integrador/dados/basics_simple.csv')"
   ]
  },
  {
   "cell_type": "code",
   "execution_count": 42,
   "metadata": {},
   "outputs": [],
   "source": [
    "crew = df_crew.join(df_basics.set_index('tconst'), on = 'tconst', how = 'inner')"
   ]
  },
  {
   "cell_type": "code",
   "execution_count": 43,
   "metadata": {},
   "outputs": [],
   "source": [
    "director = crew.pivot_table(values = 'averageRating',\n",
    "                            index = 'directors',\n",
    "                            aggfunc = 'mean')"
   ]
  },
  {
   "cell_type": "code",
   "execution_count": 44,
   "metadata": {},
   "outputs": [],
   "source": [
    "director2= crew.pivot_table(values = 'tconst',\n",
    "                            index = 'directors',\n",
    "                            aggfunc = 'count')"
   ]
  },
  {
   "cell_type": "code",
   "execution_count": 45,
   "metadata": {},
   "outputs": [],
   "source": [
    "director = director.join(director2, on = 'directors')"
   ]
  },
  {
   "cell_type": "code",
   "execution_count": 46,
   "metadata": {},
   "outputs": [],
   "source": [
    "director.reset_index(inplace = True)"
   ]
  },
  {
   "cell_type": "code",
   "execution_count": 47,
   "metadata": {},
   "outputs": [],
   "source": [
    "director.rename(columns={'averageRating':'director_rating', 'tconst':'n_movies'}, inplace = True)"
   ]
  },
  {
   "cell_type": "code",
   "execution_count": 48,
   "metadata": {},
   "outputs": [],
   "source": [
    "names = pd.read_csv('C:/Users/camil/Desktop/Projeto Integrador/dados/name.basics.tsv.gz', compression='gzip', header=0 , quotechar='\"', error_bad_lines=False, sep = '\\t', na_values=['\\\\N'])"
   ]
  },
  {
   "cell_type": "code",
   "execution_count": 49,
   "metadata": {},
   "outputs": [],
   "source": [
    "# remover os atores e diretores que ja morreram\n",
    "names = names[names.deathYear.isnull()]"
   ]
  },
  {
   "cell_type": "code",
   "execution_count": 50,
   "metadata": {},
   "outputs": [],
   "source": [
    "director.rename(columns = {'directors': 'nconst'}, inplace = True)"
   ]
  },
  {
   "cell_type": "code",
   "execution_count": 51,
   "metadata": {
    "scrolled": true
   },
   "outputs": [],
   "source": [
    "director_df = director.merge(names, on = 'nconst', how = 'inner')"
   ]
  },
  {
   "cell_type": "code",
   "execution_count": 52,
   "metadata": {},
   "outputs": [],
   "source": [
    "director_df = director_df[['primaryName', 'director_rating', 'n_movies']]\n",
    "director_df.columns = ['name', 'avg', 'n']\n",
    "director_df['type'] = 'director'"
   ]
  },
  {
   "cell_type": "code",
   "execution_count": 53,
   "metadata": {
    "scrolled": false
   },
   "outputs": [
    {
     "data": {
      "text/html": [
       "<div>\n",
       "<style scoped>\n",
       "    .dataframe tbody tr th:only-of-type {\n",
       "        vertical-align: middle;\n",
       "    }\n",
       "\n",
       "    .dataframe tbody tr th {\n",
       "        vertical-align: top;\n",
       "    }\n",
       "\n",
       "    .dataframe thead th {\n",
       "        text-align: right;\n",
       "    }\n",
       "</style>\n",
       "<table border=\"1\" class=\"dataframe\">\n",
       "  <thead>\n",
       "    <tr style=\"text-align: right;\">\n",
       "      <th></th>\n",
       "      <th>name</th>\n",
       "      <th>avg</th>\n",
       "      <th>n</th>\n",
       "      <th>type</th>\n",
       "    </tr>\n",
       "  </thead>\n",
       "  <tbody>\n",
       "    <tr>\n",
       "      <th>0</th>\n",
       "      <td>Alan Miller</td>\n",
       "      <td>7.200000</td>\n",
       "      <td>1</td>\n",
       "      <td>director</td>\n",
       "    </tr>\n",
       "    <tr>\n",
       "      <th>1</th>\n",
       "      <td>Armin Mueller-Stahl</td>\n",
       "      <td>6.600000</td>\n",
       "      <td>1</td>\n",
       "      <td>director</td>\n",
       "    </tr>\n",
       "    <tr>\n",
       "      <th>2</th>\n",
       "      <td>Gérard Pirès</td>\n",
       "      <td>5.266667</td>\n",
       "      <td>12</td>\n",
       "      <td>director</td>\n",
       "    </tr>\n",
       "    <tr>\n",
       "      <th>3</th>\n",
       "      <td>Woody Allen</td>\n",
       "      <td>7.048936</td>\n",
       "      <td>47</td>\n",
       "      <td>director</td>\n",
       "    </tr>\n",
       "    <tr>\n",
       "      <th>4</th>\n",
       "      <td>Dan Aykroyd</td>\n",
       "      <td>5.100000</td>\n",
       "      <td>1</td>\n",
       "      <td>director</td>\n",
       "    </tr>\n",
       "  </tbody>\n",
       "</table>\n",
       "</div>"
      ],
      "text/plain": [
       "                  name       avg   n      type\n",
       "0          Alan Miller  7.200000   1  director\n",
       "1  Armin Mueller-Stahl  6.600000   1  director\n",
       "2         Gérard Pirès  5.266667  12  director\n",
       "3          Woody Allen  7.048936  47  director\n",
       "4          Dan Aykroyd  5.100000   1  director"
      ]
     },
     "execution_count": 53,
     "metadata": {},
     "output_type": "execute_result"
    }
   ],
   "source": [
    "director_df.head()"
   ]
  },
  {
   "cell_type": "markdown",
   "metadata": {},
   "source": [
    "## Actors"
   ]
  },
  {
   "cell_type": "code",
   "execution_count": 54,
   "metadata": {},
   "outputs": [],
   "source": [
    "principals = pd.read_csv('C:/Users/camil/Desktop/Projeto Integrador/dados/title.principals.tsv.gz', compression='gzip', header=0 , quotechar='\"', error_bad_lines=False, sep = '\\t', na_values=['\\\\N'])"
   ]
  },
  {
   "cell_type": "code",
   "execution_count": 55,
   "metadata": {},
   "outputs": [
    {
     "data": {
      "text/html": [
       "<div>\n",
       "<style scoped>\n",
       "    .dataframe tbody tr th:only-of-type {\n",
       "        vertical-align: middle;\n",
       "    }\n",
       "\n",
       "    .dataframe tbody tr th {\n",
       "        vertical-align: top;\n",
       "    }\n",
       "\n",
       "    .dataframe thead th {\n",
       "        text-align: right;\n",
       "    }\n",
       "</style>\n",
       "<table border=\"1\" class=\"dataframe\">\n",
       "  <thead>\n",
       "    <tr style=\"text-align: right;\">\n",
       "      <th></th>\n",
       "      <th>tconst</th>\n",
       "      <th>ordering</th>\n",
       "      <th>nconst</th>\n",
       "      <th>category</th>\n",
       "      <th>job</th>\n",
       "      <th>characters</th>\n",
       "    </tr>\n",
       "  </thead>\n",
       "  <tbody>\n",
       "    <tr>\n",
       "      <th>0</th>\n",
       "      <td>tt0000001</td>\n",
       "      <td>1</td>\n",
       "      <td>nm1588970</td>\n",
       "      <td>self</td>\n",
       "      <td>NaN</td>\n",
       "      <td>[\"Self\"]</td>\n",
       "    </tr>\n",
       "    <tr>\n",
       "      <th>1</th>\n",
       "      <td>tt0000001</td>\n",
       "      <td>2</td>\n",
       "      <td>nm0005690</td>\n",
       "      <td>director</td>\n",
       "      <td>NaN</td>\n",
       "      <td>NaN</td>\n",
       "    </tr>\n",
       "    <tr>\n",
       "      <th>2</th>\n",
       "      <td>tt0000001</td>\n",
       "      <td>3</td>\n",
       "      <td>nm0374658</td>\n",
       "      <td>cinematographer</td>\n",
       "      <td>director of photography</td>\n",
       "      <td>NaN</td>\n",
       "    </tr>\n",
       "    <tr>\n",
       "      <th>3</th>\n",
       "      <td>tt0000002</td>\n",
       "      <td>1</td>\n",
       "      <td>nm0721526</td>\n",
       "      <td>director</td>\n",
       "      <td>NaN</td>\n",
       "      <td>NaN</td>\n",
       "    </tr>\n",
       "    <tr>\n",
       "      <th>4</th>\n",
       "      <td>tt0000002</td>\n",
       "      <td>2</td>\n",
       "      <td>nm1335271</td>\n",
       "      <td>composer</td>\n",
       "      <td>NaN</td>\n",
       "      <td>NaN</td>\n",
       "    </tr>\n",
       "    <tr>\n",
       "      <th>...</th>\n",
       "      <td>...</td>\n",
       "      <td>...</td>\n",
       "      <td>...</td>\n",
       "      <td>...</td>\n",
       "      <td>...</td>\n",
       "      <td>...</td>\n",
       "    </tr>\n",
       "    <tr>\n",
       "      <th>39422889</th>\n",
       "      <td>tt9916880</td>\n",
       "      <td>5</td>\n",
       "      <td>nm0996406</td>\n",
       "      <td>director</td>\n",
       "      <td>principal director</td>\n",
       "      <td>NaN</td>\n",
       "    </tr>\n",
       "    <tr>\n",
       "      <th>39422890</th>\n",
       "      <td>tt9916880</td>\n",
       "      <td>6</td>\n",
       "      <td>nm1482639</td>\n",
       "      <td>writer</td>\n",
       "      <td>NaN</td>\n",
       "      <td>NaN</td>\n",
       "    </tr>\n",
       "    <tr>\n",
       "      <th>39422891</th>\n",
       "      <td>tt9916880</td>\n",
       "      <td>7</td>\n",
       "      <td>nm2586970</td>\n",
       "      <td>writer</td>\n",
       "      <td>books</td>\n",
       "      <td>NaN</td>\n",
       "    </tr>\n",
       "    <tr>\n",
       "      <th>39422892</th>\n",
       "      <td>tt9916880</td>\n",
       "      <td>8</td>\n",
       "      <td>nm1594058</td>\n",
       "      <td>producer</td>\n",
       "      <td>producer</td>\n",
       "      <td>NaN</td>\n",
       "    </tr>\n",
       "    <tr>\n",
       "      <th>39422893</th>\n",
       "      <td>tt9916880</td>\n",
       "      <td>9</td>\n",
       "      <td>nm1052583</td>\n",
       "      <td>actress</td>\n",
       "      <td>NaN</td>\n",
       "      <td>[\"Mum\",\"Tidy Ted\",\"Fang\"]</td>\n",
       "    </tr>\n",
       "  </tbody>\n",
       "</table>\n",
       "<p>39422894 rows × 6 columns</p>\n",
       "</div>"
      ],
      "text/plain": [
       "             tconst  ordering     nconst         category  \\\n",
       "0         tt0000001         1  nm1588970             self   \n",
       "1         tt0000001         2  nm0005690         director   \n",
       "2         tt0000001         3  nm0374658  cinematographer   \n",
       "3         tt0000002         1  nm0721526         director   \n",
       "4         tt0000002         2  nm1335271         composer   \n",
       "...             ...       ...        ...              ...   \n",
       "39422889  tt9916880         5  nm0996406         director   \n",
       "39422890  tt9916880         6  nm1482639           writer   \n",
       "39422891  tt9916880         7  nm2586970           writer   \n",
       "39422892  tt9916880         8  nm1594058         producer   \n",
       "39422893  tt9916880         9  nm1052583          actress   \n",
       "\n",
       "                              job                 characters  \n",
       "0                             NaN                   [\"Self\"]  \n",
       "1                             NaN                        NaN  \n",
       "2         director of photography                        NaN  \n",
       "3                             NaN                        NaN  \n",
       "4                             NaN                        NaN  \n",
       "...                           ...                        ...  \n",
       "39422889       principal director                        NaN  \n",
       "39422890                      NaN                        NaN  \n",
       "39422891                    books                        NaN  \n",
       "39422892                 producer                        NaN  \n",
       "39422893                      NaN  [\"Mum\",\"Tidy Ted\",\"Fang\"]  \n",
       "\n",
       "[39422894 rows x 6 columns]"
      ]
     },
     "execution_count": 55,
     "metadata": {},
     "output_type": "execute_result"
    }
   ],
   "source": [
    "principals"
   ]
  },
  {
   "cell_type": "code",
   "execution_count": 56,
   "metadata": {},
   "outputs": [],
   "source": [
    "actor = principals[(principals.category == 'actor') | (principals.category == 'actress')]"
   ]
  },
  {
   "cell_type": "code",
   "execution_count": 57,
   "metadata": {},
   "outputs": [],
   "source": [
    "df_actor = actor.merge(df_basics, on = 'tconst', how = 'inner')"
   ]
  },
  {
   "cell_type": "code",
   "execution_count": 58,
   "metadata": {},
   "outputs": [],
   "source": [
    "actor_avg = df_actor.pivot_table(values = 'averageRating',\n",
    "                            index = 'nconst',\n",
    "                            aggfunc = 'mean')\n",
    "actor_avg.reset_index(inplace = True)"
   ]
  },
  {
   "cell_type": "code",
   "execution_count": 59,
   "metadata": {
    "scrolled": true
   },
   "outputs": [],
   "source": [
    "actor_n = df_actor.pivot_table(values = 'tconst',\n",
    "                              index = 'nconst',\n",
    "                              aggfunc = 'count')\n",
    "actor_n.reset_index(inplace = True)\n",
    "actor_n.rename(columns = {'tconst' : 'n_movies'}, inplace = True)"
   ]
  },
  {
   "cell_type": "code",
   "execution_count": 60,
   "metadata": {},
   "outputs": [],
   "source": [
    "actor_df = actor_avg.merge(actor_n, on = 'nconst', how = 'left')"
   ]
  },
  {
   "cell_type": "code",
   "execution_count": 61,
   "metadata": {},
   "outputs": [],
   "source": [
    "actor_df = actor_df.merge(names, on = 'nconst', how = 'inner')"
   ]
  },
  {
   "cell_type": "code",
   "execution_count": 62,
   "metadata": {},
   "outputs": [
    {
     "data": {
      "text/html": [
       "<div>\n",
       "<style scoped>\n",
       "    .dataframe tbody tr th:only-of-type {\n",
       "        vertical-align: middle;\n",
       "    }\n",
       "\n",
       "    .dataframe tbody tr th {\n",
       "        vertical-align: top;\n",
       "    }\n",
       "\n",
       "    .dataframe thead th {\n",
       "        text-align: right;\n",
       "    }\n",
       "</style>\n",
       "<table border=\"1\" class=\"dataframe\">\n",
       "  <thead>\n",
       "    <tr style=\"text-align: right;\">\n",
       "      <th></th>\n",
       "      <th>nconst</th>\n",
       "      <th>averageRating</th>\n",
       "      <th>n_movies</th>\n",
       "      <th>primaryName</th>\n",
       "      <th>birthYear</th>\n",
       "      <th>deathYear</th>\n",
       "      <th>primaryProfession</th>\n",
       "      <th>knownForTitles</th>\n",
       "    </tr>\n",
       "  </thead>\n",
       "  <tbody>\n",
       "    <tr>\n",
       "      <th>0</th>\n",
       "      <td>nm0000003</td>\n",
       "      <td>5.900000</td>\n",
       "      <td>36</td>\n",
       "      <td>Brigitte Bardot</td>\n",
       "      <td>1934.0</td>\n",
       "      <td>NaN</td>\n",
       "      <td>actress,soundtrack,producer</td>\n",
       "      <td>tt0057345,tt0049189,tt0059956,tt0054452</td>\n",
       "    </tr>\n",
       "    <tr>\n",
       "      <th>1</th>\n",
       "      <td>nm0000014</td>\n",
       "      <td>6.809524</td>\n",
       "      <td>42</td>\n",
       "      <td>Olivia de Havilland</td>\n",
       "      <td>1916.0</td>\n",
       "      <td>NaN</td>\n",
       "      <td>actress,soundtrack</td>\n",
       "      <td>tt0041452,tt0029843,tt0031381,tt0040806</td>\n",
       "    </tr>\n",
       "    <tr>\n",
       "      <th>2</th>\n",
       "      <td>nm0000047</td>\n",
       "      <td>6.212500</td>\n",
       "      <td>64</td>\n",
       "      <td>Sophia Loren</td>\n",
       "      <td>1934.0</td>\n",
       "      <td>NaN</td>\n",
       "      <td>actress,soundtrack</td>\n",
       "      <td>tt0060121,tt0058335,tt0076085,tt0054749</td>\n",
       "    </tr>\n",
       "    <tr>\n",
       "      <th>3</th>\n",
       "      <td>nm0000079</td>\n",
       "      <td>5.656000</td>\n",
       "      <td>25</td>\n",
       "      <td>Raquel Welch</td>\n",
       "      <td>1940.0</td>\n",
       "      <td>NaN</td>\n",
       "      <td>actress,soundtrack,producer</td>\n",
       "      <td>tt0072281,tt0061653,tt0070291,tt0068795</td>\n",
       "    </tr>\n",
       "    <tr>\n",
       "      <th>4</th>\n",
       "      <td>nm0000084</td>\n",
       "      <td>6.767742</td>\n",
       "      <td>31</td>\n",
       "      <td>Li Gong</td>\n",
       "      <td>1965.0</td>\n",
       "      <td>NaN</td>\n",
       "      <td>actress</td>\n",
       "      <td>tt0101640,tt0397535,tt0473444,tt0430357</td>\n",
       "    </tr>\n",
       "  </tbody>\n",
       "</table>\n",
       "</div>"
      ],
      "text/plain": [
       "      nconst  averageRating  n_movies          primaryName  birthYear  \\\n",
       "0  nm0000003       5.900000        36      Brigitte Bardot     1934.0   \n",
       "1  nm0000014       6.809524        42  Olivia de Havilland     1916.0   \n",
       "2  nm0000047       6.212500        64         Sophia Loren     1934.0   \n",
       "3  nm0000079       5.656000        25         Raquel Welch     1940.0   \n",
       "4  nm0000084       6.767742        31              Li Gong     1965.0   \n",
       "\n",
       "   deathYear            primaryProfession  \\\n",
       "0        NaN  actress,soundtrack,producer   \n",
       "1        NaN           actress,soundtrack   \n",
       "2        NaN           actress,soundtrack   \n",
       "3        NaN  actress,soundtrack,producer   \n",
       "4        NaN                      actress   \n",
       "\n",
       "                            knownForTitles  \n",
       "0  tt0057345,tt0049189,tt0059956,tt0054452  \n",
       "1  tt0041452,tt0029843,tt0031381,tt0040806  \n",
       "2  tt0060121,tt0058335,tt0076085,tt0054749  \n",
       "3  tt0072281,tt0061653,tt0070291,tt0068795  \n",
       "4  tt0101640,tt0397535,tt0473444,tt0430357  "
      ]
     },
     "execution_count": 62,
     "metadata": {},
     "output_type": "execute_result"
    }
   ],
   "source": [
    "actor_df.head()"
   ]
  },
  {
   "cell_type": "code",
   "execution_count": 63,
   "metadata": {
    "scrolled": true
   },
   "outputs": [],
   "source": [
    "actor_df = actor_df[['primaryName', 'averageRating', 'n_movies']]\n",
    "actor_df.columns = ['name', 'avg', 'n']\n",
    "actor_df['type'] = 'actor'"
   ]
  },
  {
   "cell_type": "code",
   "execution_count": 64,
   "metadata": {},
   "outputs": [
    {
     "data": {
      "text/html": [
       "<div>\n",
       "<style scoped>\n",
       "    .dataframe tbody tr th:only-of-type {\n",
       "        vertical-align: middle;\n",
       "    }\n",
       "\n",
       "    .dataframe tbody tr th {\n",
       "        vertical-align: top;\n",
       "    }\n",
       "\n",
       "    .dataframe thead th {\n",
       "        text-align: right;\n",
       "    }\n",
       "</style>\n",
       "<table border=\"1\" class=\"dataframe\">\n",
       "  <thead>\n",
       "    <tr style=\"text-align: right;\">\n",
       "      <th></th>\n",
       "      <th>name</th>\n",
       "      <th>avg</th>\n",
       "      <th>n</th>\n",
       "      <th>type</th>\n",
       "    </tr>\n",
       "  </thead>\n",
       "  <tbody>\n",
       "    <tr>\n",
       "      <th>0</th>\n",
       "      <td>Brigitte Bardot</td>\n",
       "      <td>5.900000</td>\n",
       "      <td>36</td>\n",
       "      <td>actor</td>\n",
       "    </tr>\n",
       "    <tr>\n",
       "      <th>1</th>\n",
       "      <td>Olivia de Havilland</td>\n",
       "      <td>6.809524</td>\n",
       "      <td>42</td>\n",
       "      <td>actor</td>\n",
       "    </tr>\n",
       "    <tr>\n",
       "      <th>2</th>\n",
       "      <td>Sophia Loren</td>\n",
       "      <td>6.212500</td>\n",
       "      <td>64</td>\n",
       "      <td>actor</td>\n",
       "    </tr>\n",
       "    <tr>\n",
       "      <th>3</th>\n",
       "      <td>Raquel Welch</td>\n",
       "      <td>5.656000</td>\n",
       "      <td>25</td>\n",
       "      <td>actor</td>\n",
       "    </tr>\n",
       "    <tr>\n",
       "      <th>4</th>\n",
       "      <td>Li Gong</td>\n",
       "      <td>6.767742</td>\n",
       "      <td>31</td>\n",
       "      <td>actor</td>\n",
       "    </tr>\n",
       "  </tbody>\n",
       "</table>\n",
       "</div>"
      ],
      "text/plain": [
       "                  name       avg   n   type\n",
       "0      Brigitte Bardot  5.900000  36  actor\n",
       "1  Olivia de Havilland  6.809524  42  actor\n",
       "2         Sophia Loren  6.212500  64  actor\n",
       "3         Raquel Welch  5.656000  25  actor\n",
       "4              Li Gong  6.767742  31  actor"
      ]
     },
     "execution_count": 64,
     "metadata": {},
     "output_type": "execute_result"
    }
   ],
   "source": [
    "actor_df.head()"
   ]
  },
  {
   "cell_type": "markdown",
   "metadata": {},
   "source": [
    "## Writers"
   ]
  },
  {
   "cell_type": "code",
   "execution_count": 65,
   "metadata": {},
   "outputs": [],
   "source": [
    "writers = principals[(principals.category == 'writer')]"
   ]
  },
  {
   "cell_type": "code",
   "execution_count": 66,
   "metadata": {},
   "outputs": [],
   "source": [
    "df_writer = writers.merge(df_basics, on = 'tconst', how = 'inner')"
   ]
  },
  {
   "cell_type": "code",
   "execution_count": 67,
   "metadata": {},
   "outputs": [],
   "source": [
    "writer_avg = df_writer.pivot_table(values = 'averageRating',\n",
    "                            index = 'nconst',\n",
    "                            aggfunc = 'mean')\n",
    "writer_avg.reset_index(inplace = True)"
   ]
  },
  {
   "cell_type": "code",
   "execution_count": 68,
   "metadata": {},
   "outputs": [],
   "source": [
    "writer_count = df_writer.pivot_table(values = 'tconst',\n",
    "                                    index = 'nconst',\n",
    "                                    aggfunc = 'count')\n",
    "writer_count.reset_index(inplace = True)\n",
    "writer_count.rename(columns = {'tconst' : 'movies_n'}, inplace = True)"
   ]
  },
  {
   "cell_type": "code",
   "execution_count": 69,
   "metadata": {},
   "outputs": [],
   "source": [
    "writer_df = writer_avg.merge(writer_count, on = 'nconst')"
   ]
  },
  {
   "cell_type": "code",
   "execution_count": 70,
   "metadata": {},
   "outputs": [],
   "source": [
    "writer_df = writer_df.merge(names, on = 'nconst', how = 'inner')"
   ]
  },
  {
   "cell_type": "code",
   "execution_count": 71,
   "metadata": {},
   "outputs": [],
   "source": [
    "writer_df = writer_df[['primaryName', 'averageRating', 'movies_n']]\n",
    "writer_df.columns = ['name', 'avg', 'n']\n",
    "writer_df['type'] = 'writer'"
   ]
  },
  {
   "cell_type": "code",
   "execution_count": 72,
   "metadata": {},
   "outputs": [
    {
     "data": {
      "text/html": [
       "<div>\n",
       "<style scoped>\n",
       "    .dataframe tbody tr th:only-of-type {\n",
       "        vertical-align: middle;\n",
       "    }\n",
       "\n",
       "    .dataframe tbody tr th {\n",
       "        vertical-align: top;\n",
       "    }\n",
       "\n",
       "    .dataframe thead th {\n",
       "        text-align: right;\n",
       "    }\n",
       "</style>\n",
       "<table border=\"1\" class=\"dataframe\">\n",
       "  <thead>\n",
       "    <tr style=\"text-align: right;\">\n",
       "      <th></th>\n",
       "      <th>name</th>\n",
       "      <th>avg</th>\n",
       "      <th>n</th>\n",
       "      <th>type</th>\n",
       "    </tr>\n",
       "  </thead>\n",
       "  <tbody>\n",
       "    <tr>\n",
       "      <th>0</th>\n",
       "      <td>Alan Miller</td>\n",
       "      <td>8.300</td>\n",
       "      <td>1</td>\n",
       "      <td>writer</td>\n",
       "    </tr>\n",
       "    <tr>\n",
       "      <th>1</th>\n",
       "      <td>John Cleese</td>\n",
       "      <td>6.100</td>\n",
       "      <td>4</td>\n",
       "      <td>writer</td>\n",
       "    </tr>\n",
       "    <tr>\n",
       "      <th>2</th>\n",
       "      <td>J. Reifel</td>\n",
       "      <td>3.525</td>\n",
       "      <td>4</td>\n",
       "      <td>writer</td>\n",
       "    </tr>\n",
       "    <tr>\n",
       "      <th>3</th>\n",
       "      <td>Woody Allen</td>\n",
       "      <td>5.600</td>\n",
       "      <td>3</td>\n",
       "      <td>writer</td>\n",
       "    </tr>\n",
       "    <tr>\n",
       "      <th>4</th>\n",
       "      <td>Dan Aykroyd</td>\n",
       "      <td>5.200</td>\n",
       "      <td>1</td>\n",
       "      <td>writer</td>\n",
       "    </tr>\n",
       "  </tbody>\n",
       "</table>\n",
       "</div>"
      ],
      "text/plain": [
       "          name    avg  n    type\n",
       "0  Alan Miller  8.300  1  writer\n",
       "1  John Cleese  6.100  4  writer\n",
       "2    J. Reifel  3.525  4  writer\n",
       "3  Woody Allen  5.600  3  writer\n",
       "4  Dan Aykroyd  5.200  1  writer"
      ]
     },
     "execution_count": 72,
     "metadata": {},
     "output_type": "execute_result"
    }
   ],
   "source": [
    "writer_df.head()"
   ]
  },
  {
   "cell_type": "code",
   "execution_count": 73,
   "metadata": {},
   "outputs": [],
   "source": [
    "df = pd.concat([director_df, actor_df, writer_df])"
   ]
  },
  {
   "cell_type": "code",
   "execution_count": 74,
   "metadata": {
    "scrolled": true
   },
   "outputs": [
    {
     "data": {
      "text/html": [
       "<div>\n",
       "<style scoped>\n",
       "    .dataframe tbody tr th:only-of-type {\n",
       "        vertical-align: middle;\n",
       "    }\n",
       "\n",
       "    .dataframe tbody tr th {\n",
       "        vertical-align: top;\n",
       "    }\n",
       "\n",
       "    .dataframe thead th {\n",
       "        text-align: right;\n",
       "    }\n",
       "</style>\n",
       "<table border=\"1\" class=\"dataframe\">\n",
       "  <thead>\n",
       "    <tr style=\"text-align: right;\">\n",
       "      <th></th>\n",
       "      <th>name</th>\n",
       "      <th>avg</th>\n",
       "      <th>n</th>\n",
       "      <th>type</th>\n",
       "    </tr>\n",
       "  </thead>\n",
       "  <tbody>\n",
       "    <tr>\n",
       "      <th>0</th>\n",
       "      <td>Alan Miller</td>\n",
       "      <td>7.200000</td>\n",
       "      <td>1</td>\n",
       "      <td>director</td>\n",
       "    </tr>\n",
       "    <tr>\n",
       "      <th>1</th>\n",
       "      <td>Armin Mueller-Stahl</td>\n",
       "      <td>6.600000</td>\n",
       "      <td>1</td>\n",
       "      <td>director</td>\n",
       "    </tr>\n",
       "    <tr>\n",
       "      <th>2</th>\n",
       "      <td>Gérard Pirès</td>\n",
       "      <td>5.266667</td>\n",
       "      <td>12</td>\n",
       "      <td>director</td>\n",
       "    </tr>\n",
       "    <tr>\n",
       "      <th>3</th>\n",
       "      <td>Woody Allen</td>\n",
       "      <td>7.048936</td>\n",
       "      <td>47</td>\n",
       "      <td>director</td>\n",
       "    </tr>\n",
       "    <tr>\n",
       "      <th>4</th>\n",
       "      <td>Dan Aykroyd</td>\n",
       "      <td>5.100000</td>\n",
       "      <td>1</td>\n",
       "      <td>director</td>\n",
       "    </tr>\n",
       "  </tbody>\n",
       "</table>\n",
       "</div>"
      ],
      "text/plain": [
       "                  name       avg   n      type\n",
       "0          Alan Miller  7.200000   1  director\n",
       "1  Armin Mueller-Stahl  6.600000   1  director\n",
       "2         Gérard Pirès  5.266667  12  director\n",
       "3          Woody Allen  7.048936  47  director\n",
       "4          Dan Aykroyd  5.100000   1  director"
      ]
     },
     "execution_count": 74,
     "metadata": {},
     "output_type": "execute_result"
    }
   ],
   "source": [
    "df.head()"
   ]
  },
  {
   "cell_type": "code",
   "execution_count": 75,
   "metadata": {},
   "outputs": [],
   "source": [
    "df.to_csv('df.csv', index = False)"
   ]
  }
 ],
 "metadata": {
  "hide_input": false,
  "kernelspec": {
   "display_name": "Python 3",
   "language": "python",
   "name": "python3"
  },
  "language_info": {
   "codemirror_mode": {
    "name": "ipython",
    "version": 3
   },
   "file_extension": ".py",
   "mimetype": "text/x-python",
   "name": "python",
   "nbconvert_exporter": "python",
   "pygments_lexer": "ipython3",
   "version": "3.7.6"
  },
  "toc": {
   "base_numbering": 1,
   "nav_menu": {
    "height": "96px",
    "width": "180px"
   },
   "number_sections": true,
   "sideBar": true,
   "skip_h1_title": false,
   "title_cell": "Table of Contents",
   "title_sidebar": "Contents",
   "toc_cell": false,
   "toc_position": {},
   "toc_section_display": true,
   "toc_window_display": true
  }
 },
 "nbformat": 4,
 "nbformat_minor": 4
}
