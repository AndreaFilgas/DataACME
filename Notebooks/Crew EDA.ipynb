{
 "cells": [
  {
   "cell_type": "markdown",
   "metadata": {},
   "source": [
    "# Crew"
   ]
  },
  {
   "cell_type": "code",
   "execution_count": 1,
   "metadata": {
    "ExecuteTime": {
     "end_time": "2020-07-03T13:28:55.914467Z",
     "start_time": "2020-07-03T13:28:52.590250Z"
    }
   },
   "outputs": [],
   "source": [
    "# abrir bibliotecas\n",
    "import pandas as pd\n",
    "import numpy as np\n",
    "import seaborn as sns\n",
    "import statsmodels.formula.api as smf\n",
    "import matplotlib.pyplot as plt\n",
    "%matplotlib inline"
   ]
  },
  {
   "cell_type": "code",
   "execution_count": 2,
   "metadata": {
    "ExecuteTime": {
     "end_time": "2020-07-03T13:29:12.233180Z",
     "start_time": "2020-07-03T13:28:55.918605Z"
    }
   },
   "outputs": [
    {
     "data": {
      "text/html": [
       "<div>\n",
       "<style scoped>\n",
       "    .dataframe tbody tr th:only-of-type {\n",
       "        vertical-align: middle;\n",
       "    }\n",
       "\n",
       "    .dataframe tbody tr th {\n",
       "        vertical-align: top;\n",
       "    }\n",
       "\n",
       "    .dataframe thead th {\n",
       "        text-align: right;\n",
       "    }\n",
       "</style>\n",
       "<table border=\"1\" class=\"dataframe\">\n",
       "  <thead>\n",
       "    <tr style=\"text-align: right;\">\n",
       "      <th></th>\n",
       "      <th>0</th>\n",
       "      <th>1</th>\n",
       "      <th>2</th>\n",
       "      <th>3</th>\n",
       "      <th>4</th>\n",
       "    </tr>\n",
       "  </thead>\n",
       "  <tbody>\n",
       "    <tr>\n",
       "      <th>tconst</th>\n",
       "      <td>tt0000001</td>\n",
       "      <td>tt0000002</td>\n",
       "      <td>tt0000003</td>\n",
       "      <td>tt0000004</td>\n",
       "      <td>tt0000005</td>\n",
       "    </tr>\n",
       "    <tr>\n",
       "      <th>directors</th>\n",
       "      <td>nm0005690</td>\n",
       "      <td>nm0721526</td>\n",
       "      <td>nm0721526</td>\n",
       "      <td>nm0721526</td>\n",
       "      <td>nm0005690</td>\n",
       "    </tr>\n",
       "    <tr>\n",
       "      <th>writers</th>\n",
       "      <td>\\N</td>\n",
       "      <td>\\N</td>\n",
       "      <td>\\N</td>\n",
       "      <td>\\N</td>\n",
       "      <td>\\N</td>\n",
       "    </tr>\n",
       "  </tbody>\n",
       "</table>\n",
       "</div>"
      ],
      "text/plain": [
       "                   0          1          2          3          4\n",
       "tconst     tt0000001  tt0000002  tt0000003  tt0000004  tt0000005\n",
       "directors  nm0005690  nm0721526  nm0721526  nm0721526  nm0005690\n",
       "writers           \\N         \\N         \\N         \\N         \\N"
      ]
     },
     "execution_count": 2,
     "metadata": {},
     "output_type": "execute_result"
    }
   ],
   "source": [
    "crew = pd.read_csv('C:/Users/afilg/OneDrive/Área de Trabalho/DATA SCIENCE/Aulas - Originais/Projeto_Integrador/Dados/crew.tsv', header=0 , quotechar='\"', error_bad_lines=False, sep = '\\t')\n",
    "crew.head().T"
   ]
  },
  {
   "cell_type": "code",
   "execution_count": 3,
   "metadata": {
    "ExecuteTime": {
     "end_time": "2020-07-03T13:29:13.103363Z",
     "start_time": "2020-07-03T13:29:12.239139Z"
    }
   },
   "outputs": [],
   "source": [
    "basics_simple = pd.read_csv('C:/Users/afilg/OneDrive/DATA SCIENCE/Aulas - Originais/Projeto_Integrador/basics_simple.csv')"
   ]
  },
  {
   "cell_type": "code",
   "execution_count": 4,
   "metadata": {
    "ExecuteTime": {
     "end_time": "2020-07-03T13:29:13.123588Z",
     "start_time": "2020-07-03T13:29:13.107435Z"
    },
    "scrolled": true
   },
   "outputs": [
    {
     "name": "stdout",
     "output_type": "stream",
     "text": [
      "<class 'pandas.core.frame.DataFrame'>\n",
      "RangeIndex: 6834111 entries, 0 to 6834110\n",
      "Data columns (total 3 columns):\n",
      " #   Column     Dtype \n",
      "---  ------     ----- \n",
      " 0   tconst     object\n",
      " 1   directors  object\n",
      " 2   writers    object\n",
      "dtypes: object(3)\n",
      "memory usage: 156.4+ MB\n"
     ]
    }
   ],
   "source": [
    "crew.info()"
   ]
  },
  {
   "cell_type": "code",
   "execution_count": 5,
   "metadata": {
    "ExecuteTime": {
     "end_time": "2020-07-03T13:29:29.174637Z",
     "start_time": "2020-07-03T13:29:13.126786Z"
    }
   },
   "outputs": [],
   "source": [
    "crew = crew.join(basics_simple.set_index('tconst'), on = 'tconst', how = 'inner')"
   ]
  },
  {
   "cell_type": "code",
   "execution_count": 6,
   "metadata": {
    "ExecuteTime": {
     "end_time": "2020-07-03T13:29:29.191460Z",
     "start_time": "2020-07-03T13:29:29.179625Z"
    }
   },
   "outputs": [
    {
     "data": {
      "text/plain": [
       "(212924, 9)"
      ]
     },
     "execution_count": 6,
     "metadata": {},
     "output_type": "execute_result"
    }
   ],
   "source": [
    "crew.shape"
   ]
  },
  {
   "cell_type": "code",
   "execution_count": 7,
   "metadata": {
    "ExecuteTime": {
     "end_time": "2020-07-03T13:29:29.691518Z",
     "start_time": "2020-07-03T13:29:29.197550Z"
    }
   },
   "outputs": [
    {
     "data": {
      "text/html": [
       "<div>\n",
       "<style scoped>\n",
       "    .dataframe tbody tr th:only-of-type {\n",
       "        vertical-align: middle;\n",
       "    }\n",
       "\n",
       "    .dataframe tbody tr th {\n",
       "        vertical-align: top;\n",
       "    }\n",
       "\n",
       "    .dataframe thead th {\n",
       "        text-align: right;\n",
       "    }\n",
       "</style>\n",
       "<table border=\"1\" class=\"dataframe\">\n",
       "  <thead>\n",
       "    <tr style=\"text-align: right;\">\n",
       "      <th></th>\n",
       "      <th>tconst</th>\n",
       "      <th>directors</th>\n",
       "      <th>writers</th>\n",
       "      <th>Unnamed: 0</th>\n",
       "      <th>Unnamed: 0.1</th>\n",
       "      <th>startYear</th>\n",
       "      <th>movieyear</th>\n",
       "      <th>averageRating</th>\n",
       "      <th>numVotes</th>\n",
       "    </tr>\n",
       "  </thead>\n",
       "  <tbody>\n",
       "    <tr>\n",
       "      <th>117874</th>\n",
       "      <td>tt0120630</td>\n",
       "      <td>nm0520485,nm0661910</td>\n",
       "      <td>nm0520485,nm0661910,nm0456732,nm0123666,nm0640976</td>\n",
       "      <td>67572</td>\n",
       "      <td>117874</td>\n",
       "      <td>2000</td>\n",
       "      <td>2000Chicken Run</td>\n",
       "      <td>7.0</td>\n",
       "      <td>171911</td>\n",
       "    </tr>\n",
       "  </tbody>\n",
       "</table>\n",
       "</div>"
      ],
      "text/plain": [
       "           tconst            directors  \\\n",
       "117874  tt0120630  nm0520485,nm0661910   \n",
       "\n",
       "                                                  writers  Unnamed: 0  \\\n",
       "117874  nm0520485,nm0661910,nm0456732,nm0123666,nm0640976       67572   \n",
       "\n",
       "        Unnamed: 0.1  startYear        movieyear  averageRating  numVotes  \n",
       "117874        117874       2000  2000Chicken Run            7.0    171911  "
      ]
     },
     "execution_count": 7,
     "metadata": {},
     "output_type": "execute_result"
    }
   ],
   "source": [
    "crew[crew.tconst == 'tt0120630']"
   ]
  },
  {
   "cell_type": "code",
   "execution_count": 8,
   "metadata": {
    "ExecuteTime": {
     "end_time": "2020-07-03T13:29:29.715579Z",
     "start_time": "2020-07-03T13:29:29.703551Z"
    }
   },
   "outputs": [
    {
     "data": {
      "text/plain": [
       "(212924, 9)"
      ]
     },
     "execution_count": 8,
     "metadata": {},
     "output_type": "execute_result"
    }
   ],
   "source": [
    "crew.shape"
   ]
  },
  {
   "cell_type": "code",
   "execution_count": 9,
   "metadata": {
    "ExecuteTime": {
     "end_time": "2020-07-03T13:29:30.145672Z",
     "start_time": "2020-07-03T13:29:29.724891Z"
    }
   },
   "outputs": [],
   "source": [
    "crew['new_directors'] = crew['directors'].str.slice(0, 19)"
   ]
  },
  {
   "cell_type": "code",
   "execution_count": 10,
   "metadata": {
    "ExecuteTime": {
     "end_time": "2020-07-03T13:29:30.642452Z",
     "start_time": "2020-07-03T13:29:30.152033Z"
    }
   },
   "outputs": [],
   "source": [
    "crew['new_writers'] = crew['writers'].str.slice(0, 19)"
   ]
  },
  {
   "cell_type": "code",
   "execution_count": 11,
   "metadata": {
    "ExecuteTime": {
     "end_time": "2020-07-03T13:29:30.796724Z",
     "start_time": "2020-07-03T13:29:30.656417Z"
    }
   },
   "outputs": [
    {
     "data": {
      "text/html": [
       "<div>\n",
       "<style scoped>\n",
       "    .dataframe tbody tr th:only-of-type {\n",
       "        vertical-align: middle;\n",
       "    }\n",
       "\n",
       "    .dataframe tbody tr th {\n",
       "        vertical-align: top;\n",
       "    }\n",
       "\n",
       "    .dataframe thead th {\n",
       "        text-align: right;\n",
       "    }\n",
       "</style>\n",
       "<table border=\"1\" class=\"dataframe\">\n",
       "  <thead>\n",
       "    <tr style=\"text-align: right;\">\n",
       "      <th></th>\n",
       "      <th>8</th>\n",
       "      <th>145</th>\n",
       "      <th>571</th>\n",
       "      <th>673</th>\n",
       "      <th>1173</th>\n",
       "    </tr>\n",
       "  </thead>\n",
       "  <tbody>\n",
       "    <tr>\n",
       "      <th>tconst</th>\n",
       "      <td>tt0000009</td>\n",
       "      <td>tt0000147</td>\n",
       "      <td>tt0000574</td>\n",
       "      <td>tt0000679</td>\n",
       "      <td>tt0001184</td>\n",
       "    </tr>\n",
       "    <tr>\n",
       "      <th>directors</th>\n",
       "      <td>nm0085156</td>\n",
       "      <td>nm0714557</td>\n",
       "      <td>nm0846879</td>\n",
       "      <td>nm0877783,nm0091767</td>\n",
       "      <td>nm0550220,nm0063413</td>\n",
       "    </tr>\n",
       "    <tr>\n",
       "      <th>writers</th>\n",
       "      <td>nm0085156</td>\n",
       "      <td>\\N</td>\n",
       "      <td>nm0846879</td>\n",
       "      <td>nm0000875,nm0877783</td>\n",
       "      <td>nm0049370</td>\n",
       "    </tr>\n",
       "    <tr>\n",
       "      <th>Unnamed: 0</th>\n",
       "      <td>0</td>\n",
       "      <td>1</td>\n",
       "      <td>2</td>\n",
       "      <td>3</td>\n",
       "      <td>4</td>\n",
       "    </tr>\n",
       "    <tr>\n",
       "      <th>Unnamed: 0.1</th>\n",
       "      <td>8</td>\n",
       "      <td>145</td>\n",
       "      <td>571</td>\n",
       "      <td>673</td>\n",
       "      <td>1173</td>\n",
       "    </tr>\n",
       "    <tr>\n",
       "      <th>startYear</th>\n",
       "      <td>1894</td>\n",
       "      <td>1897</td>\n",
       "      <td>1906</td>\n",
       "      <td>1908</td>\n",
       "      <td>1910</td>\n",
       "    </tr>\n",
       "    <tr>\n",
       "      <th>movieyear</th>\n",
       "      <td>1894Miss Jerry</td>\n",
       "      <td>1897The Corbett-Fitzsimmons Fight</td>\n",
       "      <td>1906The Story of the Kelly Gang</td>\n",
       "      <td>1908The Fairylogue and Radio-Plays</td>\n",
       "      <td>1910Don Juan de Serrallonga</td>\n",
       "    </tr>\n",
       "    <tr>\n",
       "      <th>averageRating</th>\n",
       "      <td>5.9</td>\n",
       "      <td>5.2</td>\n",
       "      <td>6.1</td>\n",
       "      <td>5</td>\n",
       "      <td>3.1</td>\n",
       "    </tr>\n",
       "    <tr>\n",
       "      <th>numVotes</th>\n",
       "      <td>153</td>\n",
       "      <td>346</td>\n",
       "      <td>574</td>\n",
       "      <td>35</td>\n",
       "      <td>11</td>\n",
       "    </tr>\n",
       "    <tr>\n",
       "      <th>new_directors</th>\n",
       "      <td>nm0085156</td>\n",
       "      <td>nm0714557</td>\n",
       "      <td>nm0846879</td>\n",
       "      <td>nm0877783,nm0091767</td>\n",
       "      <td>nm0550220,nm0063413</td>\n",
       "    </tr>\n",
       "    <tr>\n",
       "      <th>new_writers</th>\n",
       "      <td>nm0085156</td>\n",
       "      <td>\\N</td>\n",
       "      <td>nm0846879</td>\n",
       "      <td>nm0000875,nm0877783</td>\n",
       "      <td>nm0049370</td>\n",
       "    </tr>\n",
       "  </tbody>\n",
       "</table>\n",
       "</div>"
      ],
      "text/plain": [
       "                         8                                  145   \\\n",
       "tconst              tt0000009                          tt0000147   \n",
       "directors           nm0085156                          nm0714557   \n",
       "writers             nm0085156                                 \\N   \n",
       "Unnamed: 0                  0                                  1   \n",
       "Unnamed: 0.1                8                                145   \n",
       "startYear                1894                               1897   \n",
       "movieyear      1894Miss Jerry  1897The Corbett-Fitzsimmons Fight   \n",
       "averageRating             5.9                                5.2   \n",
       "numVotes                  153                                346   \n",
       "new_directors       nm0085156                          nm0714557   \n",
       "new_writers         nm0085156                                 \\N   \n",
       "\n",
       "                                          571   \\\n",
       "tconst                               tt0000574   \n",
       "directors                            nm0846879   \n",
       "writers                              nm0846879   \n",
       "Unnamed: 0                                   2   \n",
       "Unnamed: 0.1                               571   \n",
       "startYear                                 1906   \n",
       "movieyear      1906The Story of the Kelly Gang   \n",
       "averageRating                              6.1   \n",
       "numVotes                                   574   \n",
       "new_directors                        nm0846879   \n",
       "new_writers                          nm0846879   \n",
       "\n",
       "                                             673                          1173  \n",
       "tconst                                  tt0000679                    tt0001184  \n",
       "directors                     nm0877783,nm0091767          nm0550220,nm0063413  \n",
       "writers                       nm0000875,nm0877783                    nm0049370  \n",
       "Unnamed: 0                                      3                            4  \n",
       "Unnamed: 0.1                                  673                         1173  \n",
       "startYear                                    1908                         1910  \n",
       "movieyear      1908The Fairylogue and Radio-Plays  1910Don Juan de Serrallonga  \n",
       "averageRating                                   5                          3.1  \n",
       "numVotes                                       35                           11  \n",
       "new_directors                 nm0877783,nm0091767          nm0550220,nm0063413  \n",
       "new_writers                   nm0000875,nm0877783                    nm0049370  "
      ]
     },
     "execution_count": 11,
     "metadata": {},
     "output_type": "execute_result"
    }
   ],
   "source": [
    "crew.head().T"
   ]
  },
  {
   "cell_type": "code",
   "execution_count": 12,
   "metadata": {
    "ExecuteTime": {
     "end_time": "2020-07-03T13:29:36.057804Z",
     "start_time": "2020-07-03T13:29:30.813097Z"
    }
   },
   "outputs": [],
   "source": [
    "crew[['directors_1','directors_2']] = crew.new_directors.str.split(\",\",expand=True,)\n",
    "crew[['writers_1','writers_2']] = crew.new_writers.str.split(\",\",expand=True,)"
   ]
  },
  {
   "cell_type": "code",
   "execution_count": 13,
   "metadata": {
    "ExecuteTime": {
     "end_time": "2020-07-03T13:29:36.575742Z",
     "start_time": "2020-07-03T13:29:36.065509Z"
    }
   },
   "outputs": [],
   "source": [
    "crew = crew.drop(['directors','writers','new_directors','new_writers'], axis = 1)"
   ]
  },
  {
   "cell_type": "code",
   "execution_count": 14,
   "metadata": {
    "ExecuteTime": {
     "end_time": "2020-07-03T13:29:36.644816Z",
     "start_time": "2020-07-03T13:29:36.583443Z"
    }
   },
   "outputs": [
    {
     "data": {
      "text/html": [
       "<div>\n",
       "<style scoped>\n",
       "    .dataframe tbody tr th:only-of-type {\n",
       "        vertical-align: middle;\n",
       "    }\n",
       "\n",
       "    .dataframe tbody tr th {\n",
       "        vertical-align: top;\n",
       "    }\n",
       "\n",
       "    .dataframe thead th {\n",
       "        text-align: right;\n",
       "    }\n",
       "</style>\n",
       "<table border=\"1\" class=\"dataframe\">\n",
       "  <thead>\n",
       "    <tr style=\"text-align: right;\">\n",
       "      <th></th>\n",
       "      <th>8</th>\n",
       "      <th>145</th>\n",
       "      <th>571</th>\n",
       "      <th>673</th>\n",
       "      <th>1173</th>\n",
       "    </tr>\n",
       "  </thead>\n",
       "  <tbody>\n",
       "    <tr>\n",
       "      <th>tconst</th>\n",
       "      <td>tt0000009</td>\n",
       "      <td>tt0000147</td>\n",
       "      <td>tt0000574</td>\n",
       "      <td>tt0000679</td>\n",
       "      <td>tt0001184</td>\n",
       "    </tr>\n",
       "    <tr>\n",
       "      <th>Unnamed: 0</th>\n",
       "      <td>0</td>\n",
       "      <td>1</td>\n",
       "      <td>2</td>\n",
       "      <td>3</td>\n",
       "      <td>4</td>\n",
       "    </tr>\n",
       "    <tr>\n",
       "      <th>Unnamed: 0.1</th>\n",
       "      <td>8</td>\n",
       "      <td>145</td>\n",
       "      <td>571</td>\n",
       "      <td>673</td>\n",
       "      <td>1173</td>\n",
       "    </tr>\n",
       "    <tr>\n",
       "      <th>startYear</th>\n",
       "      <td>1894</td>\n",
       "      <td>1897</td>\n",
       "      <td>1906</td>\n",
       "      <td>1908</td>\n",
       "      <td>1910</td>\n",
       "    </tr>\n",
       "    <tr>\n",
       "      <th>movieyear</th>\n",
       "      <td>1894Miss Jerry</td>\n",
       "      <td>1897The Corbett-Fitzsimmons Fight</td>\n",
       "      <td>1906The Story of the Kelly Gang</td>\n",
       "      <td>1908The Fairylogue and Radio-Plays</td>\n",
       "      <td>1910Don Juan de Serrallonga</td>\n",
       "    </tr>\n",
       "    <tr>\n",
       "      <th>averageRating</th>\n",
       "      <td>5.9</td>\n",
       "      <td>5.2</td>\n",
       "      <td>6.1</td>\n",
       "      <td>5</td>\n",
       "      <td>3.1</td>\n",
       "    </tr>\n",
       "    <tr>\n",
       "      <th>numVotes</th>\n",
       "      <td>153</td>\n",
       "      <td>346</td>\n",
       "      <td>574</td>\n",
       "      <td>35</td>\n",
       "      <td>11</td>\n",
       "    </tr>\n",
       "    <tr>\n",
       "      <th>directors_1</th>\n",
       "      <td>nm0085156</td>\n",
       "      <td>nm0714557</td>\n",
       "      <td>nm0846879</td>\n",
       "      <td>nm0877783</td>\n",
       "      <td>nm0550220</td>\n",
       "    </tr>\n",
       "    <tr>\n",
       "      <th>directors_2</th>\n",
       "      <td>None</td>\n",
       "      <td>None</td>\n",
       "      <td>None</td>\n",
       "      <td>nm0091767</td>\n",
       "      <td>nm0063413</td>\n",
       "    </tr>\n",
       "    <tr>\n",
       "      <th>writers_1</th>\n",
       "      <td>nm0085156</td>\n",
       "      <td>\\N</td>\n",
       "      <td>nm0846879</td>\n",
       "      <td>nm0000875</td>\n",
       "      <td>nm0049370</td>\n",
       "    </tr>\n",
       "    <tr>\n",
       "      <th>writers_2</th>\n",
       "      <td>None</td>\n",
       "      <td>None</td>\n",
       "      <td>None</td>\n",
       "      <td>nm0877783</td>\n",
       "      <td>None</td>\n",
       "    </tr>\n",
       "  </tbody>\n",
       "</table>\n",
       "</div>"
      ],
      "text/plain": [
       "                         8                                  145   \\\n",
       "tconst              tt0000009                          tt0000147   \n",
       "Unnamed: 0                  0                                  1   \n",
       "Unnamed: 0.1                8                                145   \n",
       "startYear                1894                               1897   \n",
       "movieyear      1894Miss Jerry  1897The Corbett-Fitzsimmons Fight   \n",
       "averageRating             5.9                                5.2   \n",
       "numVotes                  153                                346   \n",
       "directors_1         nm0085156                          nm0714557   \n",
       "directors_2              None                               None   \n",
       "writers_1           nm0085156                                 \\N   \n",
       "writers_2                None                               None   \n",
       "\n",
       "                                          571   \\\n",
       "tconst                               tt0000574   \n",
       "Unnamed: 0                                   2   \n",
       "Unnamed: 0.1                               571   \n",
       "startYear                                 1906   \n",
       "movieyear      1906The Story of the Kelly Gang   \n",
       "averageRating                              6.1   \n",
       "numVotes                                   574   \n",
       "directors_1                          nm0846879   \n",
       "directors_2                               None   \n",
       "writers_1                            nm0846879   \n",
       "writers_2                                 None   \n",
       "\n",
       "                                             673                          1173  \n",
       "tconst                                  tt0000679                    tt0001184  \n",
       "Unnamed: 0                                      3                            4  \n",
       "Unnamed: 0.1                                  673                         1173  \n",
       "startYear                                    1908                         1910  \n",
       "movieyear      1908The Fairylogue and Radio-Plays  1910Don Juan de Serrallonga  \n",
       "averageRating                                   5                          3.1  \n",
       "numVotes                                       35                           11  \n",
       "directors_1                             nm0877783                    nm0550220  \n",
       "directors_2                             nm0091767                    nm0063413  \n",
       "writers_1                               nm0000875                    nm0049370  \n",
       "writers_2                               nm0877783                         None  "
      ]
     },
     "execution_count": 14,
     "metadata": {},
     "output_type": "execute_result"
    }
   ],
   "source": [
    "crew.head().T"
   ]
  },
  {
   "cell_type": "code",
   "execution_count": 15,
   "metadata": {
    "ExecuteTime": {
     "end_time": "2020-07-03T13:29:36.770510Z",
     "start_time": "2020-07-03T13:29:36.653666Z"
    }
   },
   "outputs": [],
   "source": [
    "crew['rating_num'] = crew['averageRating']*crew['numVotes']"
   ]
  },
  {
   "cell_type": "code",
   "execution_count": 16,
   "metadata": {
    "ExecuteTime": {
     "end_time": "2020-07-03T13:29:36.852604Z",
     "start_time": "2020-07-03T13:29:36.777526Z"
    }
   },
   "outputs": [
    {
     "data": {
      "text/html": [
       "<div>\n",
       "<style scoped>\n",
       "    .dataframe tbody tr th:only-of-type {\n",
       "        vertical-align: middle;\n",
       "    }\n",
       "\n",
       "    .dataframe tbody tr th {\n",
       "        vertical-align: top;\n",
       "    }\n",
       "\n",
       "    .dataframe thead th {\n",
       "        text-align: right;\n",
       "    }\n",
       "</style>\n",
       "<table border=\"1\" class=\"dataframe\">\n",
       "  <thead>\n",
       "    <tr style=\"text-align: right;\">\n",
       "      <th></th>\n",
       "      <th>8</th>\n",
       "      <th>145</th>\n",
       "      <th>571</th>\n",
       "      <th>673</th>\n",
       "      <th>1173</th>\n",
       "    </tr>\n",
       "  </thead>\n",
       "  <tbody>\n",
       "    <tr>\n",
       "      <th>tconst</th>\n",
       "      <td>tt0000009</td>\n",
       "      <td>tt0000147</td>\n",
       "      <td>tt0000574</td>\n",
       "      <td>tt0000679</td>\n",
       "      <td>tt0001184</td>\n",
       "    </tr>\n",
       "    <tr>\n",
       "      <th>Unnamed: 0</th>\n",
       "      <td>0</td>\n",
       "      <td>1</td>\n",
       "      <td>2</td>\n",
       "      <td>3</td>\n",
       "      <td>4</td>\n",
       "    </tr>\n",
       "    <tr>\n",
       "      <th>Unnamed: 0.1</th>\n",
       "      <td>8</td>\n",
       "      <td>145</td>\n",
       "      <td>571</td>\n",
       "      <td>673</td>\n",
       "      <td>1173</td>\n",
       "    </tr>\n",
       "    <tr>\n",
       "      <th>startYear</th>\n",
       "      <td>1894</td>\n",
       "      <td>1897</td>\n",
       "      <td>1906</td>\n",
       "      <td>1908</td>\n",
       "      <td>1910</td>\n",
       "    </tr>\n",
       "    <tr>\n",
       "      <th>movieyear</th>\n",
       "      <td>1894Miss Jerry</td>\n",
       "      <td>1897The Corbett-Fitzsimmons Fight</td>\n",
       "      <td>1906The Story of the Kelly Gang</td>\n",
       "      <td>1908The Fairylogue and Radio-Plays</td>\n",
       "      <td>1910Don Juan de Serrallonga</td>\n",
       "    </tr>\n",
       "    <tr>\n",
       "      <th>averageRating</th>\n",
       "      <td>5.9</td>\n",
       "      <td>5.2</td>\n",
       "      <td>6.1</td>\n",
       "      <td>5</td>\n",
       "      <td>3.1</td>\n",
       "    </tr>\n",
       "    <tr>\n",
       "      <th>numVotes</th>\n",
       "      <td>153</td>\n",
       "      <td>346</td>\n",
       "      <td>574</td>\n",
       "      <td>35</td>\n",
       "      <td>11</td>\n",
       "    </tr>\n",
       "    <tr>\n",
       "      <th>directors_1</th>\n",
       "      <td>nm0085156</td>\n",
       "      <td>nm0714557</td>\n",
       "      <td>nm0846879</td>\n",
       "      <td>nm0877783</td>\n",
       "      <td>nm0550220</td>\n",
       "    </tr>\n",
       "    <tr>\n",
       "      <th>directors_2</th>\n",
       "      <td>None</td>\n",
       "      <td>None</td>\n",
       "      <td>None</td>\n",
       "      <td>nm0091767</td>\n",
       "      <td>nm0063413</td>\n",
       "    </tr>\n",
       "    <tr>\n",
       "      <th>writers_1</th>\n",
       "      <td>nm0085156</td>\n",
       "      <td>\\N</td>\n",
       "      <td>nm0846879</td>\n",
       "      <td>nm0000875</td>\n",
       "      <td>nm0049370</td>\n",
       "    </tr>\n",
       "    <tr>\n",
       "      <th>writers_2</th>\n",
       "      <td>None</td>\n",
       "      <td>None</td>\n",
       "      <td>None</td>\n",
       "      <td>nm0877783</td>\n",
       "      <td>None</td>\n",
       "    </tr>\n",
       "    <tr>\n",
       "      <th>rating_num</th>\n",
       "      <td>902.7</td>\n",
       "      <td>1799.2</td>\n",
       "      <td>3501.4</td>\n",
       "      <td>175</td>\n",
       "      <td>34.1</td>\n",
       "    </tr>\n",
       "  </tbody>\n",
       "</table>\n",
       "</div>"
      ],
      "text/plain": [
       "                         8                                  145   \\\n",
       "tconst              tt0000009                          tt0000147   \n",
       "Unnamed: 0                  0                                  1   \n",
       "Unnamed: 0.1                8                                145   \n",
       "startYear                1894                               1897   \n",
       "movieyear      1894Miss Jerry  1897The Corbett-Fitzsimmons Fight   \n",
       "averageRating             5.9                                5.2   \n",
       "numVotes                  153                                346   \n",
       "directors_1         nm0085156                          nm0714557   \n",
       "directors_2              None                               None   \n",
       "writers_1           nm0085156                                 \\N   \n",
       "writers_2                None                               None   \n",
       "rating_num              902.7                             1799.2   \n",
       "\n",
       "                                          571   \\\n",
       "tconst                               tt0000574   \n",
       "Unnamed: 0                                   2   \n",
       "Unnamed: 0.1                               571   \n",
       "startYear                                 1906   \n",
       "movieyear      1906The Story of the Kelly Gang   \n",
       "averageRating                              6.1   \n",
       "numVotes                                   574   \n",
       "directors_1                          nm0846879   \n",
       "directors_2                               None   \n",
       "writers_1                            nm0846879   \n",
       "writers_2                                 None   \n",
       "rating_num                              3501.4   \n",
       "\n",
       "                                             673                          1173  \n",
       "tconst                                  tt0000679                    tt0001184  \n",
       "Unnamed: 0                                      3                            4  \n",
       "Unnamed: 0.1                                  673                         1173  \n",
       "startYear                                    1908                         1910  \n",
       "movieyear      1908The Fairylogue and Radio-Plays  1910Don Juan de Serrallonga  \n",
       "averageRating                                   5                          3.1  \n",
       "numVotes                                       35                           11  \n",
       "directors_1                             nm0877783                    nm0550220  \n",
       "directors_2                             nm0091767                    nm0063413  \n",
       "writers_1                               nm0000875                    nm0049370  \n",
       "writers_2                               nm0877783                         None  \n",
       "rating_num                                    175                         34.1  "
      ]
     },
     "execution_count": 16,
     "metadata": {},
     "output_type": "execute_result"
    }
   ],
   "source": [
    "crew.head().T"
   ]
  },
  {
   "cell_type": "code",
   "execution_count": 17,
   "metadata": {
    "ExecuteTime": {
     "end_time": "2020-07-03T13:29:44.133316Z",
     "start_time": "2020-07-03T13:29:36.859984Z"
    }
   },
   "outputs": [],
   "source": [
    "crew.to_csv('crew.csv')"
   ]
  }
 ],
 "metadata": {
  "kernelspec": {
   "display_name": "Python 3",
   "language": "python",
   "name": "python3"
  },
  "language_info": {
   "codemirror_mode": {
    "name": "ipython",
    "version": 3
   },
   "file_extension": ".py",
   "mimetype": "text/x-python",
   "name": "python",
   "nbconvert_exporter": "python",
   "pygments_lexer": "ipython3",
   "version": "3.7.7"
  },
  "toc": {
   "base_numbering": 1,
   "nav_menu": {},
   "number_sections": true,
   "sideBar": true,
   "skip_h1_title": false,
   "title_cell": "Table of Contents",
   "title_sidebar": "Contents",
   "toc_cell": false,
   "toc_position": {},
   "toc_section_display": true,
   "toc_window_display": false
  },
  "varInspector": {
   "cols": {
    "lenName": 16,
    "lenType": 16,
    "lenVar": 40
   },
   "kernels_config": {
    "python": {
     "delete_cmd_postfix": "",
     "delete_cmd_prefix": "del ",
     "library": "var_list.py",
     "varRefreshCmd": "print(var_dic_list())"
    },
    "r": {
     "delete_cmd_postfix": ") ",
     "delete_cmd_prefix": "rm(",
     "library": "var_list.r",
     "varRefreshCmd": "cat(var_dic_list()) "
    }
   },
   "types_to_exclude": [
    "module",
    "function",
    "builtin_function_or_method",
    "instance",
    "_Feature"
   ],
   "window_display": false
  }
 },
 "nbformat": 4,
 "nbformat_minor": 4
}
