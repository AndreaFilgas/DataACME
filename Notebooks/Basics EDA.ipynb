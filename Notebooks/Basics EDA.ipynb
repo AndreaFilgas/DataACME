{
 "cells": [
  {
   "cell_type": "markdown",
   "metadata": {},
   "source": [
    "# Basics"
   ]
  },
  {
   "cell_type": "code",
   "execution_count": 1,
   "metadata": {
    "ExecuteTime": {
     "end_time": "2020-07-03T12:15:28.078312Z",
     "start_time": "2020-07-03T12:15:25.051769Z"
    }
   },
   "outputs": [],
   "source": [
    "# abrir bibliotecas\n",
    "import pandas as pd\n",
    "import numpy as np\n",
    "import seaborn as sns\n",
    "import statsmodels.formula.api as smf\n",
    "import matplotlib.pyplot as plt\n",
    "%matplotlib inline"
   ]
  },
  {
   "cell_type": "code",
   "execution_count": 2,
   "metadata": {
    "ExecuteTime": {
     "end_time": "2020-07-03T12:15:52.828850Z",
     "start_time": "2020-07-03T12:15:28.080894Z"
    },
    "scrolled": true
   },
   "outputs": [
    {
     "name": "stderr",
     "output_type": "stream",
     "text": [
      "C:\\Users\\afilg\\anaconda3\\lib\\site-packages\\IPython\\core\\interactiveshell.py:3063: DtypeWarning: Columns (5) have mixed types.Specify dtype option on import or set low_memory=False.\n",
      "  interactivity=interactivity, compiler=compiler, result=result)\n"
     ]
    },
    {
     "data": {
      "text/html": [
       "<div>\n",
       "<style scoped>\n",
       "    .dataframe tbody tr th:only-of-type {\n",
       "        vertical-align: middle;\n",
       "    }\n",
       "\n",
       "    .dataframe tbody tr th {\n",
       "        vertical-align: top;\n",
       "    }\n",
       "\n",
       "    .dataframe thead th {\n",
       "        text-align: right;\n",
       "    }\n",
       "</style>\n",
       "<table border=\"1\" class=\"dataframe\">\n",
       "  <thead>\n",
       "    <tr style=\"text-align: right;\">\n",
       "      <th></th>\n",
       "      <th>0</th>\n",
       "      <th>1</th>\n",
       "      <th>2</th>\n",
       "      <th>3</th>\n",
       "      <th>4</th>\n",
       "    </tr>\n",
       "  </thead>\n",
       "  <tbody>\n",
       "    <tr>\n",
       "      <th>tconst</th>\n",
       "      <td>tt0000001</td>\n",
       "      <td>tt0000002</td>\n",
       "      <td>tt0000003</td>\n",
       "      <td>tt0000004</td>\n",
       "      <td>tt0000005</td>\n",
       "    </tr>\n",
       "    <tr>\n",
       "      <th>titleType</th>\n",
       "      <td>short</td>\n",
       "      <td>short</td>\n",
       "      <td>short</td>\n",
       "      <td>short</td>\n",
       "      <td>short</td>\n",
       "    </tr>\n",
       "    <tr>\n",
       "      <th>primaryTitle</th>\n",
       "      <td>Carmencita</td>\n",
       "      <td>Le clown et ses chiens</td>\n",
       "      <td>Pauvre Pierrot</td>\n",
       "      <td>Un bon bock</td>\n",
       "      <td>Blacksmith Scene</td>\n",
       "    </tr>\n",
       "    <tr>\n",
       "      <th>originalTitle</th>\n",
       "      <td>Carmencita</td>\n",
       "      <td>Le clown et ses chiens</td>\n",
       "      <td>Pauvre Pierrot</td>\n",
       "      <td>Un bon bock</td>\n",
       "      <td>Blacksmith Scene</td>\n",
       "    </tr>\n",
       "    <tr>\n",
       "      <th>isAdult</th>\n",
       "      <td>0</td>\n",
       "      <td>0</td>\n",
       "      <td>0</td>\n",
       "      <td>0</td>\n",
       "      <td>0</td>\n",
       "    </tr>\n",
       "    <tr>\n",
       "      <th>startYear</th>\n",
       "      <td>1894</td>\n",
       "      <td>1892</td>\n",
       "      <td>1892</td>\n",
       "      <td>1892</td>\n",
       "      <td>1893</td>\n",
       "    </tr>\n",
       "    <tr>\n",
       "      <th>endYear</th>\n",
       "      <td>\\N</td>\n",
       "      <td>\\N</td>\n",
       "      <td>\\N</td>\n",
       "      <td>\\N</td>\n",
       "      <td>\\N</td>\n",
       "    </tr>\n",
       "    <tr>\n",
       "      <th>runtimeMinutes</th>\n",
       "      <td>1</td>\n",
       "      <td>5</td>\n",
       "      <td>4</td>\n",
       "      <td>12</td>\n",
       "      <td>1</td>\n",
       "    </tr>\n",
       "    <tr>\n",
       "      <th>genres</th>\n",
       "      <td>Documentary,Short</td>\n",
       "      <td>Animation,Short</td>\n",
       "      <td>Animation,Comedy,Romance</td>\n",
       "      <td>Animation,Short</td>\n",
       "      <td>Comedy,Short</td>\n",
       "    </tr>\n",
       "  </tbody>\n",
       "</table>\n",
       "</div>"
      ],
      "text/plain": [
       "                                0                       1  \\\n",
       "tconst                  tt0000001               tt0000002   \n",
       "titleType                   short                   short   \n",
       "primaryTitle           Carmencita  Le clown et ses chiens   \n",
       "originalTitle          Carmencita  Le clown et ses chiens   \n",
       "isAdult                         0                       0   \n",
       "startYear                    1894                    1892   \n",
       "endYear                        \\N                      \\N   \n",
       "runtimeMinutes                  1                       5   \n",
       "genres          Documentary,Short         Animation,Short   \n",
       "\n",
       "                                       2                3                 4  \n",
       "tconst                         tt0000003        tt0000004         tt0000005  \n",
       "titleType                          short            short             short  \n",
       "primaryTitle              Pauvre Pierrot      Un bon bock  Blacksmith Scene  \n",
       "originalTitle             Pauvre Pierrot      Un bon bock  Blacksmith Scene  \n",
       "isAdult                                0                0                 0  \n",
       "startYear                           1892             1892              1893  \n",
       "endYear                               \\N               \\N                \\N  \n",
       "runtimeMinutes                         4               12                 1  \n",
       "genres          Animation,Comedy,Romance  Animation,Short      Comedy,Short  "
      ]
     },
     "execution_count": 2,
     "metadata": {},
     "output_type": "execute_result"
    }
   ],
   "source": [
    "basics = pd.read_csv('C:/Users/afilg/OneDrive/Área de Trabalho/DATA SCIENCE/Aulas - Originais/Projeto_Integrador/Dados/basics.tsv', header=0 , quotechar='\"', error_bad_lines=False, sep = '\\t')\n",
    "basics.head().T"
   ]
  },
  {
   "cell_type": "code",
   "execution_count": 3,
   "metadata": {
    "ExecuteTime": {
     "end_time": "2020-07-03T12:15:52.850038Z",
     "start_time": "2020-07-03T12:15:52.833358Z"
    },
    "scrolled": true
   },
   "outputs": [
    {
     "name": "stdout",
     "output_type": "stream",
     "text": [
      "<class 'pandas.core.frame.DataFrame'>\n",
      "RangeIndex: 6834111 entries, 0 to 6834110\n",
      "Data columns (total 9 columns):\n",
      " #   Column          Dtype \n",
      "---  ------          ----- \n",
      " 0   tconst          object\n",
      " 1   titleType       object\n",
      " 2   primaryTitle    object\n",
      " 3   originalTitle   object\n",
      " 4   isAdult         int64 \n",
      " 5   startYear       object\n",
      " 6   endYear         object\n",
      " 7   runtimeMinutes  object\n",
      " 8   genres          object\n",
      "dtypes: int64(1), object(8)\n",
      "memory usage: 469.3+ MB\n"
     ]
    }
   ],
   "source": [
    "basics.info()"
   ]
  },
  {
   "cell_type": "code",
   "execution_count": 4,
   "metadata": {
    "ExecuteTime": {
     "end_time": "2020-07-03T12:15:54.151799Z",
     "start_time": "2020-07-03T12:15:52.853202Z"
    }
   },
   "outputs": [
    {
     "data": {
      "text/plain": [
       "tvEpisode       4871527\n",
       "short            741249\n",
       "movie            551355\n",
       "video            265838\n",
       "tvSeries         184519\n",
       "tvMovie          121206\n",
       "tvMiniSeries      31099\n",
       "tvSpecial         29202\n",
       "videoGame         25559\n",
       "tvShort           12557\n",
       "Name: titleType, dtype: int64"
      ]
     },
     "execution_count": 4,
     "metadata": {},
     "output_type": "execute_result"
    }
   ],
   "source": [
    "basics['titleType'].value_counts()"
   ]
  },
  {
   "cell_type": "code",
   "execution_count": 5,
   "metadata": {
    "ExecuteTime": {
     "end_time": "2020-07-03T12:15:55.897738Z",
     "start_time": "2020-07-03T12:15:54.155024Z"
    }
   },
   "outputs": [],
   "source": [
    "basics = basics[basics.titleType == 'movie']"
   ]
  },
  {
   "cell_type": "code",
   "execution_count": 6,
   "metadata": {
    "ExecuteTime": {
     "end_time": "2020-07-03T12:15:56.089305Z",
     "start_time": "2020-07-03T12:15:55.900815Z"
    }
   },
   "outputs": [],
   "source": [
    "basics = basics[basics.isAdult == 0]"
   ]
  },
  {
   "cell_type": "code",
   "execution_count": 7,
   "metadata": {
    "ExecuteTime": {
     "end_time": "2020-07-03T12:15:56.218253Z",
     "start_time": "2020-07-03T12:15:56.092357Z"
    }
   },
   "outputs": [
    {
     "data": {
      "text/plain": [
       "\\N      63869\n",
       "2017    18118\n",
       "2016    17689\n",
       "2018    17522\n",
       "2015    16609\n",
       "        ...  \n",
       "1993        1\n",
       "1989        1\n",
       "1987        1\n",
       "1981        1\n",
       "2014        1\n",
       "Name: startYear, Length: 223, dtype: int64"
      ]
     },
     "execution_count": 7,
     "metadata": {},
     "output_type": "execute_result"
    }
   ],
   "source": [
    "basics['startYear'].value_counts()"
   ]
  },
  {
   "cell_type": "code",
   "execution_count": 8,
   "metadata": {
    "ExecuteTime": {
     "end_time": "2020-07-03T12:15:56.348024Z",
     "start_time": "2020-07-03T12:15:56.223275Z"
    }
   },
   "outputs": [],
   "source": [
    "basics_null = basics[basics.startYear == r'\\N']"
   ]
  },
  {
   "cell_type": "code",
   "execution_count": 9,
   "metadata": {
    "ExecuteTime": {
     "end_time": "2020-07-03T12:15:56.570200Z",
     "start_time": "2020-07-03T12:15:56.353075Z"
    }
   },
   "outputs": [],
   "source": [
    "basics = basics[basics.startYear != r'\\N']"
   ]
  },
  {
   "cell_type": "code",
   "execution_count": 10,
   "metadata": {
    "ExecuteTime": {
     "end_time": "2020-07-03T12:15:56.581974Z",
     "start_time": "2020-07-03T12:15:56.573107Z"
    }
   },
   "outputs": [
    {
     "data": {
      "text/plain": [
       "(63869, 9)"
      ]
     },
     "execution_count": 10,
     "metadata": {},
     "output_type": "execute_result"
    }
   ],
   "source": [
    "basics_null.shape"
   ]
  },
  {
   "cell_type": "code",
   "execution_count": 11,
   "metadata": {
    "ExecuteTime": {
     "end_time": "2020-07-03T12:15:56.620921Z",
     "start_time": "2020-07-03T12:15:56.586131Z"
    }
   },
   "outputs": [
    {
     "data": {
      "text/html": [
       "<div>\n",
       "<style scoped>\n",
       "    .dataframe tbody tr th:only-of-type {\n",
       "        vertical-align: middle;\n",
       "    }\n",
       "\n",
       "    .dataframe tbody tr th {\n",
       "        vertical-align: top;\n",
       "    }\n",
       "\n",
       "    .dataframe thead th {\n",
       "        text-align: right;\n",
       "    }\n",
       "</style>\n",
       "<table border=\"1\" class=\"dataframe\">\n",
       "  <thead>\n",
       "    <tr style=\"text-align: right;\">\n",
       "      <th></th>\n",
       "      <th>tconst</th>\n",
       "      <th>titleType</th>\n",
       "      <th>primaryTitle</th>\n",
       "      <th>originalTitle</th>\n",
       "      <th>isAdult</th>\n",
       "      <th>startYear</th>\n",
       "      <th>endYear</th>\n",
       "      <th>runtimeMinutes</th>\n",
       "      <th>genres</th>\n",
       "    </tr>\n",
       "  </thead>\n",
       "  <tbody>\n",
       "    <tr>\n",
       "      <th>95292</th>\n",
       "      <td>tt0097416</td>\n",
       "      <td>movie</td>\n",
       "      <td>Kadhalan</td>\n",
       "      <td>Kadhalan</td>\n",
       "      <td>0</td>\n",
       "      <td>\\N</td>\n",
       "      <td>\\N</td>\n",
       "      <td>168</td>\n",
       "      <td>Action,Drama,Romance</td>\n",
       "    </tr>\n",
       "    <tr>\n",
       "      <th>109186</th>\n",
       "      <td>tt0111597</td>\n",
       "      <td>movie</td>\n",
       "      <td>The Veiled Hope</td>\n",
       "      <td>The Veiled Hope</td>\n",
       "      <td>0</td>\n",
       "      <td>\\N</td>\n",
       "      <td>\\N</td>\n",
       "      <td>52</td>\n",
       "      <td>Documentary</td>\n",
       "    </tr>\n",
       "    <tr>\n",
       "      <th>115884</th>\n",
       "      <td>tt0118530</td>\n",
       "      <td>movie</td>\n",
       "      <td>18</td>\n",
       "      <td>18</td>\n",
       "      <td>0</td>\n",
       "      <td>\\N</td>\n",
       "      <td>\\N</td>\n",
       "      <td>\\N</td>\n",
       "      <td>Romance</td>\n",
       "    </tr>\n",
       "    <tr>\n",
       "      <th>116315</th>\n",
       "      <td>tt0118981</td>\n",
       "      <td>movie</td>\n",
       "      <td>Dil Deewana Maane Na</td>\n",
       "      <td>Dil Deewana Maane Na</td>\n",
       "      <td>0</td>\n",
       "      <td>\\N</td>\n",
       "      <td>\\N</td>\n",
       "      <td>\\N</td>\n",
       "      <td>Drama,Romance</td>\n",
       "    </tr>\n",
       "    <tr>\n",
       "      <th>118079</th>\n",
       "      <td>tt0120892</td>\n",
       "      <td>movie</td>\n",
       "      <td>Winding Stair</td>\n",
       "      <td>Winding Stair</td>\n",
       "      <td>0</td>\n",
       "      <td>\\N</td>\n",
       "      <td>\\N</td>\n",
       "      <td>\\N</td>\n",
       "      <td>Thriller</td>\n",
       "    </tr>\n",
       "  </tbody>\n",
       "</table>\n",
       "</div>"
      ],
      "text/plain": [
       "           tconst titleType          primaryTitle         originalTitle  \\\n",
       "95292   tt0097416     movie              Kadhalan              Kadhalan   \n",
       "109186  tt0111597     movie       The Veiled Hope       The Veiled Hope   \n",
       "115884  tt0118530     movie                    18                    18   \n",
       "116315  tt0118981     movie  Dil Deewana Maane Na  Dil Deewana Maane Na   \n",
       "118079  tt0120892     movie         Winding Stair         Winding Stair   \n",
       "\n",
       "        isAdult startYear endYear runtimeMinutes                genres  \n",
       "95292         0        \\N      \\N            168  Action,Drama,Romance  \n",
       "109186        0        \\N      \\N             52           Documentary  \n",
       "115884        0        \\N      \\N             \\N               Romance  \n",
       "116315        0        \\N      \\N             \\N         Drama,Romance  \n",
       "118079        0        \\N      \\N             \\N              Thriller  "
      ]
     },
     "execution_count": 11,
     "metadata": {},
     "output_type": "execute_result"
    }
   ],
   "source": [
    "basics_null.head()"
   ]
  },
  {
   "cell_type": "code",
   "execution_count": 12,
   "metadata": {
    "ExecuteTime": {
     "end_time": "2020-07-03T12:15:56.661006Z",
     "start_time": "2020-07-03T12:15:56.623910Z"
    }
   },
   "outputs": [
    {
     "data": {
      "text/plain": [
       "Drama                          13227\n",
       "Comedy                          5675\n",
       "Thriller                        4782\n",
       "Documentary                     4768\n",
       "Horror                          4089\n",
       "                               ...  \n",
       "Animation,Documentary,Sport        1\n",
       "Adventure,Music                    1\n",
       "Fantasy,Thriller,War               1\n",
       "Family,Fantasy,Mystery             1\n",
       "Adventure,Horror,Romance           1\n",
       "Name: genres, Length: 800, dtype: int64"
      ]
     },
     "execution_count": 12,
     "metadata": {},
     "output_type": "execute_result"
    }
   ],
   "source": [
    "basics_null.genres.value_counts()"
   ]
  },
  {
   "cell_type": "code",
   "execution_count": 13,
   "metadata": {
    "ExecuteTime": {
     "end_time": "2020-07-03T12:15:56.672958Z",
     "start_time": "2020-07-03T12:15:56.664971Z"
    }
   },
   "outputs": [
    {
     "data": {
      "text/plain": [
       "(478687, 9)"
      ]
     },
     "execution_count": 13,
     "metadata": {},
     "output_type": "execute_result"
    }
   ],
   "source": [
    "basics.shape"
   ]
  },
  {
   "cell_type": "code",
   "execution_count": 14,
   "metadata": {
    "ExecuteTime": {
     "end_time": "2020-07-03T12:15:56.698990Z",
     "start_time": "2020-07-03T12:15:56.675947Z"
    }
   },
   "outputs": [
    {
     "data": {
      "text/html": [
       "<div>\n",
       "<style scoped>\n",
       "    .dataframe tbody tr th:only-of-type {\n",
       "        vertical-align: middle;\n",
       "    }\n",
       "\n",
       "    .dataframe tbody tr th {\n",
       "        vertical-align: top;\n",
       "    }\n",
       "\n",
       "    .dataframe thead th {\n",
       "        text-align: right;\n",
       "    }\n",
       "</style>\n",
       "<table border=\"1\" class=\"dataframe\">\n",
       "  <thead>\n",
       "    <tr style=\"text-align: right;\">\n",
       "      <th></th>\n",
       "      <th>8</th>\n",
       "      <th>145</th>\n",
       "    </tr>\n",
       "  </thead>\n",
       "  <tbody>\n",
       "    <tr>\n",
       "      <th>tconst</th>\n",
       "      <td>tt0000009</td>\n",
       "      <td>tt0000147</td>\n",
       "    </tr>\n",
       "    <tr>\n",
       "      <th>titleType</th>\n",
       "      <td>movie</td>\n",
       "      <td>movie</td>\n",
       "    </tr>\n",
       "    <tr>\n",
       "      <th>primaryTitle</th>\n",
       "      <td>Miss Jerry</td>\n",
       "      <td>The Corbett-Fitzsimmons Fight</td>\n",
       "    </tr>\n",
       "    <tr>\n",
       "      <th>originalTitle</th>\n",
       "      <td>Miss Jerry</td>\n",
       "      <td>The Corbett-Fitzsimmons Fight</td>\n",
       "    </tr>\n",
       "    <tr>\n",
       "      <th>isAdult</th>\n",
       "      <td>0</td>\n",
       "      <td>0</td>\n",
       "    </tr>\n",
       "    <tr>\n",
       "      <th>startYear</th>\n",
       "      <td>1894</td>\n",
       "      <td>1897</td>\n",
       "    </tr>\n",
       "    <tr>\n",
       "      <th>endYear</th>\n",
       "      <td>\\N</td>\n",
       "      <td>\\N</td>\n",
       "    </tr>\n",
       "    <tr>\n",
       "      <th>runtimeMinutes</th>\n",
       "      <td>45</td>\n",
       "      <td>20</td>\n",
       "    </tr>\n",
       "    <tr>\n",
       "      <th>genres</th>\n",
       "      <td>Romance</td>\n",
       "      <td>Documentary,News,Sport</td>\n",
       "    </tr>\n",
       "  </tbody>\n",
       "</table>\n",
       "</div>"
      ],
      "text/plain": [
       "                       8                              145\n",
       "tconst           tt0000009                      tt0000147\n",
       "titleType            movie                          movie\n",
       "primaryTitle    Miss Jerry  The Corbett-Fitzsimmons Fight\n",
       "originalTitle   Miss Jerry  The Corbett-Fitzsimmons Fight\n",
       "isAdult                  0                              0\n",
       "startYear             1894                           1897\n",
       "endYear                 \\N                             \\N\n",
       "runtimeMinutes          45                             20\n",
       "genres             Romance         Documentary,News,Sport"
      ]
     },
     "execution_count": 14,
     "metadata": {},
     "output_type": "execute_result"
    }
   ],
   "source": [
    "basics.head(2).T"
   ]
  },
  {
   "cell_type": "code",
   "execution_count": 15,
   "metadata": {
    "ExecuteTime": {
     "end_time": "2020-07-03T12:15:56.869799Z",
     "start_time": "2020-07-03T12:15:56.700985Z"
    }
   },
   "outputs": [],
   "source": [
    "basics['startYear'] = basics['startYear'].astype(int)"
   ]
  },
  {
   "cell_type": "code",
   "execution_count": 16,
   "metadata": {
    "ExecuteTime": {
     "end_time": "2020-07-03T12:15:56.885919Z",
     "start_time": "2020-07-03T12:15:56.874860Z"
    }
   },
   "outputs": [
    {
     "data": {
      "text/plain": [
       "(478687, 9)"
      ]
     },
     "execution_count": 16,
     "metadata": {},
     "output_type": "execute_result"
    }
   ],
   "source": [
    "basics.shape"
   ]
  },
  {
   "cell_type": "code",
   "execution_count": 17,
   "metadata": {
    "ExecuteTime": {
     "end_time": "2020-07-03T12:15:57.000579Z",
     "start_time": "2020-07-03T12:15:56.889863Z"
    }
   },
   "outputs": [],
   "source": [
    "basics = basics.drop(['endYear', 'isAdult'], axis = 1)"
   ]
  },
  {
   "cell_type": "code",
   "execution_count": 18,
   "metadata": {
    "ExecuteTime": {
     "end_time": "2020-07-03T12:15:57.012599Z",
     "start_time": "2020-07-03T12:15:57.004616Z"
    }
   },
   "outputs": [
    {
     "data": {
      "text/plain": [
       "(478687, 7)"
      ]
     },
     "execution_count": 18,
     "metadata": {},
     "output_type": "execute_result"
    }
   ],
   "source": [
    "basics.shape"
   ]
  },
  {
   "cell_type": "code",
   "execution_count": 19,
   "metadata": {
    "ExecuteTime": {
     "end_time": "2020-07-03T12:15:57.050213Z",
     "start_time": "2020-07-03T12:15:57.016533Z"
    }
   },
   "outputs": [
    {
     "data": {
      "text/plain": [
       "2017    18118\n",
       "2016    17689\n",
       "2018    17522\n",
       "2015    16609\n",
       "2019    16026\n",
       "        ...  \n",
       "2026        4\n",
       "2025        4\n",
       "1897        2\n",
       "1894        1\n",
       "2115        1\n",
       "Name: startYear, Length: 133, dtype: int64"
      ]
     },
     "execution_count": 19,
     "metadata": {},
     "output_type": "execute_result"
    }
   ],
   "source": [
    "basics.startYear.value_counts()"
   ]
  },
  {
   "cell_type": "code",
   "execution_count": 20,
   "metadata": {
    "ExecuteTime": {
     "end_time": "2020-07-03T12:15:57.198760Z",
     "start_time": "2020-07-03T12:15:57.053206Z"
    }
   },
   "outputs": [
    {
     "data": {
      "text/plain": [
       "\\N      140673\n",
       "90       22853\n",
       "80        9810\n",
       "85        9675\n",
       "95        9308\n",
       "         ...  \n",
       "384          1\n",
       "761          1\n",
       "1428         1\n",
       "551          1\n",
       "345          1\n",
       "Name: runtimeMinutes, Length: 462, dtype: int64"
      ]
     },
     "execution_count": 20,
     "metadata": {},
     "output_type": "execute_result"
    }
   ],
   "source": [
    "basics.runtimeMinutes.value_counts()"
   ]
  },
  {
   "cell_type": "code",
   "execution_count": 21,
   "metadata": {
    "ExecuteTime": {
     "end_time": "2020-07-03T12:15:57.428901Z",
     "start_time": "2020-07-03T12:15:57.203745Z"
    }
   },
   "outputs": [],
   "source": [
    "basics = basics[basics.runtimeMinutes != r'\\N']"
   ]
  },
  {
   "cell_type": "code",
   "execution_count": 22,
   "metadata": {
    "ExecuteTime": {
     "end_time": "2020-07-03T12:15:57.585536Z",
     "start_time": "2020-07-03T12:15:57.432890Z"
    }
   },
   "outputs": [],
   "source": [
    "basics = basics[basics.genres != r'\\N']"
   ]
  },
  {
   "cell_type": "code",
   "execution_count": 23,
   "metadata": {
    "ExecuteTime": {
     "end_time": "2020-07-03T12:15:57.700884Z",
     "start_time": "2020-07-03T12:15:57.594476Z"
    }
   },
   "outputs": [
    {
     "data": {
      "text/plain": [
       "Drama                       57298\n",
       "Documentary                 53480\n",
       "Comedy                      26552\n",
       "Comedy,Drama                 8998\n",
       "Drama,Romance                8486\n",
       "                            ...  \n",
       "Documentary,News,Western        1\n",
       "Music,Mystery,Western           1\n",
       "Comedy,History,Sport            1\n",
       "Family,Mystery,Romance          1\n",
       "Documentary,Mystery,War         1\n",
       "Name: genres, Length: 1258, dtype: int64"
      ]
     },
     "execution_count": 23,
     "metadata": {},
     "output_type": "execute_result"
    }
   ],
   "source": [
    "basics.genres.value_counts()"
   ]
  },
  {
   "cell_type": "code",
   "execution_count": 24,
   "metadata": {
    "ExecuteTime": {
     "end_time": "2020-07-03T12:15:57.717839Z",
     "start_time": "2020-07-03T12:15:57.707867Z"
    }
   },
   "outputs": [
    {
     "data": {
      "text/plain": [
       "(315189, 7)"
      ]
     },
     "execution_count": 24,
     "metadata": {},
     "output_type": "execute_result"
    }
   ],
   "source": [
    "basics.shape"
   ]
  },
  {
   "cell_type": "code",
   "execution_count": 25,
   "metadata": {
    "ExecuteTime": {
     "end_time": "2020-07-03T12:15:57.735438Z",
     "start_time": "2020-07-03T12:15:57.721829Z"
    }
   },
   "outputs": [
    {
     "data": {
      "text/plain": [
       "(315189, 7)"
      ]
     },
     "execution_count": 25,
     "metadata": {},
     "output_type": "execute_result"
    }
   ],
   "source": [
    "basics.shape"
   ]
  },
  {
   "cell_type": "code",
   "execution_count": 26,
   "metadata": {
    "ExecuteTime": {
     "end_time": "2020-07-03T12:15:59.336113Z",
     "start_time": "2020-07-03T12:15:57.739466Z"
    }
   },
   "outputs": [
    {
     "data": {
      "text/html": [
       "<div>\n",
       "<style scoped>\n",
       "    .dataframe tbody tr th:only-of-type {\n",
       "        vertical-align: middle;\n",
       "    }\n",
       "\n",
       "    .dataframe tbody tr th {\n",
       "        vertical-align: top;\n",
       "    }\n",
       "\n",
       "    .dataframe thead th {\n",
       "        text-align: right;\n",
       "    }\n",
       "</style>\n",
       "<table border=\"1\" class=\"dataframe\">\n",
       "  <thead>\n",
       "    <tr style=\"text-align: right;\">\n",
       "      <th></th>\n",
       "      <th>8</th>\n",
       "      <th>145</th>\n",
       "    </tr>\n",
       "  </thead>\n",
       "  <tbody>\n",
       "    <tr>\n",
       "      <th>tconst</th>\n",
       "      <td>tt0000009</td>\n",
       "      <td>tt0000147</td>\n",
       "    </tr>\n",
       "    <tr>\n",
       "      <th>titleType</th>\n",
       "      <td>movie</td>\n",
       "      <td>movie</td>\n",
       "    </tr>\n",
       "    <tr>\n",
       "      <th>primaryTitle</th>\n",
       "      <td>Miss Jerry</td>\n",
       "      <td>The Corbett-Fitzsimmons Fight</td>\n",
       "    </tr>\n",
       "    <tr>\n",
       "      <th>originalTitle</th>\n",
       "      <td>Miss Jerry</td>\n",
       "      <td>The Corbett-Fitzsimmons Fight</td>\n",
       "    </tr>\n",
       "    <tr>\n",
       "      <th>startYear</th>\n",
       "      <td>1894</td>\n",
       "      <td>1897</td>\n",
       "    </tr>\n",
       "    <tr>\n",
       "      <th>runtimeMinutes</th>\n",
       "      <td>45</td>\n",
       "      <td>20</td>\n",
       "    </tr>\n",
       "    <tr>\n",
       "      <th>genres</th>\n",
       "      <td>Romance</td>\n",
       "      <td>Documentary,News,Sport</td>\n",
       "    </tr>\n",
       "    <tr>\n",
       "      <th>genre_1</th>\n",
       "      <td>Romance</td>\n",
       "      <td>Documentary</td>\n",
       "    </tr>\n",
       "    <tr>\n",
       "      <th>genre_2</th>\n",
       "      <td>None</td>\n",
       "      <td>News</td>\n",
       "    </tr>\n",
       "    <tr>\n",
       "      <th>genre_3</th>\n",
       "      <td>None</td>\n",
       "      <td>Sport</td>\n",
       "    </tr>\n",
       "  </tbody>\n",
       "</table>\n",
       "</div>"
      ],
      "text/plain": [
       "                       8                              145\n",
       "tconst           tt0000009                      tt0000147\n",
       "titleType            movie                          movie\n",
       "primaryTitle    Miss Jerry  The Corbett-Fitzsimmons Fight\n",
       "originalTitle   Miss Jerry  The Corbett-Fitzsimmons Fight\n",
       "startYear             1894                           1897\n",
       "runtimeMinutes          45                             20\n",
       "genres             Romance         Documentary,News,Sport\n",
       "genre_1            Romance                    Documentary\n",
       "genre_2               None                           News\n",
       "genre_3               None                          Sport"
      ]
     },
     "execution_count": 26,
     "metadata": {},
     "output_type": "execute_result"
    }
   ],
   "source": [
    "basics[['genre_1','genre_2', 'genre_3']] = basics.genres.str.split(\",\",expand=True,)\n",
    "basics.head(2).T"
   ]
  },
  {
   "cell_type": "code",
   "execution_count": 27,
   "metadata": {
    "ExecuteTime": {
     "end_time": "2020-07-03T12:15:59.578077Z",
     "start_time": "2020-07-03T12:15:59.338971Z"
    }
   },
   "outputs": [],
   "source": [
    "basics = basics.drop([ 'genres'], axis = 1)"
   ]
  },
  {
   "cell_type": "code",
   "execution_count": 28,
   "metadata": {
    "ExecuteTime": {
     "end_time": "2020-07-03T12:15:59.611741Z",
     "start_time": "2020-07-03T12:15:59.581072Z"
    }
   },
   "outputs": [
    {
     "data": {
      "text/html": [
       "<div>\n",
       "<style scoped>\n",
       "    .dataframe tbody tr th:only-of-type {\n",
       "        vertical-align: middle;\n",
       "    }\n",
       "\n",
       "    .dataframe tbody tr th {\n",
       "        vertical-align: top;\n",
       "    }\n",
       "\n",
       "    .dataframe thead th {\n",
       "        text-align: right;\n",
       "    }\n",
       "</style>\n",
       "<table border=\"1\" class=\"dataframe\">\n",
       "  <thead>\n",
       "    <tr style=\"text-align: right;\">\n",
       "      <th></th>\n",
       "      <th>8</th>\n",
       "      <th>145</th>\n",
       "      <th>571</th>\n",
       "      <th>673</th>\n",
       "      <th>1173</th>\n",
       "    </tr>\n",
       "  </thead>\n",
       "  <tbody>\n",
       "    <tr>\n",
       "      <th>tconst</th>\n",
       "      <td>tt0000009</td>\n",
       "      <td>tt0000147</td>\n",
       "      <td>tt0000574</td>\n",
       "      <td>tt0000679</td>\n",
       "      <td>tt0001184</td>\n",
       "    </tr>\n",
       "    <tr>\n",
       "      <th>titleType</th>\n",
       "      <td>movie</td>\n",
       "      <td>movie</td>\n",
       "      <td>movie</td>\n",
       "      <td>movie</td>\n",
       "      <td>movie</td>\n",
       "    </tr>\n",
       "    <tr>\n",
       "      <th>primaryTitle</th>\n",
       "      <td>Miss Jerry</td>\n",
       "      <td>The Corbett-Fitzsimmons Fight</td>\n",
       "      <td>The Story of the Kelly Gang</td>\n",
       "      <td>The Fairylogue and Radio-Plays</td>\n",
       "      <td>Don Juan de Serrallonga</td>\n",
       "    </tr>\n",
       "    <tr>\n",
       "      <th>originalTitle</th>\n",
       "      <td>Miss Jerry</td>\n",
       "      <td>The Corbett-Fitzsimmons Fight</td>\n",
       "      <td>The Story of the Kelly Gang</td>\n",
       "      <td>The Fairylogue and Radio-Plays</td>\n",
       "      <td>Don Juan de Serrallonga</td>\n",
       "    </tr>\n",
       "    <tr>\n",
       "      <th>startYear</th>\n",
       "      <td>1894</td>\n",
       "      <td>1897</td>\n",
       "      <td>1906</td>\n",
       "      <td>1908</td>\n",
       "      <td>1910</td>\n",
       "    </tr>\n",
       "    <tr>\n",
       "      <th>runtimeMinutes</th>\n",
       "      <td>45</td>\n",
       "      <td>20</td>\n",
       "      <td>70</td>\n",
       "      <td>120</td>\n",
       "      <td>58</td>\n",
       "    </tr>\n",
       "    <tr>\n",
       "      <th>genre_1</th>\n",
       "      <td>Romance</td>\n",
       "      <td>Documentary</td>\n",
       "      <td>Biography</td>\n",
       "      <td>Adventure</td>\n",
       "      <td>Adventure</td>\n",
       "    </tr>\n",
       "    <tr>\n",
       "      <th>genre_2</th>\n",
       "      <td>None</td>\n",
       "      <td>News</td>\n",
       "      <td>Crime</td>\n",
       "      <td>Fantasy</td>\n",
       "      <td>Drama</td>\n",
       "    </tr>\n",
       "    <tr>\n",
       "      <th>genre_3</th>\n",
       "      <td>None</td>\n",
       "      <td>Sport</td>\n",
       "      <td>Drama</td>\n",
       "      <td>None</td>\n",
       "      <td>None</td>\n",
       "    </tr>\n",
       "  </tbody>\n",
       "</table>\n",
       "</div>"
      ],
      "text/plain": [
       "                      8                              145   \\\n",
       "tconst           tt0000009                      tt0000147   \n",
       "titleType            movie                          movie   \n",
       "primaryTitle    Miss Jerry  The Corbett-Fitzsimmons Fight   \n",
       "originalTitle   Miss Jerry  The Corbett-Fitzsimmons Fight   \n",
       "startYear             1894                           1897   \n",
       "runtimeMinutes          45                             20   \n",
       "genre_1            Romance                    Documentary   \n",
       "genre_2               None                           News   \n",
       "genre_3               None                          Sport   \n",
       "\n",
       "                                       571                             673   \\\n",
       "tconst                            tt0000574                       tt0000679   \n",
       "titleType                             movie                           movie   \n",
       "primaryTitle    The Story of the Kelly Gang  The Fairylogue and Radio-Plays   \n",
       "originalTitle   The Story of the Kelly Gang  The Fairylogue and Radio-Plays   \n",
       "startYear                              1906                            1908   \n",
       "runtimeMinutes                           70                             120   \n",
       "genre_1                           Biography                       Adventure   \n",
       "genre_2                               Crime                         Fantasy   \n",
       "genre_3                               Drama                            None   \n",
       "\n",
       "                                   1173  \n",
       "tconst                        tt0001184  \n",
       "titleType                         movie  \n",
       "primaryTitle    Don Juan de Serrallonga  \n",
       "originalTitle   Don Juan de Serrallonga  \n",
       "startYear                          1910  \n",
       "runtimeMinutes                       58  \n",
       "genre_1                       Adventure  \n",
       "genre_2                           Drama  \n",
       "genre_3                            None  "
      ]
     },
     "execution_count": 28,
     "metadata": {},
     "output_type": "execute_result"
    }
   ],
   "source": [
    "basics.head().T"
   ]
  },
  {
   "cell_type": "code",
   "execution_count": 29,
   "metadata": {
    "ExecuteTime": {
     "end_time": "2020-07-03T12:16:00.092738Z",
     "start_time": "2020-07-03T12:15:59.614986Z"
    }
   },
   "outputs": [],
   "source": [
    "basics['movieyear'] = basics.startYear.astype(str) + basics.primaryTitle"
   ]
  },
  {
   "cell_type": "code",
   "execution_count": 30,
   "metadata": {
    "ExecuteTime": {
     "end_time": "2020-07-03T12:16:03.262675Z",
     "start_time": "2020-07-03T12:16:00.094810Z"
    }
   },
   "outputs": [],
   "source": [
    "basics.to_csv('basics.csv')"
   ]
  }
 ],
 "metadata": {
  "kernelspec": {
   "display_name": "Python 3",
   "language": "python",
   "name": "python3"
  },
  "language_info": {
   "codemirror_mode": {
    "name": "ipython",
    "version": 3
   },
   "file_extension": ".py",
   "mimetype": "text/x-python",
   "name": "python",
   "nbconvert_exporter": "python",
   "pygments_lexer": "ipython3",
   "version": "3.7.7"
  },
  "toc": {
   "base_numbering": 1,
   "nav_menu": {},
   "number_sections": true,
   "sideBar": true,
   "skip_h1_title": false,
   "title_cell": "Table of Contents",
   "title_sidebar": "Contents",
   "toc_cell": false,
   "toc_position": {},
   "toc_section_display": true,
   "toc_window_display": false
  },
  "varInspector": {
   "cols": {
    "lenName": 16,
    "lenType": 16,
    "lenVar": 40
   },
   "kernels_config": {
    "python": {
     "delete_cmd_postfix": "",
     "delete_cmd_prefix": "del ",
     "library": "var_list.py",
     "varRefreshCmd": "print(var_dic_list())"
    },
    "r": {
     "delete_cmd_postfix": ") ",
     "delete_cmd_prefix": "rm(",
     "library": "var_list.r",
     "varRefreshCmd": "cat(var_dic_list()) "
    }
   },
   "types_to_exclude": [
    "module",
    "function",
    "builtin_function_or_method",
    "instance",
    "_Feature"
   ],
   "window_display": false
  }
 },
 "nbformat": 4,
 "nbformat_minor": 4
}
