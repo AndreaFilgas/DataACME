{
 "cells": [
  {
   "cell_type": "markdown",
   "metadata": {},
   "source": [
    "## Principals"
   ]
  },
  {
   "cell_type": "code",
   "execution_count": 1,
   "metadata": {
    "ExecuteTime": {
     "end_time": "2020-07-03T13:04:32.661518Z",
     "start_time": "2020-07-03T13:04:29.304474Z"
    }
   },
   "outputs": [],
   "source": [
    "# abrir bibliotecas\n",
    "import pandas as pd\n",
    "import numpy as np\n",
    "import seaborn as sns\n",
    "import statsmodels.formula.api as smf\n",
    "import matplotlib.pyplot as plt\n",
    "%matplotlib inline"
   ]
  },
  {
   "cell_type": "code",
   "execution_count": 2,
   "metadata": {
    "ExecuteTime": {
     "end_time": "2020-07-03T13:06:28.525649Z",
     "start_time": "2020-07-03T13:04:32.691831Z"
    }
   },
   "outputs": [
    {
     "data": {
      "text/html": [
       "<div>\n",
       "<style scoped>\n",
       "    .dataframe tbody tr th:only-of-type {\n",
       "        vertical-align: middle;\n",
       "    }\n",
       "\n",
       "    .dataframe tbody tr th {\n",
       "        vertical-align: top;\n",
       "    }\n",
       "\n",
       "    .dataframe thead th {\n",
       "        text-align: right;\n",
       "    }\n",
       "</style>\n",
       "<table border=\"1\" class=\"dataframe\">\n",
       "  <thead>\n",
       "    <tr style=\"text-align: right;\">\n",
       "      <th></th>\n",
       "      <th>0</th>\n",
       "      <th>1</th>\n",
       "      <th>2</th>\n",
       "      <th>3</th>\n",
       "      <th>4</th>\n",
       "    </tr>\n",
       "  </thead>\n",
       "  <tbody>\n",
       "    <tr>\n",
       "      <th>tconst</th>\n",
       "      <td>tt0000001</td>\n",
       "      <td>tt0000001</td>\n",
       "      <td>tt0000001</td>\n",
       "      <td>tt0000002</td>\n",
       "      <td>tt0000002</td>\n",
       "    </tr>\n",
       "    <tr>\n",
       "      <th>ordering</th>\n",
       "      <td>1</td>\n",
       "      <td>2</td>\n",
       "      <td>3</td>\n",
       "      <td>1</td>\n",
       "      <td>2</td>\n",
       "    </tr>\n",
       "    <tr>\n",
       "      <th>nconst</th>\n",
       "      <td>nm1588970</td>\n",
       "      <td>nm0005690</td>\n",
       "      <td>nm0374658</td>\n",
       "      <td>nm0721526</td>\n",
       "      <td>nm1335271</td>\n",
       "    </tr>\n",
       "    <tr>\n",
       "      <th>category</th>\n",
       "      <td>self</td>\n",
       "      <td>director</td>\n",
       "      <td>cinematographer</td>\n",
       "      <td>director</td>\n",
       "      <td>composer</td>\n",
       "    </tr>\n",
       "    <tr>\n",
       "      <th>job</th>\n",
       "      <td>\\N</td>\n",
       "      <td>\\N</td>\n",
       "      <td>director of photography</td>\n",
       "      <td>\\N</td>\n",
       "      <td>\\N</td>\n",
       "    </tr>\n",
       "    <tr>\n",
       "      <th>characters</th>\n",
       "      <td>[\"Self\"]</td>\n",
       "      <td>\\N</td>\n",
       "      <td>\\N</td>\n",
       "      <td>\\N</td>\n",
       "      <td>\\N</td>\n",
       "    </tr>\n",
       "  </tbody>\n",
       "</table>\n",
       "</div>"
      ],
      "text/plain": [
       "                    0          1                        2          3  \\\n",
       "tconst      tt0000001  tt0000001                tt0000001  tt0000002   \n",
       "ordering            1          2                        3          1   \n",
       "nconst      nm1588970  nm0005690                nm0374658  nm0721526   \n",
       "category         self   director          cinematographer   director   \n",
       "job                \\N         \\N  director of photography         \\N   \n",
       "characters   [\"Self\"]         \\N                       \\N         \\N   \n",
       "\n",
       "                    4  \n",
       "tconst      tt0000002  \n",
       "ordering            2  \n",
       "nconst      nm1335271  \n",
       "category     composer  \n",
       "job                \\N  \n",
       "characters         \\N  "
      ]
     },
     "execution_count": 2,
     "metadata": {},
     "output_type": "execute_result"
    }
   ],
   "source": [
    "principals = pd.read_csv('C:/Users/afilg/OneDrive/Área de Trabalho/DATA SCIENCE/Aulas - Originais/Projeto_Integrador/Dados/principals.tsv', header=0 , quotechar='\"', error_bad_lines=False, sep = '\\t')\n",
    "principals.head().T"
   ]
  },
  {
   "cell_type": "code",
   "execution_count": 3,
   "metadata": {
    "ExecuteTime": {
     "end_time": "2020-07-03T13:06:29.574420Z",
     "start_time": "2020-07-03T13:06:28.601947Z"
    }
   },
   "outputs": [],
   "source": [
    "basics_simple = pd.read_csv('C:/Users/afilg/OneDrive/DATA SCIENCE/Aulas - Originais/Projeto_Integrador/basics_simple.csv')"
   ]
  },
  {
   "cell_type": "code",
   "execution_count": 4,
   "metadata": {
    "ExecuteTime": {
     "end_time": "2020-07-03T13:06:29.691104Z",
     "start_time": "2020-07-03T13:06:29.673199Z"
    }
   },
   "outputs": [
    {
     "name": "stdout",
     "output_type": "stream",
     "text": [
      "<class 'pandas.core.frame.DataFrame'>\n",
      "RangeIndex: 39422894 entries, 0 to 39422893\n",
      "Data columns (total 6 columns):\n",
      " #   Column      Dtype \n",
      "---  ------      ----- \n",
      " 0   tconst      object\n",
      " 1   ordering    int64 \n",
      " 2   nconst      object\n",
      " 3   category    object\n",
      " 4   job         object\n",
      " 5   characters  object\n",
      "dtypes: int64(1), object(5)\n",
      "memory usage: 1.8+ GB\n"
     ]
    }
   ],
   "source": [
    "principals.info()"
   ]
  },
  {
   "cell_type": "code",
   "execution_count": 5,
   "metadata": {
    "ExecuteTime": {
     "end_time": "2020-07-03T13:06:44.765589Z",
     "start_time": "2020-07-03T13:06:29.809878Z"
    }
   },
   "outputs": [
    {
     "data": {
      "text/plain": [
       "actor                  9108466\n",
       "actress                6817848\n",
       "self                   6640369\n",
       "writer                 5246904\n",
       "director               4554800\n",
       "producer               2398375\n",
       "composer               1414915\n",
       "cinematographer        1395989\n",
       "editor                 1313777\n",
       "production_designer     297775\n",
       "archive_footage         231293\n",
       "archive_sound             2383\n",
       "Name: category, dtype: int64"
      ]
     },
     "execution_count": 5,
     "metadata": {},
     "output_type": "execute_result"
    }
   ],
   "source": [
    "principals.category.value_counts()"
   ]
  },
  {
   "cell_type": "code",
   "execution_count": 6,
   "metadata": {
    "ExecuteTime": {
     "end_time": "2020-07-03T13:06:58.769750Z",
     "start_time": "2020-07-03T13:06:44.864308Z"
    }
   },
   "outputs": [],
   "source": [
    "N = 39422894\n",
    "principals['index_create'] = range(1, N + 1 ,1)"
   ]
  },
  {
   "cell_type": "code",
   "execution_count": 7,
   "metadata": {
    "ExecuteTime": {
     "end_time": "2020-07-03T13:08:16.809710Z",
     "start_time": "2020-07-03T13:06:58.897438Z"
    }
   },
   "outputs": [],
   "source": [
    "principals['index_create'] = principals['index_create'].astype(str)"
   ]
  },
  {
   "cell_type": "code",
   "execution_count": 8,
   "metadata": {
    "ExecuteTime": {
     "end_time": "2020-07-03T13:08:49.456549Z",
     "start_time": "2020-07-03T13:08:16.933584Z"
    }
   },
   "outputs": [],
   "source": [
    "principals = principals.join(basics_simple.set_index('tconst'), on = 'tconst' , how = 'inner')"
   ]
  },
  {
   "cell_type": "code",
   "execution_count": 9,
   "metadata": {
    "ExecuteTime": {
     "end_time": "2020-07-03T13:08:51.347670Z",
     "start_time": "2020-07-03T13:08:49.568549Z"
    }
   },
   "outputs": [],
   "source": [
    "principals\n",
    "principals = principals.drop(['job','characters'], axis = 1)"
   ]
  },
  {
   "cell_type": "code",
   "execution_count": 10,
   "metadata": {
    "ExecuteTime": {
     "end_time": "2020-07-03T13:08:51.461961Z",
     "start_time": "2020-07-03T13:08:51.432665Z"
    }
   },
   "outputs": [
    {
     "data": {
      "text/html": [
       "<div>\n",
       "<style scoped>\n",
       "    .dataframe tbody tr th:only-of-type {\n",
       "        vertical-align: middle;\n",
       "    }\n",
       "\n",
       "    .dataframe tbody tr th {\n",
       "        vertical-align: top;\n",
       "    }\n",
       "\n",
       "    .dataframe thead th {\n",
       "        text-align: right;\n",
       "    }\n",
       "</style>\n",
       "<table border=\"1\" class=\"dataframe\">\n",
       "  <thead>\n",
       "    <tr style=\"text-align: right;\">\n",
       "      <th></th>\n",
       "      <th>tconst</th>\n",
       "      <th>ordering</th>\n",
       "      <th>nconst</th>\n",
       "      <th>category</th>\n",
       "      <th>index_create</th>\n",
       "      <th>Unnamed: 0</th>\n",
       "      <th>Unnamed: 0.1</th>\n",
       "      <th>startYear</th>\n",
       "      <th>movieyear</th>\n",
       "      <th>averageRating</th>\n",
       "      <th>numVotes</th>\n",
       "    </tr>\n",
       "  </thead>\n",
       "  <tbody>\n",
       "    <tr>\n",
       "      <th>24</th>\n",
       "      <td>tt0000009</td>\n",
       "      <td>1</td>\n",
       "      <td>nm0063086</td>\n",
       "      <td>actress</td>\n",
       "      <td>25</td>\n",
       "      <td>0</td>\n",
       "      <td>8</td>\n",
       "      <td>1894</td>\n",
       "      <td>1894Miss Jerry</td>\n",
       "      <td>5.9</td>\n",
       "      <td>153</td>\n",
       "    </tr>\n",
       "    <tr>\n",
       "      <th>25</th>\n",
       "      <td>tt0000009</td>\n",
       "      <td>2</td>\n",
       "      <td>nm0183823</td>\n",
       "      <td>actor</td>\n",
       "      <td>26</td>\n",
       "      <td>0</td>\n",
       "      <td>8</td>\n",
       "      <td>1894</td>\n",
       "      <td>1894Miss Jerry</td>\n",
       "      <td>5.9</td>\n",
       "      <td>153</td>\n",
       "    </tr>\n",
       "    <tr>\n",
       "      <th>26</th>\n",
       "      <td>tt0000009</td>\n",
       "      <td>3</td>\n",
       "      <td>nm1309758</td>\n",
       "      <td>actor</td>\n",
       "      <td>27</td>\n",
       "      <td>0</td>\n",
       "      <td>8</td>\n",
       "      <td>1894</td>\n",
       "      <td>1894Miss Jerry</td>\n",
       "      <td>5.9</td>\n",
       "      <td>153</td>\n",
       "    </tr>\n",
       "    <tr>\n",
       "      <th>27</th>\n",
       "      <td>tt0000009</td>\n",
       "      <td>4</td>\n",
       "      <td>nm0085156</td>\n",
       "      <td>director</td>\n",
       "      <td>28</td>\n",
       "      <td>0</td>\n",
       "      <td>8</td>\n",
       "      <td>1894</td>\n",
       "      <td>1894Miss Jerry</td>\n",
       "      <td>5.9</td>\n",
       "      <td>153</td>\n",
       "    </tr>\n",
       "    <tr>\n",
       "      <th>252</th>\n",
       "      <td>tt0000147</td>\n",
       "      <td>1</td>\n",
       "      <td>nm0179163</td>\n",
       "      <td>self</td>\n",
       "      <td>253</td>\n",
       "      <td>1</td>\n",
       "      <td>145</td>\n",
       "      <td>1897</td>\n",
       "      <td>1897The Corbett-Fitzsimmons Fight</td>\n",
       "      <td>5.2</td>\n",
       "      <td>346</td>\n",
       "    </tr>\n",
       "  </tbody>\n",
       "</table>\n",
       "</div>"
      ],
      "text/plain": [
       "        tconst  ordering     nconst  category index_create  Unnamed: 0  \\\n",
       "24   tt0000009         1  nm0063086   actress           25           0   \n",
       "25   tt0000009         2  nm0183823     actor           26           0   \n",
       "26   tt0000009         3  nm1309758     actor           27           0   \n",
       "27   tt0000009         4  nm0085156  director           28           0   \n",
       "252  tt0000147         1  nm0179163      self          253           1   \n",
       "\n",
       "     Unnamed: 0.1  startYear                          movieyear  \\\n",
       "24              8       1894                     1894Miss Jerry   \n",
       "25              8       1894                     1894Miss Jerry   \n",
       "26              8       1894                     1894Miss Jerry   \n",
       "27              8       1894                     1894Miss Jerry   \n",
       "252           145       1897  1897The Corbett-Fitzsimmons Fight   \n",
       "\n",
       "     averageRating  numVotes  \n",
       "24             5.9       153  \n",
       "25             5.9       153  \n",
       "26             5.9       153  \n",
       "27             5.9       153  \n",
       "252            5.2       346  "
      ]
     },
     "execution_count": 10,
     "metadata": {},
     "output_type": "execute_result"
    }
   ],
   "source": [
    "principals.head()"
   ]
  },
  {
   "cell_type": "code",
   "execution_count": 11,
   "metadata": {
    "ExecuteTime": {
     "end_time": "2020-07-03T13:08:58.558362Z",
     "start_time": "2020-07-03T13:08:51.563877Z"
    }
   },
   "outputs": [],
   "source": [
    "num_crew = pd.DataFrame(pd.pivot_table(principals, \n",
    "                      values='index_create', \n",
    "                      index='tconst', \n",
    "                      columns='category',\n",
    "                      aggfunc='count',\n",
    "                                      margins = True))"
   ]
  },
  {
   "cell_type": "code",
   "execution_count": 12,
   "metadata": {
    "ExecuteTime": {
     "end_time": "2020-07-03T13:08:58.785524Z",
     "start_time": "2020-07-03T13:08:58.704715Z"
    }
   },
   "outputs": [
    {
     "data": {
      "text/html": [
       "<div>\n",
       "<style scoped>\n",
       "    .dataframe tbody tr th:only-of-type {\n",
       "        vertical-align: middle;\n",
       "    }\n",
       "\n",
       "    .dataframe tbody tr th {\n",
       "        vertical-align: top;\n",
       "    }\n",
       "\n",
       "    .dataframe thead th {\n",
       "        text-align: right;\n",
       "    }\n",
       "</style>\n",
       "<table border=\"1\" class=\"dataframe\">\n",
       "  <thead>\n",
       "    <tr style=\"text-align: right;\">\n",
       "      <th>category</th>\n",
       "      <th>tconst</th>\n",
       "      <th>actor</th>\n",
       "      <th>actress</th>\n",
       "      <th>archive_footage</th>\n",
       "      <th>archive_sound</th>\n",
       "      <th>cinematographer</th>\n",
       "      <th>composer</th>\n",
       "      <th>director</th>\n",
       "      <th>editor</th>\n",
       "      <th>producer</th>\n",
       "      <th>production_designer</th>\n",
       "      <th>self</th>\n",
       "      <th>writer</th>\n",
       "      <th>All</th>\n",
       "    </tr>\n",
       "  </thead>\n",
       "  <tbody>\n",
       "    <tr>\n",
       "      <th>0</th>\n",
       "      <td>tt0000009</td>\n",
       "      <td>2.0</td>\n",
       "      <td>1.0</td>\n",
       "      <td>NaN</td>\n",
       "      <td>NaN</td>\n",
       "      <td>NaN</td>\n",
       "      <td>NaN</td>\n",
       "      <td>1.0</td>\n",
       "      <td>NaN</td>\n",
       "      <td>NaN</td>\n",
       "      <td>NaN</td>\n",
       "      <td>NaN</td>\n",
       "      <td>NaN</td>\n",
       "      <td>4</td>\n",
       "    </tr>\n",
       "    <tr>\n",
       "      <th>1</th>\n",
       "      <td>tt0000147</td>\n",
       "      <td>NaN</td>\n",
       "      <td>NaN</td>\n",
       "      <td>NaN</td>\n",
       "      <td>NaN</td>\n",
       "      <td>NaN</td>\n",
       "      <td>NaN</td>\n",
       "      <td>1.0</td>\n",
       "      <td>NaN</td>\n",
       "      <td>1.0</td>\n",
       "      <td>NaN</td>\n",
       "      <td>5.0</td>\n",
       "      <td>NaN</td>\n",
       "      <td>7</td>\n",
       "    </tr>\n",
       "    <tr>\n",
       "      <th>2</th>\n",
       "      <td>tt0000574</td>\n",
       "      <td>2.0</td>\n",
       "      <td>2.0</td>\n",
       "      <td>NaN</td>\n",
       "      <td>NaN</td>\n",
       "      <td>1.0</td>\n",
       "      <td>1.0</td>\n",
       "      <td>1.0</td>\n",
       "      <td>NaN</td>\n",
       "      <td>3.0</td>\n",
       "      <td>NaN</td>\n",
       "      <td>NaN</td>\n",
       "      <td>NaN</td>\n",
       "      <td>10</td>\n",
       "    </tr>\n",
       "    <tr>\n",
       "      <th>3</th>\n",
       "      <td>tt0000679</td>\n",
       "      <td>4.0</td>\n",
       "      <td>NaN</td>\n",
       "      <td>NaN</td>\n",
       "      <td>NaN</td>\n",
       "      <td>NaN</td>\n",
       "      <td>1.0</td>\n",
       "      <td>2.0</td>\n",
       "      <td>NaN</td>\n",
       "      <td>NaN</td>\n",
       "      <td>NaN</td>\n",
       "      <td>NaN</td>\n",
       "      <td>NaN</td>\n",
       "      <td>7</td>\n",
       "    </tr>\n",
       "    <tr>\n",
       "      <th>4</th>\n",
       "      <td>tt0001184</td>\n",
       "      <td>1.0</td>\n",
       "      <td>1.0</td>\n",
       "      <td>NaN</td>\n",
       "      <td>NaN</td>\n",
       "      <td>1.0</td>\n",
       "      <td>NaN</td>\n",
       "      <td>2.0</td>\n",
       "      <td>NaN</td>\n",
       "      <td>NaN</td>\n",
       "      <td>NaN</td>\n",
       "      <td>NaN</td>\n",
       "      <td>1.0</td>\n",
       "      <td>6</td>\n",
       "    </tr>\n",
       "  </tbody>\n",
       "</table>\n",
       "</div>"
      ],
      "text/plain": [
       "category     tconst  actor  actress  archive_footage  archive_sound  \\\n",
       "0         tt0000009    2.0      1.0              NaN            NaN   \n",
       "1         tt0000147    NaN      NaN              NaN            NaN   \n",
       "2         tt0000574    2.0      2.0              NaN            NaN   \n",
       "3         tt0000679    4.0      NaN              NaN            NaN   \n",
       "4         tt0001184    1.0      1.0              NaN            NaN   \n",
       "\n",
       "category  cinematographer  composer  director  editor  producer  \\\n",
       "0                     NaN       NaN       1.0     NaN       NaN   \n",
       "1                     NaN       NaN       1.0     NaN       1.0   \n",
       "2                     1.0       1.0       1.0     NaN       3.0   \n",
       "3                     NaN       1.0       2.0     NaN       NaN   \n",
       "4                     1.0       NaN       2.0     NaN       NaN   \n",
       "\n",
       "category  production_designer  self  writer  All  \n",
       "0                         NaN   NaN     NaN    4  \n",
       "1                         NaN   5.0     NaN    7  \n",
       "2                         NaN   NaN     NaN   10  \n",
       "3                         NaN   NaN     NaN    7  \n",
       "4                         NaN   NaN     1.0    6  "
      ]
     },
     "execution_count": 12,
     "metadata": {},
     "output_type": "execute_result"
    }
   ],
   "source": [
    "num_crew = num_crew.reset_index()\n",
    "num_crew.head()"
   ]
  },
  {
   "cell_type": "code",
   "execution_count": 13,
   "metadata": {
    "ExecuteTime": {
     "end_time": "2020-07-03T13:08:58.944340Z",
     "start_time": "2020-07-03T13:08:58.916707Z"
    }
   },
   "outputs": [],
   "source": [
    "num_crew = num_crew.drop(['actor','actress','archive_footage','archive_sound','cinematographer','composer','director','editor','producer','production_designer','self','writer'], axis = 1)"
   ]
  },
  {
   "cell_type": "code",
   "execution_count": 29,
   "metadata": {
    "ExecuteTime": {
     "end_time": "2020-07-03T13:52:51.135438Z",
     "start_time": "2020-07-03T13:52:51.109695Z"
    }
   },
   "outputs": [],
   "source": [
    "num_crew = num_crew.rename({'All':'num_crew'}, axis = 1)"
   ]
  },
  {
   "cell_type": "code",
   "execution_count": 14,
   "metadata": {
    "ExecuteTime": {
     "end_time": "2020-07-03T13:08:59.884790Z",
     "start_time": "2020-07-03T13:08:59.046585Z"
    }
   },
   "outputs": [],
   "source": [
    "principals_actors = principals[(principals.category == 'actor')|(principals.category == 'actress')]"
   ]
  },
  {
   "cell_type": "code",
   "execution_count": 15,
   "metadata": {
    "ExecuteTime": {
     "end_time": "2020-07-03T13:09:00.056886Z",
     "start_time": "2020-07-03T13:09:00.025677Z"
    }
   },
   "outputs": [
    {
     "data": {
      "text/html": [
       "<div>\n",
       "<style scoped>\n",
       "    .dataframe tbody tr th:only-of-type {\n",
       "        vertical-align: middle;\n",
       "    }\n",
       "\n",
       "    .dataframe tbody tr th {\n",
       "        vertical-align: top;\n",
       "    }\n",
       "\n",
       "    .dataframe thead th {\n",
       "        text-align: right;\n",
       "    }\n",
       "</style>\n",
       "<table border=\"1\" class=\"dataframe\">\n",
       "  <thead>\n",
       "    <tr style=\"text-align: right;\">\n",
       "      <th></th>\n",
       "      <th>tconst</th>\n",
       "      <th>ordering</th>\n",
       "      <th>nconst</th>\n",
       "      <th>category</th>\n",
       "      <th>index_create</th>\n",
       "      <th>Unnamed: 0</th>\n",
       "      <th>Unnamed: 0.1</th>\n",
       "      <th>startYear</th>\n",
       "      <th>movieyear</th>\n",
       "      <th>averageRating</th>\n",
       "      <th>numVotes</th>\n",
       "    </tr>\n",
       "  </thead>\n",
       "  <tbody>\n",
       "    <tr>\n",
       "      <th>24</th>\n",
       "      <td>tt0000009</td>\n",
       "      <td>1</td>\n",
       "      <td>nm0063086</td>\n",
       "      <td>actress</td>\n",
       "      <td>25</td>\n",
       "      <td>0</td>\n",
       "      <td>8</td>\n",
       "      <td>1894</td>\n",
       "      <td>1894Miss Jerry</td>\n",
       "      <td>5.9</td>\n",
       "      <td>153</td>\n",
       "    </tr>\n",
       "    <tr>\n",
       "      <th>25</th>\n",
       "      <td>tt0000009</td>\n",
       "      <td>2</td>\n",
       "      <td>nm0183823</td>\n",
       "      <td>actor</td>\n",
       "      <td>26</td>\n",
       "      <td>0</td>\n",
       "      <td>8</td>\n",
       "      <td>1894</td>\n",
       "      <td>1894Miss Jerry</td>\n",
       "      <td>5.9</td>\n",
       "      <td>153</td>\n",
       "    </tr>\n",
       "    <tr>\n",
       "      <th>26</th>\n",
       "      <td>tt0000009</td>\n",
       "      <td>3</td>\n",
       "      <td>nm1309758</td>\n",
       "      <td>actor</td>\n",
       "      <td>27</td>\n",
       "      <td>0</td>\n",
       "      <td>8</td>\n",
       "      <td>1894</td>\n",
       "      <td>1894Miss Jerry</td>\n",
       "      <td>5.9</td>\n",
       "      <td>153</td>\n",
       "    </tr>\n",
       "    <tr>\n",
       "      <th>1039</th>\n",
       "      <td>tt0000574</td>\n",
       "      <td>1</td>\n",
       "      <td>nm0846887</td>\n",
       "      <td>actress</td>\n",
       "      <td>1040</td>\n",
       "      <td>2</td>\n",
       "      <td>571</td>\n",
       "      <td>1906</td>\n",
       "      <td>1906The Story of the Kelly Gang</td>\n",
       "      <td>6.1</td>\n",
       "      <td>574</td>\n",
       "    </tr>\n",
       "    <tr>\n",
       "      <th>1040</th>\n",
       "      <td>tt0000574</td>\n",
       "      <td>2</td>\n",
       "      <td>nm0846894</td>\n",
       "      <td>actor</td>\n",
       "      <td>1041</td>\n",
       "      <td>2</td>\n",
       "      <td>571</td>\n",
       "      <td>1906</td>\n",
       "      <td>1906The Story of the Kelly Gang</td>\n",
       "      <td>6.1</td>\n",
       "      <td>574</td>\n",
       "    </tr>\n",
       "  </tbody>\n",
       "</table>\n",
       "</div>"
      ],
      "text/plain": [
       "         tconst  ordering     nconst category index_create  Unnamed: 0  \\\n",
       "24    tt0000009         1  nm0063086  actress           25           0   \n",
       "25    tt0000009         2  nm0183823    actor           26           0   \n",
       "26    tt0000009         3  nm1309758    actor           27           0   \n",
       "1039  tt0000574         1  nm0846887  actress         1040           2   \n",
       "1040  tt0000574         2  nm0846894    actor         1041           2   \n",
       "\n",
       "      Unnamed: 0.1  startYear                        movieyear  averageRating  \\\n",
       "24               8       1894                   1894Miss Jerry            5.9   \n",
       "25               8       1894                   1894Miss Jerry            5.9   \n",
       "26               8       1894                   1894Miss Jerry            5.9   \n",
       "1039           571       1906  1906The Story of the Kelly Gang            6.1   \n",
       "1040           571       1906  1906The Story of the Kelly Gang            6.1   \n",
       "\n",
       "      numVotes  \n",
       "24         153  \n",
       "25         153  \n",
       "26         153  \n",
       "1039       574  \n",
       "1040       574  "
      ]
     },
     "execution_count": 15,
     "metadata": {},
     "output_type": "execute_result"
    }
   ],
   "source": [
    "principals_actors.head()"
   ]
  },
  {
   "cell_type": "code",
   "execution_count": 16,
   "metadata": {
    "ExecuteTime": {
     "end_time": "2020-07-03T13:09:00.656382Z",
     "start_time": "2020-07-03T13:09:00.189886Z"
    }
   },
   "outputs": [
    {
     "name": "stdout",
     "output_type": "stream",
     "text": [
      "<class 'pandas.core.frame.DataFrame'>\n",
      "Int64Index: 793459 entries, 24 to 39422014\n",
      "Data columns (total 11 columns):\n",
      " #   Column         Non-Null Count   Dtype  \n",
      "---  ------         --------------   -----  \n",
      " 0   tconst         793459 non-null  object \n",
      " 1   ordering       793459 non-null  int64  \n",
      " 2   nconst         793459 non-null  object \n",
      " 3   category       793459 non-null  object \n",
      " 4   index_create   793459 non-null  object \n",
      " 5   Unnamed: 0     793459 non-null  int64  \n",
      " 6   Unnamed: 0.1   793459 non-null  int64  \n",
      " 7   startYear      793459 non-null  int64  \n",
      " 8   movieyear      793459 non-null  object \n",
      " 9   averageRating  793459 non-null  float64\n",
      " 10  numVotes       793459 non-null  int64  \n",
      "dtypes: float64(1), int64(5), object(5)\n",
      "memory usage: 72.6+ MB\n"
     ]
    }
   ],
   "source": [
    "principals_actors.info()"
   ]
  },
  {
   "cell_type": "code",
   "execution_count": 17,
   "metadata": {
    "ExecuteTime": {
     "end_time": "2020-07-03T13:09:00.872358Z",
     "start_time": "2020-07-03T13:09:00.814606Z"
    }
   },
   "outputs": [
    {
     "name": "stderr",
     "output_type": "stream",
     "text": [
      "C:\\Users\\afilg\\anaconda3\\lib\\site-packages\\ipykernel_launcher.py:1: SettingWithCopyWarning: \n",
      "A value is trying to be set on a copy of a slice from a DataFrame.\n",
      "Try using .loc[row_indexer,col_indexer] = value instead\n",
      "\n",
      "See the caveats in the documentation: https://pandas.pydata.org/pandas-docs/stable/user_guide/indexing.html#returning-a-view-versus-a-copy\n",
      "  \"\"\"Entry point for launching an IPython kernel.\n"
     ]
    }
   ],
   "source": [
    "principals_actors['rating_num'] = principals_actors['averageRating']*principals_actors['numVotes']"
   ]
  },
  {
   "cell_type": "code",
   "execution_count": 18,
   "metadata": {
    "ExecuteTime": {
     "end_time": "2020-07-03T13:09:01.090707Z",
     "start_time": "2020-07-03T13:09:01.050029Z"
    }
   },
   "outputs": [
    {
     "data": {
      "text/html": [
       "<div>\n",
       "<style scoped>\n",
       "    .dataframe tbody tr th:only-of-type {\n",
       "        vertical-align: middle;\n",
       "    }\n",
       "\n",
       "    .dataframe tbody tr th {\n",
       "        vertical-align: top;\n",
       "    }\n",
       "\n",
       "    .dataframe thead th {\n",
       "        text-align: right;\n",
       "    }\n",
       "</style>\n",
       "<table border=\"1\" class=\"dataframe\">\n",
       "  <thead>\n",
       "    <tr style=\"text-align: right;\">\n",
       "      <th></th>\n",
       "      <th>tconst</th>\n",
       "      <th>ordering</th>\n",
       "      <th>nconst</th>\n",
       "      <th>category</th>\n",
       "      <th>index_create</th>\n",
       "      <th>Unnamed: 0</th>\n",
       "      <th>Unnamed: 0.1</th>\n",
       "      <th>startYear</th>\n",
       "      <th>movieyear</th>\n",
       "      <th>averageRating</th>\n",
       "      <th>numVotes</th>\n",
       "      <th>rating_num</th>\n",
       "    </tr>\n",
       "  </thead>\n",
       "  <tbody>\n",
       "    <tr>\n",
       "      <th>24</th>\n",
       "      <td>tt0000009</td>\n",
       "      <td>1</td>\n",
       "      <td>nm0063086</td>\n",
       "      <td>actress</td>\n",
       "      <td>25</td>\n",
       "      <td>0</td>\n",
       "      <td>8</td>\n",
       "      <td>1894</td>\n",
       "      <td>1894Miss Jerry</td>\n",
       "      <td>5.9</td>\n",
       "      <td>153</td>\n",
       "      <td>902.7</td>\n",
       "    </tr>\n",
       "    <tr>\n",
       "      <th>25</th>\n",
       "      <td>tt0000009</td>\n",
       "      <td>2</td>\n",
       "      <td>nm0183823</td>\n",
       "      <td>actor</td>\n",
       "      <td>26</td>\n",
       "      <td>0</td>\n",
       "      <td>8</td>\n",
       "      <td>1894</td>\n",
       "      <td>1894Miss Jerry</td>\n",
       "      <td>5.9</td>\n",
       "      <td>153</td>\n",
       "      <td>902.7</td>\n",
       "    </tr>\n",
       "    <tr>\n",
       "      <th>26</th>\n",
       "      <td>tt0000009</td>\n",
       "      <td>3</td>\n",
       "      <td>nm1309758</td>\n",
       "      <td>actor</td>\n",
       "      <td>27</td>\n",
       "      <td>0</td>\n",
       "      <td>8</td>\n",
       "      <td>1894</td>\n",
       "      <td>1894Miss Jerry</td>\n",
       "      <td>5.9</td>\n",
       "      <td>153</td>\n",
       "      <td>902.7</td>\n",
       "    </tr>\n",
       "    <tr>\n",
       "      <th>1039</th>\n",
       "      <td>tt0000574</td>\n",
       "      <td>1</td>\n",
       "      <td>nm0846887</td>\n",
       "      <td>actress</td>\n",
       "      <td>1040</td>\n",
       "      <td>2</td>\n",
       "      <td>571</td>\n",
       "      <td>1906</td>\n",
       "      <td>1906The Story of the Kelly Gang</td>\n",
       "      <td>6.1</td>\n",
       "      <td>574</td>\n",
       "      <td>3501.4</td>\n",
       "    </tr>\n",
       "    <tr>\n",
       "      <th>1040</th>\n",
       "      <td>tt0000574</td>\n",
       "      <td>2</td>\n",
       "      <td>nm0846894</td>\n",
       "      <td>actor</td>\n",
       "      <td>1041</td>\n",
       "      <td>2</td>\n",
       "      <td>571</td>\n",
       "      <td>1906</td>\n",
       "      <td>1906The Story of the Kelly Gang</td>\n",
       "      <td>6.1</td>\n",
       "      <td>574</td>\n",
       "      <td>3501.4</td>\n",
       "    </tr>\n",
       "  </tbody>\n",
       "</table>\n",
       "</div>"
      ],
      "text/plain": [
       "         tconst  ordering     nconst category index_create  Unnamed: 0  \\\n",
       "24    tt0000009         1  nm0063086  actress           25           0   \n",
       "25    tt0000009         2  nm0183823    actor           26           0   \n",
       "26    tt0000009         3  nm1309758    actor           27           0   \n",
       "1039  tt0000574         1  nm0846887  actress         1040           2   \n",
       "1040  tt0000574         2  nm0846894    actor         1041           2   \n",
       "\n",
       "      Unnamed: 0.1  startYear                        movieyear  averageRating  \\\n",
       "24               8       1894                   1894Miss Jerry            5.9   \n",
       "25               8       1894                   1894Miss Jerry            5.9   \n",
       "26               8       1894                   1894Miss Jerry            5.9   \n",
       "1039           571       1906  1906The Story of the Kelly Gang            6.1   \n",
       "1040           571       1906  1906The Story of the Kelly Gang            6.1   \n",
       "\n",
       "      numVotes  rating_num  \n",
       "24         153       902.7  \n",
       "25         153       902.7  \n",
       "26         153       902.7  \n",
       "1039       574      3501.4  \n",
       "1040       574      3501.4  "
      ]
     },
     "execution_count": 18,
     "metadata": {},
     "output_type": "execute_result"
    }
   ],
   "source": [
    "principals_actors.head()"
   ]
  },
  {
   "cell_type": "code",
   "execution_count": 19,
   "metadata": {
    "ExecuteTime": {
     "end_time": "2020-07-03T13:09:01.459385Z",
     "start_time": "2020-07-03T13:09:01.273508Z"
    }
   },
   "outputs": [],
   "source": [
    "principals_actors = principals_actors[principals_actors.startYear>=2000]"
   ]
  },
  {
   "cell_type": "code",
   "execution_count": 20,
   "metadata": {
    "ExecuteTime": {
     "end_time": "2020-07-03T13:09:01.683875Z",
     "start_time": "2020-07-03T13:09:01.626822Z"
    }
   },
   "outputs": [],
   "source": [
    "principals_temp = principals_actors.loc[:,['tconst','nconst','startYear','rating_num','numVotes']]"
   ]
  },
  {
   "cell_type": "code",
   "execution_count": 21,
   "metadata": {
    "ExecuteTime": {
     "end_time": "2020-07-03T13:09:01.941792Z",
     "start_time": "2020-07-03T13:09:01.918118Z"
    }
   },
   "outputs": [
    {
     "data": {
      "text/html": [
       "<div>\n",
       "<style scoped>\n",
       "    .dataframe tbody tr th:only-of-type {\n",
       "        vertical-align: middle;\n",
       "    }\n",
       "\n",
       "    .dataframe tbody tr th {\n",
       "        vertical-align: top;\n",
       "    }\n",
       "\n",
       "    .dataframe thead th {\n",
       "        text-align: right;\n",
       "    }\n",
       "</style>\n",
       "<table border=\"1\" class=\"dataframe\">\n",
       "  <thead>\n",
       "    <tr style=\"text-align: right;\">\n",
       "      <th></th>\n",
       "      <th>tconst</th>\n",
       "      <th>nconst</th>\n",
       "      <th>startYear</th>\n",
       "      <th>rating_num</th>\n",
       "      <th>numVotes</th>\n",
       "    </tr>\n",
       "  </thead>\n",
       "  <tbody>\n",
       "    <tr>\n",
       "      <th>122244</th>\n",
       "      <td>tt0016906</td>\n",
       "      <td>nm0530110</td>\n",
       "      <td>2014</td>\n",
       "      <td>84.0</td>\n",
       "      <td>15</td>\n",
       "    </tr>\n",
       "    <tr>\n",
       "      <th>122245</th>\n",
       "      <td>tt0016906</td>\n",
       "      <td>nm0022209</td>\n",
       "      <td>2014</td>\n",
       "      <td>84.0</td>\n",
       "      <td>15</td>\n",
       "    </tr>\n",
       "    <tr>\n",
       "      <th>122246</th>\n",
       "      <td>tt0016906</td>\n",
       "      <td>nm0069354</td>\n",
       "      <td>2014</td>\n",
       "      <td>84.0</td>\n",
       "      <td>15</td>\n",
       "    </tr>\n",
       "    <tr>\n",
       "      <th>122247</th>\n",
       "      <td>tt0016906</td>\n",
       "      <td>nm0127480</td>\n",
       "      <td>2014</td>\n",
       "      <td>84.0</td>\n",
       "      <td>15</td>\n",
       "    </tr>\n",
       "    <tr>\n",
       "      <th>122248</th>\n",
       "      <td>tt0016906</td>\n",
       "      <td>nm0002816</td>\n",
       "      <td>2014</td>\n",
       "      <td>84.0</td>\n",
       "      <td>15</td>\n",
       "    </tr>\n",
       "  </tbody>\n",
       "</table>\n",
       "</div>"
      ],
      "text/plain": [
       "           tconst     nconst  startYear  rating_num  numVotes\n",
       "122244  tt0016906  nm0530110       2014        84.0        15\n",
       "122245  tt0016906  nm0022209       2014        84.0        15\n",
       "122246  tt0016906  nm0069354       2014        84.0        15\n",
       "122247  tt0016906  nm0127480       2014        84.0        15\n",
       "122248  tt0016906  nm0002816       2014        84.0        15"
      ]
     },
     "execution_count": 21,
     "metadata": {},
     "output_type": "execute_result"
    }
   ],
   "source": [
    "principals_temp.head()"
   ]
  },
  {
   "cell_type": "code",
   "execution_count": 22,
   "metadata": {
    "ExecuteTime": {
     "end_time": "2020-07-03T13:09:02.177102Z",
     "start_time": "2020-07-03T13:09:02.166394Z"
    }
   },
   "outputs": [
    {
     "data": {
      "text/plain": [
       "(388937, 5)"
      ]
     },
     "execution_count": 22,
     "metadata": {},
     "output_type": "execute_result"
    }
   ],
   "source": [
    "principals_temp.shape"
   ]
  },
  {
   "cell_type": "code",
   "execution_count": 30,
   "metadata": {
    "ExecuteTime": {
     "end_time": "2020-07-03T13:52:58.041241Z",
     "start_time": "2020-07-03T13:52:57.740225Z"
    }
   },
   "outputs": [],
   "source": [
    "principals_temp_export = principals_temp.join(num_crew.set_index('tconst'), on = 'tconst')"
   ]
  },
  {
   "cell_type": "code",
   "execution_count": 31,
   "metadata": {
    "ExecuteTime": {
     "end_time": "2020-07-03T13:52:58.299864Z",
     "start_time": "2020-07-03T13:52:58.276629Z"
    }
   },
   "outputs": [
    {
     "data": {
      "text/html": [
       "<div>\n",
       "<style scoped>\n",
       "    .dataframe tbody tr th:only-of-type {\n",
       "        vertical-align: middle;\n",
       "    }\n",
       "\n",
       "    .dataframe tbody tr th {\n",
       "        vertical-align: top;\n",
       "    }\n",
       "\n",
       "    .dataframe thead th {\n",
       "        text-align: right;\n",
       "    }\n",
       "</style>\n",
       "<table border=\"1\" class=\"dataframe\">\n",
       "  <thead>\n",
       "    <tr style=\"text-align: right;\">\n",
       "      <th></th>\n",
       "      <th>tconst</th>\n",
       "      <th>nconst</th>\n",
       "      <th>startYear</th>\n",
       "      <th>rating_num</th>\n",
       "      <th>numVotes</th>\n",
       "      <th>num_crew</th>\n",
       "    </tr>\n",
       "  </thead>\n",
       "  <tbody>\n",
       "    <tr>\n",
       "      <th>122244</th>\n",
       "      <td>tt0016906</td>\n",
       "      <td>nm0530110</td>\n",
       "      <td>2014</td>\n",
       "      <td>84.0</td>\n",
       "      <td>15</td>\n",
       "      <td>10</td>\n",
       "    </tr>\n",
       "    <tr>\n",
       "      <th>122245</th>\n",
       "      <td>tt0016906</td>\n",
       "      <td>nm0022209</td>\n",
       "      <td>2014</td>\n",
       "      <td>84.0</td>\n",
       "      <td>15</td>\n",
       "      <td>10</td>\n",
       "    </tr>\n",
       "    <tr>\n",
       "      <th>122246</th>\n",
       "      <td>tt0016906</td>\n",
       "      <td>nm0069354</td>\n",
       "      <td>2014</td>\n",
       "      <td>84.0</td>\n",
       "      <td>15</td>\n",
       "      <td>10</td>\n",
       "    </tr>\n",
       "    <tr>\n",
       "      <th>122247</th>\n",
       "      <td>tt0016906</td>\n",
       "      <td>nm0127480</td>\n",
       "      <td>2014</td>\n",
       "      <td>84.0</td>\n",
       "      <td>15</td>\n",
       "      <td>10</td>\n",
       "    </tr>\n",
       "    <tr>\n",
       "      <th>122248</th>\n",
       "      <td>tt0016906</td>\n",
       "      <td>nm0002816</td>\n",
       "      <td>2014</td>\n",
       "      <td>84.0</td>\n",
       "      <td>15</td>\n",
       "      <td>10</td>\n",
       "    </tr>\n",
       "  </tbody>\n",
       "</table>\n",
       "</div>"
      ],
      "text/plain": [
       "           tconst     nconst  startYear  rating_num  numVotes  num_crew\n",
       "122244  tt0016906  nm0530110       2014        84.0        15        10\n",
       "122245  tt0016906  nm0022209       2014        84.0        15        10\n",
       "122246  tt0016906  nm0069354       2014        84.0        15        10\n",
       "122247  tt0016906  nm0127480       2014        84.0        15        10\n",
       "122248  tt0016906  nm0002816       2014        84.0        15        10"
      ]
     },
     "execution_count": 31,
     "metadata": {},
     "output_type": "execute_result"
    }
   ],
   "source": [
    "principals_temp_export.head()"
   ]
  },
  {
   "cell_type": "code",
   "execution_count": 32,
   "metadata": {
    "ExecuteTime": {
     "end_time": "2020-07-03T14:06:52.179948Z",
     "start_time": "2020-07-03T14:06:46.151234Z"
    }
   },
   "outputs": [],
   "source": [
    "principals_temp_export.to_csv('principals.csv')"
   ]
  }
 ],
 "metadata": {
  "kernelspec": {
   "display_name": "Python 3",
   "language": "python",
   "name": "python3"
  },
  "language_info": {
   "codemirror_mode": {
    "name": "ipython",
    "version": 3
   },
   "file_extension": ".py",
   "mimetype": "text/x-python",
   "name": "python",
   "nbconvert_exporter": "python",
   "pygments_lexer": "ipython3",
   "version": "3.7.7"
  },
  "toc": {
   "base_numbering": 1,
   "nav_menu": {},
   "number_sections": true,
   "sideBar": true,
   "skip_h1_title": false,
   "title_cell": "Table of Contents",
   "title_sidebar": "Contents",
   "toc_cell": false,
   "toc_position": {},
   "toc_section_display": true,
   "toc_window_display": false
  },
  "varInspector": {
   "cols": {
    "lenName": 16,
    "lenType": 16,
    "lenVar": 40
   },
   "kernels_config": {
    "python": {
     "delete_cmd_postfix": "",
     "delete_cmd_prefix": "del ",
     "library": "var_list.py",
     "varRefreshCmd": "print(var_dic_list())"
    },
    "r": {
     "delete_cmd_postfix": ") ",
     "delete_cmd_prefix": "rm(",
     "library": "var_list.r",
     "varRefreshCmd": "cat(var_dic_list()) "
    }
   },
   "types_to_exclude": [
    "module",
    "function",
    "builtin_function_or_method",
    "instance",
    "_Feature"
   ],
   "window_display": false
  }
 },
 "nbformat": 4,
 "nbformat_minor": 4
}
