{
 "cells": [
  {
   "cell_type": "markdown",
   "metadata": {},
   "source": [
    "## Budgets"
   ]
  },
  {
   "cell_type": "code",
   "execution_count": 1,
   "metadata": {
    "ExecuteTime": {
     "end_time": "2020-07-03T14:01:32.750521Z",
     "start_time": "2020-07-03T14:01:29.107489Z"
    }
   },
   "outputs": [],
   "source": [
    "# abrir bibliotecas\n",
    "import pandas as pd\n",
    "import seaborn as sns\n",
    "import numpy as np\n",
    "import statsmodels.formula.api as smf\n",
    "import matplotlib.pyplot as plt\n",
    "from tqdm.auto import tqdm\n",
    "%matplotlib inline"
   ]
  },
  {
   "cell_type": "code",
   "execution_count": 2,
   "metadata": {
    "ExecuteTime": {
     "end_time": "2020-07-03T14:01:32.847349Z",
     "start_time": "2020-07-03T14:01:32.755295Z"
    }
   },
   "outputs": [
    {
     "data": {
      "text/html": [
       "<div>\n",
       "<style scoped>\n",
       "    .dataframe tbody tr th:only-of-type {\n",
       "        vertical-align: middle;\n",
       "    }\n",
       "\n",
       "    .dataframe tbody tr th {\n",
       "        vertical-align: top;\n",
       "    }\n",
       "\n",
       "    .dataframe thead th {\n",
       "        text-align: right;\n",
       "    }\n",
       "</style>\n",
       "<table border=\"1\" class=\"dataframe\">\n",
       "  <thead>\n",
       "    <tr style=\"text-align: right;\">\n",
       "      <th></th>\n",
       "      <th>0</th>\n",
       "      <th>1</th>\n",
       "      <th>2</th>\n",
       "      <th>3</th>\n",
       "      <th>4</th>\n",
       "    </tr>\n",
       "  </thead>\n",
       "  <tbody>\n",
       "    <tr>\n",
       "      <th>Item</th>\n",
       "      <td>1</td>\n",
       "      <td>2</td>\n",
       "      <td>3</td>\n",
       "      <td>4</td>\n",
       "      <td>5</td>\n",
       "    </tr>\n",
       "    <tr>\n",
       "      <th>Mês</th>\n",
       "      <td>Abril</td>\n",
       "      <td>Maio</td>\n",
       "      <td>Abril</td>\n",
       "      <td>Dezembro</td>\n",
       "      <td>Abril</td>\n",
       "    </tr>\n",
       "    <tr>\n",
       "      <th>Mes (numeral)</th>\n",
       "      <td>4</td>\n",
       "      <td>5</td>\n",
       "      <td>4</td>\n",
       "      <td>12</td>\n",
       "      <td>4</td>\n",
       "    </tr>\n",
       "    <tr>\n",
       "      <th>Dia</th>\n",
       "      <td>23</td>\n",
       "      <td>20</td>\n",
       "      <td>22</td>\n",
       "      <td>16</td>\n",
       "      <td>25</td>\n",
       "    </tr>\n",
       "    <tr>\n",
       "      <th>Ano</th>\n",
       "      <td>2019</td>\n",
       "      <td>2011</td>\n",
       "      <td>2015</td>\n",
       "      <td>2015</td>\n",
       "      <td>2018</td>\n",
       "    </tr>\n",
       "    <tr>\n",
       "      <th>Data Portugues</th>\n",
       "      <td>23/04/2019</td>\n",
       "      <td>20/05/2011</td>\n",
       "      <td>22/04/2015</td>\n",
       "      <td>16/12/2015</td>\n",
       "      <td>25/04/2018</td>\n",
       "    </tr>\n",
       "    <tr>\n",
       "      <th>FW</th>\n",
       "      <td>17</td>\n",
       "      <td>20</td>\n",
       "      <td>17</td>\n",
       "      <td>51</td>\n",
       "      <td>17</td>\n",
       "    </tr>\n",
       "    <tr>\n",
       "      <th>Movie</th>\n",
       "      <td>Avengers: Endgame</td>\n",
       "      <td>Pirates of the Caribbean: On Stranger Tides</td>\n",
       "      <td>Avengers: Age of Ultron</td>\n",
       "      <td>Star Wars Ep. VII: The Force Awakens</td>\n",
       "      <td>Avengers: Infinity War</td>\n",
       "    </tr>\n",
       "    <tr>\n",
       "      <th>Production Budget</th>\n",
       "      <td>400000000</td>\n",
       "      <td>379000000</td>\n",
       "      <td>365000000</td>\n",
       "      <td>306000000</td>\n",
       "      <td>300000000</td>\n",
       "    </tr>\n",
       "    <tr>\n",
       "      <th>Worldwide Gross</th>\n",
       "      <td>2797800564</td>\n",
       "      <td>1045663875</td>\n",
       "      <td>1396099202</td>\n",
       "      <td>2068223624</td>\n",
       "      <td>2048359754</td>\n",
       "    </tr>\n",
       "  </tbody>\n",
       "</table>\n",
       "</div>"
      ],
      "text/plain": [
       "                                   0  \\\n",
       "Item                               1   \n",
       "Mês                            Abril   \n",
       "Mes (numeral)                      4   \n",
       "Dia                               23   \n",
       "Ano                             2019   \n",
       "Data Portugues            23/04/2019   \n",
       "FW                                17   \n",
       "Movie              Avengers: Endgame   \n",
       "Production Budget          400000000   \n",
       "Worldwide Gross           2797800564   \n",
       "\n",
       "                                                             1  \\\n",
       "Item                                                         2   \n",
       "Mês                                                       Maio   \n",
       "Mes (numeral)                                                5   \n",
       "Dia                                                         20   \n",
       "Ano                                                       2011   \n",
       "Data Portugues                                      20/05/2011   \n",
       "FW                                                          20   \n",
       "Movie              Pirates of the Caribbean: On Stranger Tides   \n",
       "Production Budget                                    379000000   \n",
       "Worldwide Gross                                     1045663875   \n",
       "\n",
       "                                         2  \\\n",
       "Item                                     3   \n",
       "Mês                                  Abril   \n",
       "Mes (numeral)                            4   \n",
       "Dia                                     22   \n",
       "Ano                                   2015   \n",
       "Data Portugues                  22/04/2015   \n",
       "FW                                      17   \n",
       "Movie              Avengers: Age of Ultron   \n",
       "Production Budget                365000000   \n",
       "Worldwide Gross                 1396099202   \n",
       "\n",
       "                                                      3  \\\n",
       "Item                                                  4   \n",
       "Mês                                            Dezembro   \n",
       "Mes (numeral)                                        12   \n",
       "Dia                                                  16   \n",
       "Ano                                                2015   \n",
       "Data Portugues                               16/12/2015   \n",
       "FW                                                   51   \n",
       "Movie              Star Wars Ep. VII: The Force Awakens   \n",
       "Production Budget                             306000000   \n",
       "Worldwide Gross                              2068223624   \n",
       "\n",
       "                                        4  \n",
       "Item                                    5  \n",
       "Mês                                 Abril  \n",
       "Mes (numeral)                           4  \n",
       "Dia                                    25  \n",
       "Ano                                  2018  \n",
       "Data Portugues                 25/04/2018  \n",
       "FW                                     17  \n",
       "Movie              Avengers: Infinity War  \n",
       "Production Budget               300000000  \n",
       "Worldwide Gross                2048359754  "
      ]
     },
     "execution_count": 2,
     "metadata": {},
     "output_type": "execute_result"
    }
   ],
   "source": [
    "budgets = pd.read_csv('C:/Users/afilg/OneDrive/Área de Trabalho/DATA SCIENCE/Aulas - Originais/Projeto_Integrador/Dados/Budget_Numbers1.csv', sep = ';')\n",
    "budgets.head().T"
   ]
  },
  {
   "cell_type": "code",
   "execution_count": 3,
   "metadata": {
    "ExecuteTime": {
     "end_time": "2020-07-03T14:01:34.347553Z",
     "start_time": "2020-07-03T14:01:32.855537Z"
    }
   },
   "outputs": [
    {
     "data": {
      "text/plain": [
       "<matplotlib.axes._subplots.AxesSubplot at 0x1bfa21d0cc8>"
      ]
     },
     "execution_count": 3,
     "metadata": {},
     "output_type": "execute_result"
    },
    {
     "data": {
      "image/png": "[encoded data removed]",
      "text/plain": [
       "<Figure size 1800x720 with 2 Axes>"
      ]
     },
     "metadata": {
      "needs_background": "light"
     },
     "output_type": "display_data"
    }
   ],
   "source": [
    "import missingno as msno\n",
    "%matplotlib inline\n",
    "msno.matrix(budgets)"
   ]
  },
  {
   "cell_type": "code",
   "execution_count": 4,
   "metadata": {
    "ExecuteTime": {
     "end_time": "2020-07-03T14:01:34.393408Z",
     "start_time": "2020-07-03T14:01:34.353538Z"
    }
   },
   "outputs": [
    {
     "name": "stdout",
     "output_type": "stream",
     "text": [
      "<class 'pandas.core.frame.DataFrame'>\n",
      "RangeIndex: 5588 entries, 0 to 5587\n",
      "Data columns (total 10 columns):\n",
      " #   Column             Non-Null Count  Dtype  \n",
      "---  ------             --------------  -----  \n",
      " 0   Item               5588 non-null   int64  \n",
      " 1   Mês                5528 non-null   object \n",
      " 2   Mes (numeral)      5528 non-null   float64\n",
      " 3   Dia                5588 non-null   object \n",
      " 4   Ano                5588 non-null   int64  \n",
      " 5   Data Portugues     5528 non-null   object \n",
      " 6   FW                 5528 non-null   object \n",
      " 7   Movie              5588 non-null   object \n",
      " 8   Production Budget  5588 non-null   object \n",
      " 9   Worldwide Gross    5588 non-null   object \n",
      "dtypes: float64(1), int64(2), object(7)\n",
      "memory usage: 436.7+ KB\n"
     ]
    }
   ],
   "source": [
    "budgets.info()"
   ]
  },
  {
   "cell_type": "code",
   "execution_count": 5,
   "metadata": {
    "ExecuteTime": {
     "end_time": "2020-07-03T14:01:34.415410Z",
     "start_time": "2020-07-03T14:01:34.399391Z"
    }
   },
   "outputs": [],
   "source": [
    "budgets['Worldwide_Gross'] = budgets['Worldwide Gross'].astype(float)"
   ]
  },
  {
   "cell_type": "code",
   "execution_count": 6,
   "metadata": {
    "ExecuteTime": {
     "end_time": "2020-07-03T14:01:34.447898Z",
     "start_time": "2020-07-03T14:01:34.421392Z"
    }
   },
   "outputs": [],
   "source": [
    "budgets['Production_Budget'] = budgets['Production Budget'].astype(float)"
   ]
  },
  {
   "cell_type": "code",
   "execution_count": 7,
   "metadata": {
    "ExecuteTime": {
     "end_time": "2020-07-03T14:01:34.472279Z",
     "start_time": "2020-07-03T14:01:34.453952Z"
    }
   },
   "outputs": [],
   "source": [
    "budgets = budgets.drop(['Worldwide Gross','Production Budget'], axis = 1)"
   ]
  },
  {
   "cell_type": "code",
   "execution_count": 8,
   "metadata": {
    "ExecuteTime": {
     "end_time": "2020-07-03T14:01:34.529529Z",
     "start_time": "2020-07-03T14:01:34.484248Z"
    }
   },
   "outputs": [
    {
     "data": {
      "text/html": [
       "<div>\n",
       "<style scoped>\n",
       "    .dataframe tbody tr th:only-of-type {\n",
       "        vertical-align: middle;\n",
       "    }\n",
       "\n",
       "    .dataframe tbody tr th {\n",
       "        vertical-align: top;\n",
       "    }\n",
       "\n",
       "    .dataframe thead th {\n",
       "        text-align: right;\n",
       "    }\n",
       "</style>\n",
       "<table border=\"1\" class=\"dataframe\">\n",
       "  <thead>\n",
       "    <tr style=\"text-align: right;\">\n",
       "      <th></th>\n",
       "      <th>0</th>\n",
       "      <th>1</th>\n",
       "      <th>2</th>\n",
       "      <th>3</th>\n",
       "      <th>4</th>\n",
       "    </tr>\n",
       "  </thead>\n",
       "  <tbody>\n",
       "    <tr>\n",
       "      <th>Item</th>\n",
       "      <td>1</td>\n",
       "      <td>2</td>\n",
       "      <td>3</td>\n",
       "      <td>4</td>\n",
       "      <td>5</td>\n",
       "    </tr>\n",
       "    <tr>\n",
       "      <th>Mês</th>\n",
       "      <td>Abril</td>\n",
       "      <td>Maio</td>\n",
       "      <td>Abril</td>\n",
       "      <td>Dezembro</td>\n",
       "      <td>Abril</td>\n",
       "    </tr>\n",
       "    <tr>\n",
       "      <th>Mes (numeral)</th>\n",
       "      <td>4</td>\n",
       "      <td>5</td>\n",
       "      <td>4</td>\n",
       "      <td>12</td>\n",
       "      <td>4</td>\n",
       "    </tr>\n",
       "    <tr>\n",
       "      <th>Dia</th>\n",
       "      <td>23</td>\n",
       "      <td>20</td>\n",
       "      <td>22</td>\n",
       "      <td>16</td>\n",
       "      <td>25</td>\n",
       "    </tr>\n",
       "    <tr>\n",
       "      <th>Ano</th>\n",
       "      <td>2019</td>\n",
       "      <td>2011</td>\n",
       "      <td>2015</td>\n",
       "      <td>2015</td>\n",
       "      <td>2018</td>\n",
       "    </tr>\n",
       "    <tr>\n",
       "      <th>Data Portugues</th>\n",
       "      <td>23/04/2019</td>\n",
       "      <td>20/05/2011</td>\n",
       "      <td>22/04/2015</td>\n",
       "      <td>16/12/2015</td>\n",
       "      <td>25/04/2018</td>\n",
       "    </tr>\n",
       "    <tr>\n",
       "      <th>FW</th>\n",
       "      <td>17</td>\n",
       "      <td>20</td>\n",
       "      <td>17</td>\n",
       "      <td>51</td>\n",
       "      <td>17</td>\n",
       "    </tr>\n",
       "    <tr>\n",
       "      <th>Movie</th>\n",
       "      <td>Avengers: Endgame</td>\n",
       "      <td>Pirates of the Caribbean: On Stranger Tides</td>\n",
       "      <td>Avengers: Age of Ultron</td>\n",
       "      <td>Star Wars Ep. VII: The Force Awakens</td>\n",
       "      <td>Avengers: Infinity War</td>\n",
       "    </tr>\n",
       "    <tr>\n",
       "      <th>Worldwide_Gross</th>\n",
       "      <td>2.7978e+09</td>\n",
       "      <td>1.04566e+09</td>\n",
       "      <td>1.3961e+09</td>\n",
       "      <td>2.06822e+09</td>\n",
       "      <td>2.04836e+09</td>\n",
       "    </tr>\n",
       "    <tr>\n",
       "      <th>Production_Budget</th>\n",
       "      <td>4e+08</td>\n",
       "      <td>3.79e+08</td>\n",
       "      <td>3.65e+08</td>\n",
       "      <td>3.06e+08</td>\n",
       "      <td>3e+08</td>\n",
       "    </tr>\n",
       "  </tbody>\n",
       "</table>\n",
       "</div>"
      ],
      "text/plain": [
       "                                   0  \\\n",
       "Item                               1   \n",
       "Mês                            Abril   \n",
       "Mes (numeral)                      4   \n",
       "Dia                               23   \n",
       "Ano                             2019   \n",
       "Data Portugues            23/04/2019   \n",
       "FW                                17   \n",
       "Movie              Avengers: Endgame   \n",
       "Worldwide_Gross           2.7978e+09   \n",
       "Production_Budget              4e+08   \n",
       "\n",
       "                                                             1  \\\n",
       "Item                                                         2   \n",
       "Mês                                                       Maio   \n",
       "Mes (numeral)                                                5   \n",
       "Dia                                                         20   \n",
       "Ano                                                       2011   \n",
       "Data Portugues                                      20/05/2011   \n",
       "FW                                                          20   \n",
       "Movie              Pirates of the Caribbean: On Stranger Tides   \n",
       "Worldwide_Gross                                    1.04566e+09   \n",
       "Production_Budget                                     3.79e+08   \n",
       "\n",
       "                                         2  \\\n",
       "Item                                     3   \n",
       "Mês                                  Abril   \n",
       "Mes (numeral)                            4   \n",
       "Dia                                     22   \n",
       "Ano                                   2015   \n",
       "Data Portugues                  22/04/2015   \n",
       "FW                                      17   \n",
       "Movie              Avengers: Age of Ultron   \n",
       "Worldwide_Gross                 1.3961e+09   \n",
       "Production_Budget                 3.65e+08   \n",
       "\n",
       "                                                      3  \\\n",
       "Item                                                  4   \n",
       "Mês                                            Dezembro   \n",
       "Mes (numeral)                                        12   \n",
       "Dia                                                  16   \n",
       "Ano                                                2015   \n",
       "Data Portugues                               16/12/2015   \n",
       "FW                                                   51   \n",
       "Movie              Star Wars Ep. VII: The Force Awakens   \n",
       "Worldwide_Gross                             2.06822e+09   \n",
       "Production_Budget                              3.06e+08   \n",
       "\n",
       "                                        4  \n",
       "Item                                    5  \n",
       "Mês                                 Abril  \n",
       "Mes (numeral)                           4  \n",
       "Dia                                    25  \n",
       "Ano                                  2018  \n",
       "Data Portugues                 25/04/2018  \n",
       "FW                                     17  \n",
       "Movie              Avengers: Infinity War  \n",
       "Worldwide_Gross               2.04836e+09  \n",
       "Production_Budget                   3e+08  "
      ]
     },
     "execution_count": 8,
     "metadata": {},
     "output_type": "execute_result"
    }
   ],
   "source": [
    "budgets.head().T"
   ]
  },
  {
   "cell_type": "code",
   "execution_count": 9,
   "metadata": {
    "ExecuteTime": {
     "end_time": "2020-07-03T14:01:34.653604Z",
     "start_time": "2020-07-03T14:01:34.541497Z"
    }
   },
   "outputs": [
    {
     "data": {
      "text/html": [
       "<div>\n",
       "<style scoped>\n",
       "    .dataframe tbody tr th:only-of-type {\n",
       "        vertical-align: middle;\n",
       "    }\n",
       "\n",
       "    .dataframe tbody tr th {\n",
       "        vertical-align: top;\n",
       "    }\n",
       "\n",
       "    .dataframe thead th {\n",
       "        text-align: right;\n",
       "    }\n",
       "</style>\n",
       "<table border=\"1\" class=\"dataframe\">\n",
       "  <thead>\n",
       "    <tr style=\"text-align: right;\">\n",
       "      <th></th>\n",
       "      <th>Item</th>\n",
       "      <th>Mes (numeral)</th>\n",
       "      <th>Ano</th>\n",
       "      <th>Worldwide_Gross</th>\n",
       "      <th>Production_Budget</th>\n",
       "    </tr>\n",
       "  </thead>\n",
       "  <tbody>\n",
       "    <tr>\n",
       "      <th>count</th>\n",
       "      <td>5588.00</td>\n",
       "      <td>5528.00</td>\n",
       "      <td>5588.00</td>\n",
       "      <td>5.588000e+03</td>\n",
       "      <td>5.588000e+03</td>\n",
       "    </tr>\n",
       "    <tr>\n",
       "      <th>mean</th>\n",
       "      <td>2794.50</td>\n",
       "      <td>6.98</td>\n",
       "      <td>2004.15</td>\n",
       "      <td>9.942184e+07</td>\n",
       "      <td>3.351692e+07</td>\n",
       "    </tr>\n",
       "    <tr>\n",
       "      <th>std</th>\n",
       "      <td>1613.26</td>\n",
       "      <td>3.40</td>\n",
       "      <td>12.51</td>\n",
       "      <td>1.856424e+08</td>\n",
       "      <td>4.228866e+07</td>\n",
       "    </tr>\n",
       "    <tr>\n",
       "      <th>min</th>\n",
       "      <td>1.00</td>\n",
       "      <td>1.00</td>\n",
       "      <td>1915.00</td>\n",
       "      <td>1.700000e+01</td>\n",
       "      <td>1.100000e+03</td>\n",
       "    </tr>\n",
       "    <tr>\n",
       "      <th>25%</th>\n",
       "      <td>1397.75</td>\n",
       "      <td>4.00</td>\n",
       "      <td>2000.00</td>\n",
       "      <td>7.584521e+06</td>\n",
       "      <td>6.500000e+06</td>\n",
       "    </tr>\n",
       "    <tr>\n",
       "      <th>50%</th>\n",
       "      <td>2794.50</td>\n",
       "      <td>7.00</td>\n",
       "      <td>2007.00</td>\n",
       "      <td>3.350455e+07</td>\n",
       "      <td>1.900000e+07</td>\n",
       "    </tr>\n",
       "    <tr>\n",
       "      <th>75%</th>\n",
       "      <td>4191.25</td>\n",
       "      <td>10.00</td>\n",
       "      <td>2013.00</td>\n",
       "      <td>1.051176e+08</td>\n",
       "      <td>4.200000e+07</td>\n",
       "    </tr>\n",
       "    <tr>\n",
       "      <th>max</th>\n",
       "      <td>5588.00</td>\n",
       "      <td>12.00</td>\n",
       "      <td>2020.00</td>\n",
       "      <td>2.797801e+09</td>\n",
       "      <td>4.000000e+08</td>\n",
       "    </tr>\n",
       "  </tbody>\n",
       "</table>\n",
       "</div>"
      ],
      "text/plain": [
       "          Item  Mes (numeral)      Ano  Worldwide_Gross  Production_Budget\n",
       "count  5588.00        5528.00  5588.00     5.588000e+03       5.588000e+03\n",
       "mean   2794.50           6.98  2004.15     9.942184e+07       3.351692e+07\n",
       "std    1613.26           3.40    12.51     1.856424e+08       4.228866e+07\n",
       "min       1.00           1.00  1915.00     1.700000e+01       1.100000e+03\n",
       "25%    1397.75           4.00  2000.00     7.584521e+06       6.500000e+06\n",
       "50%    2794.50           7.00  2007.00     3.350455e+07       1.900000e+07\n",
       "75%    4191.25          10.00  2013.00     1.051176e+08       4.200000e+07\n",
       "max    5588.00          12.00  2020.00     2.797801e+09       4.000000e+08"
      ]
     },
     "execution_count": 9,
     "metadata": {},
     "output_type": "execute_result"
    }
   ],
   "source": [
    "budgets.describe().round(2)"
   ]
  },
  {
   "cell_type": "code",
   "execution_count": 10,
   "metadata": {
    "ExecuteTime": {
     "end_time": "2020-07-03T14:01:35.846383Z",
     "start_time": "2020-07-03T14:01:34.660274Z"
    }
   },
   "outputs": [
    {
     "data": {
      "text/plain": [
       "<matplotlib.axes._subplots.AxesSubplot at 0x1bfa2cf7ac8>"
      ]
     },
     "execution_count": 10,
     "metadata": {},
     "output_type": "execute_result"
    },
    {
     "data": {
      "image/png": "[encoded data removed]",
      "text/plain": [
       "<Figure size 432x288 with 1 Axes>"
      ]
     },
     "metadata": {
      "needs_background": "light"
     },
     "output_type": "display_data"
    }
   ],
   "source": [
    "budgets.Production_Budget.plot.hist(bins = 100)"
   ]
  },
  {
   "cell_type": "code",
   "execution_count": 11,
   "metadata": {
    "ExecuteTime": {
     "end_time": "2020-07-03T14:01:36.624348Z",
     "start_time": "2020-07-03T14:01:35.851365Z"
    }
   },
   "outputs": [
    {
     "data": {
      "text/plain": [
       "<matplotlib.axes._subplots.AxesSubplot at 0x1bfa2d105c8>"
      ]
     },
     "execution_count": 11,
     "metadata": {},
     "output_type": "execute_result"
    },
    {
     "data": {
      "image/png": "[encoded data removed]",
      "text/plain": [
       "<Figure size 432x288 with 1 Axes>"
      ]
     },
     "metadata": {
      "needs_background": "light"
     },
     "output_type": "display_data"
    }
   ],
   "source": [
    "budgets.Worldwide_Gross.plot.hist(bins = 100)"
   ]
  },
  {
   "cell_type": "code",
   "execution_count": 12,
   "metadata": {
    "ExecuteTime": {
     "end_time": "2020-07-03T14:01:36.720583Z",
     "start_time": "2020-07-03T14:01:36.627915Z"
    }
   },
   "outputs": [],
   "source": [
    "budgets['rentability'] = budgets['Worldwide_Gross']/budgets['Production_Budget']"
   ]
  },
  {
   "cell_type": "code",
   "execution_count": 13,
   "metadata": {
    "ExecuteTime": {
     "end_time": "2020-07-03T14:01:36.742584Z",
     "start_time": "2020-07-03T14:01:36.724481Z"
    }
   },
   "outputs": [
    {
     "data": {
      "text/plain": [
       "count    5588.000000\n",
       "mean        4.896665\n",
       "std        29.195165\n",
       "min         0.000002\n",
       "25%         0.706626\n",
       "50%         1.883606\n",
       "75%         3.955852\n",
       "max      1800.000000\n",
       "Name: rentability, dtype: float64"
      ]
     },
     "execution_count": 13,
     "metadata": {},
     "output_type": "execute_result"
    }
   ],
   "source": [
    "budgets.rentability.describe()"
   ]
  },
  {
   "cell_type": "code",
   "execution_count": 14,
   "metadata": {
    "ExecuteTime": {
     "end_time": "2020-07-03T14:01:36.760692Z",
     "start_time": "2020-07-03T14:01:36.747603Z"
    }
   },
   "outputs": [],
   "source": [
    "budgets['log_rentability'] = np.log(budgets['rentability'])"
   ]
  },
  {
   "cell_type": "code",
   "execution_count": 15,
   "metadata": {
    "ExecuteTime": {
     "end_time": "2020-07-03T14:01:36.790088Z",
     "start_time": "2020-07-03T14:01:36.765594Z"
    }
   },
   "outputs": [
    {
     "data": {
      "text/plain": [
       "count    5588.000000\n",
       "mean        0.322937\n",
       "std         1.791613\n",
       "min       -12.997200\n",
       "25%        -0.347255\n",
       "50%         0.633188\n",
       "75%         1.375196\n",
       "max         7.495542\n",
       "Name: log_rentability, dtype: float64"
      ]
     },
     "execution_count": 15,
     "metadata": {},
     "output_type": "execute_result"
    }
   ],
   "source": [
    "budgets.log_rentability.describe()"
   ]
  },
  {
   "cell_type": "code",
   "execution_count": 16,
   "metadata": {
    "ExecuteTime": {
     "end_time": "2020-07-03T14:01:37.655743Z",
     "start_time": "2020-07-03T14:01:36.794040Z"
    }
   },
   "outputs": [
    {
     "data": {
      "text/plain": [
       "<matplotlib.axes._subplots.AxesSubplot at 0x1bfa2ef05c8>"
      ]
     },
     "execution_count": 16,
     "metadata": {},
     "output_type": "execute_result"
    },
    {
     "data": {
      "image/png": "[encoded data removed]",
      "text/plain": [
       "<Figure size 432x288 with 1 Axes>"
      ]
     },
     "metadata": {
      "needs_background": "light"
     },
     "output_type": "display_data"
    }
   ],
   "source": [
    "budgets.log_rentability.plot.hist(bins = 100)"
   ]
  },
  {
   "cell_type": "code",
   "execution_count": 17,
   "metadata": {
    "ExecuteTime": {
     "end_time": "2020-07-03T14:01:37.675634Z",
     "start_time": "2020-07-03T14:01:37.660798Z"
    }
   },
   "outputs": [],
   "source": [
    "budgets = budgets.rename(columns={\"Ano\": \"year\", \"Mes (numeral)\": \"month\",'Dia':'day' })"
   ]
  },
  {
   "cell_type": "code",
   "execution_count": 18,
   "metadata": {
    "ExecuteTime": {
     "end_time": "2020-07-03T14:01:37.699646Z",
     "start_time": "2020-07-03T14:01:37.681141Z"
    }
   },
   "outputs": [],
   "source": [
    "budgets['day'] = budgets['day'].astype(float)"
   ]
  },
  {
   "cell_type": "code",
   "execution_count": 19,
   "metadata": {
    "ExecuteTime": {
     "end_time": "2020-07-03T14:01:37.744799Z",
     "start_time": "2020-07-03T14:01:37.703636Z"
    }
   },
   "outputs": [],
   "source": [
    "budgets['lancamento'] = pd.to_datetime(budgets[['year', 'month', 'day']], dayfirst=True)"
   ]
  },
  {
   "cell_type": "code",
   "execution_count": 20,
   "metadata": {
    "ExecuteTime": {
     "end_time": "2020-07-03T14:01:37.763850Z",
     "start_time": "2020-07-03T14:01:37.748841Z"
    }
   },
   "outputs": [
    {
     "data": {
      "text/plain": [
       "0   2019-04-23\n",
       "1   2011-05-20\n",
       "2   2015-04-22\n",
       "3   2015-12-16\n",
       "4   2018-04-25\n",
       "Name: lancamento, dtype: datetime64[ns]"
      ]
     },
     "execution_count": 20,
     "metadata": {},
     "output_type": "execute_result"
    }
   ],
   "source": [
    "budgets.lancamento.head()"
   ]
  },
  {
   "cell_type": "code",
   "execution_count": 21,
   "metadata": {
    "ExecuteTime": {
     "end_time": "2020-07-03T14:01:37.801360Z",
     "start_time": "2020-07-03T14:01:37.769881Z"
    }
   },
   "outputs": [],
   "source": [
    "budgets['movieyear'] = budgets.year.astype(str) + budgets.Movie"
   ]
  },
  {
   "cell_type": "code",
   "execution_count": 22,
   "metadata": {
    "ExecuteTime": {
     "end_time": "2020-07-03T14:01:37.817319Z",
     "start_time": "2020-07-03T14:01:37.807345Z"
    }
   },
   "outputs": [],
   "source": [
    "budgets = budgets"
   ]
  },
  {
   "cell_type": "code",
   "execution_count": 23,
   "metadata": {
    "ExecuteTime": {
     "end_time": "2020-07-03T14:01:40.174616Z",
     "start_time": "2020-07-03T14:01:37.837032Z"
    }
   },
   "outputs": [],
   "source": [
    "basics = pd.read_csv('C:/Users/afilg/OneDrive/DATA SCIENCE/Aulas - Originais/Projeto_Integrador/basics.csv')"
   ]
  },
  {
   "cell_type": "code",
   "execution_count": null,
   "metadata": {
    "ExecuteTime": {
     "start_time": "2020-07-03T14:01:29.227Z"
    }
   },
   "outputs": [
    {
     "name": "stderr",
     "output_type": "stream",
     "text": [
      "C:\\Users\\afilg\\anaconda3\\lib\\site-packages\\tqdm\\std.py:658: FutureWarning: The Panel class is removed from pandas. Accessing it from the top-level namespace will also be removed in the next version\n",
      "  from pandas import Panel\n"
     ]
    },
    {
     "data": {
      "application/vnd.jupyter.widget-view+json": {
       "model_id": "d49937639cfa4cfd92ea70daf93e5668",
       "version_major": 2,
       "version_minor": 0
      },
      "text/plain": [
       "HBox(children=(FloatProgress(value=0.0, max=5588.0), HTML(value='')))"
      ]
     },
     "metadata": {},
     "output_type": "display_data"
    }
   ],
   "source": [
    "import difflib\n",
    "\n",
    "tqdm.pandas()\n",
    "\n",
    "budgets['movieyear_id'] = budgets['movieyear'].progress_apply(lambda x: (difflib.get_close_matches(x, basics['movieyear'])[:1] or [None])[0])\n"
   ]
  }
 ],
 "metadata": {
  "kernelspec": {
   "display_name": "Python 3",
   "language": "python",
   "name": "python3"
  },
  "language_info": {
   "codemirror_mode": {
    "name": "ipython",
    "version": 3
   },
   "file_extension": ".py",
   "mimetype": "text/x-python",
   "name": "python",
   "nbconvert_exporter": "python",
   "pygments_lexer": "ipython3",
   "version": "3.7.7"
  },
  "toc": {
   "base_numbering": 1,
   "nav_menu": {},
   "number_sections": true,
   "sideBar": true,
   "skip_h1_title": false,
   "title_cell": "Table of Contents",
   "title_sidebar": "Contents",
   "toc_cell": false,
   "toc_position": {},
   "toc_section_display": true,
   "toc_window_display": false
  },
  "varInspector": {
   "cols": {
    "lenName": 16,
    "lenType": 16,
    "lenVar": 40
   },
   "kernels_config": {
    "python": {
     "delete_cmd_postfix": "",
     "delete_cmd_prefix": "del ",
     "library": "var_list.py",
     "varRefreshCmd": "print(var_dic_list())"
    },
    "r": {
     "delete_cmd_postfix": ") ",
     "delete_cmd_prefix": "rm(",
     "library": "var_list.r",
     "varRefreshCmd": "cat(var_dic_list()) "
    }
   },
   "types_to_exclude": [
    "module",
    "function",
    "builtin_function_or_method",
    "instance",
    "_Feature"
   ],
   "window_display": false
  }
 },
 "nbformat": 4,
 "nbformat_minor": 4
}
