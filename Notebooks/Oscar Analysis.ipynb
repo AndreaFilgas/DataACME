{
 "cells": [
  {
   "cell_type": "markdown",
   "metadata": {},
   "source": [
    "## Oscar"
   ]
  },
  {
   "cell_type": "code",
   "execution_count": 1,
   "metadata": {
    "ExecuteTime": {
     "end_time": "2020-07-03T13:32:47.953443Z",
     "start_time": "2020-07-03T13:32:44.117698Z"
    }
   },
   "outputs": [],
   "source": [
    "# abrir bibliotecas\n",
    "import pandas as pd\n",
    "import seaborn as sns\n",
    "import statsmodels.formula.api as smf\n",
    "import matplotlib.pyplot as plt\n",
    "from tqdm.auto import tqdm\n",
    "%matplotlib inline"
   ]
  },
  {
   "cell_type": "code",
   "execution_count": 2,
   "metadata": {
    "ExecuteTime": {
     "end_time": "2020-07-03T13:32:48.124397Z",
     "start_time": "2020-07-03T13:32:47.957595Z"
    }
   },
   "outputs": [],
   "source": [
    "oscar = pd.read_csv('C:/Users/afilg/OneDrive/Área de Trabalho/DATA SCIENCE/Aulas - Originais/Projeto_Integrador/Dados/the_oscar_award.csv', engine = 'python', encoding = 'utf8')"
   ]
  },
  {
   "cell_type": "code",
   "execution_count": 3,
   "metadata": {
    "ExecuteTime": {
     "end_time": "2020-07-03T13:32:48.163155Z",
     "start_time": "2020-07-03T13:32:48.129384Z"
    }
   },
   "outputs": [
    {
     "data": {
      "text/html": [
       "<div>\n",
       "<style scoped>\n",
       "    .dataframe tbody tr th:only-of-type {\n",
       "        vertical-align: middle;\n",
       "    }\n",
       "\n",
       "    .dataframe tbody tr th {\n",
       "        vertical-align: top;\n",
       "    }\n",
       "\n",
       "    .dataframe thead th {\n",
       "        text-align: right;\n",
       "    }\n",
       "</style>\n",
       "<table border=\"1\" class=\"dataframe\">\n",
       "  <thead>\n",
       "    <tr style=\"text-align: right;\">\n",
       "      <th></th>\n",
       "      <th>year_film</th>\n",
       "      <th>year_ceremony</th>\n",
       "      <th>ceremony</th>\n",
       "      <th>category</th>\n",
       "      <th>name</th>\n",
       "      <th>film</th>\n",
       "      <th>winner</th>\n",
       "    </tr>\n",
       "  </thead>\n",
       "  <tbody>\n",
       "    <tr>\n",
       "      <th>0</th>\n",
       "      <td>1927</td>\n",
       "      <td>1928</td>\n",
       "      <td>1</td>\n",
       "      <td>ACTOR</td>\n",
       "      <td>Richard Barthelmess</td>\n",
       "      <td>The Noose</td>\n",
       "      <td>False</td>\n",
       "    </tr>\n",
       "    <tr>\n",
       "      <th>1</th>\n",
       "      <td>1927</td>\n",
       "      <td>1928</td>\n",
       "      <td>1</td>\n",
       "      <td>ACTOR</td>\n",
       "      <td>Emil Jannings</td>\n",
       "      <td>The Last Command</td>\n",
       "      <td>True</td>\n",
       "    </tr>\n",
       "    <tr>\n",
       "      <th>2</th>\n",
       "      <td>1927</td>\n",
       "      <td>1928</td>\n",
       "      <td>1</td>\n",
       "      <td>ACTRESS</td>\n",
       "      <td>Louise Dresser</td>\n",
       "      <td>A Ship Comes In</td>\n",
       "      <td>False</td>\n",
       "    </tr>\n",
       "    <tr>\n",
       "      <th>3</th>\n",
       "      <td>1927</td>\n",
       "      <td>1928</td>\n",
       "      <td>1</td>\n",
       "      <td>ACTRESS</td>\n",
       "      <td>Janet Gaynor</td>\n",
       "      <td>7th Heaven</td>\n",
       "      <td>True</td>\n",
       "    </tr>\n",
       "    <tr>\n",
       "      <th>4</th>\n",
       "      <td>1927</td>\n",
       "      <td>1928</td>\n",
       "      <td>1</td>\n",
       "      <td>ACTRESS</td>\n",
       "      <td>Gloria Swanson</td>\n",
       "      <td>Sadie Thompson</td>\n",
       "      <td>False</td>\n",
       "    </tr>\n",
       "  </tbody>\n",
       "</table>\n",
       "</div>"
      ],
      "text/plain": [
       "   year_film  year_ceremony  ceremony category                 name  \\\n",
       "0       1927           1928         1    ACTOR  Richard Barthelmess   \n",
       "1       1927           1928         1    ACTOR        Emil Jannings   \n",
       "2       1927           1928         1  ACTRESS       Louise Dresser   \n",
       "3       1927           1928         1  ACTRESS         Janet Gaynor   \n",
       "4       1927           1928         1  ACTRESS       Gloria Swanson   \n",
       "\n",
       "               film  winner  \n",
       "0         The Noose   False  \n",
       "1  The Last Command    True  \n",
       "2   A Ship Comes In   False  \n",
       "3        7th Heaven    True  \n",
       "4    Sadie Thompson   False  "
      ]
     },
     "execution_count": 3,
     "metadata": {},
     "output_type": "execute_result"
    }
   ],
   "source": [
    "oscar.head()"
   ]
  },
  {
   "cell_type": "code",
   "execution_count": 4,
   "metadata": {
    "ExecuteTime": {
     "end_time": "2020-07-03T13:32:48.194442Z",
     "start_time": "2020-07-03T13:32:48.167469Z"
    }
   },
   "outputs": [
    {
     "name": "stdout",
     "output_type": "stream",
     "text": [
      "<class 'pandas.core.frame.DataFrame'>\n",
      "RangeIndex: 10395 entries, 0 to 10394\n",
      "Data columns (total 7 columns):\n",
      " #   Column         Non-Null Count  Dtype \n",
      "---  ------         --------------  ----- \n",
      " 0   year_film      10395 non-null  int64 \n",
      " 1   year_ceremony  10395 non-null  int64 \n",
      " 2   ceremony       10395 non-null  int64 \n",
      " 3   category       10395 non-null  object\n",
      " 4   name           10395 non-null  object\n",
      " 5   film           10091 non-null  object\n",
      " 6   winner         10395 non-null  bool  \n",
      "dtypes: bool(1), int64(3), object(3)\n",
      "memory usage: 497.5+ KB\n"
     ]
    }
   ],
   "source": [
    "oscar.info()"
   ]
  },
  {
   "cell_type": "code",
   "execution_count": 5,
   "metadata": {
    "ExecuteTime": {
     "end_time": "2020-07-03T13:32:48.250291Z",
     "start_time": "2020-07-03T13:32:48.199393Z"
    }
   },
   "outputs": [],
   "source": [
    "oscar['movieyear'] = oscar.year_film.astype(str) + oscar.film"
   ]
  },
  {
   "cell_type": "code",
   "execution_count": 6,
   "metadata": {
    "ExecuteTime": {
     "end_time": "2020-07-03T13:32:48.272423Z",
     "start_time": "2020-07-03T13:32:48.254867Z"
    }
   },
   "outputs": [
    {
     "data": {
      "text/plain": [
       "DIRECTING                                    449\n",
       "FILM EDITING                                 430\n",
       "ACTOR IN A SUPPORTING ROLE                   420\n",
       "ACTRESS IN A SUPPORTING ROLE                 420\n",
       "DOCUMENTARY (Short Subject)                  368\n",
       "                                            ... \n",
       "DIRECTING (Dramatic Picture)                   3\n",
       "DIRECTING (Comedy Picture)                     2\n",
       "SPECIAL FOREIGN LANGUAGE FILM AWARD            2\n",
       "SPECIAL ACHIEVEMENT AWARD (Sound Effects)      1\n",
       "SPECIAL ACHIEVEMENT AWARD (Sound Editing)      1\n",
       "Name: category, Length: 111, dtype: int64"
      ]
     },
     "execution_count": 6,
     "metadata": {},
     "output_type": "execute_result"
    }
   ],
   "source": [
    "oscar.category.value_counts()"
   ]
  },
  {
   "cell_type": "code",
   "execution_count": 7,
   "metadata": {
    "ExecuteTime": {
     "end_time": "2020-07-03T13:32:48.296536Z",
     "start_time": "2020-07-03T13:32:48.276374Z"
    }
   },
   "outputs": [],
   "source": [
    "oscar2000 = oscar[oscar.year_ceremony >= 2000]"
   ]
  },
  {
   "cell_type": "code",
   "execution_count": 8,
   "metadata": {
    "ExecuteTime": {
     "end_time": "2020-07-03T13:32:48.320457Z",
     "start_time": "2020-07-03T13:32:48.303457Z"
    }
   },
   "outputs": [
    {
     "data": {
      "text/plain": [
       "35"
      ]
     },
     "execution_count": 8,
     "metadata": {},
     "output_type": "execute_result"
    }
   ],
   "source": [
    "a = oscar2000.category.value_counts()\n",
    "\n",
    "len(a)"
   ]
  },
  {
   "cell_type": "code",
   "execution_count": 9,
   "metadata": {
    "ExecuteTime": {
     "end_time": "2020-07-03T13:32:48.346598Z",
     "start_time": "2020-07-03T13:32:48.327438Z"
    },
    "scrolled": true
   },
   "outputs": [
    {
     "data": {
      "text/plain": [
       "BEST PICTURE                                                               148\n",
       "SHORT FILM (Live Action)                                                   105\n",
       "FILM EDITING                                                               105\n",
       "ACTOR IN A SUPPORTING ROLE                                                 105\n",
       "COSTUME DESIGN                                                             105\n",
       "MUSIC (Original Score)                                                     105\n",
       "CINEMATOGRAPHY                                                             105\n",
       "ACTRESS IN A SUPPORTING ROLE                                               105\n",
       "DIRECTING                                                                  105\n",
       "ACTRESS IN A LEADING ROLE                                                  105\n",
       "DOCUMENTARY (Feature)                                                      105\n",
       "ACTOR IN A LEADING ROLE                                                    105\n",
       "SHORT FILM (Animated)                                                      103\n",
       "FOREIGN LANGUAGE FILM                                                      100\n",
       "MUSIC (Original Song)                                                       97\n",
       "DOCUMENTARY (Short Subject)                                                 94\n",
       "WRITING (Original Screenplay)                                               90\n",
       "WRITING (Adapted Screenplay)                                                90\n",
       "SOUND EDITING                                                               86\n",
       "SOUND MIXING                                                                85\n",
       "VISUAL EFFECTS                                                              83\n",
       "ANIMATED FEATURE FILM                                                       79\n",
       "ART DIRECTION                                                               65\n",
       "HONORARY AWARD                                                              44\n",
       "PRODUCTION DESIGN                                                           40\n",
       "MAKEUP                                                                      39\n",
       "MAKEUP AND HAIRSTYLING                                                      26\n",
       "SOUND                                                                       20\n",
       "WRITING (Screenplay Based on Material Previously Produced or Published)     15\n",
       "WRITING (Screenplay Written Directly for the Screen)                        15\n",
       "JEAN HERSHOLT HUMANITARIAN AWARD                                            10\n",
       "INTERNATIONAL FEATURE FILM                                                   5\n",
       "IRVING G. THALBERG MEMORIAL AWARD                                            5\n",
       "SOUND EFFECTS EDITING                                                        3\n",
       "SPECIAL AWARD                                                                1\n",
       "Name: category, dtype: int64"
      ]
     },
     "execution_count": 9,
     "metadata": {},
     "output_type": "execute_result"
    }
   ],
   "source": [
    "oscar2000.category.value_counts()"
   ]
  },
  {
   "cell_type": "code",
   "execution_count": 10,
   "metadata": {
    "ExecuteTime": {
     "end_time": "2020-07-03T13:32:48.363489Z",
     "start_time": "2020-07-03T13:32:48.350420Z"
    }
   },
   "outputs": [],
   "source": [
    "def premium(premio):\n",
    "    premium = ['BEST PICTURE','DIRECTING','ACTRESS IN A SUPPORTING ROLE','ACTRESS IN A LEADING ROLE','ACTOR IN A SUPPORTING ROLE','ACTOR IN A LEADING ROLE']\n",
    "    if premio in premium:\n",
    "        a = \"premium\"\n",
    "        return a\n",
    "    else:\n",
    "        a = 'not premium'\n",
    "        return a"
   ]
  },
  {
   "cell_type": "code",
   "execution_count": 11,
   "metadata": {
    "ExecuteTime": {
     "end_time": "2020-07-03T13:32:48.592401Z",
     "start_time": "2020-07-03T13:32:48.366378Z"
    }
   },
   "outputs": [
    {
     "name": "stderr",
     "output_type": "stream",
     "text": [
      "C:\\Users\\afilg\\anaconda3\\lib\\site-packages\\tqdm\\std.py:658: FutureWarning: The Panel class is removed from pandas. Accessing it from the top-level namespace will also be removed in the next version\n",
      "  from pandas import Panel\n"
     ]
    },
    {
     "data": {
      "application/vnd.jupyter.widget-view+json": {
       "model_id": "912c0de42fce43828850dae72bfa4f23",
       "version_major": 2,
       "version_minor": 0
      },
      "text/plain": [
       "HBox(children=(FloatProgress(value=0.0, max=2498.0), HTML(value='')))"
      ]
     },
     "metadata": {},
     "output_type": "display_data"
    },
    {
     "name": "stdout",
     "output_type": "stream",
     "text": [
      "\n"
     ]
    },
    {
     "name": "stderr",
     "output_type": "stream",
     "text": [
      "C:\\Users\\afilg\\anaconda3\\lib\\site-packages\\ipykernel_launcher.py:3: SettingWithCopyWarning: \n",
      "A value is trying to be set on a copy of a slice from a DataFrame.\n",
      "Try using .loc[row_indexer,col_indexer] = value instead\n",
      "\n",
      "See the caveats in the documentation: https://pandas.pydata.org/pandas-docs/stable/user_guide/indexing.html#returning-a-view-versus-a-copy\n",
      "  This is separate from the ipykernel package so we can avoid doing imports until\n"
     ]
    }
   ],
   "source": [
    "tqdm.pandas()\n",
    "\n",
    "oscar2000['premium'] = oscar2000.progress_apply(lambda x: premium(x['category']),axis = 1)"
   ]
  },
  {
   "cell_type": "code",
   "execution_count": 12,
   "metadata": {
    "ExecuteTime": {
     "end_time": "2020-07-03T13:32:48.634611Z",
     "start_time": "2020-07-03T13:32:48.596843Z"
    }
   },
   "outputs": [
    {
     "data": {
      "text/html": [
       "<div>\n",
       "<style scoped>\n",
       "    .dataframe tbody tr th:only-of-type {\n",
       "        vertical-align: middle;\n",
       "    }\n",
       "\n",
       "    .dataframe tbody tr th {\n",
       "        vertical-align: top;\n",
       "    }\n",
       "\n",
       "    .dataframe thead th {\n",
       "        text-align: right;\n",
       "    }\n",
       "</style>\n",
       "<table border=\"1\" class=\"dataframe\">\n",
       "  <thead>\n",
       "    <tr style=\"text-align: right;\">\n",
       "      <th></th>\n",
       "      <th>year_film</th>\n",
       "      <th>year_ceremony</th>\n",
       "      <th>ceremony</th>\n",
       "      <th>category</th>\n",
       "      <th>name</th>\n",
       "      <th>film</th>\n",
       "      <th>winner</th>\n",
       "      <th>movieyear</th>\n",
       "      <th>premium</th>\n",
       "    </tr>\n",
       "  </thead>\n",
       "  <tbody>\n",
       "    <tr>\n",
       "      <th>7897</th>\n",
       "      <td>1999</td>\n",
       "      <td>2000</td>\n",
       "      <td>72</td>\n",
       "      <td>ACTOR IN A LEADING ROLE</td>\n",
       "      <td>Russell Crowe</td>\n",
       "      <td>The Insider</td>\n",
       "      <td>False</td>\n",
       "      <td>1999The Insider</td>\n",
       "      <td>premium</td>\n",
       "    </tr>\n",
       "    <tr>\n",
       "      <th>7898</th>\n",
       "      <td>1999</td>\n",
       "      <td>2000</td>\n",
       "      <td>72</td>\n",
       "      <td>ACTOR IN A LEADING ROLE</td>\n",
       "      <td>Richard Farnsworth</td>\n",
       "      <td>The Straight Story</td>\n",
       "      <td>False</td>\n",
       "      <td>1999The Straight Story</td>\n",
       "      <td>premium</td>\n",
       "    </tr>\n",
       "    <tr>\n",
       "      <th>7899</th>\n",
       "      <td>1999</td>\n",
       "      <td>2000</td>\n",
       "      <td>72</td>\n",
       "      <td>ACTOR IN A LEADING ROLE</td>\n",
       "      <td>Sean Penn</td>\n",
       "      <td>Sweet and Lowdown</td>\n",
       "      <td>False</td>\n",
       "      <td>1999Sweet and Lowdown</td>\n",
       "      <td>premium</td>\n",
       "    </tr>\n",
       "    <tr>\n",
       "      <th>7900</th>\n",
       "      <td>1999</td>\n",
       "      <td>2000</td>\n",
       "      <td>72</td>\n",
       "      <td>ACTOR IN A LEADING ROLE</td>\n",
       "      <td>Kevin Spacey</td>\n",
       "      <td>American Beauty</td>\n",
       "      <td>True</td>\n",
       "      <td>1999American Beauty</td>\n",
       "      <td>premium</td>\n",
       "    </tr>\n",
       "    <tr>\n",
       "      <th>7901</th>\n",
       "      <td>1999</td>\n",
       "      <td>2000</td>\n",
       "      <td>72</td>\n",
       "      <td>ACTOR IN A LEADING ROLE</td>\n",
       "      <td>Denzel Washington</td>\n",
       "      <td>The Hurricane</td>\n",
       "      <td>False</td>\n",
       "      <td>1999The Hurricane</td>\n",
       "      <td>premium</td>\n",
       "    </tr>\n",
       "  </tbody>\n",
       "</table>\n",
       "</div>"
      ],
      "text/plain": [
       "      year_film  year_ceremony  ceremony                 category  \\\n",
       "7897       1999           2000        72  ACTOR IN A LEADING ROLE   \n",
       "7898       1999           2000        72  ACTOR IN A LEADING ROLE   \n",
       "7899       1999           2000        72  ACTOR IN A LEADING ROLE   \n",
       "7900       1999           2000        72  ACTOR IN A LEADING ROLE   \n",
       "7901       1999           2000        72  ACTOR IN A LEADING ROLE   \n",
       "\n",
       "                    name                film  winner               movieyear  \\\n",
       "7897       Russell Crowe         The Insider   False         1999The Insider   \n",
       "7898  Richard Farnsworth  The Straight Story   False  1999The Straight Story   \n",
       "7899           Sean Penn   Sweet and Lowdown   False   1999Sweet and Lowdown   \n",
       "7900        Kevin Spacey     American Beauty    True     1999American Beauty   \n",
       "7901   Denzel Washington       The Hurricane   False       1999The Hurricane   \n",
       "\n",
       "      premium  \n",
       "7897  premium  \n",
       "7898  premium  \n",
       "7899  premium  \n",
       "7900  premium  \n",
       "7901  premium  "
      ]
     },
     "execution_count": 12,
     "metadata": {},
     "output_type": "execute_result"
    }
   ],
   "source": [
    "oscar2000.head()"
   ]
  },
  {
   "cell_type": "code",
   "execution_count": 19,
   "metadata": {
    "ExecuteTime": {
     "end_time": "2020-07-03T13:34:34.294675Z",
     "start_time": "2020-07-03T13:34:34.247845Z"
    }
   },
   "outputs": [
    {
     "data": {
      "text/html": [
       "<div>\n",
       "<style scoped>\n",
       "    .dataframe tbody tr th:only-of-type {\n",
       "        vertical-align: middle;\n",
       "    }\n",
       "\n",
       "    .dataframe tbody tr th {\n",
       "        vertical-align: top;\n",
       "    }\n",
       "\n",
       "    .dataframe thead tr th {\n",
       "        text-align: left;\n",
       "    }\n",
       "\n",
       "    .dataframe thead tr:last-of-type th {\n",
       "        text-align: right;\n",
       "    }\n",
       "</style>\n",
       "<table border=\"1\" class=\"dataframe\">\n",
       "  <thead>\n",
       "    <tr>\n",
       "      <th>premium</th>\n",
       "      <th colspan=\"2\" halign=\"left\">not premium</th>\n",
       "      <th colspan=\"2\" halign=\"left\">premium</th>\n",
       "    </tr>\n",
       "    <tr>\n",
       "      <th>winner</th>\n",
       "      <th>False</th>\n",
       "      <th>True</th>\n",
       "      <th>False</th>\n",
       "      <th>True</th>\n",
       "    </tr>\n",
       "    <tr>\n",
       "      <th>movieyear</th>\n",
       "      <th></th>\n",
       "      <th></th>\n",
       "      <th></th>\n",
       "      <th></th>\n",
       "    </tr>\n",
       "  </thead>\n",
       "  <tbody>\n",
       "    <tr>\n",
       "      <th>19993 Misses</th>\n",
       "      <td>1</td>\n",
       "      <td>0</td>\n",
       "      <td>0</td>\n",
       "      <td>0</td>\n",
       "    </tr>\n",
       "    <tr>\n",
       "      <th>1999All about My Mother</th>\n",
       "      <td>0</td>\n",
       "      <td>1</td>\n",
       "      <td>0</td>\n",
       "      <td>0</td>\n",
       "    </tr>\n",
       "    <tr>\n",
       "      <th>1999American Beauty</th>\n",
       "      <td>2</td>\n",
       "      <td>2</td>\n",
       "      <td>1</td>\n",
       "      <td>3</td>\n",
       "    </tr>\n",
       "    <tr>\n",
       "      <th>1999Angela's Ashes</th>\n",
       "      <td>1</td>\n",
       "      <td>0</td>\n",
       "      <td>0</td>\n",
       "      <td>0</td>\n",
       "    </tr>\n",
       "    <tr>\n",
       "      <th>1999Anna and the King</th>\n",
       "      <td>2</td>\n",
       "      <td>0</td>\n",
       "      <td>0</td>\n",
       "      <td>0</td>\n",
       "    </tr>\n",
       "    <tr>\n",
       "      <th>...</th>\n",
       "      <td>...</td>\n",
       "      <td>...</td>\n",
       "      <td>...</td>\n",
       "      <td>...</td>\n",
       "    </tr>\n",
       "    <tr>\n",
       "      <th>2019The Lion King</th>\n",
       "      <td>1</td>\n",
       "      <td>0</td>\n",
       "      <td>0</td>\n",
       "      <td>0</td>\n",
       "    </tr>\n",
       "    <tr>\n",
       "      <th>2019The Neighbors' Window</th>\n",
       "      <td>0</td>\n",
       "      <td>1</td>\n",
       "      <td>0</td>\n",
       "      <td>0</td>\n",
       "    </tr>\n",
       "    <tr>\n",
       "      <th>2019The Two Popes</th>\n",
       "      <td>1</td>\n",
       "      <td>0</td>\n",
       "      <td>2</td>\n",
       "      <td>0</td>\n",
       "    </tr>\n",
       "    <tr>\n",
       "      <th>2019Toy Story 4</th>\n",
       "      <td>1</td>\n",
       "      <td>1</td>\n",
       "      <td>0</td>\n",
       "      <td>0</td>\n",
       "    </tr>\n",
       "    <tr>\n",
       "      <th>2019Walk Run Cha-Cha</th>\n",
       "      <td>1</td>\n",
       "      <td>0</td>\n",
       "      <td>0</td>\n",
       "      <td>0</td>\n",
       "    </tr>\n",
       "  </tbody>\n",
       "</table>\n",
       "<p>1164 rows × 4 columns</p>\n",
       "</div>"
      ],
      "text/plain": [
       "premium                   not premium       premium      \n",
       "winner                          False True    False True \n",
       "movieyear                                                \n",
       "19993 Misses                        1     0       0     0\n",
       "1999All about My Mother             0     1       0     0\n",
       "1999American Beauty                 2     2       1     3\n",
       "1999Angela's Ashes                  1     0       0     0\n",
       "1999Anna and the King               2     0       0     0\n",
       "...                               ...   ...     ...   ...\n",
       "2019The Lion King                   1     0       0     0\n",
       "2019The Neighbors' Window           0     1       0     0\n",
       "2019The Two Popes                   1     0       2     0\n",
       "2019Toy Story 4                     1     1       0     0\n",
       "2019Walk Run Cha-Cha                1     0       0     0\n",
       "\n",
       "[1164 rows x 4 columns]"
      ]
     },
     "execution_count": 19,
     "metadata": {},
     "output_type": "execute_result"
    }
   ],
   "source": [
    "df_pivot= pd.DataFrame(pd.pivot_table(oscar2000, \n",
    "                         values='ceremony', \n",
    "                         index='movieyear', \n",
    "                         columns = ('premium','winner'),\n",
    "                         aggfunc='count',\n",
    "                        fill_value = 0))\n",
    "\n",
    "df_pivot"
   ]
  },
  {
   "cell_type": "code",
   "execution_count": 21,
   "metadata": {
    "ExecuteTime": {
     "end_time": "2020-07-03T13:34:47.510098Z",
     "start_time": "2020-07-03T13:34:47.502273Z"
    }
   },
   "outputs": [],
   "source": [
    "df_pivot = df_pivot.reset_index()"
   ]
  },
  {
   "cell_type": "code",
   "execution_count": 22,
   "metadata": {
    "ExecuteTime": {
     "end_time": "2020-07-03T13:34:48.570626Z",
     "start_time": "2020-07-03T13:34:48.541706Z"
    }
   },
   "outputs": [
    {
     "data": {
      "text/html": [
       "<div>\n",
       "<style scoped>\n",
       "    .dataframe tbody tr th:only-of-type {\n",
       "        vertical-align: middle;\n",
       "    }\n",
       "\n",
       "    .dataframe tbody tr th {\n",
       "        vertical-align: top;\n",
       "    }\n",
       "\n",
       "    .dataframe thead tr th {\n",
       "        text-align: left;\n",
       "    }\n",
       "</style>\n",
       "<table border=\"1\" class=\"dataframe\">\n",
       "  <thead>\n",
       "    <tr>\n",
       "      <th>premium</th>\n",
       "      <th>movieyear</th>\n",
       "      <th colspan=\"2\" halign=\"left\">not premium</th>\n",
       "      <th colspan=\"2\" halign=\"left\">premium</th>\n",
       "    </tr>\n",
       "    <tr>\n",
       "      <th>winner</th>\n",
       "      <th></th>\n",
       "      <th>False</th>\n",
       "      <th>True</th>\n",
       "      <th>False</th>\n",
       "      <th>True</th>\n",
       "    </tr>\n",
       "  </thead>\n",
       "  <tbody>\n",
       "    <tr>\n",
       "      <th>0</th>\n",
       "      <td>19993 Misses</td>\n",
       "      <td>1</td>\n",
       "      <td>0</td>\n",
       "      <td>0</td>\n",
       "      <td>0</td>\n",
       "    </tr>\n",
       "    <tr>\n",
       "      <th>1</th>\n",
       "      <td>1999All about My Mother</td>\n",
       "      <td>0</td>\n",
       "      <td>1</td>\n",
       "      <td>0</td>\n",
       "      <td>0</td>\n",
       "    </tr>\n",
       "    <tr>\n",
       "      <th>2</th>\n",
       "      <td>1999American Beauty</td>\n",
       "      <td>2</td>\n",
       "      <td>2</td>\n",
       "      <td>1</td>\n",
       "      <td>3</td>\n",
       "    </tr>\n",
       "    <tr>\n",
       "      <th>3</th>\n",
       "      <td>1999Angela's Ashes</td>\n",
       "      <td>1</td>\n",
       "      <td>0</td>\n",
       "      <td>0</td>\n",
       "      <td>0</td>\n",
       "    </tr>\n",
       "    <tr>\n",
       "      <th>4</th>\n",
       "      <td>1999Anna and the King</td>\n",
       "      <td>2</td>\n",
       "      <td>0</td>\n",
       "      <td>0</td>\n",
       "      <td>0</td>\n",
       "    </tr>\n",
       "    <tr>\n",
       "      <th>...</th>\n",
       "      <td>...</td>\n",
       "      <td>...</td>\n",
       "      <td>...</td>\n",
       "      <td>...</td>\n",
       "      <td>...</td>\n",
       "    </tr>\n",
       "    <tr>\n",
       "      <th>1159</th>\n",
       "      <td>2019The Lion King</td>\n",
       "      <td>1</td>\n",
       "      <td>0</td>\n",
       "      <td>0</td>\n",
       "      <td>0</td>\n",
       "    </tr>\n",
       "    <tr>\n",
       "      <th>1160</th>\n",
       "      <td>2019The Neighbors' Window</td>\n",
       "      <td>0</td>\n",
       "      <td>1</td>\n",
       "      <td>0</td>\n",
       "      <td>0</td>\n",
       "    </tr>\n",
       "    <tr>\n",
       "      <th>1161</th>\n",
       "      <td>2019The Two Popes</td>\n",
       "      <td>1</td>\n",
       "      <td>0</td>\n",
       "      <td>2</td>\n",
       "      <td>0</td>\n",
       "    </tr>\n",
       "    <tr>\n",
       "      <th>1162</th>\n",
       "      <td>2019Toy Story 4</td>\n",
       "      <td>1</td>\n",
       "      <td>1</td>\n",
       "      <td>0</td>\n",
       "      <td>0</td>\n",
       "    </tr>\n",
       "    <tr>\n",
       "      <th>1163</th>\n",
       "      <td>2019Walk Run Cha-Cha</td>\n",
       "      <td>1</td>\n",
       "      <td>0</td>\n",
       "      <td>0</td>\n",
       "      <td>0</td>\n",
       "    </tr>\n",
       "  </tbody>\n",
       "</table>\n",
       "<p>1164 rows × 5 columns</p>\n",
       "</div>"
      ],
      "text/plain": [
       "premium                  movieyear not premium      premium     \n",
       "winner                                   False True   False True\n",
       "0                     19993 Misses           1    0       0    0\n",
       "1          1999All about My Mother           0    1       0    0\n",
       "2              1999American Beauty           2    2       1    3\n",
       "3               1999Angela's Ashes           1    0       0    0\n",
       "4            1999Anna and the King           2    0       0    0\n",
       "...                            ...         ...  ...     ...  ...\n",
       "1159             2019The Lion King           1    0       0    0\n",
       "1160     2019The Neighbors' Window           0    1       0    0\n",
       "1161             2019The Two Popes           1    0       2    0\n",
       "1162               2019Toy Story 4           1    1       0    0\n",
       "1163          2019Walk Run Cha-Cha           1    0       0    0\n",
       "\n",
       "[1164 rows x 5 columns]"
      ]
     },
     "execution_count": 22,
     "metadata": {},
     "output_type": "execute_result"
    }
   ],
   "source": [
    "df_pivot"
   ]
  },
  {
   "cell_type": "code",
   "execution_count": 24,
   "metadata": {
    "ExecuteTime": {
     "end_time": "2020-07-03T13:40:51.445311Z",
     "start_time": "2020-07-03T13:40:49.509549Z"
    }
   },
   "outputs": [],
   "source": [
    "basics = pd.read_csv('C:/Users/afilg/OneDrive/DATA SCIENCE/Aulas - Originais/Projeto_Integrador/basics.csv')"
   ]
  },
  {
   "cell_type": "code",
   "execution_count": null,
   "metadata": {
    "ExecuteTime": {
     "start_time": "2020-07-03T13:40:56.362Z"
    }
   },
   "outputs": [
    {
     "name": "stderr",
     "output_type": "stream",
     "text": [
      "C:\\Users\\afilg\\anaconda3\\lib\\site-packages\\tqdm\\std.py:658: FutureWarning: The Panel class is removed from pandas. Accessing it from the top-level namespace will also be removed in the next version\n",
      "  from pandas import Panel\n"
     ]
    },
    {
     "data": {
      "application/vnd.jupyter.widget-view+json": {
       "model_id": "20ffc2f14d0f4145bf019eb437f0bcf4",
       "version_major": 2,
       "version_minor": 0
      },
      "text/plain": [
       "HBox(children=(FloatProgress(value=0.0, max=1164.0), HTML(value='')))"
      ]
     },
     "metadata": {},
     "output_type": "display_data"
    }
   ],
   "source": [
    "import difflib\n",
    "\n",
    "tqdm.pandas()\n",
    "\n",
    "df_pivot['movieyear_id'] = df_pivot['movieyear'].progress_apply(lambda x: (difflib.get_close_matches(x, basics['movieyear'])[:1] or [None])[0])"
   ]
  },
  {
   "cell_type": "code",
   "execution_count": null,
   "metadata": {},
   "outputs": [],
   "source": [
    "df_pivot"
   ]
  }
 ],
 "metadata": {
  "kernelspec": {
   "display_name": "Python 3",
   "language": "python",
   "name": "python3"
  },
  "language_info": {
   "codemirror_mode": {
    "name": "ipython",
    "version": 3
   },
   "file_extension": ".py",
   "mimetype": "text/x-python",
   "name": "python",
   "nbconvert_exporter": "python",
   "pygments_lexer": "ipython3",
   "version": "3.7.7"
  },
  "toc": {
   "base_numbering": 1,
   "nav_menu": {},
   "number_sections": true,
   "sideBar": true,
   "skip_h1_title": false,
   "title_cell": "Table of Contents",
   "title_sidebar": "Contents",
   "toc_cell": false,
   "toc_position": {},
   "toc_section_display": true,
   "toc_window_display": false
  },
  "varInspector": {
   "cols": {
    "lenName": 16,
    "lenType": 16,
    "lenVar": 40
   },
   "kernels_config": {
    "python": {
     "delete_cmd_postfix": "",
     "delete_cmd_prefix": "del ",
     "library": "var_list.py",
     "varRefreshCmd": "print(var_dic_list())"
    },
    "r": {
     "delete_cmd_postfix": ") ",
     "delete_cmd_prefix": "rm(",
     "library": "var_list.r",
     "varRefreshCmd": "cat(var_dic_list()) "
    }
   },
   "types_to_exclude": [
    "module",
    "function",
    "builtin_function_or_method",
    "instance",
    "_Feature"
   ],
   "window_display": false
  }
 },
 "nbformat": 4,
 "nbformat_minor": 4
}
