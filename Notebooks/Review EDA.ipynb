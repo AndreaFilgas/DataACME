{
 "cells": [
  {
   "cell_type": "markdown",
   "metadata": {},
   "source": [
    "# Reviews"
   ]
  },
  {
   "cell_type": "code",
   "execution_count": 2,
   "metadata": {
    "ExecuteTime": {
     "end_time": "2020-07-03T12:17:07.891838Z",
     "start_time": "2020-07-03T12:17:05.647868Z"
    }
   },
   "outputs": [],
   "source": [
    "# abrir bibliotecas\n",
    "import pandas as pd\n",
    "import numpy as np\n",
    "import seaborn as sns\n",
    "import statsmodels.formula.api as smf\n",
    "import matplotlib.pyplot as plt\n",
    "%matplotlib inline"
   ]
  },
  {
   "cell_type": "code",
   "execution_count": 3,
   "metadata": {
    "ExecuteTime": {
     "end_time": "2020-07-03T12:17:09.087389Z",
     "start_time": "2020-07-03T12:17:07.912152Z"
    }
   },
   "outputs": [
    {
     "data": {
      "text/html": [
       "<div>\n",
       "<style scoped>\n",
       "    .dataframe tbody tr th:only-of-type {\n",
       "        vertical-align: middle;\n",
       "    }\n",
       "\n",
       "    .dataframe tbody tr th {\n",
       "        vertical-align: top;\n",
       "    }\n",
       "\n",
       "    .dataframe thead th {\n",
       "        text-align: right;\n",
       "    }\n",
       "</style>\n",
       "<table border=\"1\" class=\"dataframe\">\n",
       "  <thead>\n",
       "    <tr style=\"text-align: right;\">\n",
       "      <th></th>\n",
       "      <th>0</th>\n",
       "      <th>1</th>\n",
       "      <th>2</th>\n",
       "      <th>3</th>\n",
       "      <th>4</th>\n",
       "    </tr>\n",
       "  </thead>\n",
       "  <tbody>\n",
       "    <tr>\n",
       "      <th>tconst</th>\n",
       "      <td>tt0000001</td>\n",
       "      <td>tt0000002</td>\n",
       "      <td>tt0000003</td>\n",
       "      <td>tt0000004</td>\n",
       "      <td>tt0000005</td>\n",
       "    </tr>\n",
       "    <tr>\n",
       "      <th>averageRating</th>\n",
       "      <td>5.6</td>\n",
       "      <td>6</td>\n",
       "      <td>6.5</td>\n",
       "      <td>6.1</td>\n",
       "      <td>6.1</td>\n",
       "    </tr>\n",
       "    <tr>\n",
       "      <th>numVotes</th>\n",
       "      <td>1616</td>\n",
       "      <td>197</td>\n",
       "      <td>1297</td>\n",
       "      <td>121</td>\n",
       "      <td>2075</td>\n",
       "    </tr>\n",
       "  </tbody>\n",
       "</table>\n",
       "</div>"
      ],
      "text/plain": [
       "                       0          1          2          3          4\n",
       "tconst         tt0000001  tt0000002  tt0000003  tt0000004  tt0000005\n",
       "averageRating        5.6          6        6.5        6.1        6.1\n",
       "numVotes            1616        197       1297        121       2075"
      ]
     },
     "execution_count": 3,
     "metadata": {},
     "output_type": "execute_result"
    }
   ],
   "source": [
    "ratings = pd.read_csv('C:/Users/afilg/OneDrive/Área de Trabalho/DATA SCIENCE/Aulas - Originais/Projeto_Integrador/Dados/ratings.tsv', header=0 , quotechar='\"', error_bad_lines=False, sep = '\\t')\n",
    "ratings.head().T"
   ]
  },
  {
   "cell_type": "code",
   "execution_count": 5,
   "metadata": {
    "ExecuteTime": {
     "end_time": "2020-07-03T12:18:13.576847Z",
     "start_time": "2020-07-03T12:18:12.045871Z"
    }
   },
   "outputs": [],
   "source": [
    "basics = pd.read_csv('C:/Users/afilg/OneDrive/DATA SCIENCE/Aulas - Originais/Projeto_Integrador/basics.csv')"
   ]
  },
  {
   "cell_type": "code",
   "execution_count": 6,
   "metadata": {
    "ExecuteTime": {
     "end_time": "2020-07-03T12:18:17.118009Z",
     "start_time": "2020-07-03T12:18:17.027542Z"
    },
    "jupyter": {
     "source_hidden": true
    },
    "scrolled": true
   },
   "outputs": [
    {
     "name": "stdout",
     "output_type": "stream",
     "text": [
      "<class 'pandas.core.frame.DataFrame'>\n",
      "RangeIndex: 1044000 entries, 0 to 1043999\n",
      "Data columns (total 3 columns):\n",
      " #   Column         Non-Null Count    Dtype  \n",
      "---  ------         --------------    -----  \n",
      " 0   tconst         1044000 non-null  object \n",
      " 1   averageRating  1044000 non-null  float64\n",
      " 2   numVotes       1044000 non-null  int64  \n",
      "dtypes: float64(1), int64(1), object(1)\n",
      "memory usage: 23.9+ MB\n"
     ]
    }
   ],
   "source": [
    "ratings.info()"
   ]
  },
  {
   "cell_type": "code",
   "execution_count": 7,
   "metadata": {
    "ExecuteTime": {
     "end_time": "2020-07-03T12:18:19.662611Z",
     "start_time": "2020-07-03T12:18:18.111945Z"
    }
   },
   "outputs": [],
   "source": [
    "basics_simple = basics.join(ratings.set_index('tconst'), on = 'tconst', how = 'inner')"
   ]
  },
  {
   "cell_type": "code",
   "execution_count": 8,
   "metadata": {
    "ExecuteTime": {
     "end_time": "2020-07-03T12:18:20.435999Z",
     "start_time": "2020-07-03T12:18:20.410744Z"
    }
   },
   "outputs": [
    {
     "data": {
      "text/html": [
       "<div>\n",
       "<style scoped>\n",
       "    .dataframe tbody tr th:only-of-type {\n",
       "        vertical-align: middle;\n",
       "    }\n",
       "\n",
       "    .dataframe tbody tr th {\n",
       "        vertical-align: top;\n",
       "    }\n",
       "\n",
       "    .dataframe thead th {\n",
       "        text-align: right;\n",
       "    }\n",
       "</style>\n",
       "<table border=\"1\" class=\"dataframe\">\n",
       "  <thead>\n",
       "    <tr style=\"text-align: right;\">\n",
       "      <th></th>\n",
       "      <th>0</th>\n",
       "      <th>1</th>\n",
       "      <th>2</th>\n",
       "      <th>3</th>\n",
       "      <th>4</th>\n",
       "    </tr>\n",
       "  </thead>\n",
       "  <tbody>\n",
       "    <tr>\n",
       "      <th>Unnamed: 0</th>\n",
       "      <td>8</td>\n",
       "      <td>145</td>\n",
       "      <td>571</td>\n",
       "      <td>673</td>\n",
       "      <td>1173</td>\n",
       "    </tr>\n",
       "    <tr>\n",
       "      <th>tconst</th>\n",
       "      <td>tt0000009</td>\n",
       "      <td>tt0000147</td>\n",
       "      <td>tt0000574</td>\n",
       "      <td>tt0000679</td>\n",
       "      <td>tt0001184</td>\n",
       "    </tr>\n",
       "    <tr>\n",
       "      <th>titleType</th>\n",
       "      <td>movie</td>\n",
       "      <td>movie</td>\n",
       "      <td>movie</td>\n",
       "      <td>movie</td>\n",
       "      <td>movie</td>\n",
       "    </tr>\n",
       "    <tr>\n",
       "      <th>primaryTitle</th>\n",
       "      <td>Miss Jerry</td>\n",
       "      <td>The Corbett-Fitzsimmons Fight</td>\n",
       "      <td>The Story of the Kelly Gang</td>\n",
       "      <td>The Fairylogue and Radio-Plays</td>\n",
       "      <td>Don Juan de Serrallonga</td>\n",
       "    </tr>\n",
       "    <tr>\n",
       "      <th>originalTitle</th>\n",
       "      <td>Miss Jerry</td>\n",
       "      <td>The Corbett-Fitzsimmons Fight</td>\n",
       "      <td>The Story of the Kelly Gang</td>\n",
       "      <td>The Fairylogue and Radio-Plays</td>\n",
       "      <td>Don Juan de Serrallonga</td>\n",
       "    </tr>\n",
       "    <tr>\n",
       "      <th>startYear</th>\n",
       "      <td>1894</td>\n",
       "      <td>1897</td>\n",
       "      <td>1906</td>\n",
       "      <td>1908</td>\n",
       "      <td>1910</td>\n",
       "    </tr>\n",
       "    <tr>\n",
       "      <th>runtimeMinutes</th>\n",
       "      <td>45</td>\n",
       "      <td>20</td>\n",
       "      <td>70</td>\n",
       "      <td>120</td>\n",
       "      <td>58</td>\n",
       "    </tr>\n",
       "    <tr>\n",
       "      <th>genre_1</th>\n",
       "      <td>Romance</td>\n",
       "      <td>Documentary</td>\n",
       "      <td>Biography</td>\n",
       "      <td>Adventure</td>\n",
       "      <td>Adventure</td>\n",
       "    </tr>\n",
       "    <tr>\n",
       "      <th>genre_2</th>\n",
       "      <td>NaN</td>\n",
       "      <td>News</td>\n",
       "      <td>Crime</td>\n",
       "      <td>Fantasy</td>\n",
       "      <td>Drama</td>\n",
       "    </tr>\n",
       "    <tr>\n",
       "      <th>genre_3</th>\n",
       "      <td>NaN</td>\n",
       "      <td>Sport</td>\n",
       "      <td>Drama</td>\n",
       "      <td>NaN</td>\n",
       "      <td>NaN</td>\n",
       "    </tr>\n",
       "    <tr>\n",
       "      <th>movieyear</th>\n",
       "      <td>1894Miss Jerry</td>\n",
       "      <td>1897The Corbett-Fitzsimmons Fight</td>\n",
       "      <td>1906The Story of the Kelly Gang</td>\n",
       "      <td>1908The Fairylogue and Radio-Plays</td>\n",
       "      <td>1910Don Juan de Serrallonga</td>\n",
       "    </tr>\n",
       "    <tr>\n",
       "      <th>averageRating</th>\n",
       "      <td>5.9</td>\n",
       "      <td>5.2</td>\n",
       "      <td>6.1</td>\n",
       "      <td>5</td>\n",
       "      <td>3.1</td>\n",
       "    </tr>\n",
       "    <tr>\n",
       "      <th>numVotes</th>\n",
       "      <td>153</td>\n",
       "      <td>346</td>\n",
       "      <td>574</td>\n",
       "      <td>35</td>\n",
       "      <td>11</td>\n",
       "    </tr>\n",
       "  </tbody>\n",
       "</table>\n",
       "</div>"
      ],
      "text/plain": [
       "                             0                                  1  \\\n",
       "Unnamed: 0                   8                                145   \n",
       "tconst               tt0000009                          tt0000147   \n",
       "titleType                movie                              movie   \n",
       "primaryTitle        Miss Jerry      The Corbett-Fitzsimmons Fight   \n",
       "originalTitle       Miss Jerry      The Corbett-Fitzsimmons Fight   \n",
       "startYear                 1894                               1897   \n",
       "runtimeMinutes              45                                 20   \n",
       "genre_1                Romance                        Documentary   \n",
       "genre_2                    NaN                               News   \n",
       "genre_3                    NaN                              Sport   \n",
       "movieyear       1894Miss Jerry  1897The Corbett-Fitzsimmons Fight   \n",
       "averageRating              5.9                                5.2   \n",
       "numVotes                   153                                346   \n",
       "\n",
       "                                              2  \\\n",
       "Unnamed: 0                                  571   \n",
       "tconst                                tt0000574   \n",
       "titleType                                 movie   \n",
       "primaryTitle        The Story of the Kelly Gang   \n",
       "originalTitle       The Story of the Kelly Gang   \n",
       "startYear                                  1906   \n",
       "runtimeMinutes                               70   \n",
       "genre_1                               Biography   \n",
       "genre_2                                   Crime   \n",
       "genre_3                                   Drama   \n",
       "movieyear       1906The Story of the Kelly Gang   \n",
       "averageRating                               6.1   \n",
       "numVotes                                    574   \n",
       "\n",
       "                                                 3  \\\n",
       "Unnamed: 0                                     673   \n",
       "tconst                                   tt0000679   \n",
       "titleType                                    movie   \n",
       "primaryTitle        The Fairylogue and Radio-Plays   \n",
       "originalTitle       The Fairylogue and Radio-Plays   \n",
       "startYear                                     1908   \n",
       "runtimeMinutes                                 120   \n",
       "genre_1                                  Adventure   \n",
       "genre_2                                    Fantasy   \n",
       "genre_3                                        NaN   \n",
       "movieyear       1908The Fairylogue and Radio-Plays   \n",
       "averageRating                                    5   \n",
       "numVotes                                        35   \n",
       "\n",
       "                                          4  \n",
       "Unnamed: 0                             1173  \n",
       "tconst                            tt0001184  \n",
       "titleType                             movie  \n",
       "primaryTitle        Don Juan de Serrallonga  \n",
       "originalTitle       Don Juan de Serrallonga  \n",
       "startYear                              1910  \n",
       "runtimeMinutes                           58  \n",
       "genre_1                           Adventure  \n",
       "genre_2                               Drama  \n",
       "genre_3                                 NaN  \n",
       "movieyear       1910Don Juan de Serrallonga  \n",
       "averageRating                           3.1  \n",
       "numVotes                                 11  "
      ]
     },
     "execution_count": 8,
     "metadata": {},
     "output_type": "execute_result"
    }
   ],
   "source": [
    "basics_simple.head().T"
   ]
  },
  {
   "cell_type": "code",
   "execution_count": 9,
   "metadata": {
    "ExecuteTime": {
     "end_time": "2020-07-03T12:18:21.416795Z",
     "start_time": "2020-07-03T12:18:21.298348Z"
    }
   },
   "outputs": [],
   "source": [
    "basics_simple = basics_simple.drop(['titleType','primaryTitle','originalTitle','runtimeMinutes', 'genre_1','genre_2','genre_3'], axis = 1)"
   ]
  },
  {
   "cell_type": "code",
   "execution_count": 10,
   "metadata": {
    "ExecuteTime": {
     "end_time": "2020-07-03T12:18:22.372511Z",
     "start_time": "2020-07-03T12:18:22.344227Z"
    }
   },
   "outputs": [
    {
     "data": {
      "text/html": [
       "<div>\n",
       "<style scoped>\n",
       "    .dataframe tbody tr th:only-of-type {\n",
       "        vertical-align: middle;\n",
       "    }\n",
       "\n",
       "    .dataframe tbody tr th {\n",
       "        vertical-align: top;\n",
       "    }\n",
       "\n",
       "    .dataframe thead th {\n",
       "        text-align: right;\n",
       "    }\n",
       "</style>\n",
       "<table border=\"1\" class=\"dataframe\">\n",
       "  <thead>\n",
       "    <tr style=\"text-align: right;\">\n",
       "      <th></th>\n",
       "      <th>0</th>\n",
       "      <th>1</th>\n",
       "      <th>2</th>\n",
       "      <th>3</th>\n",
       "      <th>4</th>\n",
       "    </tr>\n",
       "  </thead>\n",
       "  <tbody>\n",
       "    <tr>\n",
       "      <th>Unnamed: 0</th>\n",
       "      <td>8</td>\n",
       "      <td>145</td>\n",
       "      <td>571</td>\n",
       "      <td>673</td>\n",
       "      <td>1173</td>\n",
       "    </tr>\n",
       "    <tr>\n",
       "      <th>tconst</th>\n",
       "      <td>tt0000009</td>\n",
       "      <td>tt0000147</td>\n",
       "      <td>tt0000574</td>\n",
       "      <td>tt0000679</td>\n",
       "      <td>tt0001184</td>\n",
       "    </tr>\n",
       "    <tr>\n",
       "      <th>startYear</th>\n",
       "      <td>1894</td>\n",
       "      <td>1897</td>\n",
       "      <td>1906</td>\n",
       "      <td>1908</td>\n",
       "      <td>1910</td>\n",
       "    </tr>\n",
       "    <tr>\n",
       "      <th>movieyear</th>\n",
       "      <td>1894Miss Jerry</td>\n",
       "      <td>1897The Corbett-Fitzsimmons Fight</td>\n",
       "      <td>1906The Story of the Kelly Gang</td>\n",
       "      <td>1908The Fairylogue and Radio-Plays</td>\n",
       "      <td>1910Don Juan de Serrallonga</td>\n",
       "    </tr>\n",
       "    <tr>\n",
       "      <th>averageRating</th>\n",
       "      <td>5.9</td>\n",
       "      <td>5.2</td>\n",
       "      <td>6.1</td>\n",
       "      <td>5</td>\n",
       "      <td>3.1</td>\n",
       "    </tr>\n",
       "    <tr>\n",
       "      <th>numVotes</th>\n",
       "      <td>153</td>\n",
       "      <td>346</td>\n",
       "      <td>574</td>\n",
       "      <td>35</td>\n",
       "      <td>11</td>\n",
       "    </tr>\n",
       "  </tbody>\n",
       "</table>\n",
       "</div>"
      ],
      "text/plain": [
       "                            0                                  1  \\\n",
       "Unnamed: 0                  8                                145   \n",
       "tconst              tt0000009                          tt0000147   \n",
       "startYear                1894                               1897   \n",
       "movieyear      1894Miss Jerry  1897The Corbett-Fitzsimmons Fight   \n",
       "averageRating             5.9                                5.2   \n",
       "numVotes                  153                                346   \n",
       "\n",
       "                                             2  \\\n",
       "Unnamed: 0                                 571   \n",
       "tconst                               tt0000574   \n",
       "startYear                                 1906   \n",
       "movieyear      1906The Story of the Kelly Gang   \n",
       "averageRating                              6.1   \n",
       "numVotes                                   574   \n",
       "\n",
       "                                                3                            4  \n",
       "Unnamed: 0                                    673                         1173  \n",
       "tconst                                  tt0000679                    tt0001184  \n",
       "startYear                                    1908                         1910  \n",
       "movieyear      1908The Fairylogue and Radio-Plays  1910Don Juan de Serrallonga  \n",
       "averageRating                                   5                          3.1  \n",
       "numVotes                                       35                           11  "
      ]
     },
     "execution_count": 10,
     "metadata": {},
     "output_type": "execute_result"
    }
   ],
   "source": [
    "basics_simple.head().T"
   ]
  },
  {
   "cell_type": "code",
   "execution_count": 11,
   "metadata": {
    "ExecuteTime": {
     "end_time": "2020-07-03T12:19:13.144366Z",
     "start_time": "2020-07-03T12:19:11.526608Z"
    }
   },
   "outputs": [],
   "source": [
    "basics_simple.to_csv('basics_simple.csv')"
   ]
  },
  {
   "cell_type": "code",
   "execution_count": null,
   "metadata": {},
   "outputs": [],
   "source": []
  }
 ],
 "metadata": {
  "kernelspec": {
   "display_name": "Python 3",
   "language": "python",
   "name": "python3"
  },
  "language_info": {
   "codemirror_mode": {
    "name": "ipython",
    "version": 3
   },
   "file_extension": ".py",
   "mimetype": "text/x-python",
   "name": "python",
   "nbconvert_exporter": "python",
   "pygments_lexer": "ipython3",
   "version": "3.7.7"
  },
  "toc": {
   "base_numbering": 1,
   "nav_menu": {},
   "number_sections": true,
   "sideBar": true,
   "skip_h1_title": false,
   "title_cell": "Table of Contents",
   "title_sidebar": "Contents",
   "toc_cell": false,
   "toc_position": {},
   "toc_section_display": true,
   "toc_window_display": false
  },
  "varInspector": {
   "cols": {
    "lenName": 16,
    "lenType": 16,
    "lenVar": 40
   },
   "kernels_config": {
    "python": {
     "delete_cmd_postfix": "",
     "delete_cmd_prefix": "del ",
     "library": "var_list.py",
     "varRefreshCmd": "print(var_dic_list())"
    },
    "r": {
     "delete_cmd_postfix": ") ",
     "delete_cmd_prefix": "rm(",
     "library": "var_list.r",
     "varRefreshCmd": "cat(var_dic_list()) "
    }
   },
   "types_to_exclude": [
    "module",
    "function",
    "builtin_function_or_method",
    "instance",
    "_Feature"
   ],
   "window_display": false
  }
 },
 "nbformat": 4,
 "nbformat_minor": 4
}
